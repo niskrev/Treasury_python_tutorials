{
 "cells": [
  {
   "cell_type": "markdown",
   "metadata": {},
   "source": [
    "# Future Assignment with functions\n"
   ]
  },
  {
   "cell_type": "markdown",
   "metadata": {},
   "source": [
    "Card shuffle\n",
    "\n",
    "\n",
    "rank cards based on their suit and number\n",
    "\n",
    "AH, Kd, Qc, JS, 10H, 9d, 8c, \n",
    "\n",
    "These cards are laid out from ace to king in suits by in the order of hearts, spades, diamonds and clubs.\n",
    "\n",
    "When you do a standard suffule (card is split into 26 sets of 2)\n",
    "Thet are shuffled perfectly, one from one deck (top deck) one from the bottom.\n",
    "\n",
    "This happens each time.\n",
    "\n",
    "Distance is a metric of how similar one card is from the other card\n",
    "Suit_muliplier = 1.25\n",
    "numeric order = 1\n",
    "numeric order if greater than 2, is exponentially higher.\n",
    "\n",
    "Crete a function that shuffles the deck\n",
    "Create a function that creates a score for the card distance\n",
    "\n",
    "how many shuffles are optimal?\n"
   ]
  },
  {
   "cell_type": "code",
   "execution_count": null,
   "metadata": {},
   "outputs": [],
   "source": []
  },
  {
   "cell_type": "code",
   "execution_count": null,
   "metadata": {},
   "outputs": [],
   "source": []
  },
  {
   "cell_type": "code",
   "execution_count": null,
   "metadata": {},
   "outputs": [],
   "source": []
  },
  {
   "cell_type": "code",
   "execution_count": null,
   "metadata": {},
   "outputs": [],
   "source": []
  },
  {
   "cell_type": "code",
   "execution_count": null,
   "metadata": {},
   "outputs": [],
   "source": []
  },
  {
   "cell_type": "code",
   "execution_count": null,
   "metadata": {},
   "outputs": [],
   "source": []
  },
  {
   "cell_type": "code",
   "execution_count": null,
   "metadata": {},
   "outputs": [],
   "source": []
  }
 ],
 "metadata": {
  "kernelspec": {
   "display_name": "Python 3.7.3 64-bit ('base': conda)",
   "language": "python",
   "name": "python37364bitbasecondaf40c37e8e9dd45c89e043b248b661bde"
  },
  "language_info": {
   "codemirror_mode": {
    "name": "ipython",
    "version": 3
   },
   "file_extension": ".py",
   "mimetype": "text/x-python",
   "name": "python",
   "nbconvert_exporter": "python",
   "pygments_lexer": "ipython3",
   "version": "3.7.3"
  }
 },
 "nbformat": 4,
 "nbformat_minor": 2
}
