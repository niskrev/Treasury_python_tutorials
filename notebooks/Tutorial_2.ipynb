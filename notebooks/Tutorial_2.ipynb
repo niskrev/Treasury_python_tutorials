{
 "cells": [
  {
   "cell_type": "markdown",
   "metadata": {},
   "source": [
    "# Python Tutorial 2\n",
    "\n",
    "In this tutorial we will learn about two datatypes, dictionaries and tuples and briefly introduce you to saving files with pickle.\n",
    "\n",
    "Dictionaries are a very useful datatypes in python and understanding how to create and extract data from them is crucial to efficiently programming most projects. (When you comfortable with dictionaries, you will want to put most of your data into dictionaries because they are so flexible and easy to use. Trust me, they are the crack of python, but dataframes are the heroine. Actually not sure which of those is more addictive, but you get the point, right?)\n",
    "\n",
    "I am not a big fan of tuples, but many modules you import do use them, so you need to be aware of how they work. (Or you may actually really like them, I don't know. If you do, please let me know why.)\n",
    "\n",
    "We will also briefly introduce saving variables with pickle. (Actually, all you need to know about pickle in a few simple lines of code.)"
   ]
  },
  {
   "cell_type": "markdown",
   "metadata": {},
   "source": [
    "## <font color='blue'>Outline</font>\n",
    " <font color='blue'>\n",
    "I. Dictionaries\n",
    "\n",
    "    A. Dictionary Basics\n",
    "       i. creating dictionaries\n",
    "       ii. Accessing values\n",
    "       iii. changing values\n",
    "       iv. Adding items to a dictionary\n",
    "       v. removing items\n",
    "       vi. creating lists of keys and values\n",
    "       vii. iteration\n",
    "       viii. membership with 'in' and 'not in'\n",
    "       ix. copying dictionaries\n",
    "       x. merging dictionaries\n",
    "        \n",
    "    B. Dictionary with lists as Values\n",
    "\n",
    "    C. Nested Dictionaries\n",
    "     \n",
    "II. Tuples\n",
    "\n",
    "III. Pickle</font>"
   ]
  },
  {
   "cell_type": "markdown",
   "metadata": {},
   "source": [
    "## <font color='blue'> I. A. Dictionary Basics </font>\n",
    "Just like a normal dictionary, a python dictionary contains two pieces of information.\n",
    " - <b> KEY </b>: Which is a string (or number or tuple) that acts as an index. (This is similar to the word you are looking up in an actual dictionary.) Each key must be unique.\n",
    " - <b> VALUE </b>: Any other information that you would like related to this key. (In an acutal dictionary, the definition is a good example of a value.)\n",
    " \n",
    "The value can be an integer, another string, a list, an image, a sound, another dictionary, an enormous matrix of data or anything that can be in python.\n",
    "\n",
    "Dictionaries are usually created with curley braces <b> {} </b> with the key (a string) then a colon <b>:</b> and the value associated with that key. Successive entries in the dictionary are separated by commas. For example:\n",
    "\n",
    "    my_dict = {'key1':'value1', 'key2': 'value2', 'key3': 'value3'}\n",
    "\n",
    "\n",
    "Here we will be making a dictionary of lunch orders"
   ]
  },
  {
   "cell_type": "code",
   "execution_count": 1,
   "metadata": {},
   "outputs": [
    {
     "data": {
      "text/plain": [
       "{'Mike': 'peanut butter and jelly sandwich',\n",
       " 'Judy': 'ham and cheeze sandwich',\n",
       " 'Trudy': 'BLT sandwich',\n",
       " 'Fred': 'split pea soup'}"
      ]
     },
     "execution_count": 1,
     "metadata": {},
     "output_type": "execute_result"
    }
   ],
   "source": [
    "lunch_dict = {'Mike':'peanut butter and jelly sandwich',\n",
    "             'Judy': 'ham and cheeze sandwich',\n",
    "             'Trudy': 'BLT sandwich',\n",
    "             'Fred': 'split pea soup'}\n",
    "lunch_dict"
   ]
  },
  {
   "cell_type": "markdown",
   "metadata": {},
   "source": [
    "### Accessing values \n",
    "To access a value from lunch_dict, simply put hard brackets around the key.\n"
   ]
  },
  {
   "cell_type": "code",
   "execution_count": 2,
   "metadata": {},
   "outputs": [
    {
     "data": {
      "text/plain": [
       "'split pea soup'"
      ]
     },
     "execution_count": 2,
     "metadata": {},
     "output_type": "execute_result"
    }
   ],
   "source": [
    "lunch_dict['Fred']"
   ]
  },
  {
   "cell_type": "code",
   "execution_count": 3,
   "metadata": {},
   "outputs": [
    {
     "data": {
      "text/plain": [
       "'ham and cheeze sandwich'"
      ]
     },
     "execution_count": 3,
     "metadata": {},
     "output_type": "execute_result"
    }
   ],
   "source": [
    "lunch_dict['Judy']"
   ]
  },
  {
   "cell_type": "markdown",
   "metadata": {},
   "source": [
    "##### A more complicated way to do this is to use the 'get' method from the dictionary. (It is an object, just like the strings and lists)"
   ]
  },
  {
   "cell_type": "code",
   "execution_count": 4,
   "metadata": {},
   "outputs": [
    {
     "data": {
      "text/plain": [
       "'ham and cheeze sandwich'"
      ]
     },
     "execution_count": 4,
     "metadata": {},
     "output_type": "execute_result"
    }
   ],
   "source": [
    "lunch_dict.get('Judy')"
   ]
  },
  {
   "cell_type": "markdown",
   "metadata": {},
   "source": [
    "This is not normally used since it is actually extra typing versus just accessing the value directly without a method."
   ]
  },
  {
   "cell_type": "markdown",
   "metadata": {},
   "source": [
    "##### Changing a value that is already in the dictionary\n",
    "This is simply done by assigning a new value to the key."
   ]
  },
  {
   "cell_type": "code",
   "execution_count": 5,
   "metadata": {},
   "outputs": [],
   "source": [
    "lunch_dict['Fred'] = 'Meatball Sub'"
   ]
  },
  {
   "cell_type": "code",
   "execution_count": 6,
   "metadata": {},
   "outputs": [
    {
     "name": "stdout",
     "output_type": "stream",
     "text": [
      "{'Mike': 'peanut butter and jelly sandwich', 'Judy': 'ham and cheeze sandwich', 'Trudy': 'BLT sandwich', 'Fred': 'Meatball Sub'}\n"
     ]
    }
   ],
   "source": [
    "print(lunch_dict)"
   ]
  },
  {
   "cell_type": "markdown",
   "metadata": {},
   "source": [
    "##### Adding an item to the dictionary\n",
    "This is simply done by assigning with a new key."
   ]
  },
  {
   "cell_type": "code",
   "execution_count": 7,
   "metadata": {},
   "outputs": [
    {
     "name": "stdout",
     "output_type": "stream",
     "text": [
      "{'Mike': 'peanut butter and jelly sandwich', 'Judy': 'ham and cheeze sandwich', 'Trudy': 'BLT sandwich', 'Fred': 'Meatball Sub', 'Dave': 'Lucky Charms Cereal'}\n"
     ]
    }
   ],
   "source": [
    "lunch_dict['Dave']= 'Lucky Charms Cereal'\n",
    "print(lunch_dict)"
   ]
  },
  {
   "cell_type": "markdown",
   "metadata": {},
   "source": [
    "##### Removing an item from a dictionary\n",
    "To remove an item from the dictionary, simply use the pop() method. This will remove the item. (Note: Lists and strings and most objects have a pop item. It calls the item and removes it from the list or string).\n",
    "\n",
    "Suppose Dave was no longer invited to lunch."
   ]
  },
  {
   "cell_type": "code",
   "execution_count": 8,
   "metadata": {},
   "outputs": [
    {
     "name": "stdout",
     "output_type": "stream",
     "text": [
      "{'Mike': 'peanut butter and jelly sandwich', 'Judy': 'ham and cheeze sandwich', 'Trudy': 'BLT sandwich', 'Fred': 'Meatball Sub'}\n"
     ]
    }
   ],
   "source": [
    "lunch_dict.pop('Dave')\n",
    "print(lunch_dict)"
   ]
  },
  {
   "cell_type": "markdown",
   "metadata": {},
   "source": [
    "You can also use the del (for delete) keyword, but this is used less frequently in practive. (Judy is anoying and gets uninvited too.)"
   ]
  },
  {
   "cell_type": "code",
   "execution_count": 9,
   "metadata": {},
   "outputs": [
    {
     "name": "stdout",
     "output_type": "stream",
     "text": [
      "{'Mike': 'peanut butter and jelly sandwich', 'Trudy': 'BLT sandwich', 'Fred': 'Meatball Sub'}\n"
     ]
    }
   ],
   "source": [
    "del lunch_dict['Judy']\n",
    "print(lunch_dict)"
   ]
  },
  {
   "cell_type": "markdown",
   "metadata": {},
   "source": [
    "##### Other useful methods\n",
    " - items(): returns a view of the dictionary's (key, value) pairs\n",
    " - keys(): returns all of the keys\n",
    " - values(): returns all of the values"
   ]
  },
  {
   "cell_type": "code",
   "execution_count": 10,
   "metadata": {},
   "outputs": [
    {
     "data": {
      "text/plain": [
       "dict_items([('Mike', 'peanut butter and jelly sandwich'), ('Trudy', 'BLT sandwich'), ('Fred', 'Meatball Sub')])"
      ]
     },
     "execution_count": 10,
     "metadata": {},
     "output_type": "execute_result"
    }
   ],
   "source": [
    "lunch_dict.items()"
   ]
  },
  {
   "cell_type": "code",
   "execution_count": 11,
   "metadata": {},
   "outputs": [
    {
     "data": {
      "text/plain": [
       "dict_keys(['Mike', 'Trudy', 'Fred'])"
      ]
     },
     "execution_count": 11,
     "metadata": {},
     "output_type": "execute_result"
    }
   ],
   "source": [
    "lunch_dict.keys()"
   ]
  },
  {
   "cell_type": "code",
   "execution_count": 12,
   "metadata": {},
   "outputs": [
    {
     "data": {
      "text/plain": [
       "dict_values(['peanut butter and jelly sandwich', 'BLT sandwich', 'Meatball Sub'])"
      ]
     },
     "execution_count": 12,
     "metadata": {},
     "output_type": "execute_result"
    }
   ],
   "source": [
    "lunch_dict.values()"
   ]
  },
  {
   "cell_type": "code",
   "execution_count": 13,
   "metadata": {},
   "outputs": [
    {
     "data": {
      "text/plain": [
       "dict_values(['peanut butter and jelly sandwich', 'BLT sandwich', 'Meatball Sub'])"
      ]
     },
     "execution_count": 13,
     "metadata": {},
     "output_type": "execute_result"
    }
   ],
   "source": [
    "these_values = lunch_dict.values()\n",
    "these_values"
   ]
  },
  {
   "cell_type": "markdown",
   "metadata": {},
   "source": [
    "This is marginally useful. For this to be really useful, we would want to make these a list by adding 'list()' around the outside of the dictionary method call."
   ]
  },
  {
   "cell_type": "code",
   "execution_count": 14,
   "metadata": {},
   "outputs": [
    {
     "data": {
      "text/plain": [
       "['Mike', 'Trudy', 'Fred']"
      ]
     },
     "execution_count": 14,
     "metadata": {},
     "output_type": "execute_result"
    }
   ],
   "source": [
    "these_keys = list(lunch_dict.keys())\n",
    "these_keys"
   ]
  },
  {
   "cell_type": "code",
   "execution_count": 15,
   "metadata": {},
   "outputs": [
    {
     "name": "stdout",
     "output_type": "stream",
     "text": [
      "['peanut butter and jelly sandwich', 'BLT sandwich', 'Meatball Sub']\n",
      "<class 'list'>\n"
     ]
    }
   ],
   "source": [
    "these_values = list(lunch_dict.values())\n",
    "print(these_values)\n",
    "print(type(these_values))"
   ]
  },
  {
   "cell_type": "markdown",
   "metadata": {},
   "source": [
    "### Iterating over a dictionary\n",
    "Since dictionaries are objects, they can be iterated simply in python.\n",
    "\n",
    "You can iterate over the keys, the values or both."
   ]
  },
  {
   "cell_type": "code",
   "execution_count": 16,
   "metadata": {},
   "outputs": [
    {
     "name": "stdout",
     "output_type": "stream",
     "text": [
      "Mike\n",
      "Trudy\n",
      "Fred\n"
     ]
    }
   ],
   "source": [
    "# this will return the keys\n",
    "for x in lunch_dict:\n",
    "    print(x)"
   ]
  },
  {
   "cell_type": "code",
   "execution_count": 17,
   "metadata": {
    "scrolled": true
   },
   "outputs": [
    {
     "name": "stdout",
     "output_type": "stream",
     "text": [
      "peanut butter and jelly sandwich\n",
      "BLT sandwich\n",
      "Meatball Sub\n"
     ]
    }
   ],
   "source": [
    "# this will return the values\n",
    "for x in lunch_dict.values():\n",
    "    print(x)"
   ]
  },
  {
   "cell_type": "markdown",
   "metadata": {},
   "source": [
    "###### Returning both the keys and values from a dictionary with .items() method"
   ]
  },
  {
   "cell_type": "code",
   "execution_count": 18,
   "metadata": {},
   "outputs": [
    {
     "name": "stdout",
     "output_type": "stream",
     "text": [
      "This is the key:  Mike  This is the value :  peanut butter and jelly sandwich\n",
      "This is the key:  Trudy  This is the value :  BLT sandwich\n",
      "This is the key:  Fred  This is the value :  Meatball Sub\n"
     ]
    }
   ],
   "source": [
    "for key, value in lunch_dict.items():\n",
    "    print('This is the key: ', key, ' This is the value : ', value)"
   ]
  },
  {
   "cell_type": "markdown",
   "metadata": {},
   "source": [
    "##### Checking Membership with 'in' and 'not in'\n"
   ]
  },
  {
   "cell_type": "code",
   "execution_count": 19,
   "metadata": {},
   "outputs": [
    {
     "name": "stdout",
     "output_type": "stream",
     "text": [
      "No no! He is not invited!\n"
     ]
    }
   ],
   "source": [
    "if 'Dave' in lunch_dict:\n",
    "    print('Yes, Dave is coming to lunch')\n",
    "else:\n",
    "    print('No no! He is not invited!')"
   ]
  },
  {
   "cell_type": "markdown",
   "metadata": {},
   "source": [
    "#### Checking if a value exists with 'in' and .values()"
   ]
  },
  {
   "cell_type": "code",
   "execution_count": 20,
   "metadata": {},
   "outputs": [
    {
     "name": "stdout",
     "output_type": "stream",
     "text": [
      "Yes, someone ordered that\n"
     ]
    }
   ],
   "source": [
    "if 'BLT sandwich' in lunch_dict.values():\n",
    "    print('Yes, someone ordered that')\n",
    "else:\n",
    "    print('No, that is not our order')"
   ]
  },
  {
   "cell_type": "markdown",
   "metadata": {},
   "source": [
    "#### Dictionaries are unordered. To retrieve items in order by their keys, you need to use the function sorted() over the dictionaries keys\n",
    "NOTE: I am presenting this here, but I have never had the need to do this. It just would not be a complete discussion without knowing how to do this."
   ]
  },
  {
   "cell_type": "code",
   "execution_count": 21,
   "metadata": {},
   "outputs": [
    {
     "name": "stdout",
     "output_type": "stream",
     "text": [
      "Fred  is having  Meatball Sub for lunch.\n",
      "Mike  is having  peanut butter and jelly sandwich for lunch.\n",
      "Trudy  is having  BLT sandwich for lunch.\n"
     ]
    }
   ],
   "source": [
    "for name in sorted(lunch_dict.keys()):\n",
    "    print(name, ' is having ', lunch_dict[name], 'for lunch.')"
   ]
  },
  {
   "cell_type": "markdown",
   "metadata": {},
   "source": [
    "## <font color='red'>IMPORTANT NOTE: PYTHON IS LAZY!!!</font>\n",
    "If you have a dictionary and assign it to another variable name, python will NOT copy that dictionary. (Python thinks 'Well, I know they are the same, so I am not going to make a copy of that!)"
   ]
  },
  {
   "cell_type": "code",
   "execution_count": 22,
   "metadata": {},
   "outputs": [
    {
     "data": {
      "text/plain": [
       "{'Mike': 'peanut butter and jelly sandwich',\n",
       " 'Judy': 'ham and cheeze sandwich',\n",
       " 'Trudy': 'BLT sandwich',\n",
       " 'Fred': 'split pea soup'}"
      ]
     },
     "execution_count": 22,
     "metadata": {},
     "output_type": "execute_result"
    }
   ],
   "source": [
    "lunch_dict = {'Mike':'peanut butter and jelly sandwich',\n",
    "             'Judy': 'ham and cheeze sandwich',\n",
    "             'Trudy': 'BLT sandwich',\n",
    "             'Fred': 'split pea soup'}\n",
    "lunch_dict"
   ]
  },
  {
   "cell_type": "code",
   "execution_count": 23,
   "metadata": {},
   "outputs": [],
   "source": [
    "another_dict = lunch_dict"
   ]
  },
  {
   "cell_type": "markdown",
   "metadata": {},
   "source": [
    "Let's change an item in lunch_dict."
   ]
  },
  {
   "cell_type": "code",
   "execution_count": 24,
   "metadata": {},
   "outputs": [
    {
     "data": {
      "text/plain": [
       "{'Mike': 'peanut butter and jelly sandwich',\n",
       " 'Judy': 'a salad',\n",
       " 'Trudy': 'BLT sandwich',\n",
       " 'Fred': 'split pea soup'}"
      ]
     },
     "execution_count": 24,
     "metadata": {},
     "output_type": "execute_result"
    }
   ],
   "source": [
    "lunch_dict['Judy'] = 'a salad'\n",
    "lunch_dict"
   ]
  },
  {
   "cell_type": "markdown",
   "metadata": {},
   "source": [
    "But what happened to another_dict???"
   ]
  },
  {
   "cell_type": "code",
   "execution_count": 25,
   "metadata": {},
   "outputs": [
    {
     "data": {
      "text/plain": [
       "{'Mike': 'peanut butter and jelly sandwich',\n",
       " 'Judy': 'a salad',\n",
       " 'Trudy': 'BLT sandwich',\n",
       " 'Fred': 'split pea soup'}"
      ]
     },
     "execution_count": 25,
     "metadata": {},
     "output_type": "execute_result"
    }
   ],
   "source": [
    "another_dict"
   ]
  },
  {
   "cell_type": "markdown",
   "metadata": {},
   "source": [
    "#### It changed here too!!!\n",
    "\n",
    "### To fix this we need to assign the dictionary with the copy() method or python will think they are the same."
   ]
  },
  {
   "cell_type": "code",
   "execution_count": 26,
   "metadata": {},
   "outputs": [
    {
     "data": {
      "text/plain": [
       "{'Mike': 'peanut butter and jelly sandwich',\n",
       " 'Judy': 'a salad',\n",
       " 'Trudy': 'BLT sandwich',\n",
       " 'Fred': 'split pea soup'}"
      ]
     },
     "execution_count": 26,
     "metadata": {},
     "output_type": "execute_result"
    }
   ],
   "source": [
    "another_dict = lunch_dict.copy()\n",
    "another_dict"
   ]
  },
  {
   "cell_type": "markdown",
   "metadata": {},
   "source": [
    "If we change the lunch_dict now, it will not change another_dict since they have been copied"
   ]
  },
  {
   "cell_type": "code",
   "execution_count": 27,
   "metadata": {},
   "outputs": [
    {
     "data": {
      "text/plain": [
       "{'Mike': 'peanut butter and jelly sandwich',\n",
       " 'Judy': 'just coffee',\n",
       " 'Trudy': 'BLT sandwich',\n",
       " 'Fred': 'split pea soup'}"
      ]
     },
     "execution_count": 27,
     "metadata": {},
     "output_type": "execute_result"
    }
   ],
   "source": [
    "lunch_dict['Judy']= 'just coffee'\n",
    "lunch_dict"
   ]
  },
  {
   "cell_type": "code",
   "execution_count": 28,
   "metadata": {},
   "outputs": [
    {
     "data": {
      "text/plain": [
       "{'Mike': 'peanut butter and jelly sandwich',\n",
       " 'Judy': 'a salad',\n",
       " 'Trudy': 'BLT sandwich',\n",
       " 'Fred': 'split pea soup'}"
      ]
     },
     "execution_count": 28,
     "metadata": {},
     "output_type": "execute_result"
    }
   ],
   "source": [
    "another_dict"
   ]
  },
  {
   "cell_type": "markdown",
   "metadata": {},
   "source": [
    "### Creating a dictionary from two lists\n",
    "The 'zip' function creates pairs of objects by matching lists in order. (Just lining up the two lists like they are lines of students walking into a graduation ceremony.) It returns a zip object, which is just a combination of tuples, which we will get to later.\n",
    "\n",
    "When used with the dict() function, we can create dictionaires from lists."
   ]
  },
  {
   "cell_type": "code",
   "execution_count": 29,
   "metadata": {},
   "outputs": [
    {
     "data": {
      "text/plain": [
       "['name', 'address', 'phone_number']"
      ]
     },
     "execution_count": 29,
     "metadata": {},
     "output_type": "execute_result"
    }
   ],
   "source": [
    "key_list = ['name', 'address', 'phone_number']\n",
    "key_list"
   ]
  },
  {
   "cell_type": "code",
   "execution_count": 30,
   "metadata": {},
   "outputs": [
    {
     "data": {
      "text/plain": [
       "['Bobby', '123 Elm Street', '555-5555']"
      ]
     },
     "execution_count": 30,
     "metadata": {},
     "output_type": "execute_result"
    }
   ],
   "source": [
    "value_list = ['Bobby', '123 Elm Street', '555-5555']\n",
    "value_list"
   ]
  },
  {
   "cell_type": "code",
   "execution_count": 31,
   "metadata": {},
   "outputs": [
    {
     "data": {
      "text/plain": [
       "{'name': 'Bobby', 'address': '123 Elm Street', 'phone_number': '555-5555'}"
      ]
     },
     "execution_count": 31,
     "metadata": {},
     "output_type": "execute_result"
    }
   ],
   "source": [
    "dict_from_lists = dict(zip(key_list, value_list))\n",
    "dict_from_lists"
   ]
  },
  {
   "cell_type": "markdown",
   "metadata": {},
   "source": [
    "### Creating a dictionary by using variable assignment and the dict() constructor (function)\n",
    "Here the keys are treated like variables and not strings, so they do not have to be in quotes. The values that are strings, however, are kept in quotes."
   ]
  },
  {
   "cell_type": "code",
   "execution_count": 32,
   "metadata": {},
   "outputs": [
    {
     "name": "stdout",
     "output_type": "stream",
     "text": [
      "{'language': 'English-ish', 'currency': 'CAD', 'favorite_pastime': 'hockey', 'population': 123456789}\n"
     ]
    }
   ],
   "source": [
    "Canada_dict = dict(language='English-ish', currency= 'CAD', favorite_pastime='hockey', population=123456789)\n",
    "print(Canada_dict)"
   ]
  },
  {
   "cell_type": "markdown",
   "metadata": {},
   "source": [
    "##### Note: You can also make a copy of a dictionary with the using the dict() function on an existing dictionary"
   ]
  },
  {
   "cell_type": "code",
   "execution_count": 33,
   "metadata": {},
   "outputs": [
    {
     "data": {
      "text/plain": [
       "{'filename': '../data/all_billings_inputs.xlsx', 'sheetname': 'this_sheet'}"
      ]
     },
     "execution_count": 33,
     "metadata": {},
     "output_type": "execute_result"
    }
   ],
   "source": [
    "new_dict = {'filename': '../data/all_billings_inputs.xlsx',\n",
    "           'sheetname': 'this_sheet'}\n",
    "new_dict"
   ]
  },
  {
   "cell_type": "code",
   "execution_count": 34,
   "metadata": {},
   "outputs": [
    {
     "data": {
      "text/plain": [
       "{'filename': '../data/all_billings_inputs.xlsx', 'sheetname': 'this_sheet'}"
      ]
     },
     "execution_count": 34,
     "metadata": {},
     "output_type": "execute_result"
    }
   ],
   "source": [
    "newer_dict = dict(new_dict)\n",
    "newer_dict"
   ]
  },
  {
   "cell_type": "markdown",
   "metadata": {},
   "source": [
    "Let's test that this is a copy by changing new_dict and seeing if it changes newer_dict! (Yes, lets!)"
   ]
  },
  {
   "cell_type": "code",
   "execution_count": 35,
   "metadata": {},
   "outputs": [
    {
     "data": {
      "text/plain": [
       "{'filename': '../data/all_billings_inputs.xlsx', 'sheetname': 'no_this_sheet'}"
      ]
     },
     "execution_count": 35,
     "metadata": {},
     "output_type": "execute_result"
    }
   ],
   "source": [
    "new_dict['sheetname'] = 'no_this_sheet'\n",
    "new_dict"
   ]
  },
  {
   "cell_type": "code",
   "execution_count": 36,
   "metadata": {},
   "outputs": [
    {
     "name": "stdout",
     "output_type": "stream",
     "text": [
      "{'filename': '../data/all_billings_inputs.xlsx', 'sheetname': 'this_sheet'}\n"
     ]
    }
   ],
   "source": [
    "print(newer_dict)"
   ]
  },
  {
   "cell_type": "markdown",
   "metadata": {},
   "source": [
    "### Merging dictionaries\n",
    "\n",
    "Dictionaries can easily be merged together in python, but we need to be careful if the two dictionaries have keys that are common. "
   ]
  },
  {
   "cell_type": "code",
   "execution_count": 37,
   "metadata": {},
   "outputs": [
    {
     "name": "stdout",
     "output_type": "stream",
     "text": [
      "<class 'dict'>\n",
      "{'a': 1, 'b': 2, 'c': 3}\n"
     ]
    }
   ],
   "source": [
    "dict_1 = {'a': 1, 'b':2, 'c':3}\n",
    "print(type(dict_1))\n",
    "print(dict_1)"
   ]
  },
  {
   "cell_type": "code",
   "execution_count": 38,
   "metadata": {},
   "outputs": [
    {
     "name": "stdout",
     "output_type": "stream",
     "text": [
      "<class 'dict'>\n",
      "{'aa': 11, 'bb': 22, 'c': 33}\n"
     ]
    }
   ],
   "source": [
    "dict_2 = {'aa': 11, 'bb':22, 'c':33}\n",
    "print(type(dict_2))\n",
    "print(dict_2)"
   ]
  },
  {
   "cell_type": "markdown",
   "metadata": {},
   "source": [
    "##### Update dict_1 by adding the key, value pairs in dictionary 2"
   ]
  },
  {
   "cell_type": "code",
   "execution_count": 39,
   "metadata": {},
   "outputs": [
    {
     "name": "stdout",
     "output_type": "stream",
     "text": [
      "{'a': 1, 'b': 2, 'c': 33, 'aa': 11, 'bb': 22}\n"
     ]
    }
   ],
   "source": [
    "dict_1.update(dict_2)\n",
    "print(dict_1)"
   ]
  },
  {
   "cell_type": "markdown",
   "metadata": {},
   "source": [
    "##### <font color = 'red'>What did you notice about the value of c???</font>"
   ]
  },
  {
   "cell_type": "markdown",
   "metadata": {},
   "source": [
    "#### Merging dictionaries into a new dictionary (so not update)\n",
    "Lets start over and show different ways to do this."
   ]
  },
  {
   "cell_type": "code",
   "execution_count": 40,
   "metadata": {},
   "outputs": [],
   "source": [
    "dict_1 = {'a': 1, 'b':2, 'c':3}\n",
    "dict_2 = {'aa': 11, 'bb':22, 'c':33}"
   ]
  },
  {
   "cell_type": "markdown",
   "metadata": {},
   "source": [
    "** extracts the elements of a dictionary and passes them to a function. This is necessary so that dict_3 does not contain a key of dict_1 and values of dict_2.\n",
    "\n",
    "So the code below is creating a dictionary by essentially creating\n",
    "\n",
    "dict_3 = {'a': 1, 'b':2, 'c':3, 'aa': 11, 'bb':22, 'c':33}\n",
    "\n",
    "This will create one dictionary"
   ]
  },
  {
   "cell_type": "code",
   "execution_count": 41,
   "metadata": {},
   "outputs": [
    {
     "name": "stdout",
     "output_type": "stream",
     "text": [
      "{'a': 1, 'b': 2, 'c': 33, 'aa': 11, 'bb': 22}\n"
     ]
    }
   ],
   "source": [
    "dict_3 = {**dict_1, **dict_2}\n",
    "print(dict_3)"
   ]
  },
  {
   "cell_type": "markdown",
   "metadata": {},
   "source": [
    "Note: you could also copy dict_1 into a new dictionary dict_3 and then update dict_3 with dict_2"
   ]
  },
  {
   "cell_type": "markdown",
   "metadata": {},
   "source": [
    "### To clear a dictionary, use clear()"
   ]
  },
  {
   "cell_type": "code",
   "execution_count": 42,
   "metadata": {},
   "outputs": [
    {
     "data": {
      "text/plain": [
       "{}"
      ]
     },
     "execution_count": 42,
     "metadata": {},
     "output_type": "execute_result"
    }
   ],
   "source": [
    "lunch_dict.clear()\n",
    "lunch_dict"
   ]
  },
  {
   "cell_type": "markdown",
   "metadata": {},
   "source": [
    "## I. B. Dictionaries with lists as values\n",
    "\n",
    "As mentioned above, a dictinary can contain anything as a value. Here we will explore a dictionary with lists as values, versus the strings we have been using.\n",
    "\n",
    "It is important to know what type of variable is in the values of your dictionary. Our lunch dictionary contains strings in the values. If we are going to add dring orders to this dictionary, we will need to make them lists and not strings."
   ]
  },
  {
   "cell_type": "code",
   "execution_count": 43,
   "metadata": {},
   "outputs": [
    {
     "data": {
      "text/plain": [
       "{'Mike': 'peanut butter and jelly sandwich',\n",
       " 'Judy': 'ham and cheeze sandwich',\n",
       " 'Trudy': 'BLT sandwich',\n",
       " 'Fred': 'split pea soup'}"
      ]
     },
     "execution_count": 43,
     "metadata": {},
     "output_type": "execute_result"
    }
   ],
   "source": [
    "lunch_dict = {'Mike':'peanut butter and jelly sandwich',\n",
    "             'Judy': 'ham and cheeze sandwich',\n",
    "             'Trudy': 'BLT sandwich',\n",
    "             'Fred': 'split pea soup'}\n",
    "lunch_dict"
   ]
  },
  {
   "cell_type": "markdown",
   "metadata": {},
   "source": [
    "Above we can see that the lunch dictionary contains strings. The function below loops through the values in the dictionary and prints their type."
   ]
  },
  {
   "cell_type": "code",
   "execution_count": 44,
   "metadata": {},
   "outputs": [
    {
     "name": "stdout",
     "output_type": "stream",
     "text": [
      "<class 'str'>\n",
      "<class 'str'>\n",
      "<class 'str'>\n",
      "<class 'str'>\n"
     ]
    }
   ],
   "source": [
    "for value in lunch_dict.values():\n",
    "    print(type(value))"
   ]
  },
  {
   "cell_type": "markdown",
   "metadata": {},
   "source": [
    "To change these from strings to a list, we need to simply loop through the dictionary and reassign the values to their appropriate keys as if they were a list. Recall lists in python are determined by [ ] (like strings are determined by ' ')."
   ]
  },
  {
   "cell_type": "code",
   "execution_count": 45,
   "metadata": {},
   "outputs": [],
   "source": [
    "for key, value in lunch_dict.items():\n",
    "    lunch_dict[key] = [value]"
   ]
  },
  {
   "cell_type": "code",
   "execution_count": 46,
   "metadata": {},
   "outputs": [
    {
     "data": {
      "text/plain": [
       "{'Mike': ['peanut butter and jelly sandwich'],\n",
       " 'Judy': ['ham and cheeze sandwich'],\n",
       " 'Trudy': ['BLT sandwich'],\n",
       " 'Fred': ['split pea soup']}"
      ]
     },
     "execution_count": 46,
     "metadata": {},
     "output_type": "execute_result"
    }
   ],
   "source": [
    "lunch_dict"
   ]
  },
  {
   "cell_type": "markdown",
   "metadata": {},
   "source": [
    "When the lunch dictionary printed above, what is different than before? Can you tell the datatype just by the print statement?"
   ]
  },
  {
   "cell_type": "markdown",
   "metadata": {},
   "source": [
    "#### Adding additional items to the dictionary.\n",
    "Here we are going to add drink orders. This is similar to overwriting the value, but if we use append, we are appending the current value. (Does not work if the value is a string, because you cannot append a string.)"
   ]
  },
  {
   "cell_type": "code",
   "execution_count": 47,
   "metadata": {},
   "outputs": [
    {
     "data": {
      "text/plain": [
       "{'Mike': ['peanut butter and jelly sandwich'],\n",
       " 'Judy': ['ham and cheeze sandwich'],\n",
       " 'Trudy': ['BLT sandwich'],\n",
       " 'Fred': ['split pea soup', 'Earl Grey Tea']}"
      ]
     },
     "execution_count": 47,
     "metadata": {},
     "output_type": "execute_result"
    }
   ],
   "source": [
    "lunch_dict['Fred'].append('Earl Grey Tea')\n",
    "lunch_dict"
   ]
  },
  {
   "cell_type": "code",
   "execution_count": 48,
   "metadata": {},
   "outputs": [
    {
     "data": {
      "text/plain": [
       "{'Mike': ['peanut butter and jelly sandwich'],\n",
       " 'Judy': ['ham and cheeze sandwich', 'Dirty Martini'],\n",
       " 'Trudy': ['BLT sandwich', 'Diet Coke'],\n",
       " 'Fred': ['split pea soup', 'Earl Grey Tea']}"
      ]
     },
     "execution_count": 48,
     "metadata": {},
     "output_type": "execute_result"
    }
   ],
   "source": [
    "# Adding more items\n",
    "lunch_dict['Trudy'].append('Diet Coke')\n",
    "lunch_dict['Judy'].append('Dirty Martini')\n",
    "lunch_dict"
   ]
  },
  {
   "cell_type": "markdown",
   "metadata": {},
   "source": [
    "##### If we want to add mupltiple values to one key, it is best to append one at a time."
   ]
  },
  {
   "cell_type": "code",
   "execution_count": 49,
   "metadata": {},
   "outputs": [
    {
     "data": {
      "text/plain": [
       "{'Mike': ['peanut butter and jelly sandwich',\n",
       "  'Coke Slurpee',\n",
       "  'Doritos Cool Ranch Chips',\n",
       "  'Monster Energy Drink',\n",
       "  '5 cookies'],\n",
       " 'Judy': ['ham and cheeze sandwich', 'Dirty Martini'],\n",
       " 'Trudy': ['BLT sandwich', 'Diet Coke'],\n",
       " 'Fred': ['split pea soup', 'Earl Grey Tea']}"
      ]
     },
     "execution_count": 49,
     "metadata": {},
     "output_type": "execute_result"
    }
   ],
   "source": [
    "mike_new_list = ['Coke Slurpee', 'Doritos Cool Ranch Chips', 'Monster Energy Drink', '5 cookies']\n",
    "for item in mike_new_list:\n",
    "    lunch_dict['Mike'].append(item)\n",
    "    \n",
    "lunch_dict"
   ]
  },
  {
   "cell_type": "code",
   "execution_count": 50,
   "metadata": {},
   "outputs": [
    {
     "data": {
      "text/plain": [
       "{'Mike': ['peanut butter and jelly sandwich',\n",
       "  'Coke Slurpee',\n",
       "  'Doritos Cool Ranch Chips',\n",
       "  'Monster Energy Drink',\n",
       "  '5 cookies'],\n",
       " 'Judy': ['ham and cheeze sandwich', 'Dirty Martini'],\n",
       " 'Trudy': ['BLT sandwich', 'Diet Coke'],\n",
       " 'Fred': ['split pea soup', 'Earl Grey Tea']}"
      ]
     },
     "execution_count": 50,
     "metadata": {},
     "output_type": "execute_result"
    }
   ],
   "source": [
    "lunch_dict"
   ]
  },
  {
   "cell_type": "markdown",
   "metadata": {},
   "source": [
    "##### Accessing a list of values from a dictionary.\n"
   ]
  },
  {
   "cell_type": "code",
   "execution_count": 51,
   "metadata": {},
   "outputs": [
    {
     "name": "stdout",
     "output_type": "stream",
     "text": [
      "Mike is ordering ['peanut butter and jelly sandwich', 'Coke Slurpee', 'Doritos Cool Ranch Chips', 'Monster Energy Drink', '5 cookies']]\n",
      "Judy is ordering ['ham and cheeze sandwich', 'Dirty Martini']]\n",
      "Trudy is ordering ['BLT sandwich', 'Diet Coke']]\n",
      "Fred is ordering ['split pea soup', 'Earl Grey Tea']]\n"
     ]
    }
   ],
   "source": [
    "for key, value in lunch_dict.items():\n",
    "    \n",
    "    print('{0} is ordering {1}]'.format(key, value))"
   ]
  },
  {
   "cell_type": "markdown",
   "metadata": {},
   "source": [
    "##### Accessing just one of the items can be done simply knowing that the values are a list. \n",
    "We know that lunch_dict['Judy'] will return the list of values Judy is ordering and that this is a list. To accesss an item in a list we simply need the index to that list in hard brackets []\n"
   ]
  },
  {
   "cell_type": "code",
   "execution_count": 52,
   "metadata": {},
   "outputs": [
    {
     "name": "stdout",
     "output_type": "stream",
     "text": [
      "Dirty Martini\n"
     ]
    }
   ],
   "source": [
    "print(lunch_dict['Judy'][1])"
   ]
  },
  {
   "cell_type": "code",
   "execution_count": 53,
   "metadata": {},
   "outputs": [
    {
     "data": {
      "text/plain": [
       "'5 cookies'"
      ]
     },
     "execution_count": 53,
     "metadata": {},
     "output_type": "execute_result"
    }
   ],
   "source": [
    "lunch_dict['Mike'][-1]"
   ]
  },
  {
   "cell_type": "code",
   "execution_count": 54,
   "metadata": {},
   "outputs": [
    {
     "data": {
      "text/plain": [
       "['peanut butter and jelly sandwich',\n",
       " 'Coke Slurpee',\n",
       " 'Doritos Cool Ranch Chips',\n",
       " 'Monster Energy Drink',\n",
       " '5 cookies']"
      ]
     },
     "execution_count": 54,
     "metadata": {},
     "output_type": "execute_result"
    }
   ],
   "source": [
    "lunch_dict['Mike']"
   ]
  },
  {
   "cell_type": "code",
   "execution_count": 55,
   "metadata": {},
   "outputs": [
    {
     "data": {
      "text/plain": [
       "['Doritos Cool Ranch Chips', 'Monster Energy Drink', '5 cookies']"
      ]
     },
     "execution_count": 55,
     "metadata": {},
     "output_type": "execute_result"
    }
   ],
   "source": [
    "lunch_dict['Mike'][2:]"
   ]
  },
  {
   "cell_type": "markdown",
   "metadata": {},
   "source": [
    "## I. C. Nested Dictionary Example\n",
    "\n",
    "A value within a dictionary can be a almost anything; a string, number, dataframe, image or even another dictionary. When a dictionaries values are also dictionaries, the dictionaries are considered nested.\n",
    "\n",
    "The code below loads up a dictionary from the FX_DERIVATIVES_SOME database. \n",
    "\n",
    "This is a dictionary where the keys are trade IDs and the values are a dictionary with keys that contain the trade details."
   ]
  },
  {
   "cell_type": "code",
   "execution_count": 56,
   "metadata": {
    "scrolled": true
   },
   "outputs": [
    {
     "data": {
      "text/plain": [
       "{'ADIR3725': {'entity': 'ADIR',\n",
       "  'counterparty': 'RBS',\n",
       "  'curr_pair': 'USDJPY',\n",
       "  'buy_curr': 'USD',\n",
       "  'sell_curr': 'JPY',\n",
       "  'trade_date': datetime.datetime(2012, 8, 15, 0, 0),\n",
       "  'delivery_date': datetime.datetime(2012, 10, 10, 0, 0),\n",
       "  'contract_rate': 78.867,\n",
       "  'buy_amount': 4564647,\n",
       "  'sell_amnount': -360000000},\n",
       " 'ADUS813': {'entity': 'ADUS',\n",
       "  'counterparty': 'CITI',\n",
       "  'curr_pair': 'EURUSD',\n",
       "  'buy_curr': 'USD',\n",
       "  'sell_curr': 'EUR',\n",
       "  'trade_date': datetime.datetime(2012, 8, 15, 0, 0),\n",
       "  'delivery_date': datetime.datetime(2012, 10, 11, 0, 0),\n",
       "  'contract_rate': 1.229378,\n",
       "  'buy_amount': 614689,\n",
       "  'sell_amnount': -500000},\n",
       " 'ADIR3723': {'entity': 'ADIR',\n",
       "  'counterparty': 'GS',\n",
       "  'curr_pair': 'USDCHF',\n",
       "  'buy_curr': 'CHF',\n",
       "  'sell_curr': 'USD',\n",
       "  'trade_date': datetime.datetime(2012, 8, 14, 0, 0),\n",
       "  'delivery_date': datetime.datetime(2012, 9, 19, 0, 0),\n",
       "  'contract_rate': 0.973454,\n",
       "  'buy_amount': 9000000,\n",
       "  'sell_amnount': -9245429},\n",
       " 'ADIR3719': {'entity': 'ADIR',\n",
       "  'counterparty': 'UBS',\n",
       "  'curr_pair': 'EURUSD',\n",
       "  'buy_curr': 'USD',\n",
       "  'sell_curr': 'EUR',\n",
       "  'trade_date': datetime.datetime(2012, 8, 13, 0, 0),\n",
       "  'delivery_date': datetime.datetime(2012, 10, 10, 0, 0),\n",
       "  'contract_rate': 1.233346,\n",
       "  'buy_amount': 6166730,\n",
       "  'sell_amnount': -5000000},\n",
       " 'ADUS810': {'entity': 'ADUS',\n",
       "  'counterparty': 'CITI',\n",
       "  'curr_pair': 'EURUSD',\n",
       "  'buy_curr': 'EUR',\n",
       "  'sell_curr': 'USD',\n",
       "  'trade_date': datetime.datetime(2012, 8, 9, 0, 0),\n",
       "  'delivery_date': datetime.datetime(2012, 10, 11, 0, 0),\n",
       "  'contract_rate': 1.2294,\n",
       "  'buy_amount': 1000000,\n",
       "  'sell_amnount': -1229400},\n",
       " 'ADIR3717': {'entity': 'ADIR',\n",
       "  'counterparty': 'CITI',\n",
       "  'curr_pair': 'USDSGD',\n",
       "  'buy_curr': 'USD',\n",
       "  'sell_curr': 'SGD',\n",
       "  'trade_date': datetime.datetime(2012, 8, 9, 0, 0),\n",
       "  'delivery_date': datetime.datetime(2012, 9, 14, 0, 0),\n",
       "  'contract_rate': 1.245248,\n",
       "  'buy_amount': 1204579,\n",
       "  'sell_amnount': -1500000},\n",
       " 'ADIR3715': {'entity': 'ADIR',\n",
       "  'counterparty': 'BOA',\n",
       "  'curr_pair': 'USDJPY',\n",
       "  'buy_curr': 'USD',\n",
       "  'sell_curr': 'JPY',\n",
       "  'trade_date': datetime.datetime(2012, 8, 9, 0, 0),\n",
       "  'delivery_date': datetime.datetime(2012, 10, 10, 0, 0),\n",
       "  'contract_rate': 78.5226,\n",
       "  'buy_amount': 3820556,\n",
       "  'sell_amnount': -300000000},\n",
       " 'ADUS808': {'entity': 'ADUS',\n",
       "  'counterparty': 'CITI',\n",
       "  'curr_pair': 'USDCHF',\n",
       "  'buy_curr': 'CHF',\n",
       "  'sell_curr': 'USD',\n",
       "  'trade_date': datetime.datetime(2012, 8, 8, 0, 0),\n",
       "  'delivery_date': datetime.datetime(2012, 11, 16, 0, 0),\n",
       "  'contract_rate': 0.9704,\n",
       "  'buy_amount': 61000000,\n",
       "  'sell_amnount': -62860676},\n",
       " 'ADIR3709': {'entity': 'ADIR',\n",
       "  'counterparty': 'BOA',\n",
       "  'curr_pair': 'USDJPY',\n",
       "  'buy_curr': 'USD',\n",
       "  'sell_curr': 'JPY',\n",
       "  'trade_date': datetime.datetime(2012, 8, 6, 0, 0),\n",
       "  'delivery_date': datetime.datetime(2012, 10, 10, 0, 0),\n",
       "  'contract_rate': 78.1261,\n",
       "  'buy_amount': 3839946,\n",
       "  'sell_amnount': -300000000},\n",
       " 'ADIR3708': {'entity': 'ADIR',\n",
       "  'counterparty': 'BOA',\n",
       "  'curr_pair': 'EURUSD',\n",
       "  'buy_curr': 'USD',\n",
       "  'sell_curr': 'EUR',\n",
       "  'trade_date': datetime.datetime(2012, 8, 6, 0, 0),\n",
       "  'delivery_date': datetime.datetime(2012, 10, 10, 0, 0),\n",
       "  'contract_rate': 1.240847,\n",
       "  'buy_amount': 3722541,\n",
       "  'sell_amnount': -3000000},\n",
       " 'ADIR3707': {'entity': 'ADIR',\n",
       "  'counterparty': 'GS',\n",
       "  'curr_pair': 'AUDUSD',\n",
       "  'buy_curr': 'USD',\n",
       "  'sell_curr': 'AUD',\n",
       "  'trade_date': datetime.datetime(2012, 8, 3, 0, 0),\n",
       "  'delivery_date': datetime.datetime(2012, 9, 26, 0, 0),\n",
       "  'contract_rate': 1.051216,\n",
       "  'buy_amount': 8409728,\n",
       "  'sell_amnount': -8000000},\n",
       " 'ADUS807': {'entity': 'ADUS',\n",
       "  'counterparty': 'CITI',\n",
       "  'curr_pair': 'GBPUSD',\n",
       "  'buy_curr': 'USD',\n",
       "  'sell_curr': 'GBP',\n",
       "  'trade_date': datetime.datetime(2012, 8, 2, 0, 0),\n",
       "  'delivery_date': datetime.datetime(2012, 10, 18, 0, 0),\n",
       "  'contract_rate': 1.550523,\n",
       "  'buy_amount': 1007840,\n",
       "  'sell_amnount': -650000},\n",
       " 'ADIR3705': {'entity': 'ADIR',\n",
       "  'counterparty': 'CITI',\n",
       "  'curr_pair': 'USDSGD',\n",
       "  'buy_curr': 'SGD',\n",
       "  'sell_curr': 'USD',\n",
       "  'trade_date': datetime.datetime(2012, 8, 1, 0, 0),\n",
       "  'delivery_date': datetime.datetime(2012, 9, 14, 0, 0),\n",
       "  'contract_rate': 1.243976,\n",
       "  'buy_amount': 2500000,\n",
       "  'sell_amnount': -2009685},\n",
       " 'ADIR3704': {'entity': 'ADIR',\n",
       "  'counterparty': 'UBS',\n",
       "  'curr_pair': 'GBPUSD',\n",
       "  'buy_curr': 'USD',\n",
       "  'sell_curr': 'GBP',\n",
       "  'trade_date': datetime.datetime(2012, 8, 1, 0, 0),\n",
       "  'delivery_date': datetime.datetime(2012, 9, 26, 0, 0),\n",
       "  'contract_rate': 1.560883,\n",
       "  'buy_amount': 3121766,\n",
       "  'sell_amnount': -2000000},\n",
       " 'ADIR3703': {'entity': 'ADIR',\n",
       "  'counterparty': 'BOA',\n",
       "  'curr_pair': 'EURUSD',\n",
       "  'buy_curr': 'USD',\n",
       "  'sell_curr': 'EUR',\n",
       "  'trade_date': datetime.datetime(2012, 8, 1, 0, 0),\n",
       "  'delivery_date': datetime.datetime(2012, 9, 26, 0, 0),\n",
       "  'contract_rate': 1.23076,\n",
       "  'buy_amount': 4923040,\n",
       "  'sell_amnount': -4000000},\n",
       " 'ADIR3702': {'entity': 'ADIR',\n",
       "  'counterparty': 'UBS',\n",
       "  'curr_pair': 'EURUSD',\n",
       "  'buy_curr': 'USD',\n",
       "  'sell_curr': 'EUR',\n",
       "  'trade_date': datetime.datetime(2012, 7, 31, 0, 0),\n",
       "  'delivery_date': datetime.datetime(2012, 9, 26, 0, 0),\n",
       "  'contract_rate': 1.231283,\n",
       "  'buy_amount': 6772056,\n",
       "  'sell_amnount': -5500000},\n",
       " 'ADIR3701': {'entity': 'ADIR',\n",
       "  'counterparty': 'CITI',\n",
       "  'curr_pair': 'USDJPY',\n",
       "  'buy_curr': 'USD',\n",
       "  'sell_curr': 'JPY',\n",
       "  'trade_date': datetime.datetime(2012, 7, 26, 0, 0),\n",
       "  'delivery_date': datetime.datetime(2012, 9, 26, 0, 0),\n",
       "  'contract_rate': 78.2367,\n",
       "  'buy_amount': 3834518,\n",
       "  'sell_amnount': -300000000},\n",
       " 'ADIR3700': {'entity': 'ADIR',\n",
       "  'counterparty': 'CITI',\n",
       "  'curr_pair': 'GBPUSD',\n",
       "  'buy_curr': 'USD',\n",
       "  'sell_curr': 'GBP',\n",
       "  'trade_date': datetime.datetime(2012, 7, 26, 0, 0),\n",
       "  'delivery_date': datetime.datetime(2012, 9, 26, 0, 0),\n",
       "  'contract_rate': 1.568824,\n",
       "  'buy_amount': 7059708,\n",
       "  'sell_amnount': -4500000},\n",
       " 'ADIR3698': {'entity': 'ADIR',\n",
       "  'counterparty': 'BOA',\n",
       "  'curr_pair': 'AUDUSD',\n",
       "  'buy_curr': 'USD',\n",
       "  'sell_curr': 'AUD',\n",
       "  'trade_date': datetime.datetime(2012, 7, 26, 0, 0),\n",
       "  'delivery_date': datetime.datetime(2012, 9, 26, 0, 0),\n",
       "  'contract_rate': 1.034292,\n",
       "  'buy_amount': 8274336,\n",
       "  'sell_amnount': -8000000},\n",
       " 'ADIR3699': {'entity': 'ADIR',\n",
       "  'counterparty': 'UBS',\n",
       "  'curr_pair': 'EURUSD',\n",
       "  'buy_curr': 'USD',\n",
       "  'sell_curr': 'EUR',\n",
       "  'trade_date': datetime.datetime(2012, 7, 26, 0, 0),\n",
       "  'delivery_date': datetime.datetime(2012, 9, 26, 0, 0),\n",
       "  'contract_rate': 1.229099,\n",
       "  'buy_amount': 8603693,\n",
       "  'sell_amnount': -7000000},\n",
       " 'ADIR3697': {'entity': 'ADIR',\n",
       "  'counterparty': 'BOA',\n",
       "  'curr_pair': 'AUDUSD',\n",
       "  'buy_curr': 'USD',\n",
       "  'sell_curr': 'AUD',\n",
       "  'trade_date': datetime.datetime(2012, 7, 25, 0, 0),\n",
       "  'delivery_date': datetime.datetime(2012, 9, 26, 0, 0),\n",
       "  'contract_rate': 1.023726,\n",
       "  'buy_amount': 1637962,\n",
       "  'sell_amnount': -1600000},\n",
       " 'ADIR3696': {'entity': 'ADIR',\n",
       "  'counterparty': 'BOA',\n",
       "  'curr_pair': 'USDJPY',\n",
       "  'buy_curr': 'USD',\n",
       "  'sell_curr': 'JPY',\n",
       "  'trade_date': datetime.datetime(2012, 7, 24, 0, 0),\n",
       "  'delivery_date': datetime.datetime(2012, 9, 26, 0, 0),\n",
       "  'contract_rate': 78.1176,\n",
       "  'buy_amount': 5120485,\n",
       "  'sell_amnount': -400000000},\n",
       " 'ADIR3694': {'entity': 'ADIR',\n",
       "  'counterparty': 'BOA',\n",
       "  'curr_pair': 'GBPUSD',\n",
       "  'buy_curr': 'USD',\n",
       "  'sell_curr': 'GBP',\n",
       "  'trade_date': datetime.datetime(2012, 7, 23, 0, 0),\n",
       "  'delivery_date': datetime.datetime(2012, 9, 26, 0, 0),\n",
       "  'contract_rate': 1.551328,\n",
       "  'buy_amount': 2326992,\n",
       "  'sell_amnount': -1500000},\n",
       " 'ADIR3693': {'entity': 'ADIR',\n",
       "  'counterparty': 'CITI',\n",
       "  'curr_pair': 'AUDUSD',\n",
       "  'buy_curr': 'USD',\n",
       "  'sell_curr': 'AUD',\n",
       "  'trade_date': datetime.datetime(2012, 7, 19, 0, 0),\n",
       "  'delivery_date': datetime.datetime(2012, 9, 12, 0, 0),\n",
       "  'contract_rate': 1.037835,\n",
       "  'buy_amount': 2075670,\n",
       "  'sell_amnount': -2000000},\n",
       " 'ADUS802': {'entity': 'ADUS',\n",
       "  'counterparty': 'GS',\n",
       "  'curr_pair': 'USDCAD',\n",
       "  'buy_curr': 'CAD',\n",
       "  'sell_curr': 'USD',\n",
       "  'trade_date': datetime.datetime(2012, 7, 17, 0, 0),\n",
       "  'delivery_date': datetime.datetime(2012, 9, 13, 0, 0),\n",
       "  'contract_rate': 1.014444,\n",
       "  'buy_amount': 7000000,\n",
       "  'sell_amnount': -6900332},\n",
       " 'ADUS799': {'entity': 'ADUS',\n",
       "  'counterparty': 'CITI',\n",
       "  'curr_pair': 'EURUSD',\n",
       "  'buy_curr': 'EUR',\n",
       "  'sell_curr': 'USD',\n",
       "  'trade_date': datetime.datetime(2012, 7, 17, 0, 0),\n",
       "  'delivery_date': datetime.datetime(2012, 10, 11, 0, 0),\n",
       "  'contract_rate': 1.228709,\n",
       "  'buy_amount': 7000000,\n",
       "  'sell_amnount': -8600963},\n",
       " 'ADIR3687': {'entity': 'ADIR',\n",
       "  'counterparty': 'GS',\n",
       "  'curr_pair': 'GBPUSD',\n",
       "  'buy_curr': 'USD',\n",
       "  'sell_curr': 'GBP',\n",
       "  'trade_date': datetime.datetime(2012, 7, 16, 0, 0),\n",
       "  'delivery_date': datetime.datetime(2012, 9, 12, 0, 0),\n",
       "  'contract_rate': 1.562082,\n",
       "  'buy_amount': 2343123,\n",
       "  'sell_amnount': -1500000},\n",
       " 'ADIR3686': {'entity': 'ADIR',\n",
       "  'counterparty': 'BOA',\n",
       "  'curr_pair': 'EURUSD',\n",
       "  'buy_curr': 'USD',\n",
       "  'sell_curr': 'EUR',\n",
       "  'trade_date': datetime.datetime(2012, 7, 16, 0, 0),\n",
       "  'delivery_date': datetime.datetime(2012, 9, 12, 0, 0),\n",
       "  'contract_rate': 1.226307,\n",
       "  'buy_amount': 6131535,\n",
       "  'sell_amnount': -5000000},\n",
       " 'ADIR3685': {'entity': 'ADIR',\n",
       "  'counterparty': 'CITI',\n",
       "  'curr_pair': 'AUDUSD',\n",
       "  'buy_curr': 'USD',\n",
       "  'sell_curr': 'AUD',\n",
       "  'trade_date': datetime.datetime(2012, 7, 12, 0, 0),\n",
       "  'delivery_date': datetime.datetime(2012, 9, 12, 0, 0),\n",
       "  'contract_rate': 1.008853,\n",
       "  'buy_amount': 5044265,\n",
       "  'sell_amnount': -5000000},\n",
       " 'ADIR3683': {'entity': 'ADIR',\n",
       "  'counterparty': 'CITI',\n",
       "  'curr_pair': 'EURUSD',\n",
       "  'buy_curr': 'USD',\n",
       "  'sell_curr': 'EUR',\n",
       "  'trade_date': datetime.datetime(2012, 7, 12, 0, 0),\n",
       "  'delivery_date': datetime.datetime(2012, 9, 12, 0, 0),\n",
       "  'contract_rate': 1.220399,\n",
       "  'buy_amount': 3661197,\n",
       "  'sell_amnount': -3000000},\n",
       " 'AILP472': {'entity': 'AILP',\n",
       "  'counterparty': 'CITI',\n",
       "  'curr_pair': 'USDRON',\n",
       "  'buy_curr': 'USD',\n",
       "  'sell_curr': 'RON',\n",
       "  'trade_date': datetime.datetime(2012, 7, 11, 0, 0),\n",
       "  'delivery_date': datetime.datetime(2012, 10, 19, 0, 0),\n",
       "  'contract_rate': 3.7327,\n",
       "  'buy_amount': 4554344,\n",
       "  'sell_amnount': -17000000},\n",
       " 'ADIR3678': {'entity': 'ADIR',\n",
       "  'counterparty': 'CITI',\n",
       "  'curr_pair': 'USDSGD',\n",
       "  'buy_curr': 'USD',\n",
       "  'sell_curr': 'SGD',\n",
       "  'trade_date': datetime.datetime(2012, 7, 10, 0, 0),\n",
       "  'delivery_date': datetime.datetime(2012, 9, 14, 0, 0),\n",
       "  'contract_rate': 1.266689,\n",
       "  'buy_amount': 2763109,\n",
       "  'sell_amnount': -3500000},\n",
       " 'ADIR3677': {'entity': 'ADIR',\n",
       "  'counterparty': 'BOA',\n",
       "  'curr_pair': 'AUDUSD',\n",
       "  'buy_curr': 'USD',\n",
       "  'sell_curr': 'AUD',\n",
       "  'trade_date': datetime.datetime(2012, 7, 10, 0, 0),\n",
       "  'delivery_date': datetime.datetime(2012, 9, 12, 0, 0),\n",
       "  'contract_rate': 1.014912,\n",
       "  'buy_amount': 1522368,\n",
       "  'sell_amnount': -1500000},\n",
       " 'AILP469': {'entity': 'AILP',\n",
       "  'counterparty': 'CITI',\n",
       "  'curr_pair': 'USDILS',\n",
       "  'buy_curr': 'ILS',\n",
       "  'sell_curr': 'USD',\n",
       "  'trade_date': datetime.datetime(2012, 6, 20, 0, 0),\n",
       "  'delivery_date': datetime.datetime(2012, 9, 21, 0, 0),\n",
       "  'contract_rate': 3.876038,\n",
       "  'buy_amount': 7000000,\n",
       "  'sell_amnount': -1805968},\n",
       " 'ADIR3551': {'entity': 'ADIR',\n",
       "  'counterparty': 'JPM',\n",
       "  'curr_pair': 'EURUSD',\n",
       "  'buy_curr': 'USD',\n",
       "  'sell_curr': 'EUR',\n",
       "  'trade_date': datetime.datetime(2012, 3, 20, 0, 0),\n",
       "  'delivery_date': datetime.datetime(2012, 10, 12, 0, 0),\n",
       "  'contract_rate': 1.324263,\n",
       "  'buy_amount': 177980947,\n",
       "  'sell_amnount': -134400000},\n",
       " 'NDBV169': {'entity': 'NDBV',\n",
       "  'counterparty': 'BOA',\n",
       "  'curr_pair': 'EURKRW',\n",
       "  'buy_curr': 'EUR',\n",
       "  'sell_curr': 'KRW',\n",
       "  'trade_date': datetime.datetime(1930, 3, 13, 0, 0),\n",
       "  'delivery_date': datetime.datetime(2020, 3, 17, 0, 0),\n",
       "  'contract_rate': 1371.7,\n",
       "  'buy_amount': 2267165.77,\n",
       "  'sell_amnount': -3109871282}}"
      ]
     },
     "execution_count": 56,
     "metadata": {},
     "output_type": "execute_result"
    }
   ],
   "source": [
    "# we will get to what this means later!!!\n",
    "import pickle\n",
    "\n",
    "with open(\"../data/forwards_some.p\", \"rb\" ) as f:\n",
    "    forwards_dict = pickle.load(f)\n",
    "    \n",
    "forwards_dict"
   ]
  },
  {
   "cell_type": "markdown",
   "metadata": {},
   "source": [
    "###### Note: In a Jupyter Notebook, the print() statement for a dictionary is less clear than just having the notebook print without the print statement."
   ]
  },
  {
   "cell_type": "markdown",
   "metadata": {},
   "source": [
    "### 1. Create a list of the trade ticked IDs (the keys) from the dictionary.\n",
    "\n",
    "NOTE: Since the trade_IDs are the dictionary keys, they are already unique. Remember dictionary keys have to be different or python will overwrite the key with the last value entered for the same key. (That was terribly explained, but see the example above where we merged a dictionary.)"
   ]
  },
  {
   "cell_type": "code",
   "execution_count": 57,
   "metadata": {},
   "outputs": [
    {
     "data": {
      "text/plain": [
       "['ADIR3725',\n",
       " 'ADUS813',\n",
       " 'ADIR3723',\n",
       " 'ADIR3719',\n",
       " 'ADUS810',\n",
       " 'ADIR3717',\n",
       " 'ADIR3715',\n",
       " 'ADUS808',\n",
       " 'ADIR3709',\n",
       " 'ADIR3708',\n",
       " 'ADIR3707',\n",
       " 'ADUS807',\n",
       " 'ADIR3705',\n",
       " 'ADIR3704',\n",
       " 'ADIR3703',\n",
       " 'ADIR3702',\n",
       " 'ADIR3701',\n",
       " 'ADIR3700',\n",
       " 'ADIR3698',\n",
       " 'ADIR3699',\n",
       " 'ADIR3697',\n",
       " 'ADIR3696',\n",
       " 'ADIR3694',\n",
       " 'ADIR3693',\n",
       " 'ADUS802',\n",
       " 'ADUS799',\n",
       " 'ADIR3687',\n",
       " 'ADIR3686',\n",
       " 'ADIR3685',\n",
       " 'ADIR3683',\n",
       " 'AILP472',\n",
       " 'ADIR3678',\n",
       " 'ADIR3677',\n",
       " 'AILP469',\n",
       " 'ADIR3551',\n",
       " 'NDBV169']"
      ]
     },
     "execution_count": 57,
     "metadata": {},
     "output_type": "execute_result"
    }
   ],
   "source": [
    "unique_trades = list(forwards_dict)\n",
    "unique_trades"
   ]
  },
  {
   "cell_type": "markdown",
   "metadata": {},
   "source": [
    "## 2. Determine the counterparty for ADIR3699."
   ]
  },
  {
   "cell_type": "code",
   "execution_count": 58,
   "metadata": {},
   "outputs": [
    {
     "data": {
      "text/plain": [
       "{'entity': 'ADIR',\n",
       " 'counterparty': 'UBS',\n",
       " 'curr_pair': 'EURUSD',\n",
       " 'buy_curr': 'USD',\n",
       " 'sell_curr': 'EUR',\n",
       " 'trade_date': datetime.datetime(2012, 7, 26, 0, 0),\n",
       " 'delivery_date': datetime.datetime(2012, 9, 26, 0, 0),\n",
       " 'contract_rate': 1.229099,\n",
       " 'buy_amount': 8603693,\n",
       " 'sell_amnount': -7000000}"
      ]
     },
     "execution_count": 58,
     "metadata": {},
     "output_type": "execute_result"
    }
   ],
   "source": [
    "forwards_dict['ADIR3699']"
   ]
  },
  {
   "cell_type": "code",
   "execution_count": 59,
   "metadata": {},
   "outputs": [
    {
     "data": {
      "text/plain": [
       "'UBS'"
      ]
     },
     "execution_count": 59,
     "metadata": {},
     "output_type": "execute_result"
    }
   ],
   "source": [
    "this_counterparty = forwards_dict['ADIR3699']['counterparty']\n",
    "this_counterparty"
   ]
  },
  {
   "cell_type": "markdown",
   "metadata": {},
   "source": [
    "## 3. Create a list of the unique Counterparties (values) from the dictionary."
   ]
  },
  {
   "cell_type": "code",
   "execution_count": 60,
   "metadata": {},
   "outputs": [
    {
     "name": "stdout",
     "output_type": "stream",
     "text": [
      "This one is already on the list\n",
      "This one is already on the list\n",
      "This one is already on the list\n",
      "This one is already on the list\n",
      "This one is already on the list\n",
      "This one is already on the list\n",
      "This one is already on the list\n",
      "This one is already on the list\n",
      "This one is already on the list\n",
      "This one is already on the list\n",
      "This one is already on the list\n",
      "This one is already on the list\n",
      "This one is already on the list\n",
      "This one is already on the list\n",
      "This one is already on the list\n",
      "This one is already on the list\n",
      "This one is already on the list\n",
      "This one is already on the list\n",
      "This one is already on the list\n",
      "This one is already on the list\n",
      "This one is already on the list\n",
      "This one is already on the list\n",
      "This one is already on the list\n",
      "This one is already on the list\n",
      "This one is already on the list\n",
      "This one is already on the list\n",
      "This one is already on the list\n",
      "This one is already on the list\n",
      "This one is already on the list\n",
      "This one is already on the list\n",
      "['RBS', 'CITI', 'GS', 'UBS', 'BOA', 'JPM']\n"
     ]
    }
   ],
   "source": [
    "list_counterparties = []\n",
    "for value in forwards_dict.values():\n",
    "    if value['counterparty'] in list_counterparties:\n",
    "        print('This one is already on the list')\n",
    "    else:\n",
    "        list_counterparties.append(value['counterparty'])\n",
    "\n",
    "print(list_counterparties)"
   ]
  },
  {
   "cell_type": "markdown",
   "metadata": {},
   "source": [
    "#### 4. What else do you guys want to try????"
   ]
  },
  {
   "cell_type": "code",
   "execution_count": null,
   "metadata": {},
   "outputs": [],
   "source": []
  },
  {
   "cell_type": "code",
   "execution_count": null,
   "metadata": {},
   "outputs": [],
   "source": []
  },
  {
   "cell_type": "markdown",
   "metadata": {},
   "source": [
    "## II. Tuples\n",
    "A tuple is a collection which is ordered and unchangeable. They are useful if you have pairs of data that will not change. (Putting it into a tuple will make sure it does not change.) They are basically lists, that once created, cannot be changed without reassignment.\n",
    "\n",
    "##### Creating a tuple\n",
    "In Python tuples are written with round brackets ( ). "
   ]
  },
  {
   "cell_type": "code",
   "execution_count": 61,
   "metadata": {},
   "outputs": [
    {
     "name": "stdout",
     "output_type": "stream",
     "text": [
      "<class 'tuple'>\n"
     ]
    },
    {
     "data": {
      "text/plain": [
       "('John', 'Doe', '99 W. Elm Street', 'Springfield', 'OR', '555-555-5555')"
      ]
     },
     "execution_count": 61,
     "metadata": {},
     "output_type": "execute_result"
    }
   ],
   "source": [
    "my_tuple = ('John', 'Doe', '99 W. Elm Street', 'Springfield', 'OR', '555-555-5555')\n",
    "print(type(my_tuple))\n",
    "my_tuple"
   ]
  },
  {
   "cell_type": "markdown",
   "metadata": {},
   "source": [
    "##### The following things to do with a tuple are identical with lists"
   ]
  },
  {
   "cell_type": "code",
   "execution_count": 62,
   "metadata": {},
   "outputs": [
    {
     "data": {
      "text/plain": [
       "'Doe'"
      ]
     },
     "execution_count": 62,
     "metadata": {},
     "output_type": "execute_result"
    }
   ],
   "source": [
    "# indexing\n",
    "my_tuple[1]"
   ]
  },
  {
   "cell_type": "code",
   "execution_count": 63,
   "metadata": {},
   "outputs": [
    {
     "name": "stdout",
     "output_type": "stream",
     "text": [
      "('99 W. Elm Street', 'Springfield')\n",
      "('John', 'Doe', '99 W. Elm Street')\n",
      "('OR', '555-555-5555')\n"
     ]
    }
   ],
   "source": [
    "# selecting multiple items\n",
    "print(my_tuple[2:4])\n",
    "print(my_tuple[:3])\n",
    "print(my_tuple[4:])"
   ]
  },
  {
   "cell_type": "code",
   "execution_count": 64,
   "metadata": {},
   "outputs": [
    {
     "data": {
      "text/plain": [
       "False"
      ]
     },
     "execution_count": 64,
     "metadata": {},
     "output_type": "execute_result"
    }
   ],
   "source": [
    "# membership\n",
    "'cheeseburger' in my_tuple"
   ]
  },
  {
   "cell_type": "code",
   "execution_count": 65,
   "metadata": {},
   "outputs": [
    {
     "data": {
      "text/plain": [
       "True"
      ]
     },
     "execution_count": 65,
     "metadata": {},
     "output_type": "execute_result"
    }
   ],
   "source": [
    "'John' in my_tuple"
   ]
  },
  {
   "cell_type": "markdown",
   "metadata": {},
   "source": [
    "##### Since tuples are immutable (cannot be changes) you cannot add items to a tuple once created. You must convert it to a list and then reassign the list to be a new tuple.\n",
    "\n",
    "So why would we use these? If you have bank account information that will not change (routing numbers, swift numbers, account numbers, etc.) putting the data into a tuple protects it from being changed or overwritten.\n",
    "\n",
    "We will not be using tuples very often (at least I do not currently find reasons to use them) but I wanted to present them here since they are a key datatype. \n",
    "\n",
    "For example, above when we used lunch_dict.items() above, it returned a tuple. You just may see these datatypes, so it is important to know how to get information out of them and how to create them if you need to feed them into a function."
   ]
  },
  {
   "cell_type": "markdown",
   "metadata": {},
   "source": [
    "## III. PICKLE \n",
    "\n",
    "When you pickle something in real life, you are somewhat preserving that thing. (I don't really know if a pickle tastes like a cucumber after it has been pickled, but I think that is the reason python's module that saves variables to a file is called pickle.)\n",
    "\n",
    "#### Pickle in a module!\n",
    "What does that mean? Well it means that base python does not contain the programs that allow for pickle. You need to add them by importing the library. This is very similar to adding new features to excel, like the analysis toolkit. When you first install excel, this is not available and you have to import the functionality into excel to run it. Same here with python.\n",
    "\n",
    "The commend to import pickle is ..... wait for it ...... <b>'import pickle'</b>"
   ]
  },
  {
   "cell_type": "code",
   "execution_count": null,
   "metadata": {},
   "outputs": [],
   "source": [
    "import pickle"
   ]
  },
  {
   "cell_type": "markdown",
   "metadata": {},
   "source": [
    "### Saving a variable in a pickle file\n",
    "There is one line to dumping a variable to a pickle file. You will use this often, but not often enough to remember it without looking it up. I usually search 'python pickle save' and reference the same web page everytime to get this command. \n",
    "\n",
    "##### 'wb' stands for \"write\" and is called with the pickle.dump() method\n",
    "the command below saves the variable my_tuple in the file save.p"
   ]
  },
  {
   "cell_type": "code",
   "execution_count": 66,
   "metadata": {},
   "outputs": [],
   "source": [
    "pickle.dump( my_tuple, open( \"save.p\", \"wb\" ) )"
   ]
  },
  {
   "cell_type": "markdown",
   "metadata": {},
   "source": [
    "### Loading a pickle file\n",
    "To load a pickle file, you type the new variable name you want the file to be loaded into and have the pickle file load into this variable. \n",
    "\n",
    "##### 'rb' stands for \"read\" and is called with the pickle.load() method\n"
   ]
  },
  {
   "cell_type": "code",
   "execution_count": 67,
   "metadata": {},
   "outputs": [],
   "source": [
    "new_variable = pickle.load( open( \"save.p\", \"rb\" ) )"
   ]
  },
  {
   "cell_type": "markdown",
   "metadata": {},
   "source": [
    "### NOTE ABOUT FILES\n",
    "When you run pickle in python, the file stays open. This can be a problem because it takes up your memory. There are two ways to make sure the file is closed, one is very clear what is happening and one may be less clear. Please use whichever one makes you most comfortable."
   ]
  },
  {
   "cell_type": "markdown",
   "metadata": {},
   "source": [
    "###### Saving by creating a file object f, using the dump() method and then closing f.\n",
    "Notes:\n",
    "1. The open function takes two inputs, the filename and if you are reading or writing\n",
    "2. The pickle dump method takes two inputs, the variable to be saved and the file object (created above)"
   ]
  },
  {
   "cell_type": "code",
   "execution_count": 69,
   "metadata": {},
   "outputs": [],
   "source": [
    "f = open('filename.p', 'wb')\n",
    "pickle.dump(variable_name, f)\n",
    "f.close()"
   ]
  },
  {
   "cell_type": "markdown",
   "metadata": {},
   "source": [
    "###### Loading by creating a file object f, using the load() method and then closing f.\n",
    "Note:\n",
    "1. The open finction takes two inputs, the filename and if you are reading or writing.\n",
    "2. The variable name gets assigned by the pickle load method, which only takes the file object as an input."
   ]
  },
  {
   "cell_type": "code",
   "execution_count": null,
   "metadata": {},
   "outputs": [],
   "source": [
    "f = open('filename.p', 'rb')\n",
    "variable_name = pickle.load(f)\n",
    "f.close()"
   ]
  },
  {
   "cell_type": "markdown",
   "metadata": {},
   "source": [
    "# Using with\n",
    "An easier way to do this, although the syntax may be confusing, is to use a with statement.\n",
    "This will only keep the file open until the indented commands are completed. This is just like iterating over a range object or doing a loop.\n",
    "\n",
    "##### Saving a variable"
   ]
  },
  {
   "cell_type": "code",
   "execution_count": null,
   "metadata": {},
   "outputs": [],
   "source": [
    "with open(\"filename.p\", \"wb\") as f:\n",
    "    pickle.dump(variable_name, f)"
   ]
  },
  {
   "cell_type": "markdown",
   "metadata": {},
   "source": [
    "##### Loading a pickle file into a variable"
   ]
  },
  {
   "cell_type": "code",
   "execution_count": null,
   "metadata": {},
   "outputs": [],
   "source": [
    "with open(\"filename.p\", \"rb\") as f:\n",
    "    variable_name = pickle.load(f)"
   ]
  },
  {
   "cell_type": "markdown",
   "metadata": {},
   "source": [
    "#### Since pickle files only dump one variable and not the entire set of what is in the kernal, dictionaries are usually passed to a pickle file because they can contain so much data."
   ]
  },
  {
   "cell_type": "markdown",
   "metadata": {},
   "source": [
    "# <font color = 'blue'>By now you should be able to do the following</font>\n",
    " ##### Dictionary Basics\n",
    " - create a dictionary\n",
    "     -using {} and explicitly typing key, value pairs\n",
    "     -using dict() and keys as variable names (no quotes on the keys)\n",
    "     -using dict(zip(list1, list2))\n",
    " - access values in a dictionary for a specific key\n",
    " - add to a dictionary (add new key, value pairs)\n",
    " - change a value in a dictionary\n",
    " - check for membership in a dictionary using 'in' or 'not in'\n",
    " - remove items from a dictionary\n",
    " - create a list of the keys of a dicitonary\n",
    " - create a list of the values in a dictionary\n",
    " - copy a dictionary\n",
    " - merge a dictionary\n",
    "     - using .update() method\n",
    "     - using dict{**dict_1, **dict_2}\n",
    " - clear a dictionary\n",
    " \n",
    "##### Dictionaries with lists as values\n",
    " - assing new values to the list for a given key\n",
    " - access all or some of the values for a given key\n",
    "\n",
    "\n",
    "##### Nested dictionaries\n",
    " - access values in a nested dictionary\n",
    "\n",
    "#### Know what a tuple and how the methods are very similar to lists\n",
    "\n",
    "#### Know the basics of pickling variable\n",
    " "
   ]
  },
  {
   "cell_type": "code",
   "execution_count": null,
   "metadata": {},
   "outputs": [],
   "source": []
  }
 ],
 "metadata": {
  "kernelspec": {
   "display_name": "Python 3.7.3 64-bit ('base': conda)",
   "language": "python",
   "name": "python37364bitbasecondaf40c37e8e9dd45c89e043b248b661bde"
  },
  "language_info": {
   "codemirror_mode": {
    "name": "ipython",
    "version": 3
   },
   "file_extension": ".py",
   "mimetype": "text/x-python",
   "name": "python",
   "nbconvert_exporter": "python",
   "pygments_lexer": "ipython3",
   "version": "3.7.3"
  }
 },
 "nbformat": 4,
 "nbformat_minor": 2
}
