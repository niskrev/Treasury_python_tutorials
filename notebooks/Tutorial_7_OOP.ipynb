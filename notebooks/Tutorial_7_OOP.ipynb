{
 "cells": [
  {
   "cell_type": "markdown",
   "metadata": {},
   "source": [
    "# Object Oriented Code \n",
    "We have already been introduced to objects in python. Lists are objects, strings are objects, dataframes are objects and almost everything in python is a object. So what is that exactly? \n",
    "\n",
    "In this tutorial, we will start with a basic description of an object and explain in a little more detail attributes (properties) and methods (object specific functions). We will learn how to create an object, how to assign properties to an object and how to create methods for an object.\n",
    "\n",
    "We will start with a basic, easy to understand example and then build examples more relevant to Treasury. \n",
    "\n",
    "Structuring similar data in classes is called 'Object-Oriented Programming' (OOP). It is just a way to group observations from your data into categories based on how similar they are and what you will need to do with them in a program. It is really not more complicated than that."
   ]
  },
  {
   "cell_type": "code",
   "execution_count": 32,
   "metadata": {},
   "outputs": [],
   "source": [
    "import numpy as np\n",
    "import pandas as pd\n",
    "import matplotlib.pyplot as plt\n",
    "%matplotlib inline"
   ]
  },
  {
   "cell_type": "markdown",
   "metadata": {},
   "source": [
    "___\n",
    "\n",
    "## I. Our First Class: A die (noun, not the verb)\n",
    "We will start with a simple class that is a die. The die will have two properties, the number of sides and it's color. It will also have one method (function specific to the die) called roll.\n",
    "\n",
    "Creating classes is a lot like creating functions. First we define the class (like we do when defining a function). However, there are several additional things we need to do for a class."
   ]
  },
  {
   "cell_type": "code",
   "execution_count": 3,
   "metadata": {},
   "outputs": [],
   "source": [
    "# Basic function definition\n",
    "def add_2_numbers(numb_a, numb_b):\n",
    "    return numb_a + numb_b"
   ]
  },
  {
   "cell_type": "code",
   "execution_count": 4,
   "metadata": {},
   "outputs": [
    {
     "name": "stdout",
     "output_type": "stream",
     "text": [
      "3\n"
     ]
    }
   ],
   "source": [
    "this_sum = add_2_numbers(1, 2)\n",
    "print(this_sum)"
   ]
  },
  {
   "cell_type": "markdown",
   "metadata": {},
   "source": [
    "All classes start with the word 'class' and a space and then the name of the class followed by a colon. (This is similar to a function that starts with 'def' and then has the name of the function followed by a colon.)ds\n",
    "\n",
    "The first part of a class definition is where the attributes (properties) of the class are assigned. This is done in a sub-function called '__init__' and is called a <b> constructor</b>.\n"
   ]
  },
  {
   "cell_type": "code",
   "execution_count": 19,
   "metadata": {},
   "outputs": [],
   "source": [
    "class Die:\n",
    "    ''' Below the properties of the die (or placeholder's for them) are assigned.\n",
    "    The 'self' as an input to the __init__ function means that it is passing\n",
    "    itself to the function so that we can assign the properties to itself, \n",
    "    to be referenced later\n",
    "    '''\n",
    "    # constructor\n",
    "    def __init__(self):\n",
    "        self.color = 'red' \n",
    "        self.num_sides = 6\n",
    "        "
   ]
  },
  {
   "cell_type": "markdown",
   "metadata": {},
   "source": [
    "Now let's create an instance of this class ('instantiate') the class. We will call it my_die"
   ]
  },
  {
   "cell_type": "code",
   "execution_count": 9,
   "metadata": {},
   "outputs": [],
   "source": [
    "my_die = Die()"
   ]
  },
  {
   "cell_type": "code",
   "execution_count": 16,
   "metadata": {},
   "outputs": [
    {
     "name": "stdout",
     "output_type": "stream",
     "text": [
      "<__main__.Die object at 0x7fc9fb0759b0>\n"
     ]
    }
   ],
   "source": [
    "print(my_die)"
   ]
  },
  {
   "cell_type": "markdown",
   "metadata": {},
   "source": [
    "So this is just telling us that my_die is an object. To access the properties of the die, we use the same format as we would for a dataframe or an np.array or any object in python."
   ]
  },
  {
   "cell_type": "code",
   "execution_count": 17,
   "metadata": {},
   "outputs": [
    {
     "data": {
      "text/plain": [
       "'red'"
      ]
     },
     "execution_count": 17,
     "metadata": {},
     "output_type": "execute_result"
    }
   ],
   "source": [
    "my_die.color"
   ]
  },
  {
   "cell_type": "code",
   "execution_count": 18,
   "metadata": {},
   "outputs": [
    {
     "data": {
      "text/plain": [
       "6"
      ]
     },
     "execution_count": 18,
     "metadata": {},
     "output_type": "execute_result"
    }
   ],
   "source": [
    "my_die.num_sides"
   ]
  },
  {
   "cell_type": "markdown",
   "metadata": {},
   "source": [
    "### We now have a variable 'my_die' that is a die. It has a color and a number of sides as properties.\n",
    "\n",
    "##### Let's allow for the properties to be assigned rather than always the same. \n",
    "To do this, we just need to put input variables into the constructor function (__init__). Below we are redefining our class to include inputs to the constructor."
   ]
  },
  {
   "cell_type": "code",
   "execution_count": 28,
   "metadata": {},
   "outputs": [],
   "source": [
    "class Die:\n",
    "    ''' Below the properties of the die (or placeholder's for them) are assigned.\n",
    "    The 'self' as an input to the __init__ function means that it is passing\n",
    "    itself to the function so that we can assign the properties to itself, \n",
    "    to be referenced later\n",
    "    '''\n",
    "    # constructor\n",
    "    def __init__(self, color = 'red', num_sides = 6):\n",
    "        self.color = color \n",
    "        self.num_sides = num_sides\n",
    "        "
   ]
  },
  {
   "cell_type": "code",
   "execution_count": 29,
   "metadata": {},
   "outputs": [
    {
     "name": "stdout",
     "output_type": "stream",
     "text": [
      "This is the default die color:  red\n",
      "This is the default die number of sides:  6\n"
     ]
    }
   ],
   "source": [
    "# creating a die with no inputs (so all defaults)\n",
    "die_default = Die()\n",
    "print('This is the default die color: ',die_default.color)\n",
    "print('This is the default die number of sides: ', die_default.num_sides)"
   ]
  },
  {
   "cell_type": "code",
   "execution_count": 30,
   "metadata": {},
   "outputs": [
    {
     "name": "stdout",
     "output_type": "stream",
     "text": [
      "This is the die_new color:  green\n",
      "This is the number of sides:  4\n"
     ]
    }
   ],
   "source": [
    "# creating a die with specificly assigned color and numb_sides\n",
    "die_new = Die('green', 4)\n",
    "print('This is the die_new color: ', die_new.color)\n",
    "print('This is the number of sides: ', die_new.num_sides)"
   ]
  },
  {
   "cell_type": "markdown",
   "metadata": {},
   "source": [
    "### Creating Methods\n",
    "OK So we have created an object and we know how to assign it's properties. Lets build our first method."
   ]
  },
  {
   "cell_type": "code",
   "execution_count": 73,
   "metadata": {},
   "outputs": [],
   "source": [
    "class Die:\n",
    "    ''' Below the properties of the die (or placeholder's for them) are assigned.\n",
    "    The 'self' as an input to the __init__ function means that it is passing\n",
    "    itself to the function so that we can assign the properties to itself, \n",
    "    to be referenced later\n",
    "    '''\n",
    "    # constructor\n",
    "    def __init__(self, color = 'red', num_sides = 6):\n",
    "        self.color = color \n",
    "        self.num_sides = num_sides\n",
    "        \n",
    "    def roll(self):\n",
    "        this_roll = np.random.randint(1, self.num_sides+1)\n",
    "        print('You rolled a ', this_roll)\n",
    "        return this_roll\n",
    "        "
   ]
  },
  {
   "cell_type": "code",
   "execution_count": 74,
   "metadata": {},
   "outputs": [
    {
     "data": {
      "text/plain": [
       "4"
      ]
     },
     "execution_count": 74,
     "metadata": {},
     "output_type": "execute_result"
    }
   ],
   "source": [
    "die_new = Die('green', 4)\n",
    "die_new.num_sides"
   ]
  },
  {
   "cell_type": "code",
   "execution_count": 80,
   "metadata": {},
   "outputs": [
    {
     "name": "stdout",
     "output_type": "stream",
     "text": [
      "You rolled a  2\n"
     ]
    },
    {
     "data": {
      "text/plain": [
       "2"
      ]
     },
     "execution_count": 80,
     "metadata": {},
     "output_type": "execute_result"
    }
   ],
   "source": [
    "die_new.roll()"
   ]
  },
  {
   "cell_type": "code",
   "execution_count": null,
   "metadata": {},
   "outputs": [],
   "source": []
  }
 ],
 "metadata": {
  "kernelspec": {
   "display_name": "Python 3.7.3 64-bit ('base': conda)",
   "language": "python",
   "name": "python37364bitbasecondaf40c37e8e9dd45c89e043b248b661bde"
  },
  "language_info": {
   "codemirror_mode": {
    "name": "ipython",
    "version": 3
   },
   "file_extension": ".py",
   "mimetype": "text/x-python",
   "name": "python",
   "nbconvert_exporter": "python",
   "pygments_lexer": "ipython3",
   "version": "3.7.3"
  }
 },
 "nbformat": 4,
 "nbformat_minor": 2
}
