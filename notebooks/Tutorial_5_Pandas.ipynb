{
 "cells": [
  {
   "cell_type": "markdown",
   "metadata": {},
   "source": [
    "# Pandas Tutorial\n",
    "\n",
    "Pandas is named stands for 'panel data analysis'. Panel data is data that includes multiple variables about individuals over time (so a combination of cross sectional data and time series data). For example, medical studies where a myriad patient's health statistics are stored over time for thousands of patients.\n",
    "\n",
    "If you continue using python for projects at work, you will love pandas and use it more frequently than you use Excel. It is extermely powerful and easy to use (now that you have the other tutorials under your belts.)\n",
    "\n",
    "Numpy's main object is arrays and pandas brings these arrays (or series as they are called in pandas) into an an object called a dataframe. A dataframe is very similar to an excel spreadsheet, but the rows and columns are on steroids allowing for more flexibility and power than excel. (Extreme understatement!)\n",
    "\n",
    "So lets get started!\n",
    "\n",
    "### Import statement\n",
    "ALWAYS import pandas as pd"
   ]
  },
  {
   "cell_type": "code",
   "execution_count": 107,
   "metadata": {},
   "outputs": [],
   "source": [
    "import pandas as pd"
   ]
  },
  {
   "cell_type": "markdown",
   "metadata": {},
   "source": [
    "## 1. Creating dataframes\n",
    "\n",
    "As with anything in python, there are multiple ways to create a dataframe in pandas. I am only going to present two here.\n",
    "\n",
    "##### NOTE 1: Although you have the flexibility to use any variable names you want, the python standard is to use df for dataframe. If you have a program or function with only one dataframe, call it df. If you have a program that contains multiple dataframes, then call them df_billings, df_FX_rates, df_waterfall, df_derivatives, df_ex_girlfriends etc. Start the variable name with df_ to let the user know you are talking about a dataframe.\n",
    "\n",
    "##### NOTE 2: A note about my naming convention:\n",
    "In python classes are generally capitalized and all other variables <b> DO NOT </b> contain capitals. However, when there is a common abbreviation, I tend to use capital letters for the abbreviation. Some examples:\n",
    "\n",
    " - Foreign Exchange: FX\n",
    " - United Stated Dollar (equivalent): US\n",
    " - Document Currency: DC\n",
    " - Currency tickers: AUD, EUR, GBP, JPY, USD\n",
    " - Company code: ADIR, ADUS, AILP, etc.\n",
    " - Three month United States Treasury Yield: UST_3m\n",
    "\n",
    "\n",
    "##### NOTE: In practice 90% of the time we will load data into pandas from some other source and not create them directly, but you need a basic understanding of how to do this because you will need to create them from time to time."
   ]
  },
  {
   "cell_type": "markdown",
   "metadata": {},
   "source": [
    "## 1.1 Creating a dictionary from a ndarray"
   ]
  },
  {
   "cell_type": "code",
   "execution_count": 108,
   "metadata": {},
   "outputs": [],
   "source": [
    "import numpy as np"
   ]
  },
  {
   "cell_type": "code",
   "execution_count": 109,
   "metadata": {},
   "outputs": [
    {
     "data": {
      "text/plain": [
       "array([[9, 7, 7, 7, 9],\n",
       "       [9, 7, 7, 7, 2],\n",
       "       [9, 8, 0, 6, 6],\n",
       "       [4, 9, 0, 7, 1],\n",
       "       [9, 8, 2, 1, 5]])"
      ]
     },
     "execution_count": 109,
     "metadata": {},
     "output_type": "execute_result"
    }
   ],
   "source": [
    "data = np.random.randint(0, 10, size= (5,5))\n",
    "data"
   ]
  },
  {
   "cell_type": "code",
   "execution_count": 110,
   "metadata": {},
   "outputs": [
    {
     "data": {
      "text/html": [
       "<div>\n",
       "<style scoped>\n",
       "    .dataframe tbody tr th:only-of-type {\n",
       "        vertical-align: middle;\n",
       "    }\n",
       "\n",
       "    .dataframe tbody tr th {\n",
       "        vertical-align: top;\n",
       "    }\n",
       "\n",
       "    .dataframe thead th {\n",
       "        text-align: right;\n",
       "    }\n",
       "</style>\n",
       "<table border=\"1\" class=\"dataframe\">\n",
       "  <thead>\n",
       "    <tr style=\"text-align: right;\">\n",
       "      <th></th>\n",
       "      <th>A</th>\n",
       "      <th>B</th>\n",
       "      <th>C</th>\n",
       "      <th>D</th>\n",
       "      <th>E</th>\n",
       "    </tr>\n",
       "  </thead>\n",
       "  <tbody>\n",
       "    <tr>\n",
       "      <th>0</th>\n",
       "      <td>9</td>\n",
       "      <td>7</td>\n",
       "      <td>7</td>\n",
       "      <td>7</td>\n",
       "      <td>9</td>\n",
       "    </tr>\n",
       "    <tr>\n",
       "      <th>1</th>\n",
       "      <td>9</td>\n",
       "      <td>7</td>\n",
       "      <td>7</td>\n",
       "      <td>7</td>\n",
       "      <td>2</td>\n",
       "    </tr>\n",
       "    <tr>\n",
       "      <th>2</th>\n",
       "      <td>9</td>\n",
       "      <td>8</td>\n",
       "      <td>0</td>\n",
       "      <td>6</td>\n",
       "      <td>6</td>\n",
       "    </tr>\n",
       "    <tr>\n",
       "      <th>3</th>\n",
       "      <td>4</td>\n",
       "      <td>9</td>\n",
       "      <td>0</td>\n",
       "      <td>7</td>\n",
       "      <td>1</td>\n",
       "    </tr>\n",
       "    <tr>\n",
       "      <th>4</th>\n",
       "      <td>9</td>\n",
       "      <td>8</td>\n",
       "      <td>2</td>\n",
       "      <td>1</td>\n",
       "      <td>5</td>\n",
       "    </tr>\n",
       "  </tbody>\n",
       "</table>\n",
       "</div>"
      ],
      "text/plain": [
       "   A  B  C  D  E\n",
       "0  9  7  7  7  9\n",
       "1  9  7  7  7  2\n",
       "2  9  8  0  6  6\n",
       "3  4  9  0  7  1\n",
       "4  9  8  2  1  5"
      ]
     },
     "execution_count": 110,
     "metadata": {},
     "output_type": "execute_result"
    }
   ],
   "source": [
    "df = pd.DataFrame(data, columns=['A', 'B', 'C', 'D', 'E'])\n",
    "df"
   ]
  },
  {
   "cell_type": "markdown",
   "metadata": {},
   "source": [
    "The first column is called the index. It starts at zero and is similar to the row numbers in excel.\n",
    "\n",
    "The columns are labeled (in this case just like excel as letters.)"
   ]
  },
  {
   "cell_type": "markdown",
   "metadata": {},
   "source": [
    "## 1.2 Creating a dataframe from a dictionary of lists"
   ]
  },
  {
   "cell_type": "code",
   "execution_count": 111,
   "metadata": {},
   "outputs": [],
   "source": [
    "list_albums = ['Forever', 'Greatest Hits', 'Spice', 'Spiceworld']\n",
    "list_dates = ['11-01-2000', '11-07-2007 ', '11-04-1996', '11-03-1997']        \n",
    "ww_sales = [4000000, 1200000, 23000000, 13000000]\n",
    "with_Ginger = [False, True, True, True]\n",
    "US_certification = [np.nan, np.nan, '7x Platnum', '4x Platnum']"
   ]
  },
  {
   "cell_type": "code",
   "execution_count": 112,
   "metadata": {},
   "outputs": [
    {
     "data": {
      "text/plain": [
       "{'album': ['Forever', 'Greatest Hits', 'Spice', 'Spiceworld'],\n",
       " 'date': ['11-01-2000', '11-07-2007 ', '11-04-1996', '11-03-1997'],\n",
       " 'global_sales': [4000000, 1200000, 23000000, 13000000],\n",
       " 'Ginger?': [False, True, True, True],\n",
       " 'US_certification': [nan, nan, '7x Platnum', '4x Platnum']}"
      ]
     },
     "execution_count": 112,
     "metadata": {},
     "output_type": "execute_result"
    }
   ],
   "source": [
    "data_dict = {'album': list_albums,\n",
    "            'date': list_dates,\n",
    "            'global_sales': ww_sales,\n",
    "            'Ginger?': with_Ginger,\n",
    "            'US_certification': US_certification}\n",
    "data_dict"
   ]
  },
  {
   "cell_type": "code",
   "execution_count": 113,
   "metadata": {},
   "outputs": [
    {
     "data": {
      "text/html": [
       "<div>\n",
       "<style scoped>\n",
       "    .dataframe tbody tr th:only-of-type {\n",
       "        vertical-align: middle;\n",
       "    }\n",
       "\n",
       "    .dataframe tbody tr th {\n",
       "        vertical-align: top;\n",
       "    }\n",
       "\n",
       "    .dataframe thead th {\n",
       "        text-align: right;\n",
       "    }\n",
       "</style>\n",
       "<table border=\"1\" class=\"dataframe\">\n",
       "  <thead>\n",
       "    <tr style=\"text-align: right;\">\n",
       "      <th></th>\n",
       "      <th>album</th>\n",
       "      <th>date</th>\n",
       "      <th>global_sales</th>\n",
       "      <th>Ginger?</th>\n",
       "      <th>US_certification</th>\n",
       "    </tr>\n",
       "  </thead>\n",
       "  <tbody>\n",
       "    <tr>\n",
       "      <th>0</th>\n",
       "      <td>Forever</td>\n",
       "      <td>11-01-2000</td>\n",
       "      <td>4000000</td>\n",
       "      <td>False</td>\n",
       "      <td>NaN</td>\n",
       "    </tr>\n",
       "    <tr>\n",
       "      <th>1</th>\n",
       "      <td>Greatest Hits</td>\n",
       "      <td>11-07-2007</td>\n",
       "      <td>1200000</td>\n",
       "      <td>True</td>\n",
       "      <td>NaN</td>\n",
       "    </tr>\n",
       "    <tr>\n",
       "      <th>2</th>\n",
       "      <td>Spice</td>\n",
       "      <td>11-04-1996</td>\n",
       "      <td>23000000</td>\n",
       "      <td>True</td>\n",
       "      <td>7x Platnum</td>\n",
       "    </tr>\n",
       "    <tr>\n",
       "      <th>3</th>\n",
       "      <td>Spiceworld</td>\n",
       "      <td>11-03-1997</td>\n",
       "      <td>13000000</td>\n",
       "      <td>True</td>\n",
       "      <td>4x Platnum</td>\n",
       "    </tr>\n",
       "  </tbody>\n",
       "</table>\n",
       "</div>"
      ],
      "text/plain": [
       "           album         date  global_sales  Ginger? US_certification\n",
       "0        Forever   11-01-2000       4000000    False              NaN\n",
       "1  Greatest Hits  11-07-2007        1200000     True              NaN\n",
       "2          Spice   11-04-1996      23000000     True       7x Platnum\n",
       "3     Spiceworld   11-03-1997      13000000     True       4x Platnum"
      ]
     },
     "execution_count": 113,
     "metadata": {},
     "output_type": "execute_result"
    }
   ],
   "source": [
    "df_spice_girls = pd.DataFrame(data_dict)\n",
    "df_spice_girls"
   ]
  },
  {
   "cell_type": "markdown",
   "metadata": {},
   "source": [
    "## 2. Exploring your dataframe\n",
    "\n",
    "There are several methods that provide descriptive information about your dataframe that can be very helpful if you have a large dataset loaded into pandas.\n",
    "\n",
    "### 2. a. df.info()\n",
    "\n",
    "### The first thing you should always do is check that the variable types are as you expect them to be.\n",
    "Many times we get data from excel, web scraping or user input that is not as we expect. We need to check that the data types are as we expect. The .info() method will display data types and general information about the data."
   ]
  },
  {
   "cell_type": "code",
   "execution_count": 114,
   "metadata": {},
   "outputs": [
    {
     "name": "stdout",
     "output_type": "stream",
     "text": [
      "<class 'pandas.core.frame.DataFrame'>\n",
      "RangeIndex: 4 entries, 0 to 3\n",
      "Data columns (total 5 columns):\n",
      " #   Column            Non-Null Count  Dtype \n",
      "---  ------            --------------  ----- \n",
      " 0   album             4 non-null      object\n",
      " 1   date              4 non-null      object\n",
      " 2   global_sales      4 non-null      int64 \n",
      " 3   Ginger?           4 non-null      bool  \n",
      " 4   US_certification  2 non-null      object\n",
      "dtypes: bool(1), int64(1), object(3)\n",
      "memory usage: 260.0+ bytes\n"
     ]
    }
   ],
   "source": [
    "df_spice_girls.info()"
   ]
  },
  {
   "cell_type": "markdown",
   "metadata": {},
   "source": [
    "The # column is jus the index of the column.\n",
    "\n",
    "The 'Column' displays all of the column names\n",
    "\n",
    "The third column displays the count of the variables and whether there are any nulls. This can indicate blanks in your dataset. (Seeing 'non-null' is a good thing)\n",
    "\n",
    "The Dtype displays the datatype. The possible datatypes in a dataframe are:\n",
    " - float64 (a floating point number, i.e. a decimal)\n",
    " - int64\n",
    " - datetime64[ns] This is a date and time format that can store dates to the nanosecond. (Nanoseconds are not really relevant for most of our work.)\n",
    " - object\n",
    " - bool\n",
    " \n",
    "##### Objects are strings! This is important. Pandas really only cares about numbers and treats all other things as strings. If you see a variable that should be an number listed as an object, then there is a problem with the data.\n",
    "Usually this is someone has made a number in excel that is text.\n",
    "\n",
    "We can see from our df_spice_girls that pandas does not recognize data as a datetime64 type. We need to change this so that pandas recognizes this as a date.\n",
    "\n"
   ]
  },
  {
   "cell_type": "code",
   "execution_count": 115,
   "metadata": {},
   "outputs": [],
   "source": [
    "df_spice_girls['date'] = pd.to_datetime(df_spice_girls['date'])"
   ]
  },
  {
   "cell_type": "code",
   "execution_count": 116,
   "metadata": {},
   "outputs": [
    {
     "name": "stdout",
     "output_type": "stream",
     "text": [
      "<class 'pandas.core.frame.DataFrame'>\n",
      "RangeIndex: 4 entries, 0 to 3\n",
      "Data columns (total 5 columns):\n",
      " #   Column            Non-Null Count  Dtype         \n",
      "---  ------            --------------  -----         \n",
      " 0   album             4 non-null      object        \n",
      " 1   date              4 non-null      datetime64[ns]\n",
      " 2   global_sales      4 non-null      int64         \n",
      " 3   Ginger?           4 non-null      bool          \n",
      " 4   US_certification  2 non-null      object        \n",
      "dtypes: bool(1), datetime64[ns](1), int64(1), object(2)\n",
      "memory usage: 260.0+ bytes\n"
     ]
    }
   ],
   "source": [
    "df_spice_girls.info()"
   ]
  },
  {
   "cell_type": "markdown",
   "metadata": {},
   "source": [
    "## 2. b. df.describe()\n",
    "The describe method will provide summary statistics for all of the numeric variables in your dataframe"
   ]
  },
  {
   "cell_type": "code",
   "execution_count": 117,
   "metadata": {},
   "outputs": [
    {
     "data": {
      "text/html": [
       "<div>\n",
       "<style scoped>\n",
       "    .dataframe tbody tr th:only-of-type {\n",
       "        vertical-align: middle;\n",
       "    }\n",
       "\n",
       "    .dataframe tbody tr th {\n",
       "        vertical-align: top;\n",
       "    }\n",
       "\n",
       "    .dataframe thead th {\n",
       "        text-align: right;\n",
       "    }\n",
       "</style>\n",
       "<table border=\"1\" class=\"dataframe\">\n",
       "  <thead>\n",
       "    <tr style=\"text-align: right;\">\n",
       "      <th></th>\n",
       "      <th>global_sales</th>\n",
       "    </tr>\n",
       "  </thead>\n",
       "  <tbody>\n",
       "    <tr>\n",
       "      <th>count</th>\n",
       "      <td>4.000000e+00</td>\n",
       "    </tr>\n",
       "    <tr>\n",
       "      <th>mean</th>\n",
       "      <td>1.030000e+07</td>\n",
       "    </tr>\n",
       "    <tr>\n",
       "      <th>std</th>\n",
       "      <td>9.850212e+06</td>\n",
       "    </tr>\n",
       "    <tr>\n",
       "      <th>min</th>\n",
       "      <td>1.200000e+06</td>\n",
       "    </tr>\n",
       "    <tr>\n",
       "      <th>25%</th>\n",
       "      <td>3.300000e+06</td>\n",
       "    </tr>\n",
       "    <tr>\n",
       "      <th>50%</th>\n",
       "      <td>8.500000e+06</td>\n",
       "    </tr>\n",
       "    <tr>\n",
       "      <th>75%</th>\n",
       "      <td>1.550000e+07</td>\n",
       "    </tr>\n",
       "    <tr>\n",
       "      <th>max</th>\n",
       "      <td>2.300000e+07</td>\n",
       "    </tr>\n",
       "  </tbody>\n",
       "</table>\n",
       "</div>"
      ],
      "text/plain": [
       "       global_sales\n",
       "count  4.000000e+00\n",
       "mean   1.030000e+07\n",
       "std    9.850212e+06\n",
       "min    1.200000e+06\n",
       "25%    3.300000e+06\n",
       "50%    8.500000e+06\n",
       "75%    1.550000e+07\n",
       "max    2.300000e+07"
      ]
     },
     "execution_count": 117,
     "metadata": {},
     "output_type": "execute_result"
    }
   ],
   "source": [
    "df_spice_girls.describe()"
   ]
  },
  {
   "cell_type": "markdown",
   "metadata": {},
   "source": [
    "The global sales is the only numeric field (column) in our dataframe, so the descriptive statistics for this variable are presented with the describe method. If we had multiple variables that were numeric, describe would show the details for all of them."
   ]
  },
  {
   "cell_type": "markdown",
   "metadata": {},
   "source": [
    "## 2. c. df.value_counts()\n",
    "The value_counts method will count the number of times each unique categorical (i.e. text) value shows up in a particular column. "
   ]
  },
  {
   "cell_type": "code",
   "execution_count": 118,
   "metadata": {},
   "outputs": [
    {
     "data": {
      "text/plain": [
       "Forever          1\n",
       "Spiceworld       1\n",
       "Greatest Hits    1\n",
       "Spice            1\n",
       "Name: album, dtype: int64"
      ]
     },
     "execution_count": 118,
     "metadata": {},
     "output_type": "execute_result"
    }
   ],
   "source": [
    "df_spice_girls['album'].value_counts()"
   ]
  },
  {
   "cell_type": "code",
   "execution_count": 119,
   "metadata": {},
   "outputs": [
    {
     "data": {
      "text/plain": [
       "True     3\n",
       "False    1\n",
       "Name: Ginger?, dtype: int64"
      ]
     },
     "execution_count": 119,
     "metadata": {},
     "output_type": "execute_result"
    }
   ],
   "source": [
    "df_spice_girls['Ginger?'].value_counts()"
   ]
  },
  {
   "cell_type": "code",
   "execution_count": 120,
   "metadata": {},
   "outputs": [
    {
     "data": {
      "text/plain": [
       "7x Platnum    1\n",
       "4x Platnum    1\n",
       "Name: US_certification, dtype: int64"
      ]
     },
     "execution_count": 120,
     "metadata": {},
     "output_type": "execute_result"
    }
   ],
   "source": [
    "df_spice_girls['US_certification'].value_counts()"
   ]
  },
  {
   "cell_type": "markdown",
   "metadata": {},
   "source": [
    "### Notice that the Nan values (so blanks in a spreadsheet) did not show up in the value counts!!!!\n",
    "To fix this we need to add dropna=False to the value_counts method.\n",
    "\n",
    "<font color = 'red'> This is a very common problem using data from excel or the web. It is a good idea to always include dropna=False in every value count. </font>"
   ]
  },
  {
   "cell_type": "markdown",
   "metadata": {},
   "source": [
    "## 2. d. df.head(), df.tail and df.sample()\n",
    "When using large datasets, it is difficult to see all of the data. A good way to check the data is to check the first n rows using head, the last n rows using tail and a random sample of rows using sample.\n",
    "\n",
    "To better demonstrate this, we will be using the fx_derivatives_all database."
   ]
  },
  {
   "cell_type": "code",
   "execution_count": 121,
   "metadata": {},
   "outputs": [],
   "source": [
    "df= pd.read_excel('../data/FX_DERIVATIVES_SOME.xlsx')"
   ]
  },
  {
   "cell_type": "code",
   "execution_count": 122,
   "metadata": {},
   "outputs": [
    {
     "data": {
      "text/html": [
       "<div>\n",
       "<style scoped>\n",
       "    .dataframe tbody tr th:only-of-type {\n",
       "        vertical-align: middle;\n",
       "    }\n",
       "\n",
       "    .dataframe tbody tr th {\n",
       "        vertical-align: top;\n",
       "    }\n",
       "\n",
       "    .dataframe thead th {\n",
       "        text-align: right;\n",
       "    }\n",
       "</style>\n",
       "<table border=\"1\" class=\"dataframe\">\n",
       "  <thead>\n",
       "    <tr style=\"text-align: right;\">\n",
       "      <th></th>\n",
       "      <th>ID</th>\n",
       "      <th>Entity</th>\n",
       "      <th>Counterparty</th>\n",
       "      <th>Currency_Pair</th>\n",
       "      <th>Buy_Currency</th>\n",
       "      <th>Sell_Currency</th>\n",
       "      <th>Trade_Date</th>\n",
       "      <th>Delivery_Date</th>\n",
       "      <th>Contract_Rate</th>\n",
       "      <th>Buy_Amount</th>\n",
       "      <th>Sell_Amount</th>\n",
       "    </tr>\n",
       "  </thead>\n",
       "  <tbody>\n",
       "    <tr>\n",
       "      <th>0</th>\n",
       "      <td>ADIR3725</td>\n",
       "      <td>ADIR</td>\n",
       "      <td>RBS</td>\n",
       "      <td>USDJPY</td>\n",
       "      <td>USD</td>\n",
       "      <td>JPY</td>\n",
       "      <td>2012-08-15</td>\n",
       "      <td>2012-10-10</td>\n",
       "      <td>78.867000</td>\n",
       "      <td>4564647.0</td>\n",
       "      <td>-360000000</td>\n",
       "    </tr>\n",
       "    <tr>\n",
       "      <th>1</th>\n",
       "      <td>ADUS813</td>\n",
       "      <td>ADUS</td>\n",
       "      <td>CITI</td>\n",
       "      <td>EURUSD</td>\n",
       "      <td>USD</td>\n",
       "      <td>EUR</td>\n",
       "      <td>2012-08-15</td>\n",
       "      <td>2012-10-11</td>\n",
       "      <td>1.229378</td>\n",
       "      <td>614689.0</td>\n",
       "      <td>-500000</td>\n",
       "    </tr>\n",
       "    <tr>\n",
       "      <th>2</th>\n",
       "      <td>ADIR3723</td>\n",
       "      <td>ADIR</td>\n",
       "      <td>GS</td>\n",
       "      <td>USDCHF</td>\n",
       "      <td>CHF</td>\n",
       "      <td>USD</td>\n",
       "      <td>2012-08-14</td>\n",
       "      <td>2012-09-19</td>\n",
       "      <td>0.973454</td>\n",
       "      <td>9000000.0</td>\n",
       "      <td>-9245429</td>\n",
       "    </tr>\n",
       "    <tr>\n",
       "      <th>3</th>\n",
       "      <td>ADIR3719</td>\n",
       "      <td>ADIR</td>\n",
       "      <td>UBS</td>\n",
       "      <td>EURUSD</td>\n",
       "      <td>USD</td>\n",
       "      <td>EUR</td>\n",
       "      <td>2012-08-13</td>\n",
       "      <td>2012-10-10</td>\n",
       "      <td>1.233346</td>\n",
       "      <td>6166730.0</td>\n",
       "      <td>-5000000</td>\n",
       "    </tr>\n",
       "    <tr>\n",
       "      <th>4</th>\n",
       "      <td>ADUS810</td>\n",
       "      <td>ADUS</td>\n",
       "      <td>CITI</td>\n",
       "      <td>EURUSD</td>\n",
       "      <td>EUR</td>\n",
       "      <td>USD</td>\n",
       "      <td>2012-08-09</td>\n",
       "      <td>2012-10-11</td>\n",
       "      <td>1.229400</td>\n",
       "      <td>1000000.0</td>\n",
       "      <td>-1229400</td>\n",
       "    </tr>\n",
       "    <tr>\n",
       "      <th>5</th>\n",
       "      <td>ADIR3717</td>\n",
       "      <td>ADIR</td>\n",
       "      <td>CITI</td>\n",
       "      <td>USDSGD</td>\n",
       "      <td>USD</td>\n",
       "      <td>SGD</td>\n",
       "      <td>2012-08-09</td>\n",
       "      <td>2012-09-14</td>\n",
       "      <td>1.245248</td>\n",
       "      <td>1204579.0</td>\n",
       "      <td>-1500000</td>\n",
       "    </tr>\n",
       "    <tr>\n",
       "      <th>6</th>\n",
       "      <td>ADIR3715</td>\n",
       "      <td>ADIR</td>\n",
       "      <td>BOA</td>\n",
       "      <td>USDJPY</td>\n",
       "      <td>USD</td>\n",
       "      <td>JPY</td>\n",
       "      <td>2012-08-09</td>\n",
       "      <td>2012-10-10</td>\n",
       "      <td>78.522600</td>\n",
       "      <td>3820556.0</td>\n",
       "      <td>-300000000</td>\n",
       "    </tr>\n",
       "    <tr>\n",
       "      <th>7</th>\n",
       "      <td>ADUS808</td>\n",
       "      <td>ADUS</td>\n",
       "      <td>CITI</td>\n",
       "      <td>USDCHF</td>\n",
       "      <td>CHF</td>\n",
       "      <td>USD</td>\n",
       "      <td>2012-08-08</td>\n",
       "      <td>2012-11-16</td>\n",
       "      <td>0.970400</td>\n",
       "      <td>61000000.0</td>\n",
       "      <td>-62860676</td>\n",
       "    </tr>\n",
       "    <tr>\n",
       "      <th>8</th>\n",
       "      <td>ADIR3709</td>\n",
       "      <td>ADIR</td>\n",
       "      <td>BOA</td>\n",
       "      <td>USDJPY</td>\n",
       "      <td>USD</td>\n",
       "      <td>JPY</td>\n",
       "      <td>2012-08-06</td>\n",
       "      <td>2012-10-10</td>\n",
       "      <td>78.126100</td>\n",
       "      <td>3839946.0</td>\n",
       "      <td>-300000000</td>\n",
       "    </tr>\n",
       "    <tr>\n",
       "      <th>9</th>\n",
       "      <td>ADIR3708</td>\n",
       "      <td>ADIR</td>\n",
       "      <td>BOA</td>\n",
       "      <td>EURUSD</td>\n",
       "      <td>USD</td>\n",
       "      <td>EUR</td>\n",
       "      <td>2012-08-06</td>\n",
       "      <td>2012-10-10</td>\n",
       "      <td>1.240847</td>\n",
       "      <td>3722541.0</td>\n",
       "      <td>-3000000</td>\n",
       "    </tr>\n",
       "  </tbody>\n",
       "</table>\n",
       "</div>"
      ],
      "text/plain": [
       "         ID Entity Counterparty Currency_Pair Buy_Currency Sell_Currency  \\\n",
       "0  ADIR3725   ADIR          RBS        USDJPY          USD           JPY   \n",
       "1   ADUS813   ADUS         CITI        EURUSD          USD           EUR   \n",
       "2  ADIR3723   ADIR           GS        USDCHF          CHF           USD   \n",
       "3  ADIR3719   ADIR          UBS        EURUSD          USD           EUR   \n",
       "4   ADUS810   ADUS         CITI        EURUSD          EUR           USD   \n",
       "5  ADIR3717   ADIR         CITI        USDSGD          USD           SGD   \n",
       "6  ADIR3715   ADIR          BOA        USDJPY          USD           JPY   \n",
       "7   ADUS808   ADUS         CITI        USDCHF          CHF           USD   \n",
       "8  ADIR3709   ADIR          BOA        USDJPY          USD           JPY   \n",
       "9  ADIR3708   ADIR          BOA        EURUSD          USD           EUR   \n",
       "\n",
       "  Trade_Date Delivery_Date  Contract_Rate  Buy_Amount  Sell_Amount  \n",
       "0 2012-08-15    2012-10-10      78.867000   4564647.0   -360000000  \n",
       "1 2012-08-15    2012-10-11       1.229378    614689.0      -500000  \n",
       "2 2012-08-14    2012-09-19       0.973454   9000000.0     -9245429  \n",
       "3 2012-08-13    2012-10-10       1.233346   6166730.0     -5000000  \n",
       "4 2012-08-09    2012-10-11       1.229400   1000000.0     -1229400  \n",
       "5 2012-08-09    2012-09-14       1.245248   1204579.0     -1500000  \n",
       "6 2012-08-09    2012-10-10      78.522600   3820556.0   -300000000  \n",
       "7 2012-08-08    2012-11-16       0.970400  61000000.0    -62860676  \n",
       "8 2012-08-06    2012-10-10      78.126100   3839946.0   -300000000  \n",
       "9 2012-08-06    2012-10-10       1.240847   3722541.0     -3000000  "
      ]
     },
     "execution_count": 122,
     "metadata": {},
     "output_type": "execute_result"
    }
   ],
   "source": [
    "df.head(10)"
   ]
  },
  {
   "cell_type": "code",
   "execution_count": 123,
   "metadata": {},
   "outputs": [
    {
     "data": {
      "text/html": [
       "<div>\n",
       "<style scoped>\n",
       "    .dataframe tbody tr th:only-of-type {\n",
       "        vertical-align: middle;\n",
       "    }\n",
       "\n",
       "    .dataframe tbody tr th {\n",
       "        vertical-align: top;\n",
       "    }\n",
       "\n",
       "    .dataframe thead th {\n",
       "        text-align: right;\n",
       "    }\n",
       "</style>\n",
       "<table border=\"1\" class=\"dataframe\">\n",
       "  <thead>\n",
       "    <tr style=\"text-align: right;\">\n",
       "      <th></th>\n",
       "      <th>ID</th>\n",
       "      <th>Entity</th>\n",
       "      <th>Counterparty</th>\n",
       "      <th>Currency_Pair</th>\n",
       "      <th>Buy_Currency</th>\n",
       "      <th>Sell_Currency</th>\n",
       "      <th>Trade_Date</th>\n",
       "      <th>Delivery_Date</th>\n",
       "      <th>Contract_Rate</th>\n",
       "      <th>Buy_Amount</th>\n",
       "      <th>Sell_Amount</th>\n",
       "    </tr>\n",
       "  </thead>\n",
       "  <tbody>\n",
       "    <tr>\n",
       "      <th>31</th>\n",
       "      <td>ADIR3678</td>\n",
       "      <td>ADIR</td>\n",
       "      <td>CITI</td>\n",
       "      <td>USDSGD</td>\n",
       "      <td>USD</td>\n",
       "      <td>SGD</td>\n",
       "      <td>2012-07-10</td>\n",
       "      <td>2012-09-14</td>\n",
       "      <td>1.266689</td>\n",
       "      <td>2.763109e+06</td>\n",
       "      <td>-3500000</td>\n",
       "    </tr>\n",
       "    <tr>\n",
       "      <th>32</th>\n",
       "      <td>ADIR3677</td>\n",
       "      <td>ADIR</td>\n",
       "      <td>BOA</td>\n",
       "      <td>AUDUSD</td>\n",
       "      <td>USD</td>\n",
       "      <td>AUD</td>\n",
       "      <td>2012-07-10</td>\n",
       "      <td>2012-09-12</td>\n",
       "      <td>1.014912</td>\n",
       "      <td>1.522368e+06</td>\n",
       "      <td>-1500000</td>\n",
       "    </tr>\n",
       "    <tr>\n",
       "      <th>33</th>\n",
       "      <td>AILP469</td>\n",
       "      <td>AILP</td>\n",
       "      <td>CITI</td>\n",
       "      <td>USDILS</td>\n",
       "      <td>ILS</td>\n",
       "      <td>USD</td>\n",
       "      <td>2012-06-20</td>\n",
       "      <td>2012-09-21</td>\n",
       "      <td>3.876038</td>\n",
       "      <td>7.000000e+06</td>\n",
       "      <td>-1805968</td>\n",
       "    </tr>\n",
       "    <tr>\n",
       "      <th>34</th>\n",
       "      <td>ADIR3551</td>\n",
       "      <td>ADIR</td>\n",
       "      <td>JPM</td>\n",
       "      <td>EURUSD</td>\n",
       "      <td>USD</td>\n",
       "      <td>EUR</td>\n",
       "      <td>2012-03-20</td>\n",
       "      <td>2012-10-12</td>\n",
       "      <td>1.324263</td>\n",
       "      <td>1.779809e+08</td>\n",
       "      <td>-134400000</td>\n",
       "    </tr>\n",
       "    <tr>\n",
       "      <th>35</th>\n",
       "      <td>NDBV169</td>\n",
       "      <td>NDBV</td>\n",
       "      <td>BOA</td>\n",
       "      <td>EURKRW</td>\n",
       "      <td>EUR</td>\n",
       "      <td>KRW</td>\n",
       "      <td>2020-03-13</td>\n",
       "      <td>2020-03-17</td>\n",
       "      <td>1371.700000</td>\n",
       "      <td>2.267166e+06</td>\n",
       "      <td>-3109871282</td>\n",
       "    </tr>\n",
       "  </tbody>\n",
       "</table>\n",
       "</div>"
      ],
      "text/plain": [
       "          ID Entity Counterparty Currency_Pair Buy_Currency Sell_Currency  \\\n",
       "31  ADIR3678   ADIR         CITI        USDSGD          USD           SGD   \n",
       "32  ADIR3677   ADIR          BOA        AUDUSD          USD           AUD   \n",
       "33   AILP469   AILP         CITI        USDILS          ILS           USD   \n",
       "34  ADIR3551   ADIR          JPM        EURUSD          USD           EUR   \n",
       "35   NDBV169   NDBV          BOA        EURKRW          EUR           KRW   \n",
       "\n",
       "   Trade_Date Delivery_Date  Contract_Rate    Buy_Amount  Sell_Amount  \n",
       "31 2012-07-10    2012-09-14       1.266689  2.763109e+06     -3500000  \n",
       "32 2012-07-10    2012-09-12       1.014912  1.522368e+06     -1500000  \n",
       "33 2012-06-20    2012-09-21       3.876038  7.000000e+06     -1805968  \n",
       "34 2012-03-20    2012-10-12       1.324263  1.779809e+08   -134400000  \n",
       "35 2020-03-13    2020-03-17    1371.700000  2.267166e+06  -3109871282  "
      ]
     },
     "execution_count": 123,
     "metadata": {},
     "output_type": "execute_result"
    }
   ],
   "source": [
    "df.tail(5)"
   ]
  },
  {
   "cell_type": "code",
   "execution_count": 124,
   "metadata": {},
   "outputs": [
    {
     "data": {
      "text/html": [
       "<div>\n",
       "<style scoped>\n",
       "    .dataframe tbody tr th:only-of-type {\n",
       "        vertical-align: middle;\n",
       "    }\n",
       "\n",
       "    .dataframe tbody tr th {\n",
       "        vertical-align: top;\n",
       "    }\n",
       "\n",
       "    .dataframe thead th {\n",
       "        text-align: right;\n",
       "    }\n",
       "</style>\n",
       "<table border=\"1\" class=\"dataframe\">\n",
       "  <thead>\n",
       "    <tr style=\"text-align: right;\">\n",
       "      <th></th>\n",
       "      <th>ID</th>\n",
       "      <th>Entity</th>\n",
       "      <th>Counterparty</th>\n",
       "      <th>Currency_Pair</th>\n",
       "      <th>Buy_Currency</th>\n",
       "      <th>Sell_Currency</th>\n",
       "      <th>Trade_Date</th>\n",
       "      <th>Delivery_Date</th>\n",
       "      <th>Contract_Rate</th>\n",
       "      <th>Buy_Amount</th>\n",
       "      <th>Sell_Amount</th>\n",
       "    </tr>\n",
       "  </thead>\n",
       "  <tbody>\n",
       "    <tr>\n",
       "      <th>35</th>\n",
       "      <td>NDBV169</td>\n",
       "      <td>NDBV</td>\n",
       "      <td>BOA</td>\n",
       "      <td>EURKRW</td>\n",
       "      <td>EUR</td>\n",
       "      <td>KRW</td>\n",
       "      <td>2020-03-13</td>\n",
       "      <td>2020-03-17</td>\n",
       "      <td>1371.700000</td>\n",
       "      <td>2.267166e+06</td>\n",
       "      <td>-3109871282</td>\n",
       "    </tr>\n",
       "    <tr>\n",
       "      <th>18</th>\n",
       "      <td>ADIR3698</td>\n",
       "      <td>ADIR</td>\n",
       "      <td>BOA</td>\n",
       "      <td>AUDUSD</td>\n",
       "      <td>USD</td>\n",
       "      <td>AUD</td>\n",
       "      <td>2012-07-26</td>\n",
       "      <td>2012-09-26</td>\n",
       "      <td>1.034292</td>\n",
       "      <td>8.274336e+06</td>\n",
       "      <td>-8000000</td>\n",
       "    </tr>\n",
       "    <tr>\n",
       "      <th>19</th>\n",
       "      <td>ADIR3699</td>\n",
       "      <td>ADIR</td>\n",
       "      <td>UBS</td>\n",
       "      <td>EURUSD</td>\n",
       "      <td>USD</td>\n",
       "      <td>EUR</td>\n",
       "      <td>2012-07-26</td>\n",
       "      <td>2012-09-26</td>\n",
       "      <td>1.229099</td>\n",
       "      <td>8.603693e+06</td>\n",
       "      <td>-7000000</td>\n",
       "    </tr>\n",
       "    <tr>\n",
       "      <th>10</th>\n",
       "      <td>ADIR3707</td>\n",
       "      <td>ADIR</td>\n",
       "      <td>GS</td>\n",
       "      <td>AUDUSD</td>\n",
       "      <td>USD</td>\n",
       "      <td>AUD</td>\n",
       "      <td>2012-08-03</td>\n",
       "      <td>2012-09-26</td>\n",
       "      <td>1.051216</td>\n",
       "      <td>8.409728e+06</td>\n",
       "      <td>-8000000</td>\n",
       "    </tr>\n",
       "    <tr>\n",
       "      <th>34</th>\n",
       "      <td>ADIR3551</td>\n",
       "      <td>ADIR</td>\n",
       "      <td>JPM</td>\n",
       "      <td>EURUSD</td>\n",
       "      <td>USD</td>\n",
       "      <td>EUR</td>\n",
       "      <td>2012-03-20</td>\n",
       "      <td>2012-10-12</td>\n",
       "      <td>1.324263</td>\n",
       "      <td>1.779809e+08</td>\n",
       "      <td>-134400000</td>\n",
       "    </tr>\n",
       "    <tr>\n",
       "      <th>29</th>\n",
       "      <td>ADIR3683</td>\n",
       "      <td>ADIR</td>\n",
       "      <td>CITI</td>\n",
       "      <td>EURUSD</td>\n",
       "      <td>USD</td>\n",
       "      <td>EUR</td>\n",
       "      <td>2012-07-12</td>\n",
       "      <td>2012-09-12</td>\n",
       "      <td>1.220399</td>\n",
       "      <td>3.661197e+06</td>\n",
       "      <td>-3000000</td>\n",
       "    </tr>\n",
       "    <tr>\n",
       "      <th>1</th>\n",
       "      <td>ADUS813</td>\n",
       "      <td>ADUS</td>\n",
       "      <td>CITI</td>\n",
       "      <td>EURUSD</td>\n",
       "      <td>USD</td>\n",
       "      <td>EUR</td>\n",
       "      <td>2012-08-15</td>\n",
       "      <td>2012-10-11</td>\n",
       "      <td>1.229378</td>\n",
       "      <td>6.146890e+05</td>\n",
       "      <td>-500000</td>\n",
       "    </tr>\n",
       "    <tr>\n",
       "      <th>31</th>\n",
       "      <td>ADIR3678</td>\n",
       "      <td>ADIR</td>\n",
       "      <td>CITI</td>\n",
       "      <td>USDSGD</td>\n",
       "      <td>USD</td>\n",
       "      <td>SGD</td>\n",
       "      <td>2012-07-10</td>\n",
       "      <td>2012-09-14</td>\n",
       "      <td>1.266689</td>\n",
       "      <td>2.763109e+06</td>\n",
       "      <td>-3500000</td>\n",
       "    </tr>\n",
       "    <tr>\n",
       "      <th>7</th>\n",
       "      <td>ADUS808</td>\n",
       "      <td>ADUS</td>\n",
       "      <td>CITI</td>\n",
       "      <td>USDCHF</td>\n",
       "      <td>CHF</td>\n",
       "      <td>USD</td>\n",
       "      <td>2012-08-08</td>\n",
       "      <td>2012-11-16</td>\n",
       "      <td>0.970400</td>\n",
       "      <td>6.100000e+07</td>\n",
       "      <td>-62860676</td>\n",
       "    </tr>\n",
       "    <tr>\n",
       "      <th>25</th>\n",
       "      <td>ADUS799</td>\n",
       "      <td>ADUS</td>\n",
       "      <td>CITI</td>\n",
       "      <td>EURUSD</td>\n",
       "      <td>EUR</td>\n",
       "      <td>USD</td>\n",
       "      <td>2012-07-17</td>\n",
       "      <td>2012-10-11</td>\n",
       "      <td>1.228709</td>\n",
       "      <td>7.000000e+06</td>\n",
       "      <td>-8600963</td>\n",
       "    </tr>\n",
       "  </tbody>\n",
       "</table>\n",
       "</div>"
      ],
      "text/plain": [
       "          ID Entity Counterparty Currency_Pair Buy_Currency Sell_Currency  \\\n",
       "35   NDBV169   NDBV          BOA        EURKRW          EUR           KRW   \n",
       "18  ADIR3698   ADIR          BOA        AUDUSD          USD           AUD   \n",
       "19  ADIR3699   ADIR          UBS        EURUSD          USD           EUR   \n",
       "10  ADIR3707   ADIR           GS        AUDUSD          USD           AUD   \n",
       "34  ADIR3551   ADIR          JPM        EURUSD          USD           EUR   \n",
       "29  ADIR3683   ADIR         CITI        EURUSD          USD           EUR   \n",
       "1    ADUS813   ADUS         CITI        EURUSD          USD           EUR   \n",
       "31  ADIR3678   ADIR         CITI        USDSGD          USD           SGD   \n",
       "7    ADUS808   ADUS         CITI        USDCHF          CHF           USD   \n",
       "25   ADUS799   ADUS         CITI        EURUSD          EUR           USD   \n",
       "\n",
       "   Trade_Date Delivery_Date  Contract_Rate    Buy_Amount  Sell_Amount  \n",
       "35 2020-03-13    2020-03-17    1371.700000  2.267166e+06  -3109871282  \n",
       "18 2012-07-26    2012-09-26       1.034292  8.274336e+06     -8000000  \n",
       "19 2012-07-26    2012-09-26       1.229099  8.603693e+06     -7000000  \n",
       "10 2012-08-03    2012-09-26       1.051216  8.409728e+06     -8000000  \n",
       "34 2012-03-20    2012-10-12       1.324263  1.779809e+08   -134400000  \n",
       "29 2012-07-12    2012-09-12       1.220399  3.661197e+06     -3000000  \n",
       "1  2012-08-15    2012-10-11       1.229378  6.146890e+05      -500000  \n",
       "31 2012-07-10    2012-09-14       1.266689  2.763109e+06     -3500000  \n",
       "7  2012-08-08    2012-11-16       0.970400  6.100000e+07    -62860676  \n",
       "25 2012-07-17    2012-10-11       1.228709  7.000000e+06     -8600963  "
      ]
     },
     "execution_count": 124,
     "metadata": {},
     "output_type": "execute_result"
    }
   ],
   "source": [
    "df.sample(10)"
   ]
  },
  {
   "cell_type": "markdown",
   "metadata": {},
   "source": [
    "This is usually more helpful if we have more than 100 rows of data, but I think you get the point."
   ]
  },
  {
   "cell_type": "code",
   "execution_count": 125,
   "metadata": {},
   "outputs": [
    {
     "data": {
      "text/plain": [
       "ADIR    27\n",
       "ADUS     6\n",
       "AILP     2\n",
       "NDBV     1\n",
       "Name: Entity, dtype: int64"
      ]
     },
     "execution_count": 125,
     "metadata": {},
     "output_type": "execute_result"
    }
   ],
   "source": [
    "df['Entity'].value_counts()"
   ]
  },
  {
   "cell_type": "code",
   "execution_count": 126,
   "metadata": {},
   "outputs": [
    {
     "data": {
      "text/plain": [
       "CITI    15\n",
       "BOA     11\n",
       "GS       4\n",
       "UBS      4\n",
       "RBS      1\n",
       "JPM      1\n",
       "Name: Counterparty, dtype: int64"
      ]
     },
     "execution_count": 126,
     "metadata": {},
     "output_type": "execute_result"
    }
   ],
   "source": [
    "df['Counterparty'].value_counts()"
   ]
  },
  {
   "cell_type": "code",
   "execution_count": 127,
   "metadata": {},
   "outputs": [
    {
     "data": {
      "text/html": [
       "<div>\n",
       "<style scoped>\n",
       "    .dataframe tbody tr th:only-of-type {\n",
       "        vertical-align: middle;\n",
       "    }\n",
       "\n",
       "    .dataframe tbody tr th {\n",
       "        vertical-align: top;\n",
       "    }\n",
       "\n",
       "    .dataframe thead th {\n",
       "        text-align: right;\n",
       "    }\n",
       "</style>\n",
       "<table border=\"1\" class=\"dataframe\">\n",
       "  <thead>\n",
       "    <tr style=\"text-align: right;\">\n",
       "      <th></th>\n",
       "      <th>Contract_Rate</th>\n",
       "      <th>Buy_Amount</th>\n",
       "      <th>Sell_Amount</th>\n",
       "    </tr>\n",
       "  </thead>\n",
       "  <tbody>\n",
       "    <tr>\n",
       "      <th>count</th>\n",
       "      <td>36.000000</td>\n",
       "      <td>3.600000e+01</td>\n",
       "      <td>3.600000e+01</td>\n",
       "    </tr>\n",
       "    <tr>\n",
       "      <th>mean</th>\n",
       "      <td>50.152256</td>\n",
       "      <td>1.077415e+07</td>\n",
       "      <td>-1.413382e+08</td>\n",
       "    </tr>\n",
       "    <tr>\n",
       "      <th>std</th>\n",
       "      <td>228.147616</td>\n",
       "      <td>3.027182e+07</td>\n",
       "      <td>5.219369e+08</td>\n",
       "    </tr>\n",
       "    <tr>\n",
       "      <th>min</th>\n",
       "      <td>0.970400</td>\n",
       "      <td>6.146890e+05</td>\n",
       "      <td>-3.109871e+09</td>\n",
       "    </tr>\n",
       "    <tr>\n",
       "      <th>25%</th>\n",
       "      <td>1.178103</td>\n",
       "      <td>2.339090e+06</td>\n",
       "      <td>-1.118407e+07</td>\n",
       "    </tr>\n",
       "    <tr>\n",
       "      <th>50%</th>\n",
       "      <td>1.237097</td>\n",
       "      <td>4.197145e+06</td>\n",
       "      <td>-5.000000e+06</td>\n",
       "    </tr>\n",
       "    <tr>\n",
       "      <th>75%</th>\n",
       "      <td>1.563767</td>\n",
       "      <td>7.000000e+06</td>\n",
       "      <td>-1.951492e+06</td>\n",
       "    </tr>\n",
       "    <tr>\n",
       "      <th>max</th>\n",
       "      <td>1371.700000</td>\n",
       "      <td>1.779809e+08</td>\n",
       "      <td>-5.000000e+05</td>\n",
       "    </tr>\n",
       "  </tbody>\n",
       "</table>\n",
       "</div>"
      ],
      "text/plain": [
       "       Contract_Rate    Buy_Amount   Sell_Amount\n",
       "count      36.000000  3.600000e+01  3.600000e+01\n",
       "mean       50.152256  1.077415e+07 -1.413382e+08\n",
       "std       228.147616  3.027182e+07  5.219369e+08\n",
       "min         0.970400  6.146890e+05 -3.109871e+09\n",
       "25%         1.178103  2.339090e+06 -1.118407e+07\n",
       "50%         1.237097  4.197145e+06 -5.000000e+06\n",
       "75%         1.563767  7.000000e+06 -1.951492e+06\n",
       "max      1371.700000  1.779809e+08 -5.000000e+05"
      ]
     },
     "execution_count": 127,
     "metadata": {},
     "output_type": "execute_result"
    }
   ],
   "source": [
    "df.describe()"
   ]
  },
  {
   "cell_type": "code",
   "execution_count": 128,
   "metadata": {},
   "outputs": [
    {
     "name": "stdout",
     "output_type": "stream",
     "text": [
      "<class 'pandas.core.frame.DataFrame'>\n",
      "RangeIndex: 36 entries, 0 to 35\n",
      "Data columns (total 11 columns):\n",
      " #   Column         Non-Null Count  Dtype         \n",
      "---  ------         --------------  -----         \n",
      " 0   ID             36 non-null     object        \n",
      " 1   Entity         36 non-null     object        \n",
      " 2   Counterparty   36 non-null     object        \n",
      " 3   Currency_Pair  36 non-null     object        \n",
      " 4   Buy_Currency   36 non-null     object        \n",
      " 5   Sell_Currency  36 non-null     object        \n",
      " 6   Trade_Date     36 non-null     datetime64[ns]\n",
      " 7   Delivery_Date  36 non-null     datetime64[ns]\n",
      " 8   Contract_Rate  36 non-null     float64       \n",
      " 9   Buy_Amount     36 non-null     float64       \n",
      " 10  Sell_Amount    36 non-null     int64         \n",
      "dtypes: datetime64[ns](2), float64(2), int64(1), object(6)\n",
      "memory usage: 3.2+ KB\n"
     ]
    }
   ],
   "source": [
    "df.info()"
   ]
  },
  {
   "cell_type": "markdown",
   "metadata": {},
   "source": [
    "## 2. e. Other descriptive statistics"
   ]
  },
  {
   "cell_type": "code",
   "execution_count": 129,
   "metadata": {},
   "outputs": [
    {
     "data": {
      "text/plain": [
       "Index(['ID', 'Entity', 'Counterparty', 'Currency_Pair', 'Buy_Currency',\n",
       "       'Sell_Currency', 'Trade_Date', 'Delivery_Date', 'Contract_Rate',\n",
       "       'Buy_Amount', 'Sell_Amount'],\n",
       "      dtype='object')"
      ]
     },
     "execution_count": 129,
     "metadata": {},
     "output_type": "execute_result"
    }
   ],
   "source": [
    "df.columns"
   ]
  },
  {
   "cell_type": "code",
   "execution_count": 130,
   "metadata": {},
   "outputs": [
    {
     "data": {
      "text/plain": [
       "(36, 11)"
      ]
     },
     "execution_count": 130,
     "metadata": {},
     "output_type": "execute_result"
    }
   ],
   "source": [
    "df.shape"
   ]
  },
  {
   "cell_type": "code",
   "execution_count": 131,
   "metadata": {},
   "outputs": [
    {
     "data": {
      "text/plain": [
       "RangeIndex(start=0, stop=36, step=1)"
      ]
     },
     "execution_count": 131,
     "metadata": {},
     "output_type": "execute_result"
    }
   ],
   "source": [
    "df.index"
   ]
  },
  {
   "cell_type": "markdown",
   "metadata": {},
   "source": [
    "## 3. Indexing, subsetting, slicing and selecting columns\n",
    "\n",
    "### 3. a. df.iloc\n",
    "To reference a particular row, column or group of rows and columns by their numeric index (row or column number)use .iloc()"
   ]
  },
  {
   "cell_type": "code",
   "execution_count": 132,
   "metadata": {},
   "outputs": [
    {
     "data": {
      "text/plain": [
       "ID                          ADIR3725\n",
       "Entity                          ADIR\n",
       "Counterparty                     RBS\n",
       "Currency_Pair                 USDJPY\n",
       "Buy_Currency                     USD\n",
       "Sell_Currency                    JPY\n",
       "Trade_Date       2012-08-15 00:00:00\n",
       "Delivery_Date    2012-10-10 00:00:00\n",
       "Contract_Rate                 78.867\n",
       "Buy_Amount               4.56465e+06\n",
       "Sell_Amount               -360000000\n",
       "Name: 0, dtype: object"
      ]
     },
     "execution_count": 132,
     "metadata": {},
     "output_type": "execute_result"
    }
   ],
   "source": [
    "# will return the first row, every column\n",
    "df.iloc[0,:]"
   ]
  },
  {
   "cell_type": "code",
   "execution_count": 133,
   "metadata": {},
   "outputs": [
    {
     "data": {
      "text/plain": [
       "0     ADIR3725\n",
       "1      ADUS813\n",
       "2     ADIR3723\n",
       "3     ADIR3719\n",
       "4      ADUS810\n",
       "5     ADIR3717\n",
       "6     ADIR3715\n",
       "7      ADUS808\n",
       "8     ADIR3709\n",
       "9     ADIR3708\n",
       "10    ADIR3707\n",
       "11     ADUS807\n",
       "12    ADIR3705\n",
       "13    ADIR3704\n",
       "14    ADIR3703\n",
       "15    ADIR3702\n",
       "16    ADIR3701\n",
       "17    ADIR3700\n",
       "18    ADIR3698\n",
       "19    ADIR3699\n",
       "20    ADIR3697\n",
       "21    ADIR3696\n",
       "22    ADIR3694\n",
       "23    ADIR3693\n",
       "24     ADUS802\n",
       "25     ADUS799\n",
       "26    ADIR3687\n",
       "27    ADIR3686\n",
       "28    ADIR3685\n",
       "29    ADIR3683\n",
       "30     AILP472\n",
       "31    ADIR3678\n",
       "32    ADIR3677\n",
       "33     AILP469\n",
       "34    ADIR3551\n",
       "35     NDBV169\n",
       "Name: ID, dtype: object"
      ]
     },
     "execution_count": 133,
     "metadata": {},
     "output_type": "execute_result"
    }
   ],
   "source": [
    "# will return the first column, every row\n",
    "df.iloc[:,0]"
   ]
  },
  {
   "cell_type": "code",
   "execution_count": 134,
   "metadata": {},
   "outputs": [
    {
     "data": {
      "text/html": [
       "<div>\n",
       "<style scoped>\n",
       "    .dataframe tbody tr th:only-of-type {\n",
       "        vertical-align: middle;\n",
       "    }\n",
       "\n",
       "    .dataframe tbody tr th {\n",
       "        vertical-align: top;\n",
       "    }\n",
       "\n",
       "    .dataframe thead th {\n",
       "        text-align: right;\n",
       "    }\n",
       "</style>\n",
       "<table border=\"1\" class=\"dataframe\">\n",
       "  <thead>\n",
       "    <tr style=\"text-align: right;\">\n",
       "      <th></th>\n",
       "      <th>ID</th>\n",
       "      <th>Entity</th>\n",
       "      <th>Counterparty</th>\n",
       "      <th>Currency_Pair</th>\n",
       "    </tr>\n",
       "  </thead>\n",
       "  <tbody>\n",
       "    <tr>\n",
       "      <th>5</th>\n",
       "      <td>ADIR3717</td>\n",
       "      <td>ADIR</td>\n",
       "      <td>CITI</td>\n",
       "      <td>USDSGD</td>\n",
       "    </tr>\n",
       "    <tr>\n",
       "      <th>6</th>\n",
       "      <td>ADIR3715</td>\n",
       "      <td>ADIR</td>\n",
       "      <td>BOA</td>\n",
       "      <td>USDJPY</td>\n",
       "    </tr>\n",
       "    <tr>\n",
       "      <th>7</th>\n",
       "      <td>ADUS808</td>\n",
       "      <td>ADUS</td>\n",
       "      <td>CITI</td>\n",
       "      <td>USDCHF</td>\n",
       "    </tr>\n",
       "    <tr>\n",
       "      <th>8</th>\n",
       "      <td>ADIR3709</td>\n",
       "      <td>ADIR</td>\n",
       "      <td>BOA</td>\n",
       "      <td>USDJPY</td>\n",
       "    </tr>\n",
       "    <tr>\n",
       "      <th>9</th>\n",
       "      <td>ADIR3708</td>\n",
       "      <td>ADIR</td>\n",
       "      <td>BOA</td>\n",
       "      <td>EURUSD</td>\n",
       "    </tr>\n",
       "  </tbody>\n",
       "</table>\n",
       "</div>"
      ],
      "text/plain": [
       "         ID Entity Counterparty Currency_Pair\n",
       "5  ADIR3717   ADIR         CITI        USDSGD\n",
       "6  ADIR3715   ADIR          BOA        USDJPY\n",
       "7   ADUS808   ADUS         CITI        USDCHF\n",
       "8  ADIR3709   ADIR          BOA        USDJPY\n",
       "9  ADIR3708   ADIR          BOA        EURUSD"
      ]
     },
     "execution_count": 134,
     "metadata": {},
     "output_type": "execute_result"
    }
   ],
   "source": [
    "# will take a subset of columns and rows\n",
    "df.iloc[5:10, :4]"
   ]
  },
  {
   "cell_type": "markdown",
   "metadata": {},
   "source": [
    "##### note that the index (very first column on the left) is not considered one of the columns, but just a row reference"
   ]
  },
  {
   "cell_type": "code",
   "execution_count": 135,
   "metadata": {},
   "outputs": [
    {
     "data": {
      "text/plain": [
       "ID                           NDBV169\n",
       "Entity                          NDBV\n",
       "Counterparty                     BOA\n",
       "Currency_Pair                 EURKRW\n",
       "Buy_Currency                     EUR\n",
       "Sell_Currency                    KRW\n",
       "Trade_Date       2020-03-13 00:00:00\n",
       "Delivery_Date    2020-03-17 00:00:00\n",
       "Contract_Rate                 1371.7\n",
       "Buy_Amount               2.26717e+06\n",
       "Sell_Amount              -3109871282\n",
       "Name: 35, dtype: object"
      ]
     },
     "execution_count": 135,
     "metadata": {},
     "output_type": "execute_result"
    }
   ],
   "source": [
    "df.iloc[-1, :]"
   ]
  },
  {
   "cell_type": "markdown",
   "metadata": {},
   "source": [
    "## 3. b. df.loc()\n",
    "\n",
    "To reference an row, series of rows or columns by the labels in the column, use .loc()"
   ]
  },
  {
   "cell_type": "code",
   "execution_count": 136,
   "metadata": {},
   "outputs": [
    {
     "data": {
      "text/html": [
       "<div>\n",
       "<style scoped>\n",
       "    .dataframe tbody tr th:only-of-type {\n",
       "        vertical-align: middle;\n",
       "    }\n",
       "\n",
       "    .dataframe tbody tr th {\n",
       "        vertical-align: top;\n",
       "    }\n",
       "\n",
       "    .dataframe thead th {\n",
       "        text-align: right;\n",
       "    }\n",
       "</style>\n",
       "<table border=\"1\" class=\"dataframe\">\n",
       "  <thead>\n",
       "    <tr style=\"text-align: right;\">\n",
       "      <th></th>\n",
       "      <th>ID</th>\n",
       "      <th>Entity</th>\n",
       "      <th>Counterparty</th>\n",
       "      <th>Currency_Pair</th>\n",
       "      <th>Buy_Currency</th>\n",
       "      <th>Sell_Currency</th>\n",
       "      <th>Trade_Date</th>\n",
       "      <th>Delivery_Date</th>\n",
       "      <th>Contract_Rate</th>\n",
       "      <th>Buy_Amount</th>\n",
       "      <th>Sell_Amount</th>\n",
       "    </tr>\n",
       "  </thead>\n",
       "  <tbody>\n",
       "    <tr>\n",
       "      <th>6</th>\n",
       "      <td>ADIR3715</td>\n",
       "      <td>ADIR</td>\n",
       "      <td>BOA</td>\n",
       "      <td>USDJPY</td>\n",
       "      <td>USD</td>\n",
       "      <td>JPY</td>\n",
       "      <td>2012-08-09</td>\n",
       "      <td>2012-10-10</td>\n",
       "      <td>78.5226</td>\n",
       "      <td>3820556.0</td>\n",
       "      <td>-300000000</td>\n",
       "    </tr>\n",
       "  </tbody>\n",
       "</table>\n",
       "</div>"
      ],
      "text/plain": [
       "         ID Entity Counterparty Currency_Pair Buy_Currency Sell_Currency  \\\n",
       "6  ADIR3715   ADIR          BOA        USDJPY          USD           JPY   \n",
       "\n",
       "  Trade_Date Delivery_Date  Contract_Rate  Buy_Amount  Sell_Amount  \n",
       "6 2012-08-09    2012-10-10        78.5226   3820556.0   -300000000  "
      ]
     },
     "execution_count": 136,
     "metadata": {},
     "output_type": "execute_result"
    }
   ],
   "source": [
    "df.loc[df['ID']=='ADIR3715']"
   ]
  },
  {
   "cell_type": "code",
   "execution_count": 137,
   "metadata": {},
   "outputs": [
    {
     "data": {
      "text/html": [
       "<div>\n",
       "<style scoped>\n",
       "    .dataframe tbody tr th:only-of-type {\n",
       "        vertical-align: middle;\n",
       "    }\n",
       "\n",
       "    .dataframe tbody tr th {\n",
       "        vertical-align: top;\n",
       "    }\n",
       "\n",
       "    .dataframe thead th {\n",
       "        text-align: right;\n",
       "    }\n",
       "</style>\n",
       "<table border=\"1\" class=\"dataframe\">\n",
       "  <thead>\n",
       "    <tr style=\"text-align: right;\">\n",
       "      <th></th>\n",
       "      <th>ID</th>\n",
       "      <th>Entity</th>\n",
       "      <th>Counterparty</th>\n",
       "      <th>Currency_Pair</th>\n",
       "      <th>Buy_Currency</th>\n",
       "      <th>Sell_Currency</th>\n",
       "      <th>Trade_Date</th>\n",
       "      <th>Delivery_Date</th>\n",
       "      <th>Contract_Rate</th>\n",
       "      <th>Buy_Amount</th>\n",
       "      <th>Sell_Amount</th>\n",
       "    </tr>\n",
       "  </thead>\n",
       "  <tbody>\n",
       "    <tr>\n",
       "      <th>4</th>\n",
       "      <td>ADUS810</td>\n",
       "      <td>ADUS</td>\n",
       "      <td>CITI</td>\n",
       "      <td>EURUSD</td>\n",
       "      <td>EUR</td>\n",
       "      <td>USD</td>\n",
       "      <td>2012-08-09</td>\n",
       "      <td>2012-10-11</td>\n",
       "      <td>1.229400</td>\n",
       "      <td>1000000.00</td>\n",
       "      <td>-1229400</td>\n",
       "    </tr>\n",
       "    <tr>\n",
       "      <th>25</th>\n",
       "      <td>ADUS799</td>\n",
       "      <td>ADUS</td>\n",
       "      <td>CITI</td>\n",
       "      <td>EURUSD</td>\n",
       "      <td>EUR</td>\n",
       "      <td>USD</td>\n",
       "      <td>2012-07-17</td>\n",
       "      <td>2012-10-11</td>\n",
       "      <td>1.228709</td>\n",
       "      <td>7000000.00</td>\n",
       "      <td>-8600963</td>\n",
       "    </tr>\n",
       "    <tr>\n",
       "      <th>35</th>\n",
       "      <td>NDBV169</td>\n",
       "      <td>NDBV</td>\n",
       "      <td>BOA</td>\n",
       "      <td>EURKRW</td>\n",
       "      <td>EUR</td>\n",
       "      <td>KRW</td>\n",
       "      <td>2020-03-13</td>\n",
       "      <td>2020-03-17</td>\n",
       "      <td>1371.700000</td>\n",
       "      <td>2267165.77</td>\n",
       "      <td>-3109871282</td>\n",
       "    </tr>\n",
       "  </tbody>\n",
       "</table>\n",
       "</div>"
      ],
      "text/plain": [
       "         ID Entity Counterparty Currency_Pair Buy_Currency Sell_Currency  \\\n",
       "4   ADUS810   ADUS         CITI        EURUSD          EUR           USD   \n",
       "25  ADUS799   ADUS         CITI        EURUSD          EUR           USD   \n",
       "35  NDBV169   NDBV          BOA        EURKRW          EUR           KRW   \n",
       "\n",
       "   Trade_Date Delivery_Date  Contract_Rate  Buy_Amount  Sell_Amount  \n",
       "4  2012-08-09    2012-10-11       1.229400  1000000.00     -1229400  \n",
       "25 2012-07-17    2012-10-11       1.228709  7000000.00     -8600963  \n",
       "35 2020-03-13    2020-03-17    1371.700000  2267165.77  -3109871282  "
      ]
     },
     "execution_count": 137,
     "metadata": {},
     "output_type": "execute_result"
    }
   ],
   "source": [
    "df.loc[df['Buy_Currency']=='EUR']"
   ]
  },
  {
   "cell_type": "code",
   "execution_count": 138,
   "metadata": {},
   "outputs": [
    {
     "data": {
      "text/html": [
       "<div>\n",
       "<style scoped>\n",
       "    .dataframe tbody tr th:only-of-type {\n",
       "        vertical-align: middle;\n",
       "    }\n",
       "\n",
       "    .dataframe tbody tr th {\n",
       "        vertical-align: top;\n",
       "    }\n",
       "\n",
       "    .dataframe thead th {\n",
       "        text-align: right;\n",
       "    }\n",
       "</style>\n",
       "<table border=\"1\" class=\"dataframe\">\n",
       "  <thead>\n",
       "    <tr style=\"text-align: right;\">\n",
       "      <th></th>\n",
       "      <th>ID</th>\n",
       "      <th>Entity</th>\n",
       "      <th>Counterparty</th>\n",
       "      <th>Currency_Pair</th>\n",
       "      <th>Buy_Currency</th>\n",
       "      <th>Sell_Currency</th>\n",
       "      <th>Trade_Date</th>\n",
       "      <th>Delivery_Date</th>\n",
       "      <th>Contract_Rate</th>\n",
       "      <th>Buy_Amount</th>\n",
       "      <th>Sell_Amount</th>\n",
       "    </tr>\n",
       "  </thead>\n",
       "  <tbody>\n",
       "    <tr>\n",
       "      <th>35</th>\n",
       "      <td>NDBV169</td>\n",
       "      <td>NDBV</td>\n",
       "      <td>BOA</td>\n",
       "      <td>EURKRW</td>\n",
       "      <td>EUR</td>\n",
       "      <td>KRW</td>\n",
       "      <td>2020-03-13</td>\n",
       "      <td>2020-03-17</td>\n",
       "      <td>1371.7</td>\n",
       "      <td>2267165.77</td>\n",
       "      <td>-3109871282</td>\n",
       "    </tr>\n",
       "  </tbody>\n",
       "</table>\n",
       "</div>"
      ],
      "text/plain": [
       "         ID Entity Counterparty Currency_Pair Buy_Currency Sell_Currency  \\\n",
       "35  NDBV169   NDBV          BOA        EURKRW          EUR           KRW   \n",
       "\n",
       "   Trade_Date Delivery_Date  Contract_Rate  Buy_Amount  Sell_Amount  \n",
       "35 2020-03-13    2020-03-17         1371.7  2267165.77  -3109871282  "
      ]
     },
     "execution_count": 138,
     "metadata": {},
     "output_type": "execute_result"
    }
   ],
   "source": [
    "df.loc[df['Trade_Date']>= '2020-01-01']"
   ]
  },
  {
   "cell_type": "code",
   "execution_count": null,
   "metadata": {},
   "outputs": [],
   "source": []
  },
  {
   "cell_type": "code",
   "execution_count": null,
   "metadata": {},
   "outputs": [],
   "source": []
  },
  {
   "cell_type": "code",
   "execution_count": null,
   "metadata": {},
   "outputs": [],
   "source": []
  },
  {
   "cell_type": "code",
   "execution_count": null,
   "metadata": {},
   "outputs": [],
   "source": []
  },
  {
   "cell_type": "code",
   "execution_count": null,
   "metadata": {},
   "outputs": [],
   "source": []
  },
  {
   "cell_type": "code",
   "execution_count": null,
   "metadata": {},
   "outputs": [],
   "source": []
  },
  {
   "cell_type": "code",
   "execution_count": null,
   "metadata": {},
   "outputs": [],
   "source": []
  },
  {
   "cell_type": "code",
   "execution_count": null,
   "metadata": {},
   "outputs": [],
   "source": []
  }
 ],
 "metadata": {
  "kernelspec": {
   "display_name": "Python 3.7.3 64-bit ('base': conda)",
   "language": "python",
   "name": "python37364bitbasecondaf40c37e8e9dd45c89e043b248b661bde"
  },
  "language_info": {
   "codemirror_mode": {
    "name": "ipython",
    "version": 3
   },
   "file_extension": ".py",
   "mimetype": "text/x-python",
   "name": "python",
   "nbconvert_exporter": "python",
   "pygments_lexer": "ipython3",
   "version": "3.7.3"
  }
 },
 "nbformat": 4,
 "nbformat_minor": 2
}
