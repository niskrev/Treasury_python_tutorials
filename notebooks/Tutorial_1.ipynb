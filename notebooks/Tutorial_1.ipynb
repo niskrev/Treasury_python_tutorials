{
 "cells": [
  {
   "cell_type": "markdown",
   "metadata": {},
   "source": [
    "# Python tutorial 1\n",
    "\n",
    "This is our first python tutorial. It will cover not only python but the Jupyter Notebook procedures\n",
    "\n",
    "Today we will cover:\n",
    "\n",
    "### Structure of jupyter notebook\n",
    " * Cells and cell type\n",
    " * Menu buttons\n",
    " * restarting a kernal (what is a kernal?)\n",
    "\n",
    "### Programming basics and variable types in python\n",
    " * Hello World\n",
    " * print statements - variables and strings\n",
    " * Strings: Creation and methods\n",
    " * lists\n",
    " * iteration with objects (lists and strings)\n",
    " * dictionaries\n",
    " * tuples\n",
    " \n",
    " ___"
   ]
  },
  {
   "cell_type": "markdown",
   "metadata": {},
   "source": [
    "## Jupyter Notebook Tutorial\n",
    "\n",
    "Jupyter stands for 'Julia', 'Python', and 'R', which are three programming languages. Notebooks allow for visual explaination of programs that can include graphics, text, code and output.\n",
    "\n",
    "There are three types of cells we will be using:\n",
    "    - Markdown cells: Cells that can include text, images, tables and anything a word document can contain.\n",
    "    - Code Cells: cells that have code in them and can be executed by the user\n",
    "    - Output cells: if your code cell creates output to the notebook, it will be contained in an output cell.\n",
    "    \n",
    "Note: The default type of cell is a code cell. At the top of the Jupyter Notebook, there is a dropdown arrow that allows you to change the cell type to 'Markdown' from 'Code' (below the Widget's menu)\n",
    "\n",
    "___\n",
    "##### Markdown Cells:\n",
    "Markdown cells can be just text, but there are also include graphics, tables, pictures, equations and formatted text\n",
    "\n",
    "<b>This is bold text </b>\n",
    "\n",
    "<i>Italic Text </i>\n",
    "\n",
    "<blockquote> This is where I have my blockquote text. It will all be indented to make it easier to read </blockquote>\n",
    "\n",
    "To get the formatting in your markdown cell visible, you need to hit [Shift] + [Enter].\n",
    "\n",
    "To edit the markdown cell, you need to double click on the cell\n",
    "##### Code Cells:\n",
    "Not surprisingly, code cells have code in them! The rows in a code cell are also numbered and there is an \"In []\" on the far left. \n",
    "\n",
    "If you want to put a comment in a code cell, start that row with # and python will ignore the line\n",
    "\n",
    "##### Output Cells:\n",
    "Output cells magically appear below a code cell if the code creates output to be printed. Code cells that have an variable or object as the last line (versus a command) will also produce an output cell with this object being printed.\n",
    "\n",
    "You cannot edit output cells\n",
    "\n",
    "As a quick example, the below code cell creates an output cell"
   ]
  },
  {
   "cell_type": "code",
   "execution_count": 2,
   "metadata": {},
   "outputs": [
    {
     "data": {
      "text/plain": [
       "3"
      ]
     },
     "execution_count": 2,
     "metadata": {},
     "output_type": "execute_result"
    }
   ],
   "source": [
    "3"
   ]
  },
  {
   "cell_type": "markdown",
   "metadata": {},
   "source": [
    "## What the hell is a kernel???\n",
    "Good question. For a Jupyter Notebook to be able to show output and rerun cells, it has to have a program running in the back that stores all of the information. This is called a kernel. (No idea why, but it is. Not sure if it is after a popcorn kernel or the unit of truth.)\n",
    "\n",
    "OK. I looked it up it is after the Old English word for 'seed', meaning this is where everything grows from.\n",
    "\n",
    "When you step through a notebook making code changes, the kernal keeps track of everything. It also numbers the code cells and output cells that have been run. (See the #1 in the code cell and output cell above)\n",
    "\n",
    "The cells are run one at a time (usually), so order matters in a program. If you make a mistake that changes your data to something you don't want, you need a way to reset everything. This is called resetting the kernal.\n",
    "To do this, you select 'Kernel' from the menu bar and usually select 'restart and clear all output'. This will make all of the values you entered disappear until you rerun the code cells.\n",
    "\n",
    "If you select this now, it will remove the # on our code cell above and remove the output cell completely.\n",
    "\n",
    "When you rerun that code cell, the output cell magically reappears.\n",
    "\n",
    "You need to know this because programming is all about making mistakes and starting over! Trust me, this is a very common command.\n",
    "___"
   ]
  },
  {
   "cell_type": "markdown",
   "metadata": {},
   "source": [
    "# Python Basics\n",
    "\n",
    "## Strings\n",
    "Strings are simply text. It can be one character or the entire text of \"Pride and Prejudice\" so there is not a length limitation.\n",
    "\n",
    "Strings are a specific type of variable. They are an 'object' which simply means that all strings are treated the same and you can do similar things with all strings. These are called methods (just functions that are specific to strings.)\n",
    "<i> This is just like a car is an object and it has things you can do with it (methods) like turn left, brake, etc.</i>\n",
    "\n",
    "In python, if you are creating a string, it has to contain quotes around it for python to know it is a string. The quotes can be either single or double, but they need to match.\n",
    "\n",
    "The code cell below prints the string 'Hello World'"
   ]
  },
  {
   "cell_type": "code",
   "execution_count": 3,
   "metadata": {},
   "outputs": [
    {
     "name": "stdout",
     "output_type": "stream",
     "text": [
      "Hello World\n"
     ]
    }
   ],
   "source": [
    "print(\"Hello World\")"
   ]
  },
  {
   "cell_type": "markdown",
   "metadata": {},
   "source": [
    "What happens if we eliminate the quotes?"
   ]
  },
  {
   "cell_type": "code",
   "execution_count": 4,
   "metadata": {},
   "outputs": [
    {
     "ename": "SyntaxError",
     "evalue": "invalid syntax (<ipython-input-4-10cb182148e3>, line 1)",
     "output_type": "error",
     "traceback": [
      "\u001b[0;36m  File \u001b[0;32m\"<ipython-input-4-10cb182148e3>\"\u001b[0;36m, line \u001b[0;32m1\u001b[0m\n\u001b[0;31m    print(Hello World)\u001b[0m\n\u001b[0m                    ^\u001b[0m\n\u001b[0;31mSyntaxError\u001b[0m\u001b[0;31m:\u001b[0m invalid syntax\n"
     ]
    }
   ],
   "source": [
    "print(Hello World)"
   ]
  },
  {
   "cell_type": "markdown",
   "metadata": {},
   "source": [
    "###### DOH!\n",
    "What is happening here is that python has no idea what you are talking about because it did not know you wanted to print a string.\n",
    "\n",
    "You can create a variable that is a string. (Note, you can name it almost anything you want but it has to be less than 79 characters and should not include the following ' ~ ! # $ & ( ) { } | \\ ; \" > < and 'Space')"
   ]
  },
  {
   "cell_type": "code",
   "execution_count": 5,
   "metadata": {},
   "outputs": [
    {
     "name": "stdout",
     "output_type": "stream",
     "text": [
      "Hello World!\n"
     ]
    }
   ],
   "source": [
    "my_string = 'Hello World!'\n",
    "print(my_string)"
   ]
  },
  {
   "cell_type": "markdown",
   "metadata": {},
   "source": [
    "Jupyter Notebooks will automatically print out the variable if you just leave the variable name in the cell and hit [Shift] + [Enter]"
   ]
  },
  {
   "cell_type": "code",
   "execution_count": 6,
   "metadata": {},
   "outputs": [
    {
     "data": {
      "text/plain": [
       "'Hello World!'"
      ]
     },
     "execution_count": 6,
     "metadata": {},
     "output_type": "execute_result"
    }
   ],
   "source": [
    "my_string"
   ]
  },
  {
   "cell_type": "markdown",
   "metadata": {},
   "source": [
    "##### Referencing parts of a string \n",
    "NOTE: Python starts at zero when it is indexing, because zero is the first number. (This may be confusing sometimes, but you will get used to it. \n",
    "\n",
    "To to reference one character simply put the character location (from the left) in the brackets."
   ]
  },
  {
   "cell_type": "code",
   "execution_count": 7,
   "metadata": {},
   "outputs": [
    {
     "data": {
      "text/plain": [
       "'H'"
      ]
     },
     "execution_count": 7,
     "metadata": {},
     "output_type": "execute_result"
    }
   ],
   "source": [
    "my_string[0]"
   ]
  },
  {
   "cell_type": "code",
   "execution_count": 8,
   "metadata": {},
   "outputs": [
    {
     "data": {
      "text/plain": [
       "' '"
      ]
     },
     "execution_count": 8,
     "metadata": {},
     "output_type": "execute_result"
    }
   ],
   "source": [
    "my_string[5]"
   ]
  },
  {
   "cell_type": "code",
   "execution_count": 9,
   "metadata": {},
   "outputs": [
    {
     "ename": "IndexError",
     "evalue": "string index out of range",
     "output_type": "error",
     "traceback": [
      "\u001b[0;31m---------------------------------------------------------------------------\u001b[0m",
      "\u001b[0;31mIndexError\u001b[0m                                Traceback (most recent call last)",
      "\u001b[0;32m<ipython-input-9-183bcaa596d6>\u001b[0m in \u001b[0;36m<module>\u001b[0;34m\u001b[0m\n\u001b[0;32m----> 1\u001b[0;31m \u001b[0mmy_string\u001b[0m\u001b[0;34m[\u001b[0m\u001b[0;36m55\u001b[0m\u001b[0;34m]\u001b[0m\u001b[0;34m\u001b[0m\u001b[0;34m\u001b[0m\u001b[0m\n\u001b[0m",
      "\u001b[0;31mIndexError\u001b[0m: string index out of range"
     ]
    }
   ],
   "source": [
    "my_string[55]"
   ]
  },
  {
   "cell_type": "markdown",
   "metadata": {},
   "source": [
    "##### The string is not that long, so python has no idea what the hell you are talking about!"
   ]
  },
  {
   "cell_type": "markdown",
   "metadata": {},
   "source": [
    "To reference from the right, things are a little stranger.\n",
    "First, you have to enter a negative sign so python knows that we are talking about counting from the other side.\n",
    "Second, you have to put the character you want in the brackets, BUT python starts counting at 1 on that side. (I guess this is because -0 means nothing. Just a guess)"
   ]
  },
  {
   "cell_type": "code",
   "execution_count": 10,
   "metadata": {},
   "outputs": [
    {
     "data": {
      "text/plain": [
       "'!'"
      ]
     },
     "execution_count": 10,
     "metadata": {},
     "output_type": "execute_result"
    }
   ],
   "source": [
    "my_string[-1]"
   ]
  },
  {
   "cell_type": "code",
   "execution_count": 11,
   "metadata": {},
   "outputs": [
    {
     "data": {
      "text/plain": [
       "'r'"
      ]
     },
     "execution_count": 11,
     "metadata": {},
     "output_type": "execute_result"
    }
   ],
   "source": [
    "my_string[-4]"
   ]
  },
  {
   "cell_type": "markdown",
   "metadata": {},
   "source": [
    "### Selecting larger parts of a string\n",
    "To select parts of a string put the locations you want between a colon.\n",
    "\n",
    "##### Caveats\n",
    "1. The second number will not be included\n",
    "2. the : with no number means to the end\n",
    "    so [:4] means all up to, but not including 4\n",
    "    and [4:] means from 4 to the end of the string"
   ]
  },
  {
   "cell_type": "code",
   "execution_count": 12,
   "metadata": {},
   "outputs": [
    {
     "data": {
      "text/plain": [
       "'el'"
      ]
     },
     "execution_count": 12,
     "metadata": {},
     "output_type": "execute_result"
    }
   ],
   "source": [
    "my_string[1:3]"
   ]
  },
  {
   "cell_type": "code",
   "execution_count": 13,
   "metadata": {},
   "outputs": [
    {
     "data": {
      "text/plain": [
       "'Hello'"
      ]
     },
     "execution_count": 13,
     "metadata": {},
     "output_type": "execute_result"
    }
   ],
   "source": [
    "my_string[:5]"
   ]
  },
  {
   "cell_type": "code",
   "execution_count": 14,
   "metadata": {},
   "outputs": [
    {
     "data": {
      "text/plain": [
       "' World!'"
      ]
     },
     "execution_count": 14,
     "metadata": {},
     "output_type": "execute_result"
    }
   ],
   "source": [
    "my_string[5:]"
   ]
  },
  {
   "cell_type": "code",
   "execution_count": 15,
   "metadata": {},
   "outputs": [
    {
     "data": {
      "text/plain": [
       "'rl'"
      ]
     },
     "execution_count": 15,
     "metadata": {},
     "output_type": "execute_result"
    }
   ],
   "source": [
    "my_string[-4:-2]"
   ]
  },
  {
   "cell_type": "markdown",
   "metadata": {},
   "source": [
    "### ASSIGNMENT (I am not talking about homework, but variable assignment)\n",
    "None of the above functions changed the string itself. We were just looking at the characters in a string by location.\n",
    "If we wanted to change the variable my_string to be only the first 5 characters of the string, then we would need to 'assign' the variable my_string to be my_string[:5]\n",
    "\n",
    "See example below"
   ]
  },
  {
   "cell_type": "code",
   "execution_count": 16,
   "metadata": {},
   "outputs": [
    {
     "data": {
      "text/plain": [
       "'Hello World!'"
      ]
     },
     "execution_count": 16,
     "metadata": {},
     "output_type": "execute_result"
    }
   ],
   "source": [
    "my_string"
   ]
  },
  {
   "cell_type": "code",
   "execution_count": 17,
   "metadata": {},
   "outputs": [
    {
     "data": {
      "text/plain": [
       "'Hello'"
      ]
     },
     "execution_count": 17,
     "metadata": {},
     "output_type": "execute_result"
    }
   ],
   "source": [
    "my_string[:5]"
   ]
  },
  {
   "cell_type": "code",
   "execution_count": 18,
   "metadata": {},
   "outputs": [
    {
     "data": {
      "text/plain": [
       "'Hello World!'"
      ]
     },
     "execution_count": 18,
     "metadata": {},
     "output_type": "execute_result"
    }
   ],
   "source": [
    "my_string"
   ]
  },
  {
   "cell_type": "markdown",
   "metadata": {},
   "source": [
    "The variable my_string did not change. If we want to change it to be just the first 5 characters, we would assign it to my_string"
   ]
  },
  {
   "cell_type": "code",
   "execution_count": 19,
   "metadata": {},
   "outputs": [
    {
     "data": {
      "text/plain": [
       "'Hello'"
      ]
     },
     "execution_count": 19,
     "metadata": {},
     "output_type": "execute_result"
    }
   ],
   "source": [
    "my_string = my_string[:5]\n",
    "my_string"
   ]
  },
  {
   "cell_type": "markdown",
   "metadata": {},
   "source": [
    "The variable my_string is now only 5 characters long\n",
    "\n",
    "If we want to keep the entire string but be able to reference the first five as well, make a new variable that is assigned to be the first 5 characters of my_string"
   ]
  },
  {
   "cell_type": "markdown",
   "metadata": {},
   "source": [
    "# Not a comment"
   ]
  },
  {
   "cell_type": "code",
   "execution_count": 20,
   "metadata": {},
   "outputs": [
    {
     "name": "stdout",
     "output_type": "stream",
     "text": [
      "Hello World!\n",
      "Hello\n"
     ]
    }
   ],
   "source": [
    "# starting over with my_string\n",
    "my_string = 'Hello World!'\n",
    "print(my_string)\n",
    "\n",
    "new_string = my_string[:5]\n",
    "print(new_string)\n"
   ]
  },
  {
   "cell_type": "code",
   "execution_count": 16,
   "metadata": {},
   "outputs": [
    {
     "name": "stdout",
     "output_type": "stream",
     "text": [
      "Variable     Type    Data/Info\n",
      "------------------------------\n",
      "my_string    str     Hello World!\n",
      "new_string   str     Hello\n"
     ]
    }
   ],
   "source": [
    "whos"
   ]
  },
  {
   "cell_type": "markdown",
   "metadata": {},
   "source": [
    "#### String Methods (built in functions that will work on any string)\n",
    "\n",
    "###### string.upper() & string.lower()"
   ]
  },
  {
   "cell_type": "code",
   "execution_count": 18,
   "metadata": {},
   "outputs": [
    {
     "data": {
      "text/plain": [
       "'HELLO WORLD!'"
      ]
     },
     "execution_count": 18,
     "metadata": {},
     "output_type": "execute_result"
    }
   ],
   "source": [
    "# Python is my little bitch!uppercase\n",
    "my_string.upper()"
   ]
  },
  {
   "cell_type": "code",
   "execution_count": 19,
   "metadata": {},
   "outputs": [
    {
     "name": "stdout",
     "output_type": "stream",
     "text": [
      "This is my_string: Hello World!\n",
      "This is upper_string: HELLO WORLD!\n",
      "my_string is still the same:  Hello World!\n"
     ]
    }
   ],
   "source": [
    "# Note: The print statement is going to print the text (string) I put in quotes, \n",
    "# then after the comma, print the variable my_string\n",
    "print('This is my_string:', my_string)\n",
    "\n",
    "upper_string = my_string.upper()\n",
    "print('This is upper_string:', upper_string)\n",
    "print('my_string is still the same: ', my_string)"
   ]
  },
  {
   "cell_type": "code",
   "execution_count": 21,
   "metadata": {},
   "outputs": [
    {
     "name": "stdout",
     "output_type": "stream",
     "text": [
      "hello world!\n"
     ]
    }
   ],
   "source": [
    "lower_string = my_string.lower()\n",
    "print(lower_string)"
   ]
  },
  {
   "cell_type": "markdown",
   "metadata": {},
   "source": [
    "#### Note: Python has a function, len(), that returns the length of any object.\n",
    "This is not a method of a string, it is a function that gets performed on the string.\n",
    "The syntax is different in that we put the string into the parenthesis.\n"
   ]
  },
  {
   "cell_type": "code",
   "execution_count": 22,
   "metadata": {},
   "outputs": [
    {
     "name": "stdout",
     "output_type": "stream",
     "text": [
      "12\n"
     ]
    }
   ],
   "source": [
    "print(len(my_string))"
   ]
  },
  {
   "cell_type": "markdown",
   "metadata": {},
   "source": [
    "###### string.count(), string.replace() string.find()\n",
    "\n",
    "Note: With a multiline string, you need three quotes to start and end."
   ]
  },
  {
   "cell_type": "code",
   "execution_count": 23,
   "metadata": {},
   "outputs": [],
   "source": [
    "party_in_USA = \"\"\"\n",
    "I hopped off the plane at LAX\n",
    "With a dream and my cardigan\n",
    "Welcome to the land of fame excess,\n",
    "Whoa, am I gonna fit in?\n",
    "Jumped in the cab,\n",
    "Here I am for the first time\n",
    "Look to my right and I see the Hollywood sign\n",
    "This is all so crazy\n",
    "Everybody seems so famous\n",
    "My tummy's turnin' and I'm feelin' kinda home sick\n",
    "Too much pressure and I'm nervous,\n",
    "That's when the taxi man turned on the radio\n",
    "And the Jay-Z song was on\n",
    "And the Jay-Z song was on\n",
    "And the Jay-Z song was on\n",
    "So I put my hands up\n",
    "They're playing my song,\n",
    "And the butterflies fly away\n",
    "Noddin' my head like, yeah\n",
    "Movin' my hips like, yeah\n",
    "I got my hands up,\n",
    "They're playin' my song\n",
    "You know I'm gonna be okay\n",
    "Yeah, it's a party in the USA\n",
    "Yeah it's a party in the USA\n",
    "Get to the club in a taxi cab\n",
    "Everybody's looking at me now\n",
    "Like \"who's that chick, that's rockin' kicks?\n",
    "She's gotta be from out of town\"\n",
    "So hard with my girls not around me\n",
    "Its definitely not a Nashville party\n",
    "Cause' all I see are stilettos\n",
    "I guess I never got the memo\n",
    "My tummy's turnin' and I'm feelin' kinda home sick\n",
    "Too much pressure and I'm nervous\n",
    "That's when the D.J. dropped my favorite tune\n",
    "And a Britney song was on\n",
    "And a Britney song was on\n",
    "And a Britney song was on\n",
    "So I put my hands up\n",
    "They're playing my song,\n",
    "And the butterflies fly away\n",
    "Noddin' my head like, yeah\n",
    "Movin' my hips like, yeah\n",
    "I got my hands up,\n",
    "They're playin' my song\n",
    "You know I'm gonna be okay\n",
    "Yeah, it's a party in the USA\n",
    "Yeah it's a party in the USA\n",
    "Feel like hoppin' on a flight (On a flight)\n",
    "Back to my hometown tonight (Town tonight)\n",
    "But something stops me every time (Every time)\n",
    "The DJ plays my song and I feel alright\n",
    "So I put my hands up\n",
    "They're playing my song,\n",
    "And the butterflies fly away\n",
    "Noddin' my head like, yeah\n",
    "Movin' my hips like, yeah\n",
    "I got my hands up,\n",
    "They're playin' my song\n",
    "You know I'm gonna be okay\n",
    "Yeah, it's a party in the USA\n",
    "Yeah it's a party in the USA\n",
    "So I put my hands up\n",
    "They're playing my song,\n",
    "And the butterflies fly away\n",
    "Noddin' my head like, yeah\n",
    "Movin' my hips like, yeah\n",
    "I got my hands up,\n",
    "They're playin' my song\n",
    "You know I'm gonna be okay\n",
    "Yeah, it's a party in the USA\n",
    "Yeah it's a party in the USA \"\"\""
   ]
  },
  {
   "cell_type": "code",
   "execution_count": 24,
   "metadata": {},
   "outputs": [
    {
     "data": {
      "text/plain": [
       "2154"
      ]
     },
     "execution_count": 24,
     "metadata": {},
     "output_type": "execute_result"
    }
   ],
   "source": [
    "len(party_in_USA)"
   ]
  },
  {
   "cell_type": "code",
   "execution_count": 25,
   "metadata": {},
   "outputs": [
    {
     "data": {
      "text/plain": [
       "8"
      ]
     },
     "execution_count": 25,
     "metadata": {},
     "output_type": "execute_result"
    }
   ],
   "source": [
    "numb_USA = party_in_USA.count('USA')\n",
    "numb_USA"
   ]
  },
  {
   "cell_type": "code",
   "execution_count": 26,
   "metadata": {},
   "outputs": [
    {
     "data": {
      "text/plain": [
       "4"
      ]
     },
     "execution_count": 26,
     "metadata": {},
     "output_type": "execute_result"
    }
   ],
   "source": [
    "numb_hips = party_in_USA.count('hips')\n",
    "numb_hips"
   ]
  },
  {
   "cell_type": "code",
   "execution_count": 27,
   "metadata": {},
   "outputs": [
    {
     "data": {
      "text/plain": [
       "8"
      ]
     },
     "execution_count": 27,
     "metadata": {},
     "output_type": "execute_result"
    }
   ],
   "source": [
    "numb_yeah = party_in_USA.count('Yeah')\n",
    "numb_yeah"
   ]
  },
  {
   "cell_type": "markdown",
   "metadata": {},
   "source": [
    "Find first occurance of a word (returns the location of the first letter in the word)"
   ]
  },
  {
   "cell_type": "code",
   "execution_count": 28,
   "metadata": {},
   "outputs": [
    {
     "data": {
      "text/plain": [
       "401"
      ]
     },
     "execution_count": 28,
     "metadata": {},
     "output_type": "execute_result"
    }
   ],
   "source": [
    "party_in_USA.find('Jay')"
   ]
  },
  {
   "cell_type": "code",
   "execution_count": 29,
   "metadata": {},
   "outputs": [
    {
     "data": {
      "text/plain": [
       "'Jay-Z song'"
      ]
     },
     "execution_count": 29,
     "metadata": {},
     "output_type": "execute_result"
    }
   ],
   "source": [
    "party_in_USA[401:411]"
   ]
  },
  {
   "cell_type": "markdown",
   "metadata": {},
   "source": [
    "### NOTE About Jupyter Notebooks that is helpful! \n",
    "Put your curser in between the brackers on the replace() commend below and hit [shift] + [tab] and it will show you the arguements available for this method\n",
    "Hit the '+' button and it gives you a description of the options for the function or method"
   ]
  },
  {
   "cell_type": "code",
   "execution_count": 30,
   "metadata": {},
   "outputs": [
    {
     "name": "stdout",
     "output_type": "stream",
     "text": [
      "\n",
      "I hopped off the plane at LAX\n",
      "With a dream and my cardigan\n",
      "Welcome to the land of fame excess,\n",
      "Whoa, am I gonna fit in?\n",
      "Jumped in the cab,\n",
      "Here I am for the first time\n",
      "Look to my right and I see the Hollywood sign\n",
      "This is all so crazy\n",
      "Everybody seems so famous\n",
      "My tummy's turnin' and I'm feelin' kinda home sick\n",
      "Too much pressure and I'm nervous,\n",
      "That's when the taxi man turned on the radio\n",
      "And the Jay-Z song was on\n",
      "And the Jay-Z song was on\n",
      "And the Jay-Z song was on\n",
      "So I put my hands up\n",
      "They're playing my song,\n",
      "And the butterflies fly away\n",
      "Noddin' my head like, yeah\n",
      "Movin' my hips like, yeah\n",
      "I got my hands up,\n",
      "They're playin' my song\n",
      "You know I'm gonna be okay\n",
      "Yeah, it's a party in the basement\n",
      "Yeah it's a party in the basement\n",
      "Get to the club in a taxi cab\n",
      "Everybody's looking at me now\n",
      "Like \"who's that chick, that's rockin' kicks?\n",
      "She's gotta be from out of town\"\n",
      "So hard with my girls not around me\n",
      "Its definitely not a Nashville party\n",
      "Cause' all I see are stilettos\n",
      "I guess I never got the memo\n",
      "My tummy's turnin' and I'm feelin' kinda home sick\n",
      "Too much pressure and I'm nervous\n",
      "That's when the D.J. dropped my favorite tune\n",
      "And a Britney song was on\n",
      "And a Britney song was on\n",
      "And a Britney song was on\n",
      "So I put my hands up\n",
      "They're playing my song,\n",
      "And the butterflies fly away\n",
      "Noddin' my head like, yeah\n",
      "Movin' my hips like, yeah\n",
      "I got my hands up,\n",
      "They're playin' my song\n",
      "You know I'm gonna be okay\n",
      "Yeah, it's a party in the basement\n",
      "Yeah it's a party in the basement\n",
      "Feel like hoppin' on a flight (On a flight)\n",
      "Back to my hometown tonight (Town tonight)\n",
      "But something stops me every time (Every time)\n",
      "The DJ plays my song and I feel alright\n",
      "So I put my hands up\n",
      "They're playing my song,\n",
      "And the butterflies fly away\n",
      "Noddin' my head like, yeah\n",
      "Movin' my hips like, yeah\n",
      "I got my hands up,\n",
      "They're playin' my song\n",
      "You know I'm gonna be okay\n",
      "Yeah, it's a party in the basement\n",
      "Yeah it's a party in the basement\n",
      "So I put my hands up\n",
      "They're playing my song,\n",
      "And the butterflies fly away\n",
      "Noddin' my head like, yeah\n",
      "Movin' my hips like, yeah\n",
      "I got my hands up,\n",
      "They're playin' my song\n",
      "You know I'm gonna be okay\n",
      "Yeah, it's a party in the basement\n",
      "Yeah it's a party in the basement \n"
     ]
    }
   ],
   "source": [
    "party_in_basement = party_in_USA.replace('USA', 'basement')\n",
    "print(party_in_basement)"
   ]
  },
  {
   "cell_type": "code",
   "execution_count": 31,
   "metadata": {},
   "outputs": [],
   "source": [
    "party_list = party_in_USA.split(sep=' ')"
   ]
  },
  {
   "cell_type": "code",
   "execution_count": 32,
   "metadata": {},
   "outputs": [
    {
     "name": "stdout",
     "output_type": "stream",
     "text": [
      "['\\nI', 'hopped', 'off', 'the', 'plane', 'at', 'LAX\\nWith', 'a', 'dream', 'and', 'my', 'cardigan\\nWelcome', 'to', 'the', 'land', 'of', 'fame', 'excess,\\nWhoa,', 'am', 'I', 'gonna', 'fit', 'in?\\nJumped', 'in', 'the', 'cab,\\nHere', 'I', 'am', 'for', 'the', 'first', 'time\\nLook', 'to', 'my', 'right', 'and', 'I', 'see', 'the', 'Hollywood', 'sign\\nThis', 'is', 'all', 'so', 'crazy\\nEverybody', 'seems', 'so', 'famous\\nMy', \"tummy's\", \"turnin'\", 'and', \"I'm\", \"feelin'\", 'kinda', 'home', 'sick\\nToo', 'much', 'pressure', 'and', \"I'm\", \"nervous,\\nThat's\", 'when', 'the', 'taxi', 'man', 'turned', 'on', 'the', 'radio\\nAnd', 'the', 'Jay-Z', 'song', 'was', 'on\\nAnd', 'the', 'Jay-Z', 'song', 'was', 'on\\nAnd', 'the', 'Jay-Z', 'song', 'was', 'on\\nSo', 'I', 'put', 'my', 'hands', \"up\\nThey're\", 'playing', 'my', 'song,\\nAnd', 'the', 'butterflies', 'fly', \"away\\nNoddin'\", 'my', 'head', 'like,', \"yeah\\nMovin'\", 'my', 'hips', 'like,', 'yeah\\nI', 'got', 'my', 'hands', \"up,\\nThey're\", \"playin'\", 'my', 'song\\nYou', 'know', \"I'm\", 'gonna', 'be', 'okay\\nYeah,', \"it's\", 'a', 'party', 'in', 'the', 'USA\\nYeah', \"it's\", 'a', 'party', 'in', 'the', 'USA\\nGet', 'to', 'the', 'club', 'in', 'a', 'taxi', \"cab\\nEverybody's\", 'looking', 'at', 'me', 'now\\nLike', '\"who\\'s', 'that', 'chick,', \"that's\", \"rockin'\", \"kicks?\\nShe's\", 'gotta', 'be', 'from', 'out', 'of', 'town\"\\nSo', 'hard', 'with', 'my', 'girls', 'not', 'around', 'me\\nIts', 'definitely', 'not', 'a', 'Nashville', \"party\\nCause'\", 'all', 'I', 'see', 'are', 'stilettos\\nI', 'guess', 'I', 'never', 'got', 'the', 'memo\\nMy', \"tummy's\", \"turnin'\", 'and', \"I'm\", \"feelin'\", 'kinda', 'home', 'sick\\nToo', 'much', 'pressure', 'and', \"I'm\", \"nervous\\nThat's\", 'when', 'the', 'D.J.', 'dropped', 'my', 'favorite', 'tune\\nAnd', 'a', 'Britney', 'song', 'was', 'on\\nAnd', 'a', 'Britney', 'song', 'was', 'on\\nAnd', 'a', 'Britney', 'song', 'was', 'on\\nSo', 'I', 'put', 'my', 'hands', \"up\\nThey're\", 'playing', 'my', 'song,\\nAnd', 'the', 'butterflies', 'fly', \"away\\nNoddin'\", 'my', 'head', 'like,', \"yeah\\nMovin'\", 'my', 'hips', 'like,', 'yeah\\nI', 'got', 'my', 'hands', \"up,\\nThey're\", \"playin'\", 'my', 'song\\nYou', 'know', \"I'm\", 'gonna', 'be', 'okay\\nYeah,', \"it's\", 'a', 'party', 'in', 'the', 'USA\\nYeah', \"it's\", 'a', 'party', 'in', 'the', 'USA\\nFeel', 'like', \"hoppin'\", 'on', 'a', 'flight', '(On', 'a', 'flight)\\nBack', 'to', 'my', 'hometown', 'tonight', '(Town', 'tonight)\\nBut', 'something', 'stops', 'me', 'every', 'time', '(Every', 'time)\\nThe', 'DJ', 'plays', 'my', 'song', 'and', 'I', 'feel', 'alright\\nSo', 'I', 'put', 'my', 'hands', \"up\\nThey're\", 'playing', 'my', 'song,\\nAnd', 'the', 'butterflies', 'fly', \"away\\nNoddin'\", 'my', 'head', 'like,', \"yeah\\nMovin'\", 'my', 'hips', 'like,', 'yeah\\nI', 'got', 'my', 'hands', \"up,\\nThey're\", \"playin'\", 'my', 'song\\nYou', 'know', \"I'm\", 'gonna', 'be', 'okay\\nYeah,', \"it's\", 'a', 'party', 'in', 'the', 'USA\\nYeah', \"it's\", 'a', 'party', 'in', 'the', 'USA\\nSo', 'I', 'put', 'my', 'hands', \"up\\nThey're\", 'playing', 'my', 'song,\\nAnd', 'the', 'butterflies', 'fly', \"away\\nNoddin'\", 'my', 'head', 'like,', \"yeah\\nMovin'\", 'my', 'hips', 'like,', 'yeah\\nI', 'got', 'my', 'hands', \"up,\\nThey're\", \"playin'\", 'my', 'song\\nYou', 'know', \"I'm\", 'gonna', 'be', 'okay\\nYeah,', \"it's\", 'a', 'party', 'in', 'the', 'USA\\nYeah', \"it's\", 'a', 'party', 'in', 'the', 'USA', '']\n"
     ]
    }
   ],
   "source": [
    "print(party_list)"
   ]
  },
  {
   "cell_type": "code",
   "execution_count": 33,
   "metadata": {},
   "outputs": [
    {
     "data": {
      "text/plain": [
       "371"
      ]
     },
     "execution_count": 33,
     "metadata": {},
     "output_type": "execute_result"
    }
   ],
   "source": [
    "len(party_list)"
   ]
  },
  {
   "cell_type": "code",
   "execution_count": 34,
   "metadata": {},
   "outputs": [],
   "source": [
    "my_set  = set(party_list)"
   ]
  },
  {
   "cell_type": "code",
   "execution_count": 35,
   "metadata": {},
   "outputs": [
    {
     "data": {
      "text/plain": [
       "140"
      ]
     },
     "execution_count": 35,
     "metadata": {},
     "output_type": "execute_result"
    }
   ],
   "source": [
    "len(my_set)"
   ]
  },
  {
   "cell_type": "markdown",
   "metadata": {},
   "source": [
    "### Other string methods\n",
    " - split:  returns a list (which we will learn about below) where the original string is seperated whenever the string has a character you choose (or space)\n",
    "\n",
    " - endswith: check if a string ends with something\n",
    " - join: merges strings\n",
    " - lstrip: removes spaces before first text or numbers in a string\n",
    " - rstrip: removes spaces before after all text or numbers in a string\n",
    " - strip: removes all leading and trailing spaces in a string\n",
    " - find: finds a the first occurance of a smaller string or character in a string\n",
    " - rfind: finds a the last occurance of a smaller string or character in a string\n"
   ]
  },
  {
   "cell_type": "code",
   "execution_count": 40,
   "metadata": {},
   "outputs": [
    {
     "name": "stdout",
     "output_type": "stream",
     "text": [
      "['Hello', 'World!']\n"
     ]
    }
   ],
   "source": [
    "# Notice that split removes whatever character (or characters) are the seperator\n",
    "a=my_string.split(sep=' ')\n",
    "print(a)"
   ]
  },
  {
   "cell_type": "code",
   "execution_count": 43,
   "metadata": {},
   "outputs": [
    {
     "name": "stdout",
     "output_type": "stream",
     "text": [
      "['He', '', 'o Wor', 'd!']\n",
      "Hello World!\n"
     ]
    }
   ],
   "source": [
    "print(my_string.split(sep = 'l'))\n",
    "print(my_string)"
   ]
  },
  {
   "cell_type": "markdown",
   "metadata": {},
   "source": [
    "### Boolean string methods (true or false)\n",
    "These functions check the entire string for something. They return boolean (true/false) values where 1 = true, 0 = false\n",
    "\n",
    " - islpha() checks to see if all characters are in the alphabet\n",
    " - isalnum() checks that all characters are alphanumeric (numbers or letters)\n",
    " - isdigit() checks that all characters are digits\n",
    " - islower() checks that all characters are lowercase\n",
    " - isupper() checks that all characters are uppercase"
   ]
  },
  {
   "cell_type": "code",
   "execution_count": 44,
   "metadata": {},
   "outputs": [
    {
     "name": "stdout",
     "output_type": "stream",
     "text": [
      "Hello World!\n"
     ]
    },
    {
     "data": {
      "text/plain": [
       "False"
      ]
     },
     "execution_count": 44,
     "metadata": {},
     "output_type": "execute_result"
    }
   ],
   "source": [
    "print(my_string)\n",
    "my_string.isalpha()"
   ]
  },
  {
   "cell_type": "code",
   "execution_count": 47,
   "metadata": {},
   "outputs": [
    {
     "name": "stdout",
     "output_type": "stream",
     "text": [
      "False\n"
     ]
    }
   ],
   "source": [
    "is_str_lower=my_string.islower()\n",
    "print(is_str_lower)"
   ]
  },
  {
   "cell_type": "markdown",
   "metadata": {},
   "source": [
    "### Other strange python string stuff"
   ]
  },
  {
   "cell_type": "code",
   "execution_count": 46,
   "metadata": {},
   "outputs": [
    {
     "data": {
      "text/plain": [
       "'Hello World!Hello World!Hello World!Hello World!Hello World!'"
      ]
     },
     "execution_count": 46,
     "metadata": {},
     "output_type": "execute_result"
    }
   ],
   "source": [
    "my_string * 5"
   ]
  },
  {
   "cell_type": "code",
   "execution_count": 48,
   "metadata": {},
   "outputs": [
    {
     "ename": "TypeError",
     "evalue": "can only concatenate str (not \"int\") to str",
     "output_type": "error",
     "traceback": [
      "\u001b[0;31m---------------------------------------------------------------------------\u001b[0m",
      "\u001b[0;31mTypeError\u001b[0m                                 Traceback (most recent call last)",
      "\u001b[0;32m<ipython-input-48-b66ce0f0d697>\u001b[0m in \u001b[0;36m<module>\u001b[0;34m\u001b[0m\n\u001b[0;32m----> 1\u001b[0;31m \u001b[0mmy_string\u001b[0m \u001b[0;34m+\u001b[0m \u001b[0;36m5\u001b[0m\u001b[0;34m\u001b[0m\u001b[0;34m\u001b[0m\u001b[0m\n\u001b[0m",
      "\u001b[0;31mTypeError\u001b[0m: can only concatenate str (not \"int\") to str"
     ]
    }
   ],
   "source": [
    "my_string + 5"
   ]
  },
  {
   "cell_type": "markdown",
   "metadata": {},
   "source": [
    "This may be confusing. The my_string * 5 says take my string and multiply it by 5 - so we have 5 strings together.\n",
    "\n",
    "However, adding a 5, which is an int to a string will not work because python does not know how to deal with the interger here. It can repeat a string 5 times, but it cannot add 5 to a string. There are two ways to change this below. The first makes the 5 a string by putting quotes around it, the second makes the integer 5 a string explicitly with the function str - which converts any number to a string. (Meaning it tells python to record the digits together as if they were characters in an order and not related to each other.)"
   ]
  },
  {
   "cell_type": "code",
   "execution_count": 49,
   "metadata": {},
   "outputs": [
    {
     "data": {
      "text/plain": [
       "'Hello World!5'"
      ]
     },
     "execution_count": 49,
     "metadata": {},
     "output_type": "execute_result"
    }
   ],
   "source": [
    "my_string + '5'"
   ]
  },
  {
   "cell_type": "code",
   "execution_count": 50,
   "metadata": {},
   "outputs": [
    {
     "data": {
      "text/plain": [
       "'Hello World!5'"
      ]
     },
     "execution_count": 50,
     "metadata": {},
     "output_type": "execute_result"
    }
   ],
   "source": [
    "my_string + str(5)"
   ]
  },
  {
   "cell_type": "code",
   "execution_count": 51,
   "metadata": {},
   "outputs": [
    {
     "data": {
      "text/plain": [
       "'4432452'"
      ]
     },
     "execution_count": 51,
     "metadata": {},
     "output_type": "execute_result"
    }
   ],
   "source": [
    "a = str(4432452)\n",
    "a"
   ]
  },
  {
   "cell_type": "code",
   "execution_count": 44,
   "metadata": {},
   "outputs": [
    {
     "ename": "TypeError",
     "evalue": "can only concatenate str (not \"int\") to str",
     "output_type": "error",
     "traceback": [
      "\u001b[0;31m---------------------------------------------------------------------------\u001b[0m",
      "\u001b[0;31mTypeError\u001b[0m                                 Traceback (most recent call last)",
      "\u001b[0;32m<ipython-input-44-98b939904c8e>\u001b[0m in \u001b[0;36m<module>\u001b[0;34m\u001b[0m\n\u001b[0;32m----> 1\u001b[0;31m \u001b[0ma\u001b[0m\u001b[0;34m+\u001b[0m\u001b[0;36m1\u001b[0m\u001b[0;34m\u001b[0m\u001b[0;34m\u001b[0m\u001b[0m\n\u001b[0m",
      "\u001b[0;31mTypeError\u001b[0m: can only concatenate str (not \"int\") to str"
     ]
    }
   ],
   "source": [
    "a+1"
   ]
  },
  {
   "cell_type": "markdown",
   "metadata": {},
   "source": [
    "___\n",
    "## LISTS\n",
    "\n",
    "A list is just a collection of stuff. It can be a collection of anything, strings, integers, fractions, functions, whatever\n",
    "\n",
    "to create a list, assign a variable name to a series of things separated by commas and surrounded by brackets\n",
    " "
   ]
  },
  {
   "cell_type": "code",
   "execution_count": null,
   "metadata": {},
   "outputs": [],
   "source": [
    "print(my_string)\n",
    "my_list = ['A', 'B', 1234, 'cheeze']"
   ]
  },
  {
   "cell_type": "code",
   "execution_count": 52,
   "metadata": {},
   "outputs": [
    {
     "name": "stdout",
     "output_type": "stream",
     "text": [
      "['Hello World!', 'B', 1234, 'cheeze']\n"
     ]
    }
   ],
   "source": [
    "my_list = [my_string, 'B', 1234, 'cheeze']\n",
    "print(my_list)"
   ]
  },
  {
   "cell_type": "markdown",
   "metadata": {},
   "source": [
    "NOTE: strings may seem confusing in a list. The string 'B' was entered in the list in quotes because python needed to know what it was.\n",
    "The variable my_string was already defined as a string in python, so it already knew what it was. If we included the quotes around my_string, it would think I was referring to a new string and not the variable my_string."
   ]
  },
  {
   "cell_type": "code",
   "execution_count": 55,
   "metadata": {},
   "outputs": [
    {
     "name": "stdout",
     "output_type": "stream",
     "text": [
      "['my_string', 'B', '1234', 'cheeze']\n"
     ]
    }
   ],
   "source": [
    "my_list = ['my_string', 'B', '1234', 'cheeze']\n",
    "print(my_list)"
   ]
  },
  {
   "cell_type": "markdown",
   "metadata": {},
   "source": [
    "So in the first my_list we were referring the the string 'Hello World!' by it's variable name. Kind of cool!\n",
    "\n",
    "We can see the variable types by using the python function type()."
   ]
  },
  {
   "cell_type": "code",
   "execution_count": 56,
   "metadata": {},
   "outputs": [
    {
     "name": "stdout",
     "output_type": "stream",
     "text": [
      "This is the variable type for my_string:  <class 'str'>\n",
      "This is the variable type for my_list:  <class 'list'>\n"
     ]
    }
   ],
   "source": [
    "print('This is the variable type for my_string: ', type(my_string))\n",
    "print('This is the variable type for my_list: ', type(my_list))\n"
   ]
  },
  {
   "cell_type": "markdown",
   "metadata": {},
   "source": [
    "##### Selecting elements of a list\n",
    "\n",
    "Just like for strings, we can reference elements of the list by using the [] notation where counting starts from the left (or top) and begins with zero."
   ]
  },
  {
   "cell_type": "code",
   "execution_count": 58,
   "metadata": {},
   "outputs": [
    {
     "name": "stdout",
     "output_type": "stream",
     "text": [
      "['Hello World!', 'B', 1234, 'cheeze']\n"
     ]
    }
   ],
   "source": [
    "my_list = [my_string, 'B', 1234, 'cheeze']\n",
    "print(my_list)"
   ]
  },
  {
   "cell_type": "code",
   "execution_count": 59,
   "metadata": {},
   "outputs": [
    {
     "data": {
      "text/plain": [
       "'Hello World!'"
      ]
     },
     "execution_count": 59,
     "metadata": {},
     "output_type": "execute_result"
    }
   ],
   "source": [
    "my_list[0]"
   ]
  },
  {
   "cell_type": "code",
   "execution_count": 63,
   "metadata": {},
   "outputs": [
    {
     "data": {
      "text/plain": [
       "['B', 1234]"
      ]
     },
     "execution_count": 63,
     "metadata": {},
     "output_type": "execute_result"
    }
   ],
   "source": [
    "my_list[1:3]\n",
    "    "
   ]
  },
  {
   "cell_type": "code",
   "execution_count": 64,
   "metadata": {},
   "outputs": [
    {
     "data": {
      "text/plain": [
       "[1234, 'cheeze']"
      ]
     },
     "execution_count": 64,
     "metadata": {},
     "output_type": "execute_result"
    }
   ],
   "source": [
    "my_list[2:]"
   ]
  },
  {
   "cell_type": "code",
   "execution_count": 65,
   "metadata": {},
   "outputs": [
    {
     "data": {
      "text/plain": [
       "'cheeze'"
      ]
     },
     "execution_count": 65,
     "metadata": {},
     "output_type": "execute_result"
    }
   ],
   "source": [
    "my_list[-1]"
   ]
  },
  {
   "cell_type": "markdown",
   "metadata": {},
   "source": [
    "#### Changing an element in a list\n",
    "To change an element on a list, we need to ASSIGN something to that specific elemement. This is just like how we assinged variables before, but we are going to refer to a specific element of the list and not the entire list itself"
   ]
  },
  {
   "cell_type": "code",
   "execution_count": 66,
   "metadata": {},
   "outputs": [
    {
     "data": {
      "text/plain": [
       "['Hello World!', 'B', 1234, 'monkey']"
      ]
     },
     "execution_count": 66,
     "metadata": {},
     "output_type": "execute_result"
    }
   ],
   "source": [
    "# replace the last element with 'monkey'\n",
    "my_list[-1]='monkey'\n",
    "my_list"
   ]
  },
  {
   "cell_type": "code",
   "execution_count": 67,
   "metadata": {},
   "outputs": [
    {
     "name": "stdout",
     "output_type": "stream",
     "text": [
      "monkey\n"
     ]
    }
   ],
   "source": [
    "# What happens if we forget the [] term?\n",
    "my_list = 'monkey'\n",
    "print(my_list)"
   ]
  },
  {
   "cell_type": "markdown",
   "metadata": {},
   "source": [
    "The variable my_list was overwritten by the string 'monkey'. The type of the variable changed as well."
   ]
  },
  {
   "cell_type": "code",
   "execution_count": 68,
   "metadata": {},
   "outputs": [
    {
     "name": "stdout",
     "output_type": "stream",
     "text": [
      "<class 'str'>\n"
     ]
    }
   ],
   "source": [
    "print(type(my_list))"
   ]
  },
  {
   "cell_type": "markdown",
   "metadata": {},
   "source": [
    "###### DOH! Not what we wanted, so starting over with my_list"
   ]
  },
  {
   "cell_type": "code",
   "execution_count": 69,
   "metadata": {},
   "outputs": [
    {
     "name": "stdout",
     "output_type": "stream",
     "text": [
      "['Hello World!', 'B', 1234, 'cheeze']\n"
     ]
    }
   ],
   "source": [
    "my_list = [my_string, 'B', 1234, 'cheeze']\n",
    "print(my_list)"
   ]
  },
  {
   "cell_type": "markdown",
   "metadata": {},
   "source": [
    "#### Appending a list\n",
    "Adding to a list is simple with the .append() method. \n"
   ]
  },
  {
   "cell_type": "code",
   "execution_count": 70,
   "metadata": {},
   "outputs": [
    {
     "data": {
      "text/plain": [
       "['Hello World!', 'B', 1234, 'cheeze', 5]"
      ]
     },
     "execution_count": 70,
     "metadata": {},
     "output_type": "execute_result"
    }
   ],
   "source": [
    "my_list.append(5)\n",
    "my_list"
   ]
  },
  {
   "cell_type": "code",
   "execution_count": 71,
   "metadata": {},
   "outputs": [
    {
     "name": "stdout",
     "output_type": "stream",
     "text": [
      "['Hello World!', 'B', 1234, 'cheeze', 5, 'another list element!']\n"
     ]
    }
   ],
   "source": [
    "my_list.append('another list element!')\n",
    "print(my_list)"
   ]
  },
  {
   "cell_type": "markdown",
   "metadata": {},
   "source": [
    "We can find the length with the len() function. Again, this is not a method of the list, but a function so the list goes into the parenthesis of len() (versus my_list.len())"
   ]
  },
  {
   "cell_type": "code",
   "execution_count": 72,
   "metadata": {},
   "outputs": [
    {
     "data": {
      "text/plain": [
       "6"
      ]
     },
     "execution_count": 72,
     "metadata": {},
     "output_type": "execute_result"
    }
   ],
   "source": [
    "len(my_list)"
   ]
  },
  {
   "cell_type": "markdown",
   "metadata": {},
   "source": [
    "##### Inserting an element into a list\n",
    "\n",
    "The list.insert() method takes two inputs.\n",
    " - First, where you want it inserted. 0 = put it first and push everybody else down (or to left)\n",
    " - Second, what you want to insert, a number, or string in quotes"
   ]
  },
  {
   "cell_type": "code",
   "execution_count": 73,
   "metadata": {},
   "outputs": [
    {
     "name": "stdout",
     "output_type": "stream",
     "text": [
      "['Hello World!', 'B', 1234, 'cheeze', 5, 'another list element!']\n",
      "['Hello World!', 'Cow', 'B', 1234, 'cheeze', 5, 'another list element!']\n"
     ]
    }
   ],
   "source": [
    "print(my_list)\n",
    "my_list.insert(1, 'Cow')\n",
    "print(my_list)"
   ]
  },
  {
   "cell_type": "markdown",
   "metadata": {},
   "source": [
    "### math"
   ]
  },
  {
   "cell_type": "code",
   "execution_count": 74,
   "metadata": {},
   "outputs": [],
   "source": [
    "a=34\n",
    "b=20"
   ]
  },
  {
   "cell_type": "code",
   "execution_count": 77,
   "metadata": {},
   "outputs": [
    {
     "data": {
      "text/plain": [
       "54"
      ]
     },
     "execution_count": 77,
     "metadata": {},
     "output_type": "execute_result"
    }
   ],
   "source": [
    "c=a+b\n",
    "c"
   ]
  },
  {
   "cell_type": "code",
   "execution_count": 78,
   "metadata": {},
   "outputs": [
    {
     "data": {
      "text/plain": [
       "-20"
      ]
     },
     "execution_count": 78,
     "metadata": {},
     "output_type": "execute_result"
    }
   ],
   "source": [
    "d=a-c\n",
    "d"
   ]
  },
  {
   "cell_type": "code",
   "execution_count": 79,
   "metadata": {},
   "outputs": [
    {
     "ename": "SyntaxError",
     "evalue": "can't assign to operator (<ipython-input-79-af8d4082010c>, line 1)",
     "output_type": "error",
     "traceback": [
      "\u001b[0;36m  File \u001b[0;32m\"<ipython-input-79-af8d4082010c>\"\u001b[0;36m, line \u001b[0;32m1\u001b[0m\n\u001b[0;31m    d-5=a+2\u001b[0m\n\u001b[0m           ^\u001b[0m\n\u001b[0;31mSyntaxError\u001b[0m\u001b[0;31m:\u001b[0m can't assign to operator\n"
     ]
    }
   ],
   "source": [
    "d-5=a+2"
   ]
  },
  {
   "cell_type": "code",
   "execution_count": 81,
   "metadata": {},
   "outputs": [
    {
     "data": {
      "text/plain": [
       "41"
      ]
     },
     "execution_count": 81,
     "metadata": {},
     "output_type": "execute_result"
    }
   ],
   "source": [
    "d=a+7\n",
    "d"
   ]
  },
  {
   "cell_type": "code",
   "execution_count": 82,
   "metadata": {},
   "outputs": [
    {
     "name": "stdout",
     "output_type": "stream",
     "text": [
      "36\n"
     ]
    }
   ],
   "source": [
    "print(d-5)"
   ]
  },
  {
   "cell_type": "code",
   "execution_count": 84,
   "metadata": {},
   "outputs": [
    {
     "data": {
      "text/plain": [
       "680"
      ]
     },
     "execution_count": 84,
     "metadata": {},
     "output_type": "execute_result"
    }
   ],
   "source": [
    "e=a*b\n",
    "e"
   ]
  },
  {
   "cell_type": "code",
   "execution_count": 86,
   "metadata": {},
   "outputs": [
    {
     "data": {
      "text/plain": [
       "1.7"
      ]
     },
     "execution_count": 86,
     "metadata": {},
     "output_type": "execute_result"
    }
   ],
   "source": [
    "f=a/b\n",
    "f"
   ]
  },
  {
   "cell_type": "code",
   "execution_count": 87,
   "metadata": {},
   "outputs": [
    {
     "data": {
      "text/plain": [
       "1156"
      ]
     },
     "execution_count": 87,
     "metadata": {},
     "output_type": "execute_result"
    }
   ],
   "source": [
    "g=a**2\n",
    "g"
   ]
  },
  {
   "cell_type": "code",
   "execution_count": 88,
   "metadata": {},
   "outputs": [
    {
     "data": {
      "text/plain": [
       "4747561509943"
      ]
     },
     "execution_count": 88,
     "metadata": {},
     "output_type": "execute_result"
    }
   ],
   "source": [
    "7**15"
   ]
  },
  {
   "cell_type": "code",
   "execution_count": 89,
   "metadata": {},
   "outputs": [
    {
     "data": {
      "text/plain": [
       "93795878551873643905024"
      ]
     },
     "execution_count": 89,
     "metadata": {},
     "output_type": "execute_result"
    }
   ],
   "source": [
    "a**15"
   ]
  },
  {
   "cell_type": "code",
   "execution_count": 90,
   "metadata": {},
   "outputs": [
    {
     "data": {
      "text/plain": [
       "54"
      ]
     },
     "execution_count": 90,
     "metadata": {},
     "output_type": "execute_result"
    }
   ],
   "source": [
    "a+b"
   ]
  },
  {
   "cell_type": "markdown",
   "metadata": {},
   "source": [
    "### functions\n",
    "1. start with def\n",
    "2. space then function name\n",
    "3. colon at end of function definition\n",
    "4. everything indented\n",
    "5. \n",
    "6. "
   ]
  },
  {
   "cell_type": "code",
   "execution_count": 104,
   "metadata": {},
   "outputs": [],
   "source": [
    "def add_stuff(var1, var2):\n",
    "    print('This is var 1: ', var1)\n",
    "    print('This is var 2: ', var2)\n",
    "    return var1+var2"
   ]
  },
  {
   "cell_type": "code",
   "execution_count": 105,
   "metadata": {},
   "outputs": [
    {
     "name": "stdout",
     "output_type": "stream",
     "text": [
      "This is var 1:  1\n",
      "This is var 2:  3\n"
     ]
    },
    {
     "data": {
      "text/plain": [
       "4"
      ]
     },
     "execution_count": 105,
     "metadata": {},
     "output_type": "execute_result"
    }
   ],
   "source": [
    "x=add_stuff(1,3)\n",
    "x"
   ]
  },
  {
   "cell_type": "code",
   "execution_count": 107,
   "metadata": {},
   "outputs": [
    {
     "name": "stdout",
     "output_type": "stream",
     "text": [
      "Variable            Type        Data/Info\n",
      "-----------------------------------------\n",
      "a                   int         34\n",
      "add_stuff           function    <function add_stuff at 0x1089cd710>\n",
      "b                   int         20\n",
      "c                   int         54\n",
      "d                   int         41\n",
      "e                   int         680\n",
      "f                   float       1.7\n",
      "g                   int         1156\n",
      "is_str_lower        bool        False\n",
      "lower_string        str         hello world!\n",
      "my_list             list        n=7\n",
      "my_set              set         {'favorite', 'pressure', <...> 'from', 'know', 'girls'}\n",
      "my_string           str         Hello World!\n",
      "new_string          str         Hello\n",
      "numb_USA            int         8\n",
      "numb_hips           int         4\n",
      "numb_yeah           int         8\n",
      "party_in_USA        str         \\nI hopped off the plane <...> it's a party in the USA \n",
      "party_in_basement   str         \\nI hopped off the plane <...> a party in the basement \n",
      "party_list          list        n=371\n",
      "x                   int         4\n"
     ]
    }
   ],
   "source": [
    "whos"
   ]
  },
  {
   "cell_type": "code",
   "execution_count": 110,
   "metadata": {},
   "outputs": [
    {
     "name": "stdout",
     "output_type": "stream",
     "text": [
      "This is var 1:  34\n",
      "This is var 2:  20\n"
     ]
    },
    {
     "data": {
      "text/plain": [
       "54"
      ]
     },
     "execution_count": 110,
     "metadata": {},
     "output_type": "execute_result"
    }
   ],
   "source": [
    "add_stuff(a,b)"
   ]
  },
  {
   "cell_type": "code",
   "execution_count": 118,
   "metadata": {},
   "outputs": [],
   "source": [
    "def square_this(var1):\n",
    "    #print('This is var 1', var1)\n",
    "    return var1**2"
   ]
  },
  {
   "cell_type": "code",
   "execution_count": 112,
   "metadata": {},
   "outputs": [
    {
     "name": "stdout",
     "output_type": "stream",
     "text": [
      "This is var 1 -55\n"
     ]
    },
    {
     "data": {
      "text/plain": [
       "3025"
      ]
     },
     "execution_count": 112,
     "metadata": {},
     "output_type": "execute_result"
    }
   ],
   "source": [
    "square_this(-55)"
   ]
  },
  {
   "cell_type": "markdown",
   "metadata": {},
   "source": [
    "### iterations"
   ]
  },
  {
   "cell_type": "code",
   "execution_count": 114,
   "metadata": {},
   "outputs": [
    {
     "name": "stdout",
     "output_type": "stream",
     "text": [
      "Hello World!\n",
      "Cow\n",
      "B\n",
      "1234\n",
      "cheeze\n",
      "5\n",
      "another list element!\n"
     ]
    }
   ],
   "source": [
    "for item in my_list:\n",
    "    print(item)"
   ]
  },
  {
   "cell_type": "code",
   "execution_count": 115,
   "metadata": {},
   "outputs": [
    {
     "name": "stdout",
     "output_type": "stream",
     "text": [
      "H\n",
      "e\n",
      "l\n",
      "l\n",
      "o\n",
      " \n",
      "W\n",
      "o\n",
      "r\n",
      "l\n",
      "d\n",
      "!\n"
     ]
    }
   ],
   "source": [
    "for item in my_string:\n",
    "    print(item)"
   ]
  },
  {
   "cell_type": "code",
   "execution_count": 116,
   "metadata": {},
   "outputs": [
    {
     "data": {
      "text/plain": [
       "[1, -5, 12, 1.1]"
      ]
     },
     "execution_count": 116,
     "metadata": {},
     "output_type": "execute_result"
    }
   ],
   "source": [
    "numb_list=[1,-5,12,1.1]\n",
    "numb_list"
   ]
  },
  {
   "cell_type": "code",
   "execution_count": 119,
   "metadata": {},
   "outputs": [
    {
     "name": "stdout",
     "output_type": "stream",
     "text": [
      "this numb 1\n",
      "squared 1\n",
      "this numb -5\n",
      "squared 25\n",
      "this numb 12\n",
      "squared 144\n",
      "this numb 1.1\n",
      "squared 1.2100000000000002\n"
     ]
    }
   ],
   "source": [
    "for numb in numb_list:\n",
    "    print('this numb',numb)\n",
    "    print('squared',square_this(numb))"
   ]
  },
  {
   "cell_type": "code",
   "execution_count": 120,
   "metadata": {},
   "outputs": [
    {
     "data": {
      "text/plain": [
       "range(0, 15)"
      ]
     },
     "execution_count": 120,
     "metadata": {},
     "output_type": "execute_result"
    }
   ],
   "source": [
    "x= range(15)\n",
    "x"
   ]
  },
  {
   "cell_type": "code",
   "execution_count": 121,
   "metadata": {},
   "outputs": [
    {
     "name": "stdout",
     "output_type": "stream",
     "text": [
      "0\n",
      "1\n",
      "2\n",
      "3\n",
      "4\n",
      "5\n",
      "6\n",
      "7\n",
      "8\n",
      "9\n",
      "10\n",
      "11\n",
      "12\n",
      "13\n",
      "14\n"
     ]
    }
   ],
   "source": [
    "for item in x:\n",
    "    print(item)"
   ]
  },
  {
   "cell_type": "code",
   "execution_count": 127,
   "metadata": {},
   "outputs": [],
   "source": [
    "def find_y(x,m,b):\n",
    "    return m*x+b"
   ]
  },
  {
   "cell_type": "code",
   "execution_count": 128,
   "metadata": {},
   "outputs": [],
   "source": [
    "m=1.2\n",
    "b=-12"
   ]
  },
  {
   "cell_type": "code",
   "execution_count": 129,
   "metadata": {},
   "outputs": [
    {
     "data": {
      "text/plain": [
       "-8.4"
      ]
     },
     "execution_count": 129,
     "metadata": {},
     "output_type": "execute_result"
    }
   ],
   "source": [
    "find_y(3,m,b)"
   ]
  },
  {
   "cell_type": "code",
   "execution_count": 130,
   "metadata": {},
   "outputs": [
    {
     "name": "stdout",
     "output_type": "stream",
     "text": [
      "[-12.0, -10.8, -9.6, -8.4, -7.2, -6.0, -4.800000000000001, -3.5999999999999996, -2.4000000000000004, -1.200000000000001, 0.0, 1.1999999999999993, 2.3999999999999986, 3.5999999999999996, 4.800000000000001]\n"
     ]
    }
   ],
   "source": [
    "y=[]\n",
    "for this_x in x:\n",
    "    this_y= find_y(this_x, m, b)\n",
    "    y.append(this_y)\n",
    "    \n",
    "print(y)    "
   ]
  },
  {
   "cell_type": "code",
   "execution_count": null,
   "metadata": {},
   "outputs": [],
   "source": []
  }
 ],
 "metadata": {
  "kernelspec": {
   "display_name": "Python 3",
   "language": "python",
   "name": "python3"
  },
  "language_info": {
   "codemirror_mode": {
    "name": "ipython",
    "version": 3
   },
   "file_extension": ".py",
   "mimetype": "text/x-python",
   "name": "python",
   "nbconvert_exporter": "python",
   "pygments_lexer": "ipython3",
   "version": "3.7.3"
  }
 },
 "nbformat": 4,
 "nbformat_minor": 2
}
