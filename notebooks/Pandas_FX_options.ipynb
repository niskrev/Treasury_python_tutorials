{
 "cells": [
  {
   "cell_type": "markdown",
   "metadata": {},
   "source": [
    "# Exploratory Data Analysis with Pandas\n"
   ]
  },
  {
   "cell_type": "code",
   "execution_count": null,
   "metadata": {},
   "outputs": [],
   "source": [
    "# load up the static forward data from the FX_DERIVATIVES_ALL database\n",
    "df= pd.read_excel('../data/FX_DERIVATIVES_ALL.xlsx', sheet_name='FX_options_static')"
   ]
  },
  {
   "cell_type": "markdown",
   "metadata": {},
   "source": [
    "#### I do not like the capitalization of these columns, so I am going to rename these columns without the capital letters. (Except for ID because this is a common abbreviation.)\n",
    "There are several ways to rename the columns. The first is a simple dictionary approach using the rename() method of a dataframe that you will most likely use very often.\n",
    "\n",
    "###### NOTE: If you are getting data from tableau, you will most likely be using .rename() very often. \n",
    "We should not have blank spaces in column names. (Very Strong Preference, but not a hard requirement. Much like making sure your fly is up. It does not have to be, but people will disappointed if you always have yours down.)"
   ]
  },
  {
   "cell_type": "code",
   "execution_count": null,
   "metadata": {},
   "outputs": [],
   "source": [
    "df = df.rename(columns = {'Entity': 'entity',\n",
    "                         'Counterparty': 'counterparty',\n",
    "                         'Currency_Pair': 'currency_pair',\n",
    "                         'Buy_Currency': 'buy_currency',\n",
    "                         'Sell_Currency': 'sell_currency',\n",
    "                         'Trade_Date': 'trade_date',\n",
    "                         'Expiry_Date': 'expiry_date',\n",
    "                         'Contract_Rate': 'contract_rate',\n",
    "                         'Buy_Amount': 'buy_amount',\n",
    "                         'Sell_Amount': 'sell_amount',\n",
    "                         'Premium': 'premium',\n",
    "                         'Sold_to_Rev': 'sold_to_rev',\n",
    "                         'Sold_to_PL': 'sold_to_PL',\n",
    "                         'Sold_Date': 'sold_date'})"
   ]
  },
  {
   "cell_type": "code",
   "execution_count": null,
   "metadata": {},
   "outputs": [],
   "source": []
  },
  {
   "cell_type": "code",
   "execution_count": 2,
   "metadata": {},
   "outputs": [
    {
     "ename": "NameError",
     "evalue": "name 'df' is not defined",
     "output_type": "error",
     "traceback": [
      "\u001b[0;31m---------------------------------------------------------------------------\u001b[0m",
      "\u001b[0;31mNameError\u001b[0m                                 Traceback (most recent call last)",
      "\u001b[0;32m<ipython-input-2-2f616f943bc8>\u001b[0m in \u001b[0;36m<module>\u001b[0;34m\u001b[0m\n\u001b[1;32m      1\u001b[0m \u001b[0;31m# extracting column names\u001b[0m\u001b[0;34m\u001b[0m\u001b[0;34m\u001b[0m\u001b[0;34m\u001b[0m\u001b[0m\n\u001b[0;32m----> 2\u001b[0;31m \u001b[0mlist_cols\u001b[0m \u001b[0;34m=\u001b[0m \u001b[0mdf\u001b[0m\u001b[0;34m.\u001b[0m\u001b[0mcolumns\u001b[0m\u001b[0;34m\u001b[0m\u001b[0;34m\u001b[0m\u001b[0m\n\u001b[0m\u001b[1;32m      3\u001b[0m \u001b[0mlist_cols\u001b[0m\u001b[0;34m\u001b[0m\u001b[0;34m\u001b[0m\u001b[0m\n",
      "\u001b[0;31mNameError\u001b[0m: name 'df' is not defined"
     ]
    }
   ],
   "source": [
    "# extracting column names\n",
    "list_cols = df.columns\n",
    "list_cols"
   ]
  },
  {
   "cell_type": "markdown",
   "metadata": {},
   "source": [
    "Notice that our variable list_cols is an Index and not a list! This is because pandas knows the columns are an index into the dataframe. We need to change this to be a list using the list() constructor."
   ]
  },
  {
   "cell_type": "code",
   "execution_count": null,
   "metadata": {},
   "outputs": [],
   "source": [
    "list_cols = list(list_cols)\n",
    "list_cols"
   ]
  },
  {
   "cell_type": "code",
   "execution_count": null,
   "metadata": {},
   "outputs": [],
   "source": [
    "# convert the column names to be lower case for all columns EXCEPT 'ID'\n",
    "for i, item in enumerate(list_cols):\n",
    "    print(i, item)\n",
    "    if item != 'ID':\n",
    "        lower_case = item.lower()\n",
    "        list_cols[i] = lower_case\n",
    "list_cols"
   ]
  },
  {
   "cell_type": "code",
   "execution_count": null,
   "metadata": {},
   "outputs": [],
   "source": [
    "# reassigning the columns of the dataframe to be the lower case list of column names.\n",
    "df.columns = list_cols"
   ]
  },
  {
   "cell_type": "code",
   "execution_count": null,
   "metadata": {},
   "outputs": [],
   "source": [
    "df.info()"
   ]
  },
  {
   "cell_type": "code",
   "execution_count": null,
   "metadata": {},
   "outputs": [],
   "source": [
    "df['currency_pair'].value_counts(dropna=False)"
   ]
  },
  {
   "cell_type": "markdown",
   "metadata": {},
   "source": [
    "### Looks like we have a typo in the dataset. EUEUSD should be EURUSD.\n",
    "We will fix this using the replace method for the dataframe."
   ]
  },
  {
   "cell_type": "code",
   "execution_count": null,
   "metadata": {},
   "outputs": [],
   "source": [
    "df = df.replace('EUEUSD', 'EURUSD')\n",
    "df['currency_pair'].value_counts(dropna=False)"
   ]
  },
  {
   "cell_type": "markdown",
   "metadata": {},
   "source": [
    "##### Note: I globally replaced EUEUSD with EURUSD, so everywhere in the dataframe where there is a EUEUSD it now reads EURUSD.\n",
    "We could also replace just the elements in the currency_pair column by using:\n",
    "\n",
    "df['currency_pair'] = df['currency_pair'].replace('EUEUSD', 'EURUSD')\n",
    "\n",
    "This is sometimes helpful if you do not want to change other columns in the dataframe."
   ]
  },
  {
   "cell_type": "code",
   "execution_count": null,
   "metadata": {},
   "outputs": [],
   "source": []
  },
  {
   "cell_type": "code",
   "execution_count": null,
   "metadata": {},
   "outputs": [],
   "source": []
  },
  {
   "cell_type": "code",
   "execution_count": null,
   "metadata": {},
   "outputs": [],
   "source": []
  },
  {
   "cell_type": "code",
   "execution_count": null,
   "metadata": {},
   "outputs": [],
   "source": []
  },
  {
   "cell_type": "code",
   "execution_count": null,
   "metadata": {},
   "outputs": [],
   "source": []
  },
  {
   "cell_type": "code",
   "execution_count": null,
   "metadata": {},
   "outputs": [],
   "source": []
  }
 ],
 "metadata": {
  "kernelspec": {
   "display_name": "Python 3.7.3 64-bit ('base': conda)",
   "language": "python",
   "name": "python37364bitbasecondaf40c37e8e9dd45c89e043b248b661bde"
  },
  "language_info": {
   "codemirror_mode": {
    "name": "ipython",
    "version": 3
   },
   "file_extension": ".py",
   "mimetype": "text/x-python",
   "name": "python",
   "nbconvert_exporter": "python",
   "pygments_lexer": "ipython3",
   "version": "3.7.3"
  }
 },
 "nbformat": 4,
 "nbformat_minor": 2
}
