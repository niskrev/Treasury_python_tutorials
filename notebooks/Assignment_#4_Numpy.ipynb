{
 "cells": [
  {
   "cell_type": "markdown",
   "metadata": {},
   "source": [
    "# Python Tutorial Assignment #4\n",
    "## This assignment is just to get you comfortable with numpy and use some of the great methods available in this module.\n",
    "\n",
    "You do not have to submit these to anyone, but if you complete them on your own, it will help solidify your understanding of the fundamentals we have covered.\n",
    "\n",
    "### Please save the file with a different name now! (such as assignment_1_DS or whatever your initials may be)\n",
    "If you do not do this, your work may be overwritten the next time we pull down a new lecture.\n",
    "___"
   ]
  },
  {
   "cell_type": "markdown",
   "metadata": {},
   "source": [
    "## Standard import function\n",
    "As we mentioned in the tutorial, <b> ALWAYS </B> use the following import statement for numpy"
   ]
  },
  {
   "cell_type": "code",
   "execution_count": 1,
   "metadata": {},
   "outputs": [],
   "source": [
    "import numpy as np"
   ]
  },
  {
   "cell_type": "markdown",
   "metadata": {},
   "source": [
    "### Below simply loads a csv file and creates a numpy array called total_return_index.\n",
    "We will not be using this np.genfromtxt function anywhere but here, so don't worry about the details. Pandas is much easier to use, but I wanted this assignment to be exclusively numpy."
   ]
  },
  {
   "cell_type": "code",
   "execution_count": 2,
   "metadata": {},
   "outputs": [
    {
     "data": {
      "text/plain": [
       "array([[1.000000e+00, 2.010000e+03, 2.900000e+01, ..., 6.777332e+02,\n",
       "        7.095719e+02, 2.448400e+02],\n",
       "       [2.000000e+00, 2.010000e+03, 2.600000e+01, ..., 7.248279e+02,\n",
       "        7.090745e+02, 2.359900e+02],\n",
       "       [3.000000e+00, 2.010000e+03, 3.100000e+01, ..., 7.844138e+02,\n",
       "        7.334012e+02, 2.436500e+02],\n",
       "       ...,\n",
       "       [5.000000e+00, 2.020000e+03, 2.900000e+01, ..., 4.744358e+02,\n",
       "        1.318625e+03, 4.280100e+02],\n",
       "       [6.000000e+00, 2.020000e+03, 3.000000e+01, ..., 5.308116e+02,\n",
       "        1.348645e+03, 4.291000e+02],\n",
       "       [7.000000e+00, 2.020000e+03, 3.100000e+01, ..., 5.580156e+02,\n",
       "        1.410006e+03, 4.367200e+02]])"
      ]
     },
     "execution_count": 2,
     "metadata": {},
     "output_type": "execute_result"
    }
   ],
   "source": [
    "total_return_index = np.genfromtxt('../data/Asset_Returns.csv', delimiter=',', skip_header=1)\n",
    "total_return_index\n"
   ]
  },
  {
   "cell_type": "markdown",
   "metadata": {},
   "source": [
    "##  <font color = 'blue'> 1. How many rows and columns are in the array total_return_index?</font>"
   ]
  },
  {
   "cell_type": "code",
   "execution_count": 3,
   "metadata": {},
   "outputs": [
    {
     "data": {
      "text/plain": [
       "(127, 14)"
      ]
     },
     "execution_count": 3,
     "metadata": {},
     "output_type": "execute_result"
    }
   ],
   "source": []
  },
  {
   "cell_type": "code",
   "execution_count": null,
   "metadata": {},
   "outputs": [],
   "source": []
  },
  {
   "cell_type": "markdown",
   "metadata": {},
   "source": [
    "## <font color = 'blue'>2. Look at  first three columns of the total_return_index data. What is contained in each of the first three columns? </font>\n",
    "First Column (zero)"
   ]
  },
  {
   "cell_type": "code",
   "execution_count": null,
   "metadata": {},
   "outputs": [],
   "source": []
  },
  {
   "cell_type": "markdown",
   "metadata": {},
   "source": [
    "Second column"
   ]
  },
  {
   "cell_type": "code",
   "execution_count": null,
   "metadata": {},
   "outputs": [],
   "source": []
  },
  {
   "cell_type": "markdown",
   "metadata": {},
   "source": [
    "Third Column"
   ]
  },
  {
   "cell_type": "code",
   "execution_count": null,
   "metadata": {},
   "outputs": [],
   "source": []
  },
  {
   "cell_type": "markdown",
   "metadata": {},
   "source": [
    "##### YOUR ANSWER HERE:"
   ]
  },
  {
   "cell_type": "markdown",
   "metadata": {},
   "source": [
    "## <font color='blue'>3. Create three arrays, with the following names (based on what you learned above)</font>\n",
    " - day_of_month\n",
    " - month\n",
    " - year\n",
    " "
   ]
  },
  {
   "cell_type": "code",
   "execution_count": null,
   "metadata": {},
   "outputs": [],
   "source": []
  },
  {
   "cell_type": "code",
   "execution_count": null,
   "metadata": {},
   "outputs": [],
   "source": []
  },
  {
   "cell_type": "code",
   "execution_count": null,
   "metadata": {},
   "outputs": [],
   "source": []
  },
  {
   "cell_type": "markdown",
   "metadata": {},
   "source": [
    "### Below converts the dates you have created to a list of strings containing the dates\n",
    "NOTE: We will be using pandas dates and datetime objects for most of our work, so I am doing this the long way here just to avoid having to deal with dates. We will get to pandas soon. For now just run the code cell after you have created the year, month and day_of_week vectors."
   ]
  },
  {
   "cell_type": "code",
   "execution_count": 14,
   "metadata": {
    "collapsed": true
   },
   "outputs": [
    {
     "data": {
      "text/plain": [
       "['2010-1-29',\n",
       " '2010-2-26',\n",
       " '2010-3-31',\n",
       " '2010-4-30',\n",
       " '2010-5-31',\n",
       " '2010-6-30',\n",
       " '2010-7-30',\n",
       " '2010-8-31',\n",
       " '2010-9-30',\n",
       " '2010-10-29',\n",
       " '2010-11-30',\n",
       " '2010-12-31',\n",
       " '2011-1-31',\n",
       " '2011-2-28',\n",
       " '2011-3-31',\n",
       " '2011-4-29',\n",
       " '2011-5-31',\n",
       " '2011-6-30',\n",
       " '2011-7-29',\n",
       " '2011-8-31',\n",
       " '2011-9-30',\n",
       " '2011-10-31',\n",
       " '2011-11-30',\n",
       " '2011-12-30',\n",
       " '2012-1-31',\n",
       " '2012-2-29',\n",
       " '2012-3-30',\n",
       " '2012-4-30',\n",
       " '2012-5-31',\n",
       " '2012-6-29',\n",
       " '2012-7-31',\n",
       " '2012-8-31',\n",
       " '2012-9-28',\n",
       " '2012-10-31',\n",
       " '2012-11-30',\n",
       " '2012-12-31',\n",
       " '2013-1-31',\n",
       " '2013-2-28',\n",
       " '2013-3-29',\n",
       " '2013-4-30',\n",
       " '2013-5-31',\n",
       " '2013-6-28',\n",
       " '2013-7-31',\n",
       " '2013-8-30',\n",
       " '2013-9-30',\n",
       " '2013-10-31',\n",
       " '2013-11-29',\n",
       " '2013-12-31',\n",
       " '2014-1-31',\n",
       " '2014-2-28',\n",
       " '2014-3-31',\n",
       " '2014-4-30',\n",
       " '2014-5-30',\n",
       " '2014-6-30',\n",
       " '2014-7-31',\n",
       " '2014-8-29',\n",
       " '2014-9-30',\n",
       " '2014-10-31',\n",
       " '2014-11-28',\n",
       " '2014-12-31',\n",
       " '2015-1-30',\n",
       " '2015-2-27',\n",
       " '2015-3-31',\n",
       " '2015-4-30',\n",
       " '2015-5-29',\n",
       " '2015-6-30',\n",
       " '2015-7-31',\n",
       " '2015-8-31',\n",
       " '2015-9-30',\n",
       " '2015-10-30',\n",
       " '2015-11-30',\n",
       " '2015-12-31',\n",
       " '2016-1-29',\n",
       " '2016-2-29',\n",
       " '2016-3-31',\n",
       " '2016-4-29',\n",
       " '2016-5-31',\n",
       " '2016-6-30',\n",
       " '2016-7-29',\n",
       " '2016-8-31',\n",
       " '2016-9-30',\n",
       " '2016-10-31',\n",
       " '2016-11-30',\n",
       " '2016-12-30',\n",
       " '2017-1-31',\n",
       " '2017-2-28',\n",
       " '2017-3-31',\n",
       " '2017-4-28',\n",
       " '2017-5-31',\n",
       " '2017-6-30',\n",
       " '2017-7-31',\n",
       " '2017-8-31',\n",
       " '2017-9-29',\n",
       " '2017-10-31',\n",
       " '2017-11-30',\n",
       " '2017-12-29',\n",
       " '2018-1-31',\n",
       " '2018-2-28',\n",
       " '2018-3-30',\n",
       " '2018-4-30',\n",
       " '2018-5-31',\n",
       " '2018-6-29',\n",
       " '2018-7-31',\n",
       " '2018-8-31',\n",
       " '2018-9-28',\n",
       " '2018-10-31',\n",
       " '2018-11-30',\n",
       " '2018-12-31',\n",
       " '2019-1-31',\n",
       " '2019-2-28',\n",
       " '2019-3-29',\n",
       " '2019-4-30',\n",
       " '2019-5-31',\n",
       " '2019-6-28',\n",
       " '2019-7-31',\n",
       " '2019-8-30',\n",
       " '2019-9-30',\n",
       " '2019-10-31',\n",
       " '2019-11-29',\n",
       " '2019-12-31',\n",
       " '2020-1-31',\n",
       " '2020-2-28',\n",
       " '2020-3-31',\n",
       " '2020-4-30',\n",
       " '2020-5-29',\n",
       " '2020-6-30',\n",
       " '2020-7-31']"
      ]
     },
     "execution_count": 14,
     "metadata": {},
     "output_type": "execute_result"
    }
   ],
   "source": [
    "list_dates = []\n",
    "for i in range(len(day_of_month)):\n",
    "    \n",
    "    this_date = str(int(year[i])) + '-' + str(int(month[i])) +'-' + str(int(day_of_month[i]))\n",
    "    list_dates.append(this_date)\n",
    "    \n",
    "list_dates"
   ]
  },
  {
   "cell_type": "markdown",
   "metadata": {},
   "source": [
    "## <font color = 'blue'>4. Delete the three date columns from the total_return_index array</font>"
   ]
  },
  {
   "cell_type": "code",
   "execution_count": 15,
   "metadata": {},
   "outputs": [],
   "source": [
    "total_return_index = total_return_index[:,3:]"
   ]
  },
  {
   "cell_type": "code",
   "execution_count": 16,
   "metadata": {},
   "outputs": [
    {
     "data": {
      "text/plain": [
       "(127, 11)"
      ]
     },
     "execution_count": 16,
     "metadata": {},
     "output_type": "execute_result"
    }
   ],
   "source": []
  },
  {
   "cell_type": "code",
   "execution_count": null,
   "metadata": {},
   "outputs": [],
   "source": []
  },
  {
   "cell_type": "markdown",
   "metadata": {},
   "source": [
    "##### The list asset_classes contains a mapping to the remaining columns of the total_return_index array. \n",
    "Do the shapes match?"
   ]
  },
  {
   "cell_type": "code",
   "execution_count": 18,
   "metadata": {},
   "outputs": [],
   "source": [
    "asset_classes = ['Global Equity', 'S&P 500', 'Russel 1000',\n",
    "                 'US Treasury Composit','Globl Fixed Income',\n",
    "                 'Crude Oil', 'Gold', 'Coffee','Copper',\n",
    "                 'Global High Yeild', 'Real Estate Funds']\n"
   ]
  },
  {
   "cell_type": "code",
   "execution_count": 19,
   "metadata": {},
   "outputs": [
    {
     "data": {
      "text/plain": [
       "11"
      ]
     },
     "execution_count": 19,
     "metadata": {},
     "output_type": "execute_result"
    }
   ],
   "source": []
  },
  {
   "cell_type": "code",
   "execution_count": 20,
   "metadata": {},
   "outputs": [
    {
     "data": {
      "text/plain": [
       "(127, 11)"
      ]
     },
     "execution_count": 20,
     "metadata": {},
     "output_type": "execute_result"
    }
   ],
   "source": []
  },
  {
   "cell_type": "markdown",
   "metadata": {},
   "source": [
    "### Lets look at the data we have using matplotlib.\n",
    "\n",
    "NOTE: We will go in depth on matplotlib at the next tutorial. For now we will use the easiest function available called 'plot'. The code cell below loads up the matplotlib library called pyplot (for python plotting) as plt.\n",
    "The next line, is a 'magic function' that tells the Jupyter Notebook to automatically draw and show the plots created with matplotlib. (Go ahead and ignore this now. We will get into it next week.)"
   ]
  },
  {
   "cell_type": "code",
   "execution_count": 21,
   "metadata": {},
   "outputs": [],
   "source": [
    "# Matplotlib import statments (the second line is for Jupyter Notebooks only)\n",
    "import matplotlib.pyplot as plt\n",
    "%matplotlib inline"
   ]
  },
  {
   "cell_type": "markdown",
   "metadata": {},
   "source": [
    "The line below creates a plot of the first column of our total_return_index array."
   ]
  },
  {
   "cell_type": "code",
   "execution_count": 52,
   "metadata": {
    "scrolled": false
   },
   "outputs": [
    {
     "data": {
      "text/plain": [
       "Text(0.5, 1.0, 'Global Equity')"
      ]
     },
     "execution_count": 52,
     "metadata": {},
     "output_type": "execute_result"
    },
    {
     "data": {
      "image/png": "[encoded data removed]",
      "text/plain": [
       "<Figure size 432x288 with 1 Axes>"
      ]
     },
     "metadata": {},
     "output_type": "display_data"
    }
   ],
   "source": [
    "# Simple plotting of one asset in the total_retun_index series\n",
    "i = 0\n",
    "plt.plot(total_return_index[:,i])\n",
    "plt.title(asset_classes[i])"
   ]
  },
  {
   "cell_type": "markdown",
   "metadata": {},
   "source": [
    "#### Rerun the code above for several of the assets we have in the dataset (by changing the i= line)."
   ]
  },
  {
   "cell_type": "markdown",
   "metadata": {},
   "source": [
    "#### You will notice that the dataset contains the value of a total return series and NOT the total returns of the index. We need to calculate the total returns by doing the following:\n",
    "\n",
    "    (P1 - P0) / P0\n",
    " - First difference the data (find the change in each series from one day to the next)\n",
    " - Divide the difference by the initial value.\n",
    " \n",
    " \n",
    "Numpy has a function np.diff that easily first differences data. "
   ]
  },
  {
   "cell_type": "code",
   "execution_count": 27,
   "metadata": {},
   "outputs": [
    {
     "data": {
      "text/plain": [
       "(126, 11)"
      ]
     },
     "execution_count": 27,
     "metadata": {},
     "output_type": "execute_result"
    }
   ],
   "source": [
    "arr_first_diff = np.diff(total_return_index, n=1, axis = 0)\n",
    "arr_first_diff.shape"
   ]
  },
  {
   "cell_type": "markdown",
   "metadata": {},
   "source": [
    " Notice that the shape of the array is correct here. We had 127 monthly observations in the total_return_index and we have one less (due to the differencing) in the arr_first_diff\n",
    "\n",
    "##### Change the value for i below to see different first differenced plots of the asset_classes"
   ]
  },
  {
   "cell_type": "code",
   "execution_count": 29,
   "metadata": {},
   "outputs": [
    {
     "data": {
      "text/plain": [
       "Text(0.5, 1.0, 'Global Equity')"
      ]
     },
     "execution_count": 29,
     "metadata": {},
     "output_type": "execute_result"
    },
    {
     "data": {
      "image/png": "[encoded data removed]",
      "text/plain": [
       "<Figure size 432x288 with 1 Axes>"
      ]
     },
     "metadata": {
      "needs_background": "light"
     },
     "output_type": "display_data"
    }
   ],
   "source": [
    "# Simple plotting of the first difference\n",
    "i = 0\n",
    "plt.plot(arr_first_diff[:,i])\n",
    "plt.title(asset_classes[i])"
   ]
  },
  {
   "cell_type": "markdown",
   "metadata": {},
   "source": [
    "##### To turn these into a return series, we need to divide the first differenced numbers by their initial values.\n",
    "\n",
    "NOTE: Since the arrays are different shapes, we need to think about which numbers we want to use in the total_return_index. We want to exlude the last day since we do not have a differenced amount available for those observations. (This is why we have the total_returns_index[:-1,:] in the code snippet below.\n"
   ]
  },
  {
   "cell_type": "code",
   "execution_count": 30,
   "metadata": {},
   "outputs": [
    {
     "data": {
      "text/plain": [
       "array([[ 0.01409677,  0.0309755 ,  0.03295879, ...,  0.06948855,\n",
       "        -0.00070099, -0.03614605],\n",
       "       [ 0.06193047,  0.06034705,  0.06144667, ...,  0.08220696,\n",
       "         0.03430768,  0.032459  ],\n",
       "       [ 0.0001403 ,  0.01578638,  0.01850832, ..., -0.06125938,\n",
       "         0.02031535, -0.00377591],\n",
       "       ...,\n",
       "       [ 0.04830824,  0.04762746,  0.05276143, ...,  0.03487149,\n",
       "         0.05102969, -0.01143293],\n",
       "       [ 0.02645102,  0.01988821,  0.0221141 , ...,  0.11882704,\n",
       "         0.02276614,  0.00254667],\n",
       "       [ 0.0478414 ,  0.05638517,  0.05855513, ...,  0.05124982,\n",
       "         0.04549826,  0.0177581 ]])"
      ]
     },
     "execution_count": 30,
     "metadata": {},
     "output_type": "execute_result"
    }
   ],
   "source": [
    "# element by element division in numpy is np.divide()\n",
    "returns = np.divide(arr_first_diff, total_return_index[:-1,:])\n",
    "returns"
   ]
  },
  {
   "cell_type": "code",
   "execution_count": 53,
   "metadata": {},
   "outputs": [
    {
     "data": {
      "text/plain": [
       "Text(0.5, 1.0, 'Global Equity')"
      ]
     },
     "execution_count": 53,
     "metadata": {},
     "output_type": "execute_result"
    },
    {
     "data": {
      "image/png": "[encoded data removed]",
      "text/plain": [
       "<Figure size 432x288 with 1 Axes>"
      ]
     },
     "metadata": {},
     "output_type": "display_data"
    }
   ],
   "source": [
    "# simple plotting of returns\n",
    "i = 0\n",
    "plt.plot(returns[:,i])\n",
    "plt.title(asset_classes[i])"
   ]
  },
  {
   "cell_type": "markdown",
   "metadata": {},
   "source": [
    "#### Play with the returns chart by changing the assets"
   ]
  },
  {
   "cell_type": "markdown",
   "metadata": {},
   "source": [
    "## <font color='blue'> 5. Which asset class has the highest arithmatic average (mean) return over our data set?</font>\n",
    "\n",
    "HINT: we want to look at using np.mean. Read the documentation to make sure you get the axis correct. (Or just try no axis, axis=1 and axis= 0 to see what gets returned. Sometimes this is the best way to learn, just by changing things and seeing what happens. It will not break anything, I promise. If it does, just reset your Kernal from the kernal menu.) What shape should this be?"
   ]
  },
  {
   "cell_type": "code",
   "execution_count": 39,
   "metadata": {},
   "outputs": [
    {
     "data": {
      "text/plain": [
       "array([ 0.00827291,  0.01140523,  0.01146611,  0.00313537,  0.00211817,\n",
       "       -0.00759133,  0.00516698, -0.00464171,  0.00040325,  0.00575671,\n",
       "        0.00481223])"
      ]
     },
     "execution_count": 39,
     "metadata": {},
     "output_type": "execute_result"
    }
   ],
   "source": []
  },
  {
   "cell_type": "markdown",
   "metadata": {},
   "source": [
    "## <font color = \"blue\">6. These returns are monthly. Convert the means you calculated into an annualized rate.</font>\n",
    "Hint: We need to compound these returns over 12 periods. Soooo maybe take 1 + the mean return and multiply it by itself for 12 periods and subtract the 1. (Don't worry, numpy and python love to use arrays, so there is no need for a loop here.)"
   ]
  },
  {
   "cell_type": "code",
   "execution_count": null,
   "metadata": {},
   "outputs": [],
   "source": []
  },
  {
   "cell_type": "markdown",
   "metadata": {},
   "source": [
    "## <font color='blue'> 7. Which asset class has the highest standard deviation?</font>"
   ]
  },
  {
   "cell_type": "code",
   "execution_count": 41,
   "metadata": {},
   "outputs": [
    {
     "data": {
      "text/plain": [
       "array([0.04058491, 0.03941787, 0.04026373, 0.01053494, 0.01576977,\n",
       "       0.1067577 , 0.04577785, 0.08716053, 0.06188629, 0.02389896,\n",
       "       0.02040299])"
      ]
     },
     "execution_count": 41,
     "metadata": {},
     "output_type": "execute_result"
    }
   ],
   "source": []
  },
  {
   "cell_type": "markdown",
   "metadata": {},
   "source": [
    "## <font color='blue'>8. numpy has functions argmax and argmin that return an index to the max or minimum value in an array. </font>\n",
    "\n",
    "np.argmax(array)\n",
    "\n",
    "np.argmax(array, axis = 0 or 1)\n",
    "\n",
    "### Finish the following functions below and test them."
   ]
  },
  {
   "cell_type": "code",
   "execution_count": 55,
   "metadata": {},
   "outputs": [],
   "source": [
    "def find_max_return(mean_returns, asset_classes):\n",
    "    # find_max_return prints the name of the asset class with the highest return\n",
    "    #\n",
    "    # inputs:\n",
    "    #     mean_returns: an n x 1 numpy array of annualized returns\n",
    "    #     asset_classes: a list of length n containing asset class names as strings\n",
    "    # \n",
    "    # Hint: use np.argmax and a print statement here\n",
    "    # \n",
    "    # YOUR CODE BELOW\n",
    "\n",
    "    return None\n"
   ]
  },
  {
   "cell_type": "code",
   "execution_count": null,
   "metadata": {},
   "outputs": [],
   "source": [
    "\n",
    "def find_min_std(std_dev, asset_classes):\n",
    "    # find_min_std prints the name of the asset class with the lowest standard deviation\n",
    "    #\n",
    "    # inputs:\n",
    "    #     std_dev: an n x 1 numpy array of standard deviations of returns\n",
    "    #     asset_classes: a list of length n containing asset class names as strings\n",
    "    #\n",
    "    # Hint: use np.argmin and a print statement here\n",
    "    # \n",
    "    # YOUR CODE BELOW\n",
    "\n",
    "    return None\n"
   ]
  },
  {
   "cell_type": "code",
   "execution_count": null,
   "metadata": {},
   "outputs": [],
   "source": [
    "# testing the find_max_return function\n",
    "find_max_return(mean_returns, asset_classes)\n"
   ]
  },
  {
   "cell_type": "code",
   "execution_count": null,
   "metadata": {},
   "outputs": [],
   "source": [
    "# testing the find_min_std function\n",
    "find_min_std(std_dev, asset_classes)\n"
   ]
  },
  {
   "cell_type": "markdown",
   "metadata": {},
   "source": [
    "## <font color='blue'>9. Shape Ratios</font>\n",
    "A sharpe ratio is financial metric that calculates the risk adjusted return per unit of standard deviation.\n",
    "\n",
    "You need three inputs to calculate a sharpe ratio for an asset or asset class. \n",
    " - The mean return of the asset or asset class\n",
    " - The risk free rate over the period. (for now assume this is given and constant.)\n",
    " - The standard deviation of the asset or asset class\n",
    " \n",
    "The calculation is very simple: (mean return - risk free rate) / standard deviation\n",
    "\n",
    "Finish the skeleton code below to return a vector of sharpe ratios and test the function"
   ]
  },
  {
   "cell_type": "code",
   "execution_count": null,
   "metadata": {},
   "outputs": [],
   "source": [
    "risk_free_rate = 0.03"
   ]
  },
  {
   "cell_type": "code",
   "execution_count": null,
   "metadata": {},
   "outputs": [],
   "source": [
    "def calculate_sharpe_ratio(mean_return, standard_deviation, risk_free_rate):\n",
    "    # INPUTS:\n",
    "    #    mean_return: either a single value or an (n x 1) numpy array containing mean returns\n",
    "    #    standard_deviation: either a single value or an (n x 1) numpy array containing standard deviations\n",
    "    #    risk_free_rate: the average short-term UST rate over the period (a scalar or 1 floating point number)\n",
    "    # OUTPUT: \n",
    "    #    arr_sharpe - either a single value or an (n x 1) numpy array containing the sharpe ratios\n",
    "    # \n",
    "    # YOUR CODE BELOW\n",
    "\n",
    "    \n",
    "    return arr_sharpe"
   ]
  },
  {
   "cell_type": "code",
   "execution_count": null,
   "metadata": {},
   "outputs": [],
   "source": [
    "share_ratios = calculate_sharpe_ratio(ann_mean_return, std_dev, risk_free_rate)"
   ]
  },
  {
   "cell_type": "code",
   "execution_count": null,
   "metadata": {},
   "outputs": [],
   "source": []
  },
  {
   "cell_type": "code",
   "execution_count": null,
   "metadata": {},
   "outputs": [],
   "source": []
  },
  {
   "cell_type": "markdown",
   "metadata": {},
   "source": [
    "## <font color='blue'>10. Expected Return on a portfolio</font>\n",
    "To calculate the expected return on a portfolio, we need to know the percentage of the portfolio that is invested in each asset class of the portfolio. These percentages (generally called weights) must sum to 1.\n",
    "\n",
    "The expected return on a portfolio is the sum of each asset class weight multiplied by the expected return on the asset class.\n",
    "\n",
    "Complete the code skeleton below to create a function that calculates the portfolio expected return"
   ]
  },
  {
   "cell_type": "code",
   "execution_count": 46,
   "metadata": {},
   "outputs": [
    {
     "data": {
      "text/plain": [
       "1.0"
      ]
     },
     "execution_count": 46,
     "metadata": {},
     "output_type": "execute_result"
    }
   ],
   "source": [
    "# creating random weigths to the portfolio and making sure that they have to sum to 1.\n",
    "weights = np.random.rand(len(ann_mean_return))\n",
    "total_weights = sum(weights)\n",
    "weights = weights / total_weights\n",
    "weights\n",
    "sum(weights)"
   ]
  },
  {
   "cell_type": "code",
   "execution_count": 56,
   "metadata": {},
   "outputs": [],
   "source": [
    "def calc_port_return(weights, expected_return):\n",
    "    # calc_port_return calculates the weighted expected return on a portfolio. This is the sum of the weight\n",
    "    # of each asset class in the portfolio multiplied by that asset classes expected return.\n",
    "    #\n",
    "    # INPUTS:\n",
    "    #    expected_return: an (n x 1) numpy array containing mean returns of the asset classes\n",
    "    #    weights: an (nx1) numpy array containing the percentage of the portfolio invested in each asset class \n",
    "    #\n",
    "    # OUTPUT: \n",
    "    #    expected_return - a single value that represents the sum of the weights * expected returns of the asset classes\n",
    "    # \n",
    "    # YOUR CODE BELOW\n",
    "\n",
    "    \n",
    "    return expected_return"
   ]
  },
  {
   "cell_type": "code",
   "execution_count": null,
   "metadata": {},
   "outputs": [],
   "source": [
    "expected_return = calc_port_return(weights, ann_mean_return)\n",
    "print(expected_return)"
   ]
  },
  {
   "cell_type": "markdown",
   "metadata": {},
   "source": [
    "## <font color = 'blue'>11. Correlation Coefficients</font>\n",
    "\n",
    "A correlation coeffient measures how two assets change in value relative to one another. \n",
    "\n",
    "A correlation coefficient (by definition) is between 1 and -1.\n",
    "\n",
    "    1: Assets move in the same direction always\n",
    "    \n",
    "    0: Assets in general have no relationship with respect to their directional movements\n",
    "    \n",
    "    -1: Assets move in opposite directions always\n",
    "    \n",
    "numpy has a function np.corrcoef() that will return a correlation coefficient for a matrix. Use this on the return matrix to create a correlation matrix for our asset_classes.\n",
    "\n",
    "Assign this correlation matrix to a variable called corr_matrix"
   ]
  },
  {
   "cell_type": "code",
   "execution_count": null,
   "metadata": {},
   "outputs": [],
   "source": []
  },
  {
   "cell_type": "markdown",
   "metadata": {},
   "source": [
    "##### The correlation matrix should have what shape? Check that this is true"
   ]
  },
  {
   "cell_type": "code",
   "execution_count": null,
   "metadata": {},
   "outputs": [],
   "source": []
  },
  {
   "cell_type": "markdown",
   "metadata": {},
   "source": [
    "#### Note: Below uses seaborn to plot the correlation matrix for our asset returns. \n",
    " \n",
    "We will cover seaborn briefly after we cover the matplotlib tutorial. For now, just don't worry about what the code is doing and just look at the correlation matrix as a heatmap."
   ]
  },
  {
   "cell_type": "code",
   "execution_count": 50,
   "metadata": {},
   "outputs": [
    {
     "data": {
      "text/plain": [
       "<matplotlib.axes._subplots.AxesSubplot at 0x7f8c8004b278>"
      ]
     },
     "execution_count": 50,
     "metadata": {},
     "output_type": "execute_result"
    },
    {
     "data": {
      "image/png": "[encoded data removed]",
      "text/plain": [
       "<Figure size 792x648 with 2 Axes>"
      ]
     },
     "metadata": {},
     "output_type": "display_data"
    }
   ],
   "source": [
    "import seaborn as sns\n",
    "\n",
    "sns.set(style=\"white\")\n",
    "\n",
    "# Generate a mask for the upper triangle\n",
    "mask = np.triu(np.ones_like(corr_matrix, dtype=np.bool))\n",
    "\n",
    "# Set up the matplotlib figure\n",
    "f, ax = plt.subplots(figsize=(11, 9))\n",
    "\n",
    "# Generate a custom diverging colormap\n",
    "cmap = sns.diverging_palette(220, 10, as_cmap=True)\n",
    "\n",
    "# Draw the heatmap with the mask and correct aspect ratio\n",
    "sns.heatmap(corr_matrix, mask=mask, cmap=cmap, vmax=1, vmin=-1, center=0,\n",
    "            xticklabels = asset_classes, yticklabels= asset_classes,\n",
    "            square=True, linewidths=.5, cbar_kws={\"shrink\": .5})"
   ]
  },
  {
   "cell_type": "markdown",
   "metadata": {},
   "source": [
    "## <font color = 'blue'> EXTRA CREDIT: Complete the skeleton code below to create a function that when given a correlation matrix and a specific asset class will return a different asset class that has the lowest correlation with the asset class given </font>"
   ]
  },
  {
   "cell_type": "code",
   "execution_count": null,
   "metadata": {},
   "outputs": [],
   "source": [
    "def find_lowest_corr(asset_class_name, corr_matrix, asset_classes):\n",
    "    # find_lowest_corr finds the corresponding asset class with the lowest correlation to the given asset_class_name\n",
    "    #\n",
    "    # Inputs:\n",
    "    #     asset_class_name: The name of a specific asset class (a string that is a member of asset_classes)\n",
    "    #\n",
    "    #     corr_matrix: an (n x n) matrix of the returns on asset classes\n",
    "    #\n",
    "    #     asset_classes: an nx1 list of strings that contain the asset classes in the corr_matrix\n",
    "    #\n",
    "    # Returns:\n",
    "    #     lowest_corr_asset: a string that contains the name of the asset_class with the lowest correlation\n",
    "    #                        to the asset_class_name asset class.\n",
    "    \n",
    "    "
   ]
  },
  {
   "cell_type": "code",
   "execution_count": null,
   "metadata": {},
   "outputs": [],
   "source": [
    "this_asset_class = asset_classes[i]\n",
    "lowest_corr = find_lowest_corr(this_asset_class, corr_matrix, asset_classes)\n",
    "print('lowest_corr')"
   ]
  },
  {
   "cell_type": "code",
   "execution_count": null,
   "metadata": {},
   "outputs": [],
   "source": []
  },
  {
   "cell_type": "code",
   "execution_count": null,
   "metadata": {},
   "outputs": [],
   "source": []
  },
  {
   "cell_type": "code",
   "execution_count": null,
   "metadata": {},
   "outputs": [],
   "source": []
  }
 ],
 "metadata": {
  "kernelspec": {
   "display_name": "Python 3.7.3 64-bit ('base': conda)",
   "language": "python",
   "name": "python37364bitbasecondaf40c37e8e9dd45c89e043b248b661bde"
  },
  "language_info": {
   "codemirror_mode": {
    "name": "ipython",
    "version": 3
   },
   "file_extension": ".py",
   "mimetype": "text/x-python",
   "name": "python",
   "nbconvert_exporter": "python",
   "pygments_lexer": "ipython3",
   "version": "3.7.3"
  }
 },
 "nbformat": 4,
 "nbformat_minor": 2
}
