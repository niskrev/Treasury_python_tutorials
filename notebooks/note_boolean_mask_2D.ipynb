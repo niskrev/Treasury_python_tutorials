{
 "cells": [
  {
   "cell_type": "markdown",
   "metadata": {},
   "source": [
    "# Question about 2-dimensional boolean masks\n",
    "\n",
    "Charlie asked a good question about 2D masks in the lecture. The question was how do we create a smaller 2D array from a larger 2D array using a boolean mask. It is interesting because to index a 2D array we need both a row and a column index. \n",
    "\n",
    "Here we will start with a 3x3 array containing the numbers zero to 8. We want only the numbers in this array that are odd.\n",
    "\n",
    "So here are a few ways we can do this (I am sure there are more.)"
   ]
  },
  {
   "cell_type": "code",
   "execution_count": 33,
   "metadata": {},
   "outputs": [],
   "source": [
    "import numpy as np"
   ]
  },
  {
   "cell_type": "code",
   "execution_count": 34,
   "metadata": {},
   "outputs": [
    {
     "data": {
      "text/plain": [
       "array([[0, 1, 2],\n",
       "       [3, 4, 5],\n",
       "       [6, 7, 8]])"
      ]
     },
     "execution_count": 34,
     "metadata": {},
     "output_type": "execute_result"
    }
   ],
   "source": [
    "my_array= np.array([[0,1,2], [3,4,5], [6,7,8]])\n",
    "my_array"
   ]
  },
  {
   "cell_type": "markdown",
   "metadata": {},
   "source": [
    "## Simple case: If we just want the elements of the matrix and do not care where they are.\n",
    "\n",
    "Here we can simply reshape the array to be 1 dimensional and run the boolean mask\n",
    "\n",
    "##### Long-form (meaning one step per line) approach to simple case\n",
    "\n",
    "Note: Here we need a 1D array. In the numpy tutorial we used reshape to make an array a single row or a single column. The problem is reshape retains a 2D index. So if we have an array that is [1,2,3,4] after we reshape it, it will still have a row and column index. Flatten takes the second dimension out of the array. We can see this below with the shape changing to (9,) versus (9,1)"
   ]
  },
  {
   "cell_type": "code",
   "execution_count": 40,
   "metadata": {},
   "outputs": [
    {
     "name": "stdout",
     "output_type": "stream",
     "text": [
      "(9,)\n"
     ]
    },
    {
     "data": {
      "text/plain": [
       "array([0, 1, 2, 3, 4, 5, 6, 7, 8])"
      ]
     },
     "execution_count": 40,
     "metadata": {},
     "output_type": "execute_result"
    }
   ],
   "source": [
    "# reshape the array using flatten which changes it to one dimension\n",
    "array_reshaped = my_array.flatten()\n",
    "print(array_reshaped.shape)\n",
    "array_reshaped\n"
   ]
  },
  {
   "cell_type": "code",
   "execution_count": 44,
   "metadata": {},
   "outputs": [
    {
     "data": {
      "text/plain": [
       "array([False,  True, False,  True, False,  True, False,  True, False])"
      ]
     },
     "execution_count": 44,
     "metadata": {},
     "output_type": "execute_result"
    }
   ],
   "source": [
    "# create the mask\n",
    "mask_v1 = np.mod(array_reshaped,2)==1\n",
    "mask_v1"
   ]
  },
  {
   "cell_type": "code",
   "execution_count": 47,
   "metadata": {},
   "outputs": [
    {
     "data": {
      "text/plain": [
       "array([1, 3, 5, 7])"
      ]
     },
     "execution_count": 47,
     "metadata": {},
     "output_type": "execute_result"
    }
   ],
   "source": [
    "# apply the mask on the reshaped array\n",
    "new_array_v1 = array_reshaped[mask_v1]\n",
    "new_array_v1"
   ]
  },
  {
   "cell_type": "markdown",
   "metadata": {},
   "source": [
    "#### Shortcut mask\n",
    "Combining the last 2 steps in one line of code. \n",
    "\n",
    "NOTE: This is not necessary. The long form works great and is never wrong. This is just more condensed.\n",
    "\n",
    "Note: you could also do this in one line, but that is a little too complicated and much harder to read and is generally discouraged. Remember the third line of the 'Zen of Python'\n",
    "\n",
    "    Simple is better than complex."
   ]
  },
  {
   "cell_type": "code",
   "execution_count": 48,
   "metadata": {},
   "outputs": [
    {
     "data": {
      "text/plain": [
       "array([1, 3, 5, 7])"
      ]
     },
     "execution_count": 48,
     "metadata": {},
     "output_type": "execute_result"
    }
   ],
   "source": [
    "array_reshaped = my_array.flatten()\n",
    "new_array_v2 = array_reshaped[np.mod(array_reshaped,2)==1]\n",
    "new_array_v2"
   ]
  },
  {
   "cell_type": "markdown",
   "metadata": {},
   "source": [
    "## Complex Case: You need to keep the locations (row, column indicies) of the odd elements.\n",
    "\n",
    "This gets a little more complicated because we are dealing with two dimensions. We will use this great function <b> np.where </b> that will be used frequently in pandas."
   ]
  },
  {
   "cell_type": "code",
   "execution_count": 49,
   "metadata": {},
   "outputs": [
    {
     "data": {
      "text/plain": [
       "array([[0, 1, 2],\n",
       "       [3, 4, 5],\n",
       "       [6, 7, 8]])"
      ]
     },
     "execution_count": 49,
     "metadata": {},
     "output_type": "execute_result"
    }
   ],
   "source": [
    "# just restating the array here\n",
    "my_array= np.array([[0,1,2], [3,4,5], [6,7,8]])\n",
    "my_array"
   ]
  },
  {
   "cell_type": "code",
   "execution_count": 57,
   "metadata": {},
   "outputs": [
    {
     "name": "stdout",
     "output_type": "stream",
     "text": [
      "mask_np_where is of type:  <class 'tuple'>\n"
     ]
    },
    {
     "data": {
      "text/plain": [
       "(array([0, 1, 1, 2]), array([1, 0, 2, 1]))"
      ]
     },
     "execution_count": 57,
     "metadata": {},
     "output_type": "execute_result"
    }
   ],
   "source": [
    "mask_np_where = np.where(my_mask==1)\n",
    "print('mask_np_where is of type: ', type(mask_np_where))\n",
    "mask_np_where"
   ]
  },
  {
   "cell_type": "markdown",
   "metadata": {},
   "source": [
    "So our variable mask_np_where contains two arrays. The first array is a list of the rows where the mask is true. \n",
    "The second array is a list of the columns where the mask if true.\n",
    "\n",
    "To test this, lets pair up some of the items of the two arrays."
   ]
  },
  {
   "cell_type": "code",
   "execution_count": 51,
   "metadata": {},
   "outputs": [
    {
     "data": {
      "text/plain": [
       "1"
      ]
     },
     "execution_count": 51,
     "metadata": {},
     "output_type": "execute_result"
    }
   ],
   "source": [
    "my_array[0,1]"
   ]
  },
  {
   "cell_type": "code",
   "execution_count": 52,
   "metadata": {},
   "outputs": [
    {
     "data": {
      "text/plain": [
       "3"
      ]
     },
     "execution_count": 52,
     "metadata": {},
     "output_type": "execute_result"
    }
   ],
   "source": [
    "my_array[1,0]"
   ]
  },
  {
   "cell_type": "code",
   "execution_count": 53,
   "metadata": {},
   "outputs": [
    {
     "data": {
      "text/plain": [
       "5"
      ]
     },
     "execution_count": 53,
     "metadata": {},
     "output_type": "execute_result"
    }
   ],
   "source": [
    "my_array[1,2]"
   ]
  },
  {
   "cell_type": "code",
   "execution_count": 54,
   "metadata": {},
   "outputs": [
    {
     "data": {
      "text/plain": [
       "7"
      ]
     },
     "execution_count": 54,
     "metadata": {},
     "output_type": "execute_result"
    }
   ],
   "source": [
    "my_array[2,1]"
   ]
  },
  {
   "cell_type": "markdown",
   "metadata": {},
   "source": [
    "If we need a list of the row,column pairs we can do that by looping through these arrays.\n",
    "\n",
    "First let's define the row_index and column_index variables from the tuple.\n"
   ]
  },
  {
   "cell_type": "code",
   "execution_count": 58,
   "metadata": {},
   "outputs": [
    {
     "data": {
      "text/plain": [
       "array([0, 1, 1, 2])"
      ]
     },
     "execution_count": 58,
     "metadata": {},
     "output_type": "execute_result"
    }
   ],
   "source": [
    "row_index = mask_np_where[0]\n",
    "row_index"
   ]
  },
  {
   "cell_type": "code",
   "execution_count": 59,
   "metadata": {},
   "outputs": [
    {
     "data": {
      "text/plain": [
       "array([1, 0, 2, 1])"
      ]
     },
     "execution_count": 59,
     "metadata": {},
     "output_type": "execute_result"
    }
   ],
   "source": [
    "col_index = mask_np_where[1]\n",
    "col_index"
   ]
  },
  {
   "cell_type": "markdown",
   "metadata": {},
   "source": [
    "Here we need to determine how we want to keep the column and row indicies. Should it be a list where each row contains the row_index and col_index? Should it be a list of tuples? Should it be a dictionary? \n",
    "It all depends on what you want to get out of this. Since it will be the simplest, lets store the coordinates in a list."
   ]
  },
  {
   "cell_type": "code",
   "execution_count": 64,
   "metadata": {},
   "outputs": [
    {
     "data": {
      "text/plain": [
       "[[0, 1], [1, 0], [1, 2], [2, 1]]"
      ]
     },
     "execution_count": 64,
     "metadata": {},
     "output_type": "execute_result"
    }
   ],
   "source": [
    "list_mask_location = []\n",
    "\n",
    "#NOTE: Since the number of rows is equal to the number of columns, we only need one loop.\n",
    "for i, row in enumerate(row_index):\n",
    "    #since row is known, we need to extract the columns\n",
    "    this_col = col_index[i]\n",
    "    list_mask_location.append([row, this_col])\n",
    "    \n",
    "list_mask_location\n",
    "    "
   ]
  }
 ],
 "metadata": {
  "kernelspec": {
   "display_name": "Python 3.7.3 64-bit ('base': conda)",
   "language": "python",
   "name": "python37364bitbasecondaf40c37e8e9dd45c89e043b248b661bde"
  },
  "language_info": {
   "codemirror_mode": {
    "name": "ipython",
    "version": 3
   },
   "file_extension": ".py",
   "mimetype": "text/x-python",
   "name": "python",
   "nbconvert_exporter": "python",
   "pygments_lexer": "ipython3",
   "version": "3.7.3"
  }
 },
 "nbformat": 4,
 "nbformat_minor": 2
}
