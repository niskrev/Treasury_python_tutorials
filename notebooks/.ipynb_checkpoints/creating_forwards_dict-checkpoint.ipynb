{
 "cells": [
  {
   "cell_type": "code",
   "execution_count": 1,
   "metadata": {},
   "outputs": [],
   "source": [
    "import openpyxl\n",
    "import pickle\n"
   ]
  },
  {
   "cell_type": "code",
   "execution_count": 8,
   "metadata": {},
   "outputs": [
    {
     "name": "stdout",
     "output_type": "stream",
     "text": [
      "['ID', 'Entity', 'Counterparty', 'Currency_Pair', 'Buy_Currency', 'Sell_Currency', 'Trade_Date', 'Delivery_Date', 'Contract_Rate', 'Buy_Amount', 'Sell_Amount']\n"
     ]
    }
   ],
   "source": [
    "wb_obj = openpyxl.load_workbook('../data/FX_derivatives_some.xlsx')\n",
    "sheet = wb_obj.active\n",
    "\n",
    "col_names = []\n",
    "for column in sheet.iter_cols(1, sheet.max_column):\n",
    "    col_names.append(column[0].value)       \n",
    "print(col_names)\n",
    "\n",
    "list_ID = []\n",
    "list_entity = []\n",
    "list_counterparty = []\n",
    "list_curr_pair = []\n",
    "list_buy_curr = []\n",
    "list_sell_curr = []\n",
    "list_trade_date = []\n",
    "list_deliv_date = []\n",
    "list_contract_rate = []\n",
    "list_buy_amount = []\n",
    "list_sell_amount = []\n",
    "\n",
    "for i, row in enumerate(sheet.iter_rows(values_only=True)):\n",
    "    if i > 0:\n",
    "        \n",
    "        list_ID.append(row[0])\n",
    "        list_entity.append(row[1])\n",
    "        list_counterparty.append(row[2])\n",
    "        list_curr_pair.append(row[3])\n",
    "        list_buy_curr.append(row[4])\n",
    "        list_sell_curr.append(row[5])\n",
    "        list_trade_date.append(row[6])\n",
    "        list_deliv_date.append(row[7])\n",
    "        list_contract_rate.append(row[8])\n",
    "        list_buy_amount.append(row[9])\n",
    "        list_sell_amount.append(row[10])\n",
    "\n",
    "        \n",
    "            "
   ]
  },
  {
   "cell_type": "code",
   "execution_count": 9,
   "metadata": {},
   "outputs": [
    {
     "name": "stdout",
     "output_type": "stream",
     "text": [
      "Variable             Type         Data/Info\n",
      "-------------------------------------------\n",
      "col                  str          Sell_Amount\n",
      "col_names            list         n=11\n",
      "column               tuple        n=37\n",
      "data                 dict         n=11\n",
      "i                    int          36\n",
      "list_ID              list         n=36\n",
      "list_buy_amount      list         n=36\n",
      "list_buy_curr        list         n=36\n",
      "list_contract_rate   list         n=36\n",
      "list_counterparty    list         n=36\n",
      "list_curr_pair       list         n=36\n",
      "list_deliv_date      list         n=36\n",
      "list_entity          list         n=36\n",
      "list_sell_amount     list         n=36\n",
      "list_sell_curr       list         n=36\n",
      "list_trade_date      list         n=36\n",
      "openpyxl             module       <module 'openpyxl' from '<...>es/openpyxl/__init__.py'>\n",
      "pickle               module       <module 'pickle' from '/U<...>lib/python3.7/pickle.py'>\n",
      "row                  tuple        n=11\n",
      "sheet                Worksheet    <Worksheet \"forwards\">\n",
      "wb_obj               Workbook     <openpyxl.workbook.workbo<...>ok object at 0x116152e10>\n"
     ]
    }
   ],
   "source": [
    "list_ID\n"
   ]
  },
  {
   "cell_type": "code",
   "execution_count": null,
   "metadata": {},
   "outputs": [],
   "source": [
    "#create the dictionary"
   ]
  },
  {
   "cell_type": "code",
   "execution_count": 38,
   "metadata": {},
   "outputs": [
    {
     "name": "stdout",
     "output_type": "stream",
     "text": [
      "{'entity': 'ADIR', 'counterparty': 'RBS', 'curr_pair': 'USDJPY', 'buy_curr': 'USD', 'sell_curr': 'JPY', 'trade_date': datetime.datetime(2012, 8, 15, 0, 0), 'delivery_date': datetime.datetime(2012, 10, 10, 0, 0), 'contract_rate': 78.867, 'buy_amount': 4564647, 'sell_amnount': -360000000}\n",
      "{'entity': 'ADUS', 'counterparty': 'CITI', 'curr_pair': 'EURUSD', 'buy_curr': 'USD', 'sell_curr': 'EUR', 'trade_date': datetime.datetime(2012, 8, 15, 0, 0), 'delivery_date': datetime.datetime(2012, 10, 11, 0, 0), 'contract_rate': 1.229378, 'buy_amount': 614689, 'sell_amnount': -500000}\n",
      "{'entity': 'ADIR', 'counterparty': 'GS', 'curr_pair': 'USDCHF', 'buy_curr': 'CHF', 'sell_curr': 'USD', 'trade_date': datetime.datetime(2012, 8, 14, 0, 0), 'delivery_date': datetime.datetime(2012, 9, 19, 0, 0), 'contract_rate': 0.973454, 'buy_amount': 9000000, 'sell_amnount': -9245429}\n",
      "{'entity': 'ADIR', 'counterparty': 'UBS', 'curr_pair': 'EURUSD', 'buy_curr': 'USD', 'sell_curr': 'EUR', 'trade_date': datetime.datetime(2012, 8, 13, 0, 0), 'delivery_date': datetime.datetime(2012, 10, 10, 0, 0), 'contract_rate': 1.233346, 'buy_amount': 6166730, 'sell_amnount': -5000000}\n",
      "{'entity': 'ADUS', 'counterparty': 'CITI', 'curr_pair': 'EURUSD', 'buy_curr': 'EUR', 'sell_curr': 'USD', 'trade_date': datetime.datetime(2012, 8, 9, 0, 0), 'delivery_date': datetime.datetime(2012, 10, 11, 0, 0), 'contract_rate': 1.2294, 'buy_amount': 1000000, 'sell_amnount': -1229400}\n",
      "{'entity': 'ADIR', 'counterparty': 'CITI', 'curr_pair': 'USDSGD', 'buy_curr': 'USD', 'sell_curr': 'SGD', 'trade_date': datetime.datetime(2012, 8, 9, 0, 0), 'delivery_date': datetime.datetime(2012, 9, 14, 0, 0), 'contract_rate': 1.245248, 'buy_amount': 1204579, 'sell_amnount': -1500000}\n",
      "{'entity': 'ADIR', 'counterparty': 'BOA', 'curr_pair': 'USDJPY', 'buy_curr': 'USD', 'sell_curr': 'JPY', 'trade_date': datetime.datetime(2012, 8, 9, 0, 0), 'delivery_date': datetime.datetime(2012, 10, 10, 0, 0), 'contract_rate': 78.5226, 'buy_amount': 3820556, 'sell_amnount': -300000000}\n",
      "{'entity': 'ADUS', 'counterparty': 'CITI', 'curr_pair': 'USDCHF', 'buy_curr': 'CHF', 'sell_curr': 'USD', 'trade_date': datetime.datetime(2012, 8, 8, 0, 0), 'delivery_date': datetime.datetime(2012, 11, 16, 0, 0), 'contract_rate': 0.9704, 'buy_amount': 61000000, 'sell_amnount': -62860676}\n",
      "{'entity': 'ADIR', 'counterparty': 'BOA', 'curr_pair': 'USDJPY', 'buy_curr': 'USD', 'sell_curr': 'JPY', 'trade_date': datetime.datetime(2012, 8, 6, 0, 0), 'delivery_date': datetime.datetime(2012, 10, 10, 0, 0), 'contract_rate': 78.1261, 'buy_amount': 3839946, 'sell_amnount': -300000000}\n",
      "{'entity': 'ADIR', 'counterparty': 'BOA', 'curr_pair': 'EURUSD', 'buy_curr': 'USD', 'sell_curr': 'EUR', 'trade_date': datetime.datetime(2012, 8, 6, 0, 0), 'delivery_date': datetime.datetime(2012, 10, 10, 0, 0), 'contract_rate': 1.240847, 'buy_amount': 3722541, 'sell_amnount': -3000000}\n",
      "{'entity': 'ADIR', 'counterparty': 'GS', 'curr_pair': 'AUDUSD', 'buy_curr': 'USD', 'sell_curr': 'AUD', 'trade_date': datetime.datetime(2012, 8, 3, 0, 0), 'delivery_date': datetime.datetime(2012, 9, 26, 0, 0), 'contract_rate': 1.051216, 'buy_amount': 8409728, 'sell_amnount': -8000000}\n",
      "{'entity': 'ADUS', 'counterparty': 'CITI', 'curr_pair': 'GBPUSD', 'buy_curr': 'USD', 'sell_curr': 'GBP', 'trade_date': datetime.datetime(2012, 8, 2, 0, 0), 'delivery_date': datetime.datetime(2012, 10, 18, 0, 0), 'contract_rate': 1.550523, 'buy_amount': 1007840, 'sell_amnount': -650000}\n",
      "{'entity': 'ADIR', 'counterparty': 'CITI', 'curr_pair': 'USDSGD', 'buy_curr': 'SGD', 'sell_curr': 'USD', 'trade_date': datetime.datetime(2012, 8, 1, 0, 0), 'delivery_date': datetime.datetime(2012, 9, 14, 0, 0), 'contract_rate': 1.243976, 'buy_amount': 2500000, 'sell_amnount': -2009685}\n",
      "{'entity': 'ADIR', 'counterparty': 'UBS', 'curr_pair': 'GBPUSD', 'buy_curr': 'USD', 'sell_curr': 'GBP', 'trade_date': datetime.datetime(2012, 8, 1, 0, 0), 'delivery_date': datetime.datetime(2012, 9, 26, 0, 0), 'contract_rate': 1.560883, 'buy_amount': 3121766, 'sell_amnount': -2000000}\n",
      "{'entity': 'ADIR', 'counterparty': 'BOA', 'curr_pair': 'EURUSD', 'buy_curr': 'USD', 'sell_curr': 'EUR', 'trade_date': datetime.datetime(2012, 8, 1, 0, 0), 'delivery_date': datetime.datetime(2012, 9, 26, 0, 0), 'contract_rate': 1.23076, 'buy_amount': 4923040, 'sell_amnount': -4000000}\n",
      "{'entity': 'ADIR', 'counterparty': 'UBS', 'curr_pair': 'EURUSD', 'buy_curr': 'USD', 'sell_curr': 'EUR', 'trade_date': datetime.datetime(2012, 7, 31, 0, 0), 'delivery_date': datetime.datetime(2012, 9, 26, 0, 0), 'contract_rate': 1.231283, 'buy_amount': 6772056, 'sell_amnount': -5500000}\n",
      "{'entity': 'ADIR', 'counterparty': 'CITI', 'curr_pair': 'USDJPY', 'buy_curr': 'USD', 'sell_curr': 'JPY', 'trade_date': datetime.datetime(2012, 7, 26, 0, 0), 'delivery_date': datetime.datetime(2012, 9, 26, 0, 0), 'contract_rate': 78.2367, 'buy_amount': 3834518, 'sell_amnount': -300000000}\n",
      "{'entity': 'ADIR', 'counterparty': 'CITI', 'curr_pair': 'GBPUSD', 'buy_curr': 'USD', 'sell_curr': 'GBP', 'trade_date': datetime.datetime(2012, 7, 26, 0, 0), 'delivery_date': datetime.datetime(2012, 9, 26, 0, 0), 'contract_rate': 1.568824, 'buy_amount': 7059708, 'sell_amnount': -4500000}\n",
      "{'entity': 'ADIR', 'counterparty': 'BOA', 'curr_pair': 'AUDUSD', 'buy_curr': 'USD', 'sell_curr': 'AUD', 'trade_date': datetime.datetime(2012, 7, 26, 0, 0), 'delivery_date': datetime.datetime(2012, 9, 26, 0, 0), 'contract_rate': 1.034292, 'buy_amount': 8274336, 'sell_amnount': -8000000}\n",
      "{'entity': 'ADIR', 'counterparty': 'UBS', 'curr_pair': 'EURUSD', 'buy_curr': 'USD', 'sell_curr': 'EUR', 'trade_date': datetime.datetime(2012, 7, 26, 0, 0), 'delivery_date': datetime.datetime(2012, 9, 26, 0, 0), 'contract_rate': 1.229099, 'buy_amount': 8603693, 'sell_amnount': -7000000}\n",
      "{'entity': 'ADIR', 'counterparty': 'BOA', 'curr_pair': 'AUDUSD', 'buy_curr': 'USD', 'sell_curr': 'AUD', 'trade_date': datetime.datetime(2012, 7, 25, 0, 0), 'delivery_date': datetime.datetime(2012, 9, 26, 0, 0), 'contract_rate': 1.023726, 'buy_amount': 1637962, 'sell_amnount': -1600000}\n",
      "{'entity': 'ADIR', 'counterparty': 'BOA', 'curr_pair': 'USDJPY', 'buy_curr': 'USD', 'sell_curr': 'JPY', 'trade_date': datetime.datetime(2012, 7, 24, 0, 0), 'delivery_date': datetime.datetime(2012, 9, 26, 0, 0), 'contract_rate': 78.1176, 'buy_amount': 5120485, 'sell_amnount': -400000000}\n",
      "{'entity': 'ADIR', 'counterparty': 'BOA', 'curr_pair': 'GBPUSD', 'buy_curr': 'USD', 'sell_curr': 'GBP', 'trade_date': datetime.datetime(2012, 7, 23, 0, 0), 'delivery_date': datetime.datetime(2012, 9, 26, 0, 0), 'contract_rate': 1.551328, 'buy_amount': 2326992, 'sell_amnount': -1500000}\n",
      "{'entity': 'ADIR', 'counterparty': 'CITI', 'curr_pair': 'AUDUSD', 'buy_curr': 'USD', 'sell_curr': 'AUD', 'trade_date': datetime.datetime(2012, 7, 19, 0, 0), 'delivery_date': datetime.datetime(2012, 9, 12, 0, 0), 'contract_rate': 1.037835, 'buy_amount': 2075670, 'sell_amnount': -2000000}\n",
      "{'entity': 'ADUS', 'counterparty': 'GS', 'curr_pair': 'USDCAD', 'buy_curr': 'CAD', 'sell_curr': 'USD', 'trade_date': datetime.datetime(2012, 7, 17, 0, 0), 'delivery_date': datetime.datetime(2012, 9, 13, 0, 0), 'contract_rate': 1.014444, 'buy_amount': 7000000, 'sell_amnount': -6900332}\n",
      "{'entity': 'ADUS', 'counterparty': 'CITI', 'curr_pair': 'EURUSD', 'buy_curr': 'EUR', 'sell_curr': 'USD', 'trade_date': datetime.datetime(2012, 7, 17, 0, 0), 'delivery_date': datetime.datetime(2012, 10, 11, 0, 0), 'contract_rate': 1.228709, 'buy_amount': 7000000, 'sell_amnount': -8600963}\n",
      "{'entity': 'ADIR', 'counterparty': 'GS', 'curr_pair': 'GBPUSD', 'buy_curr': 'USD', 'sell_curr': 'GBP', 'trade_date': datetime.datetime(2012, 7, 16, 0, 0), 'delivery_date': datetime.datetime(2012, 9, 12, 0, 0), 'contract_rate': 1.562082, 'buy_amount': 2343123, 'sell_amnount': -1500000}\n",
      "{'entity': 'ADIR', 'counterparty': 'BOA', 'curr_pair': 'EURUSD', 'buy_curr': 'USD', 'sell_curr': 'EUR', 'trade_date': datetime.datetime(2012, 7, 16, 0, 0), 'delivery_date': datetime.datetime(2012, 9, 12, 0, 0), 'contract_rate': 1.226307, 'buy_amount': 6131535, 'sell_amnount': -5000000}\n",
      "{'entity': 'ADIR', 'counterparty': 'CITI', 'curr_pair': 'AUDUSD', 'buy_curr': 'USD', 'sell_curr': 'AUD', 'trade_date': datetime.datetime(2012, 7, 12, 0, 0), 'delivery_date': datetime.datetime(2012, 9, 12, 0, 0), 'contract_rate': 1.008853, 'buy_amount': 5044265, 'sell_amnount': -5000000}\n",
      "{'entity': 'ADIR', 'counterparty': 'CITI', 'curr_pair': 'EURUSD', 'buy_curr': 'USD', 'sell_curr': 'EUR', 'trade_date': datetime.datetime(2012, 7, 12, 0, 0), 'delivery_date': datetime.datetime(2012, 9, 12, 0, 0), 'contract_rate': 1.220399, 'buy_amount': 3661197, 'sell_amnount': -3000000}\n",
      "{'entity': 'AILP', 'counterparty': 'CITI', 'curr_pair': 'USDRON', 'buy_curr': 'USD', 'sell_curr': 'RON', 'trade_date': datetime.datetime(2012, 7, 11, 0, 0), 'delivery_date': datetime.datetime(2012, 10, 19, 0, 0), 'contract_rate': 3.7327, 'buy_amount': 4554344, 'sell_amnount': -17000000}\n",
      "{'entity': 'ADIR', 'counterparty': 'CITI', 'curr_pair': 'USDSGD', 'buy_curr': 'USD', 'sell_curr': 'SGD', 'trade_date': datetime.datetime(2012, 7, 10, 0, 0), 'delivery_date': datetime.datetime(2012, 9, 14, 0, 0), 'contract_rate': 1.266689, 'buy_amount': 2763109, 'sell_amnount': -3500000}\n",
      "{'entity': 'ADIR', 'counterparty': 'BOA', 'curr_pair': 'AUDUSD', 'buy_curr': 'USD', 'sell_curr': 'AUD', 'trade_date': datetime.datetime(2012, 7, 10, 0, 0), 'delivery_date': datetime.datetime(2012, 9, 12, 0, 0), 'contract_rate': 1.014912, 'buy_amount': 1522368, 'sell_amnount': -1500000}\n",
      "{'entity': 'AILP', 'counterparty': 'CITI', 'curr_pair': 'USDILS', 'buy_curr': 'ILS', 'sell_curr': 'USD', 'trade_date': datetime.datetime(2012, 6, 20, 0, 0), 'delivery_date': datetime.datetime(2012, 9, 21, 0, 0), 'contract_rate': 3.876038, 'buy_amount': 7000000, 'sell_amnount': -1805968}\n",
      "{'entity': 'ADIR', 'counterparty': 'JPM', 'curr_pair': 'EURUSD', 'buy_curr': 'USD', 'sell_curr': 'EUR', 'trade_date': datetime.datetime(2012, 3, 20, 0, 0), 'delivery_date': datetime.datetime(2012, 10, 12, 0, 0), 'contract_rate': 1.324263, 'buy_amount': 177980947, 'sell_amnount': -134400000}\n",
      "{'entity': 'NDBV', 'counterparty': 'BOA', 'curr_pair': 'EURKRW', 'buy_curr': 'EUR', 'sell_curr': 'KRW', 'trade_date': datetime.datetime(1930, 3, 13, 0, 0), 'delivery_date': datetime.datetime(2020, 3, 17, 0, 0), 'contract_rate': 1371.7, 'buy_amount': 2267165.77, 'sell_amnount': -3109871282}\n"
     ]
    }
   ],
   "source": [
    "forward_dict = {}\n",
    "for i in range(len(list_ID)):\n",
    "        static = dict(entity=list_entity[i],\n",
    "                         counterparty= list_counterparty[i],\n",
    "                         curr_pair= list_curr_pair[i],\n",
    "                         buy_curr= list_buy_curr[i],\n",
    "                         sell_curr= list_sell_curr[i],\n",
    "                         trade_date= list_trade_date[i],\n",
    "                         delivery_date= list_deliv_date[i],\n",
    "                         contract_rate= list_contract_rate[i],\n",
    "                         buy_amount= list_buy_amount[i],\n",
    "                         sell_amnount= list_sell_amount[i])\n",
    "        print(static)\n",
    "        \n",
    "        this_ID = list_ID[i]\n",
    "        \n",
    "        \n",
    "        forward_dict[this_ID] =  static\n",
    "    "
   ]
  },
  {
   "cell_type": "code",
   "execution_count": 39,
   "metadata": {},
   "outputs": [
    {
     "data": {
      "text/plain": [
       "dict_keys(['ADIR3725', 'ADUS813', 'ADIR3723', 'ADIR3719', 'ADUS810', 'ADIR3717', 'ADIR3715', 'ADUS808', 'ADIR3709', 'ADIR3708', 'ADIR3707', 'ADUS807', 'ADIR3705', 'ADIR3704', 'ADIR3703', 'ADIR3702', 'ADIR3701', 'ADIR3700', 'ADIR3698', 'ADIR3699', 'ADIR3697', 'ADIR3696', 'ADIR3694', 'ADIR3693', 'ADUS802', 'ADUS799', 'ADIR3687', 'ADIR3686', 'ADIR3685', 'ADIR3683', 'AILP472', 'ADIR3678', 'ADIR3677', 'AILP469', 'ADIR3551', 'NDBV169'])"
      ]
     },
     "execution_count": 39,
     "metadata": {},
     "output_type": "execute_result"
    }
   ],
   "source": [
    "forward_dict.keys()"
   ]
  },
  {
   "cell_type": "code",
   "execution_count": 40,
   "metadata": {},
   "outputs": [
    {
     "data": {
      "text/plain": [
       "{'entity': 'ADUS',\n",
       " 'counterparty': 'CITI',\n",
       " 'curr_pair': 'EURUSD',\n",
       " 'buy_curr': 'USD',\n",
       " 'sell_curr': 'EUR',\n",
       " 'trade_date': datetime.datetime(2012, 8, 15, 0, 0),\n",
       " 'delivery_date': datetime.datetime(2012, 10, 11, 0, 0),\n",
       " 'contract_rate': 1.229378,\n",
       " 'buy_amount': 614689,\n",
       " 'sell_amnount': -500000}"
      ]
     },
     "execution_count": 40,
     "metadata": {},
     "output_type": "execute_result"
    }
   ],
   "source": [
    "forward_dict['ADUS813']"
   ]
  },
  {
   "cell_type": "code",
   "execution_count": 42,
   "metadata": {},
   "outputs": [
    {
     "data": {
      "text/plain": [
       "'EUR'"
      ]
     },
     "execution_count": 42,
     "metadata": {},
     "output_type": "execute_result"
    }
   ],
   "source": [
    "forward_dict['ADUS813']['sell_curr']"
   ]
  },
  {
   "cell_type": "code",
   "execution_count": 43,
   "metadata": {},
   "outputs": [
    {
     "data": {
      "text/plain": [
       "'CITI'"
      ]
     },
     "execution_count": 43,
     "metadata": {},
     "output_type": "execute_result"
    }
   ],
   "source": [
    "forward_dict['ADUS813']['counterparty']"
   ]
  },
  {
   "cell_type": "code",
   "execution_count": 45,
   "metadata": {},
   "outputs": [
    {
     "data": {
      "text/plain": [
       "{'entity': 'ADUS',\n",
       " 'counterparty': 'CITI',\n",
       " 'curr_pair': 'EURUSD',\n",
       " 'buy_curr': 'USD',\n",
       " 'sell_curr': 'EUR',\n",
       " 'trade_date': datetime.datetime(2012, 8, 15, 0, 0),\n",
       " 'delivery_date': datetime.datetime(2012, 10, 11, 0, 0),\n",
       " 'contract_rate': 1.229378,\n",
       " 'buy_amount': 614689,\n",
       " 'sell_amnount': -500000}"
      ]
     },
     "execution_count": 45,
     "metadata": {},
     "output_type": "execute_result"
    }
   ],
   "source": [
    "forward_dict['ADUS813']"
   ]
  },
  {
   "cell_type": "code",
   "execution_count": 47,
   "metadata": {},
   "outputs": [],
   "source": [
    "pickle.dump(forward_dict, open(\"../data/forwards_some.p\", 'wb'))"
   ]
  },
  {
   "cell_type": "code",
   "execution_count": null,
   "metadata": {},
   "outputs": [],
   "source": []
  },
  {
   "cell_type": "markdown",
   "metadata": {},
   "source": [
    "## Creating a simple BU / PMBU dictionary"
   ]
  },
  {
   "cell_type": "code",
   "execution_count": 53,
   "metadata": {},
   "outputs": [
    {
     "ename": "SyntaxError",
     "evalue": "invalid syntax (<ipython-input-53-d952d6ca1da8>, line 8)",
     "output_type": "error",
     "traceback": [
      "\u001b[0;36m  File \u001b[0;32m\"<ipython-input-53-d952d6ca1da8>\"\u001b[0;36m, line \u001b[0;32m8\u001b[0m\n\u001b[0;31m    .xlsx')\u001b[0m\n\u001b[0m    ^\u001b[0m\n\u001b[0;31mSyntaxError\u001b[0m\u001b[0;31m:\u001b[0m invalid syntax\n"
     ]
    }
   ],
   "source": [
    "wb_obj = openpyxl.load_workbook('../data/EBU_PMBU.xlsx')\n",
    "sheet = wb_obj.active\n",
    "\n",
    "col_names = []\n",
    "for column in sheet.iter_cols(1, sheet.max_column):\n",
    "    col_names.append(column[0].value)       \n",
    "print(col_names)\n",
    ".xlsx')\n",
    "sheet = wb_obj.active\n",
    "\n",
    "col_names = []\n",
    "for column in sheet.iter_cols(1, sheet.max_column):\n",
    "    col_names.append(column[0].value)       \n",
    "print(col_names)\n"
   ]
  },
  {
   "cell_type": "code",
   "execution_count": null,
   "metadata": {},
   "outputs": [],
   "source": [
    "wb_obj = openpyxl.load_workbook('../data/FX_derivatives_some.xlsx')"
   ]
  }
 ],
 "metadata": {
  "kernelspec": {
   "display_name": "Python 3.7.3 64-bit ('base': conda)",
   "language": "python",
   "name": "python37364bitbasecondaf40c37e8e9dd45c89e043b248b661bde"
  },
  "language_info": {
   "codemirror_mode": {
    "name": "ipython",
    "version": 3
   },
   "file_extension": ".py",
   "mimetype": "text/x-python",
   "name": "python",
   "nbconvert_exporter": "python",
   "pygments_lexer": "ipython3",
   "version": "3.7.3"
  }
 },
 "nbformat": 4,
 "nbformat_minor": 2
}
