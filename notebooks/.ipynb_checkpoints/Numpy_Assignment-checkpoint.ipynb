{
 "cells": [
  {
   "cell_type": "markdown",
   "metadata": {},
   "source": [
    "# Numpy Assignment\n",
    "\n"
   ]
  },
  {
   "cell_type": "code",
   "execution_count": 2,
   "metadata": {},
   "outputs": [],
   "source": [
    "import numpy as np"
   ]
  },
  {
   "cell_type": "markdown",
   "metadata": {},
   "source": [
    "## Section 1. Portfoio returns and standard deviation\n",
    "\n"
   ]
  },
  {
   "cell_type": "code",
   "execution_count": 3,
   "metadata": {},
   "outputs": [],
   "source": [
    "asset_classes = ['Small-Cap Stocks', 'Large-Cap Stocks', \n",
    "                 'Long-Term Corporate Bonds', 'Long-Term Government Bonds'\n",
    "                'Intermadiate-Term Government Bonds', \n",
    "                'Thirty-Day Treasury Bills',\n",
    "                'Consumer Price Inflation']\n",
    "\n",
    "returns = np.array([.162, .119, .063, .059, .052, .034, .03])\n",
    "st_dev  = np.array([.316, .198, .084, .098, .056, .031, .04])"
   ]
  },
  {
   "cell_type": "code",
   "execution_count": 4,
   "metadata": {},
   "outputs": [
    {
     "data": {
      "text/plain": [
       "array([0.162, 0.119, 0.063, 0.059, 0.052, 0.034, 0.03 ])"
      ]
     },
     "execution_count": 4,
     "metadata": {},
     "output_type": "execute_result"
    }
   ],
   "source": [
    "returns"
   ]
  },
  {
   "cell_type": "code",
   "execution_count": 6,
   "metadata": {},
   "outputs": [
    {
     "data": {
      "text/plain": [
       "array([0.316, 0.198, 0.084, 0.098, 0.056, 0.031, 0.04 ])"
      ]
     },
     "execution_count": 6,
     "metadata": {},
     "output_type": "execute_result"
    }
   ],
   "source": [
    "st_dev"
   ]
  },
  {
   "cell_type": "code",
   "execution_count": null,
   "metadata": {},
   "outputs": [],
   "source": [
    "real returns\n",
    "sharp ratio\n",
    "portfolio standard deviation\n",
    "portfolio weights\n",
    "\n"
   ]
  },
  {
   "cell_type": "code",
   "execution_count": null,
   "metadata": {},
   "outputs": [],
   "source": []
  },
  {
   "cell_type": "markdown",
   "metadata": {},
   "source": [
    "## Section 2. Correlations and returns data\n",
    "\n",
    "historical prices loaded in from csv file\n",
    "\n",
    "generate correlation of prices\n",
    "\n",
    "first difference the data\n",
    "\n",
    "calculate period returns (P1 - P0) / P0\n",
    "\n",
    "calculate correlations again\n",
    "\n",
    "What changed and why?\n",
    "\n",
    "Calculate the stanadard deviation of the series\n",
    "\n",
    "Which has the best sharp ratio?\n",
    "\n",
    "What is the return to a portfolio with equal weights?\n",
    "\n"
   ]
  },
  {
   "cell_type": "code",
   "execution_count": null,
   "metadata": {},
   "outputs": [],
   "source": []
  }
 ],
 "metadata": {
  "kernelspec": {
   "display_name": "Python 3.7.3 64-bit ('base': conda)",
   "language": "python",
   "name": "python37364bitbasecondaf40c37e8e9dd45c89e043b248b661bde"
  },
  "language_info": {
   "codemirror_mode": {
    "name": "ipython",
    "version": 3
   },
   "file_extension": ".py",
   "mimetype": "text/x-python",
   "name": "python",
   "nbconvert_exporter": "python",
   "pygments_lexer": "ipython3",
   "version": "3.7.3"
  }
 },
 "nbformat": 4,
 "nbformat_minor": 2
}
