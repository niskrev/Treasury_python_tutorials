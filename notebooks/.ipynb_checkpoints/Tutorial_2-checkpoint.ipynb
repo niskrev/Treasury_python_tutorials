{
 "cells": [
  {
   "cell_type": "markdown",
   "metadata": {},
   "source": [
    "# Python Tutorial 2\n",
    "\n",
    "In this tutorial we will learn about two datatypes: dictionaries and tuples.\n",
    "\n",
    "These are the primary base datatypes used on python and understanding how to create and extract data from them is crucial to efficiently programming most projects. (When you comfortable with dictionaries, you will want to put most of your data into dictionaries because they are so flexible and easy to use.)\n",
    "\n"
   ]
  },
  {
   "cell_type": "markdown",
   "metadata": {},
   "source": [
    "## Dictionaries\n",
    "Just like a normal dictionary, a python dictionary contains two pieces of information.\n",
    " - <b> KEY </b>: Which is a string that acts as an index. (This is similar to the word you are looking up in an actual dictionary.) Each key must be unigue.\n",
    " - <b> VALUE </b>: Any other information that you would like related to this key. (In an acutal dictionary, the definition is a good example of a value.)\n",
    " \n",
    "The value can be an integer, another string, a list, an image, a sound, another dictionary, an enormous matrix of data or anything that can be in python.\n",
    "\n",
    "Dictionaries are usually created with curley braces <b> {} </b> with the key (a string) then a colon <b>:</b> and the value associated with that key. Successive entries in the dictionary are separated by commas.\n",
    "\n",
    "Here we will be making a dictionary of lunch orders"
   ]
  },
  {
   "cell_type": "code",
   "execution_count": 2,
   "metadata": {},
   "outputs": [
    {
     "data": {
      "text/plain": [
       "{'Mike': 'peanut butter and jelley sandwich',\n",
       " 'Judy': 'ham and cheeze sandwich',\n",
       " 'Trudy': 'BLT sandwich',\n",
       " 'Fred': 'split pea soup'}"
      ]
     },
     "execution_count": 2,
     "metadata": {},
     "output_type": "execute_result"
    }
   ],
   "source": [
    "lunch_dict = {'Mike':'peanut butter and jelley sandwich',\n",
    "             'Judy': 'ham and cheeze sandwich',\n",
    "             'Trudy': 'BLT sandwich',\n",
    "             'Fred': 'split pea soup'}\n",
    "lunch_dict"
   ]
  },
  {
   "cell_type": "markdown",
   "metadata": {},
   "source": [
    "### Accessing items\n",
    "To access a value from lunch_dict, simply put hard brackets around the key.\n"
   ]
  },
  {
   "cell_type": "code",
   "execution_count": 4,
   "metadata": {},
   "outputs": [
    {
     "data": {
      "text/plain": [
       "'split pea soup'"
      ]
     },
     "execution_count": 4,
     "metadata": {},
     "output_type": "execute_result"
    }
   ],
   "source": [
    "lunch_dict['Fred']"
   ]
  },
  {
   "cell_type": "code",
   "execution_count": 5,
   "metadata": {},
   "outputs": [
    {
     "data": {
      "text/plain": [
       "'ham and cheeze sandwich'"
      ]
     },
     "execution_count": 5,
     "metadata": {},
     "output_type": "execute_result"
    }
   ],
   "source": [
    "lunch_dict['Judy']"
   ]
  },
  {
   "cell_type": "markdown",
   "metadata": {},
   "source": [
    "##### A more complicated way to do this is to use the 'get' method from the dictionary. (It is an object, just like the strings and lists)"
   ]
  },
  {
   "cell_type": "code",
   "execution_count": 6,
   "metadata": {},
   "outputs": [
    {
     "data": {
      "text/plain": [
       "'ham and cheeze sandwich'"
      ]
     },
     "execution_count": 6,
     "metadata": {},
     "output_type": "execute_result"
    }
   ],
   "source": [
    "lunch_dict.get('Judy')"
   ]
  },
  {
   "cell_type": "markdown",
   "metadata": {},
   "source": [
    "This is not normally used since it is actually extra typing versus just accessing the value directly without a method."
   ]
  },
  {
   "cell_type": "markdown",
   "metadata": {},
   "source": [
    "##### Changing a value that is already in the dictionary\n",
    "This is simply done by assigning a new value to the key."
   ]
  },
  {
   "cell_type": "code",
   "execution_count": 7,
   "metadata": {},
   "outputs": [],
   "source": [
    "lunch_dict['Fred'] = 'Meatball Sub'"
   ]
  },
  {
   "cell_type": "code",
   "execution_count": 8,
   "metadata": {},
   "outputs": [
    {
     "name": "stdout",
     "output_type": "stream",
     "text": [
      "{'Mike': 'peanut butter and jelley sandwich', 'Judy': 'ham and cheeze sandwich', 'Trudy': 'BLT sandwich', 'Fred': 'Meatball Sub'}\n"
     ]
    }
   ],
   "source": [
    "print(lunch_dict)"
   ]
  },
  {
   "cell_type": "markdown",
   "metadata": {},
   "source": [
    "##### Adding an item to the dictionary\n",
    "This is simply done by assigning with a new key."
   ]
  },
  {
   "cell_type": "code",
   "execution_count": 10,
   "metadata": {},
   "outputs": [
    {
     "name": "stdout",
     "output_type": "stream",
     "text": [
      "{'Mike': 'peanut butter and jelley sandwich', 'Judy': 'ham and cheeze sandwich', 'Trudy': 'BLT sandwich', 'Fred': 'Meatball Sub', 'Dave': 'Lucky Charms Cereal'}\n"
     ]
    }
   ],
   "source": [
    "lunch_dict['Dave']= 'Lucky Charms Cereal'\n",
    "print(lunch_dict)"
   ]
  },
  {
   "cell_type": "markdown",
   "metadata": {},
   "source": [
    "##### Removing an item from a dictionary\n",
    "To remove an item from the dictionary, simply use the pop() method. This will remove the item. (Note: Lists and strings and most objects have a pop item. It calls the item and removes it from the list or string).\n",
    "\n",
    "Suppose Dave was no longer invited to lunch."
   ]
  },
  {
   "cell_type": "code",
   "execution_count": 11,
   "metadata": {},
   "outputs": [
    {
     "name": "stdout",
     "output_type": "stream",
     "text": [
      "{'Mike': 'peanut butter and jelley sandwich', 'Judy': 'ham and cheeze sandwich', 'Trudy': 'BLT sandwich', 'Fred': 'Meatball Sub'}\n"
     ]
    }
   ],
   "source": [
    "lunch_dict.pop('Dave')\n",
    "print(lunch_dict)"
   ]
  },
  {
   "cell_type": "markdown",
   "metadata": {},
   "source": [
    "You can also use the del (for delete) keyword, but this is used less frequently in practive. (Judy is anoying and gets uninvited too.)"
   ]
  },
  {
   "cell_type": "code",
   "execution_count": 12,
   "metadata": {},
   "outputs": [
    {
     "name": "stdout",
     "output_type": "stream",
     "text": [
      "{'Mike': 'peanut butter and jelley sandwich', 'Trudy': 'BLT sandwich', 'Fred': 'Meatball Sub'}\n"
     ]
    }
   ],
   "source": [
    "del lunch_dict['Judy']\n",
    "print(lunch_dict)"
   ]
  },
  {
   "cell_type": "markdown",
   "metadata": {},
   "source": [
    "##### Other useful methods\n",
    " - copy() \n",
    " - items(): returns a voew of the dictionary's (key, value) pairs\n",
    " - keys(): returns all of the keys\n",
    " - values(): returns all of the values\n",
    "\n",
    " "
   ]
  },
  {
   "cell_type": "code",
   "execution_count": 14,
   "metadata": {},
   "outputs": [
    {
     "data": {
      "text/plain": [
       "dict_items([('Mike', 'peanut butter and jelley sandwich'), ('Trudy', 'BLT sandwich'), ('Fred', 'Meatball Sub')])"
      ]
     },
     "execution_count": 14,
     "metadata": {},
     "output_type": "execute_result"
    }
   ],
   "source": [
    "lunch_dict.items()"
   ]
  },
  {
   "cell_type": "code",
   "execution_count": 15,
   "metadata": {},
   "outputs": [
    {
     "data": {
      "text/plain": [
       "dict_keys(['Mike', 'Trudy', 'Fred'])"
      ]
     },
     "execution_count": 15,
     "metadata": {},
     "output_type": "execute_result"
    }
   ],
   "source": [
    "lunch_dict.keys()"
   ]
  },
  {
   "cell_type": "code",
   "execution_count": 16,
   "metadata": {},
   "outputs": [
    {
     "data": {
      "text/plain": [
       "dict_values(['peanut butter and jelley sandwich', 'BLT sandwich', 'Meatball Sub'])"
      ]
     },
     "execution_count": 16,
     "metadata": {},
     "output_type": "execute_result"
    }
   ],
   "source": [
    "lunch_dict.values()"
   ]
  },
  {
   "cell_type": "code",
   "execution_count": 17,
   "metadata": {},
   "outputs": [
    {
     "data": {
      "text/plain": [
       "dict_values(['peanut butter and jelley sandwich', 'BLT sandwich', 'Meatball Sub'])"
      ]
     },
     "execution_count": 17,
     "metadata": {},
     "output_type": "execute_result"
    }
   ],
   "source": [
    "these_values = lunch_dict.values()\n",
    "these_values"
   ]
  },
  {
   "cell_type": "markdown",
   "metadata": {},
   "source": [
    "This is marginally useful. For this to be really useful, we would want to make these a list by adding 'list()' around the outside of the dictionary method call."
   ]
  },
  {
   "cell_type": "code",
   "execution_count": 22,
   "metadata": {},
   "outputs": [
    {
     "data": {
      "text/plain": [
       "['Mike', 'Trudy', 'Fred']"
      ]
     },
     "execution_count": 22,
     "metadata": {},
     "output_type": "execute_result"
    }
   ],
   "source": [
    "these_keys = list(lunch_dict.keys())\n",
    "these_keys"
   ]
  },
  {
   "cell_type": "code",
   "execution_count": 25,
   "metadata": {},
   "outputs": [
    {
     "name": "stdout",
     "output_type": "stream",
     "text": [
      "['peanut butter and jelley sandwich', 'BLT sandwich', 'Meatball Sub']\n",
      "<class 'list'>\n"
     ]
    }
   ],
   "source": [
    "these_values = list(lunch_dict.values())\n",
    "print(these_values)\n",
    "print(type(these_values))"
   ]
  },
  {
   "cell_type": "markdown",
   "metadata": {},
   "source": [
    "### Iterating over a dictionary\n",
    "Since dictionaries are objects, they can be iterated in python.\n"
   ]
  },
  {
   "cell_type": "code",
   "execution_count": 27,
   "metadata": {},
   "outputs": [
    {
     "name": "stdout",
     "output_type": "stream",
     "text": [
      "Mike\n",
      "Trudy\n",
      "Fred\n"
     ]
    }
   ],
   "source": [
    "# this will return the keys\n",
    "for x in lunch_dict:\n",
    "    print(x)"
   ]
  },
  {
   "cell_type": "code",
   "execution_count": 28,
   "metadata": {},
   "outputs": [
    {
     "name": "stdout",
     "output_type": "stream",
     "text": [
      "peanut butter and jelley sandwich\n",
      "BLT sandwich\n",
      "Meatball Sub\n"
     ]
    }
   ],
   "source": [
    "# this will return the values\n",
    "for x in lunch_dict.values():\n",
    "    print(x)"
   ]
  },
  {
   "cell_type": "markdown",
   "metadata": {},
   "source": [
    "###### Returning both the keys and values from a dictionary with .items() method"
   ]
  },
  {
   "cell_type": "code",
   "execution_count": 29,
   "metadata": {},
   "outputs": [
    {
     "name": "stdout",
     "output_type": "stream",
     "text": [
      "This is the key:  Mike  This is the value :  peanut butter and jelley sandwich\n",
      "This is the key:  Trudy  This is the value :  BLT sandwich\n",
      "This is the key:  Fred  This is the value :  Meatball Sub\n"
     ]
    }
   ],
   "source": [
    "for x, y in lunch_dict.items():\n",
    "    print('This is the key: ', x, ' This is the value : ', y)"
   ]
  },
  {
   "cell_type": "markdown",
   "metadata": {},
   "source": [
    "##### Checking if a key exists with 'in'"
   ]
  },
  {
   "cell_type": "code",
   "execution_count": 30,
   "metadata": {},
   "outputs": [
    {
     "name": "stdout",
     "output_type": "stream",
     "text": [
      "No no! He is not invited\n"
     ]
    }
   ],
   "source": [
    "if 'Dave' in lunch_dict:\n",
    "    print('Yes, Dave is coming to lunch')\n",
    "else:\n",
    "    print('No no! He is not invited')"
   ]
  },
  {
   "cell_type": "markdown",
   "metadata": {},
   "source": [
    "### To clear a dictionary, use clear()"
   ]
  },
  {
   "cell_type": "code",
   "execution_count": 31,
   "metadata": {},
   "outputs": [
    {
     "data": {
      "text/plain": [
       "{}"
      ]
     },
     "execution_count": 31,
     "metadata": {},
     "output_type": "execute_result"
    }
   ],
   "source": [
    "lunch_dict.clear()\n",
    "lunch_dict"
   ]
  },
  {
   "cell_type": "markdown",
   "metadata": {},
   "source": [
    "# TO DO:\n",
    "1.  have them work on an exercise with dictionaries\n",
    " - create one\n",
    " - add to it\n",
    " - check if someone is in the dictionary\n",
    " - change\n",
    " - remove\n",
    " \n",
    "2. Nested dictionaries\n",
    " - simple examples\n",
    " \n",
    "3. Exercise: Have them create a dictionary of entities\n",
    "    BU is the first key\n",
    "    product is the second key\n",
    "    currency is the third key\n",
    "    value is the final key\n",
    "\n",
    " - retrieve values from the dictionary\n",
    " - add values to the dictionary\n",
    " - pull out the time series of data from the dictionary\n",
    " /\n",
    " "
   ]
  },
  {
   "cell_type": "code",
   "execution_count": null,
   "metadata": {},
   "outputs": [],
   "source": []
  },
  {
   "cell_type": "code",
   "execution_count": null,
   "metadata": {},
   "outputs": [],
   "source": []
  },
  {
   "cell_type": "code",
   "execution_count": null,
   "metadata": {},
   "outputs": [],
   "source": []
  },
  {
   "cell_type": "markdown",
   "metadata": {},
   "source": [
    "## What else to do with dictionaries\n",
    "Possibly have an advanced dictionaries and functions session\n",
    "\n",
    "Take the intab files with bank account balances and create dictionaries with the different balances by entity currency and bank\n",
    "\n",
    "Maybe make them create a report that takes this information into a function and summarized exposues.\n"
   ]
  },
  {
   "cell_type": "markdown",
   "metadata": {},
   "source": [
    "intab_file possibly loaded up"
   ]
  },
  {
   "cell_type": "markdown",
   "metadata": {},
   "source": [
    "nested dictionaries\n",
    "\n"
   ]
  },
  {
   "cell_type": "markdown",
   "metadata": {},
   "source": [
    "first create them for the fx derivatives all database\n",
    "\n",
    "then work on reporting\n",
    "\n",
    "Advanced summaries\n",
    "\n",
    "open\n",
    "\n",
    "what the fuck\n",
    "\n",
    "\n",
    "numpy and then pandas.\n",
    "\n"
   ]
  },
  {
   "cell_type": "markdown",
   "metadata": {},
   "source": [
    "Card shuffle\n",
    "\n",
    "\n",
    "rank cards based on their suit and number\n",
    "\n",
    "AH, Kd, Qc, JS, 10H, 9d, 8c, \n",
    "\n",
    "These cards are laid out from ace to king in suits by in the order of hearts, spades, diamonds and clubs.\n",
    "\n",
    "When you do a standard suffule (card is split into 26 sets of 2)\n",
    "Thet are shuffled perfectly, one from one deck (top deck) one from the bottom.\n",
    "\n",
    "This happens each time.\n",
    "\n",
    "Distance is a metric of how similar one card is from the other card\n",
    "Suit_muliplier = 1.25\n",
    "numeric order = 1\n",
    "numeric order if greater than 2, is exponentially higher.\n",
    "\n",
    "Crete a function that shuffles the deck\n",
    "Create a function that creates a score for the card distance\n",
    "\n",
    "how many shuffles are optimal?\n",
    "\n"
   ]
  },
  {
   "cell_type": "code",
   "execution_count": null,
   "metadata": {},
   "outputs": [],
   "source": []
  },
  {
   "cell_type": "code",
   "execution_count": null,
   "metadata": {},
   "outputs": [],
   "source": []
  },
  {
   "cell_type": "code",
   "execution_count": null,
   "metadata": {},
   "outputs": [],
   "source": []
  },
  {
   "cell_type": "code",
   "execution_count": null,
   "metadata": {},
   "outputs": [],
   "source": []
  }
 ],
 "metadata": {
  "kernelspec": {
   "display_name": "Python 3.7.3 64-bit ('base': conda)",
   "language": "python",
   "name": "python37364bitbasecondaf40c37e8e9dd45c89e043b248b661bde"
  },
  "language_info": {
   "codemirror_mode": {
    "name": "ipython",
    "version": 3
   },
   "file_extension": ".py",
   "mimetype": "text/x-python",
   "name": "python",
   "nbconvert_exporter": "python",
   "pygments_lexer": "ipython3",
   "version": "3.7.3"
  }
 },
 "nbformat": 4,
 "nbformat_minor": 2
}
