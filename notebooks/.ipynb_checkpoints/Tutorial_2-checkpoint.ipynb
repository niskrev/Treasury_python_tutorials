{
 "cells": [
  {
   "cell_type": "markdown",
   "metadata": {},
   "source": [
    "# Python Tutorial 2\n",
    "\n",
    "In this tutorial we will learn about two datatypes: dictionaries and tuples.\n",
    "\n",
    "These are the primary base datatypes used on python and understanding how to create and extract data from them is crucial to efficiently programming most projects. (When you comfortable with dictionaries, you will want to put most of your data into dictionaries because they are so flexible and easy to use.)\n",
    "\n",
    "I am not a big fan of tuples, but many modules you import do use them, so you need to be aware of how they work. (Or you may actually really like them, I don't know)\n",
    "\n",
    "We will also briefly introduce saving variables with pickle. (Actually, all you need to know about pickle in a few simple lines of code.)"
   ]
  },
  {
   "cell_type": "markdown",
   "metadata": {},
   "source": [
    "## Outline\n",
    "I. Dictionaries\n",
    "\n",
    "    A. Dictionary Basics\n",
    "    \n",
    "        i. creating dictionaries\n",
    "        ii. referencing parts of a dictionary\n",
    "    \n",
    "    B. Dictionary Examples\n",
    "\n",
    "    C. Nested Dictionaries\n",
    "\n",
    "    D. Nested Dictionary Example\n",
    "    \n",
    " \n",
    "II. Tuples\n",
    "\n",
    "III. Pickle"
   ]
  },
  {
   "cell_type": "markdown",
   "metadata": {},
   "source": [
    "### Standard Import Statements "
   ]
  },
  {
   "cell_type": "code",
   "execution_count": 114,
   "metadata": {},
   "outputs": [],
   "source": [
    "import pickle"
   ]
  },
  {
   "cell_type": "markdown",
   "metadata": {},
   "source": [
    "## Dictionaries\n",
    "Just like a normal dictionary, a python dictionary contains two pieces of information.\n",
    " - <b> KEY </b>: Which is a string (or number or tuple) that acts as an index. (This is similar to the word you are looking up in an actual dictionary.) Each key must be unique.\n",
    " - <b> VALUE </b>: Any other information that you would like related to this key. (In an acutal dictionary, the definition is a good example of a value.)\n",
    " \n",
    "The value can be an integer, another string, a list, an image, a sound, another dictionary, an enormous matrix of data or anything that can be in python.\n",
    "\n",
    "Dictionaries are usually created with curley braces <b> {} </b> with the key (a string) then a colon <b>:</b> and the value associated with that key. Successive entries in the dictionary are separated by commas. For example:\n",
    "\n",
    "    my_dict = {'key1':'value1', 'key2': 'value2', 'key3': 'value3'}\n",
    "\n",
    "\n",
    "Here we will be making a dictionary of lunch orders"
   ]
  },
  {
   "cell_type": "code",
   "execution_count": 23,
   "metadata": {},
   "outputs": [
    {
     "data": {
      "text/plain": [
       "{'Mike': 'peanut butter and jelly sandwich',\n",
       " 'Judy': 'ham and cheeze sandwich',\n",
       " 'Trudy': 'BLT sandwich',\n",
       " 'Fred': 'split pea soup'}"
      ]
     },
     "execution_count": 23,
     "metadata": {},
     "output_type": "execute_result"
    }
   ],
   "source": [
    "lunch_dict = {'Mike':'peanut butter and jelly sandwich',\n",
    "             'Judy': 'ham and cheeze sandwich',\n",
    "             'Trudy': 'BLT sandwich',\n",
    "             'Fred': 'split pea soup'}\n",
    "lunch_dict"
   ]
  },
  {
   "cell_type": "markdown",
   "metadata": {},
   "source": [
    "### Accessing items\n",
    "To access a value from lunch_dict, simply put hard brackets around the key.\n"
   ]
  },
  {
   "cell_type": "code",
   "execution_count": 24,
   "metadata": {},
   "outputs": [
    {
     "data": {
      "text/plain": [
       "'split pea soup'"
      ]
     },
     "execution_count": 24,
     "metadata": {},
     "output_type": "execute_result"
    }
   ],
   "source": [
    "lunch_dict['Fred']"
   ]
  },
  {
   "cell_type": "code",
   "execution_count": 25,
   "metadata": {},
   "outputs": [
    {
     "data": {
      "text/plain": [
       "'ham and cheeze sandwich'"
      ]
     },
     "execution_count": 25,
     "metadata": {},
     "output_type": "execute_result"
    }
   ],
   "source": [
    "lunch_dict['Judy']"
   ]
  },
  {
   "cell_type": "markdown",
   "metadata": {},
   "source": [
    "##### A more complicated way to do this is to use the 'get' method from the dictionary. (It is an object, just like the strings and lists)"
   ]
  },
  {
   "cell_type": "code",
   "execution_count": 26,
   "metadata": {},
   "outputs": [
    {
     "data": {
      "text/plain": [
       "'ham and cheeze sandwich'"
      ]
     },
     "execution_count": 26,
     "metadata": {},
     "output_type": "execute_result"
    }
   ],
   "source": [
    "lunch_dict.get('Judy')"
   ]
  },
  {
   "cell_type": "markdown",
   "metadata": {},
   "source": [
    "This is not normally used since it is actually extra typing versus just accessing the value directly without a method."
   ]
  },
  {
   "cell_type": "markdown",
   "metadata": {},
   "source": [
    "##### Changing a value that is already in the dictionary\n",
    "This is simply done by assigning a new value to the key."
   ]
  },
  {
   "cell_type": "code",
   "execution_count": 27,
   "metadata": {},
   "outputs": [],
   "source": [
    "lunch_dict['Fred'] = 'Meatball Sub'"
   ]
  },
  {
   "cell_type": "code",
   "execution_count": 28,
   "metadata": {},
   "outputs": [
    {
     "name": "stdout",
     "output_type": "stream",
     "text": [
      "{'Mike': 'peanut butter and jelly sandwich', 'Judy': 'ham and cheeze sandwich', 'Trudy': 'BLT sandwich', 'Fred': 'Meatball Sub'}\n"
     ]
    }
   ],
   "source": [
    "print(lunch_dict)"
   ]
  },
  {
   "cell_type": "markdown",
   "metadata": {},
   "source": [
    "##### Adding an item to the dictionary\n",
    "This is simply done by assigning with a new key."
   ]
  },
  {
   "cell_type": "code",
   "execution_count": 29,
   "metadata": {},
   "outputs": [
    {
     "name": "stdout",
     "output_type": "stream",
     "text": [
      "{'Mike': 'peanut butter and jelly sandwich', 'Judy': 'ham and cheeze sandwich', 'Trudy': 'BLT sandwich', 'Fred': 'Meatball Sub', 'Dave': 'Lucky Charms Cereal'}\n"
     ]
    }
   ],
   "source": [
    "lunch_dict['Dave']= 'Lucky Charms Cereal'\n",
    "print(lunch_dict)"
   ]
  },
  {
   "cell_type": "markdown",
   "metadata": {},
   "source": [
    "##### Removing an item from a dictionary\n",
    "To remove an item from the dictionary, simply use the pop() method. This will remove the item. (Note: Lists and strings and most objects have a pop item. It calls the item and removes it from the list or string).\n",
    "\n",
    "Suppose Dave was no longer invited to lunch."
   ]
  },
  {
   "cell_type": "code",
   "execution_count": 30,
   "metadata": {},
   "outputs": [
    {
     "name": "stdout",
     "output_type": "stream",
     "text": [
      "{'Mike': 'peanut butter and jelly sandwich', 'Judy': 'ham and cheeze sandwich', 'Trudy': 'BLT sandwich', 'Fred': 'Meatball Sub'}\n"
     ]
    }
   ],
   "source": [
    "lunch_dict.pop('Dave')\n",
    "print(lunch_dict)"
   ]
  },
  {
   "cell_type": "markdown",
   "metadata": {},
   "source": [
    "You can also use the del (for delete) keyword, but this is used less frequently in practive. (Judy is anoying and gets uninvited too.)"
   ]
  },
  {
   "cell_type": "code",
   "execution_count": 31,
   "metadata": {},
   "outputs": [
    {
     "name": "stdout",
     "output_type": "stream",
     "text": [
      "{'Mike': 'peanut butter and jelly sandwich', 'Trudy': 'BLT sandwich', 'Fred': 'Meatball Sub'}\n"
     ]
    }
   ],
   "source": [
    "del lunch_dict['Judy']\n",
    "print(lunch_dict)"
   ]
  },
  {
   "cell_type": "markdown",
   "metadata": {},
   "source": [
    "##### Other useful methods\n",
    " - copy() \n",
    " - items(): returns a view of the dictionary's (key, value) pairs\n",
    " - keys(): returns all of the keys\n",
    " - values(): returns all of the values"
   ]
  },
  {
   "cell_type": "code",
   "execution_count": 32,
   "metadata": {},
   "outputs": [
    {
     "data": {
      "text/plain": [
       "dict_items([('Mike', 'peanut butter and jelly sandwich'), ('Trudy', 'BLT sandwich'), ('Fred', 'Meatball Sub')])"
      ]
     },
     "execution_count": 32,
     "metadata": {},
     "output_type": "execute_result"
    }
   ],
   "source": [
    "lunch_dict.items()"
   ]
  },
  {
   "cell_type": "code",
   "execution_count": 33,
   "metadata": {},
   "outputs": [
    {
     "data": {
      "text/plain": [
       "dict_keys(['Mike', 'Trudy', 'Fred'])"
      ]
     },
     "execution_count": 33,
     "metadata": {},
     "output_type": "execute_result"
    }
   ],
   "source": [
    "lunch_dict.keys()"
   ]
  },
  {
   "cell_type": "code",
   "execution_count": 34,
   "metadata": {},
   "outputs": [
    {
     "data": {
      "text/plain": [
       "dict_values(['peanut butter and jelly sandwich', 'BLT sandwich', 'Meatball Sub'])"
      ]
     },
     "execution_count": 34,
     "metadata": {},
     "output_type": "execute_result"
    }
   ],
   "source": [
    "lunch_dict.values()"
   ]
  },
  {
   "cell_type": "code",
   "execution_count": 35,
   "metadata": {},
   "outputs": [
    {
     "data": {
      "text/plain": [
       "dict_values(['peanut butter and jelly sandwich', 'BLT sandwich', 'Meatball Sub'])"
      ]
     },
     "execution_count": 35,
     "metadata": {},
     "output_type": "execute_result"
    }
   ],
   "source": [
    "these_values = lunch_dict.values()\n",
    "these_values"
   ]
  },
  {
   "cell_type": "markdown",
   "metadata": {},
   "source": [
    "This is marginally useful. For this to be really useful, we would want to make these a list by adding 'list()' around the outside of the dictionary method call."
   ]
  },
  {
   "cell_type": "code",
   "execution_count": 36,
   "metadata": {},
   "outputs": [
    {
     "data": {
      "text/plain": [
       "['Mike', 'Trudy', 'Fred']"
      ]
     },
     "execution_count": 36,
     "metadata": {},
     "output_type": "execute_result"
    }
   ],
   "source": [
    "these_keys = list(lunch_dict.keys())\n",
    "these_keys"
   ]
  },
  {
   "cell_type": "code",
   "execution_count": 37,
   "metadata": {},
   "outputs": [
    {
     "name": "stdout",
     "output_type": "stream",
     "text": [
      "['peanut butter and jelly sandwich', 'BLT sandwich', 'Meatball Sub']\n",
      "<class 'list'>\n"
     ]
    }
   ],
   "source": [
    "these_values = list(lunch_dict.values())\n",
    "print(these_values)\n",
    "print(type(these_values))"
   ]
  },
  {
   "cell_type": "markdown",
   "metadata": {},
   "source": [
    "### Iterating over a dictionary\n",
    "Since dictionaries are objects, they can be iterated simply in python.\n",
    "\n",
    "You can iterate over the keys, the values or both."
   ]
  },
  {
   "cell_type": "code",
   "execution_count": 38,
   "metadata": {},
   "outputs": [
    {
     "name": "stdout",
     "output_type": "stream",
     "text": [
      "Mike\n",
      "Trudy\n",
      "Fred\n"
     ]
    }
   ],
   "source": [
    "# this will return the keys\n",
    "for x in lunch_dict:\n",
    "    print(x)"
   ]
  },
  {
   "cell_type": "code",
   "execution_count": 39,
   "metadata": {
    "scrolled": true
   },
   "outputs": [
    {
     "name": "stdout",
     "output_type": "stream",
     "text": [
      "peanut butter and jelly sandwich\n",
      "BLT sandwich\n",
      "Meatball Sub\n"
     ]
    }
   ],
   "source": [
    "# this will return the values\n",
    "for x in lunch_dict.values():\n",
    "    print(x)"
   ]
  },
  {
   "cell_type": "markdown",
   "metadata": {},
   "source": [
    "###### Returning both the keys and values from a dictionary with .items() method"
   ]
  },
  {
   "cell_type": "code",
   "execution_count": 40,
   "metadata": {},
   "outputs": [
    {
     "name": "stdout",
     "output_type": "stream",
     "text": [
      "This is the key:  Mike  This is the value :  peanut butter and jelly sandwich\n",
      "This is the key:  Trudy  This is the value :  BLT sandwich\n",
      "This is the key:  Fred  This is the value :  Meatball Sub\n"
     ]
    }
   ],
   "source": [
    "for key, value in lunch_dict.items():\n",
    "    print('This is the key: ', key, ' This is the value : ', value)"
   ]
  },
  {
   "cell_type": "markdown",
   "metadata": {},
   "source": [
    "##### Checking if a key exists with 'in'\n"
   ]
  },
  {
   "cell_type": "code",
   "execution_count": 41,
   "metadata": {},
   "outputs": [
    {
     "name": "stdout",
     "output_type": "stream",
     "text": [
      "No no! He is not invited!\n"
     ]
    }
   ],
   "source": [
    "if 'Dave' in lunch_dict:\n",
    "    print('Yes, Dave is coming to lunch')\n",
    "else:\n",
    "    print('No no! He is not invited!')"
   ]
  },
  {
   "cell_type": "markdown",
   "metadata": {},
   "source": [
    "#### Checking if a value exists with 'in' and .values()"
   ]
  },
  {
   "cell_type": "code",
   "execution_count": 42,
   "metadata": {},
   "outputs": [
    {
     "name": "stdout",
     "output_type": "stream",
     "text": [
      "Yes, someone ordered that\n"
     ]
    }
   ],
   "source": [
    "if 'BLT sandwich' in lunch_dict.values():\n",
    "    print('Yes, someone ordered that')\n",
    "else:\n",
    "    print('No, that is not our order')"
   ]
  },
  {
   "cell_type": "markdown",
   "metadata": {},
   "source": [
    "#### Dictionaries are unordered. To retrieve items in order by their keys, you need to use the function sorted() over the dictionaries keys"
   ]
  },
  {
   "cell_type": "code",
   "execution_count": 43,
   "metadata": {},
   "outputs": [
    {
     "name": "stdout",
     "output_type": "stream",
     "text": [
      "Fred  is having  Meatball Sub for lunch.\n",
      "Mike  is having  peanut butter and jelly sandwich for lunch.\n",
      "Trudy  is having  BLT sandwich for lunch.\n"
     ]
    }
   ],
   "source": [
    "for name in sorted(lunch_dict.keys()):\n",
    "    print(name, ' is having ', lunch_dict[name], 'for lunch.')"
   ]
  },
  {
   "cell_type": "markdown",
   "metadata": {},
   "source": [
    "## IMPORTANT NOTE: PYTHON IS LAZY!!!\n",
    "If you have a dictionary and assign it to another variable name, python will NOT copy that dictionary. (Python thinks 'Well, I know they are the same, so I am not going to make a copy of that!)"
   ]
  },
  {
   "cell_type": "code",
   "execution_count": 44,
   "metadata": {},
   "outputs": [
    {
     "data": {
      "text/plain": [
       "{'Mike': 'peanut butter and jelly sandwich',\n",
       " 'Judy': 'ham and cheeze sandwich',\n",
       " 'Trudy': 'BLT sandwich',\n",
       " 'Fred': 'split pea soup'}"
      ]
     },
     "execution_count": 44,
     "metadata": {},
     "output_type": "execute_result"
    }
   ],
   "source": [
    "lunch_dict = {'Mike':'peanut butter and jelly sandwich',\n",
    "             'Judy': 'ham and cheeze sandwich',\n",
    "             'Trudy': 'BLT sandwich',\n",
    "             'Fred': 'split pea soup'}\n",
    "lunch_dict"
   ]
  },
  {
   "cell_type": "code",
   "execution_count": 45,
   "metadata": {},
   "outputs": [],
   "source": [
    "another_dict = lunch_dict"
   ]
  },
  {
   "cell_type": "markdown",
   "metadata": {},
   "source": [
    "Let's change an item in lunch_dict."
   ]
  },
  {
   "cell_type": "code",
   "execution_count": 46,
   "metadata": {},
   "outputs": [
    {
     "data": {
      "text/plain": [
       "{'Mike': 'peanut butter and jelly sandwich',\n",
       " 'Judy': 'a salad',\n",
       " 'Trudy': 'BLT sandwich',\n",
       " 'Fred': 'split pea soup'}"
      ]
     },
     "execution_count": 46,
     "metadata": {},
     "output_type": "execute_result"
    }
   ],
   "source": [
    "lunch_dict['Judy'] = 'a salad'\n",
    "lunch_dict"
   ]
  },
  {
   "cell_type": "markdown",
   "metadata": {},
   "source": [
    "But what happened to another_dict???"
   ]
  },
  {
   "cell_type": "code",
   "execution_count": 47,
   "metadata": {},
   "outputs": [
    {
     "data": {
      "text/plain": [
       "{'Mike': 'peanut butter and jelly sandwich',\n",
       " 'Judy': 'a salad',\n",
       " 'Trudy': 'BLT sandwich',\n",
       " 'Fred': 'split pea soup'}"
      ]
     },
     "execution_count": 47,
     "metadata": {},
     "output_type": "execute_result"
    }
   ],
   "source": [
    "another_dict"
   ]
  },
  {
   "cell_type": "markdown",
   "metadata": {},
   "source": [
    "#### It changed here too!!!\n",
    "\n",
    "### To fix this we need to assign the dictionary with the copy() method or python will think they are the same."
   ]
  },
  {
   "cell_type": "code",
   "execution_count": 48,
   "metadata": {},
   "outputs": [
    {
     "data": {
      "text/plain": [
       "{'Mike': 'peanut butter and jelly sandwich',\n",
       " 'Judy': 'a salad',\n",
       " 'Trudy': 'BLT sandwich',\n",
       " 'Fred': 'split pea soup'}"
      ]
     },
     "execution_count": 48,
     "metadata": {},
     "output_type": "execute_result"
    }
   ],
   "source": [
    "another_dict = lunch_dict.copy()\n",
    "another_dict"
   ]
  },
  {
   "cell_type": "markdown",
   "metadata": {},
   "source": [
    "If we change the lunch_dict now, it will not change another_dict since they have been copied"
   ]
  },
  {
   "cell_type": "code",
   "execution_count": 50,
   "metadata": {},
   "outputs": [
    {
     "data": {
      "text/plain": [
       "{'Mike': 'peanut butter and jelly sandwich',\n",
       " 'Judy': 'just coffee',\n",
       " 'Trudy': 'BLT sandwich',\n",
       " 'Fred': 'split pea soup'}"
      ]
     },
     "execution_count": 50,
     "metadata": {},
     "output_type": "execute_result"
    }
   ],
   "source": [
    "lunch_dict['Judy']= 'just coffee'\n",
    "lunch_dict"
   ]
  },
  {
   "cell_type": "code",
   "execution_count": 51,
   "metadata": {},
   "outputs": [
    {
     "data": {
      "text/plain": [
       "{'Mike': 'peanut butter and jelly sandwich',\n",
       " 'Judy': 'a salad',\n",
       " 'Trudy': 'BLT sandwich',\n",
       " 'Fred': 'split pea soup'}"
      ]
     },
     "execution_count": 51,
     "metadata": {},
     "output_type": "execute_result"
    }
   ],
   "source": [
    "another_dict"
   ]
  },
  {
   "cell_type": "markdown",
   "metadata": {},
   "source": [
    "### Creating a dictionary from two lists\n",
    "The 'zip' function creates pairs of objects by matching lists in order. It returns a zip object, which is just a combination of tuples, which we will get to later.\n",
    "\n",
    "When used with the dict() function, we can create dictionaires from lists."
   ]
  },
  {
   "cell_type": "code",
   "execution_count": 52,
   "metadata": {},
   "outputs": [
    {
     "data": {
      "text/plain": [
       "['name', 'address', 'phone_number']"
      ]
     },
     "execution_count": 52,
     "metadata": {},
     "output_type": "execute_result"
    }
   ],
   "source": [
    "key_list = ['name', 'address', 'phone_number']\n",
    "key_list"
   ]
  },
  {
   "cell_type": "code",
   "execution_count": 53,
   "metadata": {},
   "outputs": [
    {
     "data": {
      "text/plain": [
       "['Bobby', '123 Elm Street', '555-5555']"
      ]
     },
     "execution_count": 53,
     "metadata": {},
     "output_type": "execute_result"
    }
   ],
   "source": [
    "value_list = ['Bobby', '123 Elm Street', '555-5555']\n",
    "value_list"
   ]
  },
  {
   "cell_type": "code",
   "execution_count": 56,
   "metadata": {},
   "outputs": [
    {
     "data": {
      "text/plain": [
       "{'name': 'Bobby', 'address': '123 Elm Street', 'phone_number': '555-5555'}"
      ]
     },
     "execution_count": 56,
     "metadata": {},
     "output_type": "execute_result"
    }
   ],
   "source": [
    "dict_from_lists = dict(zip(key_list, value_list))\n",
    "dict_from_lists"
   ]
  },
  {
   "cell_type": "markdown",
   "metadata": {},
   "source": [
    "### Creating a dictionary by using variable assignment and the dict() constructor (function)\n",
    "Here the keys are treated like variables and not strings, so they do not have to be in quotes. The values that are strings, however, are kept in quotes."
   ]
  },
  {
   "cell_type": "code",
   "execution_count": 73,
   "metadata": {},
   "outputs": [
    {
     "name": "stdout",
     "output_type": "stream",
     "text": [
      "{'language': 'English-ish', 'currency': 'CAD', 'favorite_pastime': 'hockey', 'population': 123456789}\n"
     ]
    }
   ],
   "source": [
    "Canada_dict = dict(language='English-ish', currency= 'CAD', favorite_pastime='hockey', population=123456789)\n",
    "print(Canada_dict)"
   ]
  },
  {
   "cell_type": "markdown",
   "metadata": {},
   "source": [
    "##### Note: You can also make a copy of a dictionary with the using the dict() function on an existing dictionary"
   ]
  },
  {
   "cell_type": "code",
   "execution_count": 57,
   "metadata": {},
   "outputs": [
    {
     "data": {
      "text/plain": [
       "{'filename': '../data/all_billings_inputs.xlsx', 'sheetname': 'this_sheet'}"
      ]
     },
     "execution_count": 57,
     "metadata": {},
     "output_type": "execute_result"
    }
   ],
   "source": [
    "new_dict = {'filename': '../data/all_billings_inputs.xlsx',\n",
    "           'sheetname': 'this_sheet'}\n",
    "new_dict"
   ]
  },
  {
   "cell_type": "code",
   "execution_count": 58,
   "metadata": {},
   "outputs": [
    {
     "data": {
      "text/plain": [
       "{'filename': '../data/all_billings_inputs.xlsx', 'sheetname': 'this_sheet'}"
      ]
     },
     "execution_count": 58,
     "metadata": {},
     "output_type": "execute_result"
    }
   ],
   "source": [
    "newer_dict = dict(new_dict)\n",
    "newer_dict"
   ]
  },
  {
   "cell_type": "markdown",
   "metadata": {},
   "source": [
    "Let's test that this is a copy by changing new_dict and seeing if it changes newer_dict! (Yes, lets!)"
   ]
  },
  {
   "cell_type": "code",
   "execution_count": 59,
   "metadata": {},
   "outputs": [
    {
     "data": {
      "text/plain": [
       "{'filename': '../data/all_billings_inputs.xlsx', 'sheetname': 'no_this_sheet'}"
      ]
     },
     "execution_count": 59,
     "metadata": {},
     "output_type": "execute_result"
    }
   ],
   "source": [
    "new_dict['sheetname'] = 'no_this_sheet'\n",
    "new_dict"
   ]
  },
  {
   "cell_type": "code",
   "execution_count": 60,
   "metadata": {},
   "outputs": [
    {
     "name": "stdout",
     "output_type": "stream",
     "text": [
      "{'filename': '../data/all_billings_inputs.xlsx', 'sheetname': 'this_sheet'}\n"
     ]
    }
   ],
   "source": [
    "print(newer_dict)"
   ]
  },
  {
   "cell_type": "markdown",
   "metadata": {},
   "source": [
    "### Merging dictionaries\n",
    "\n",
    "Dictionaries can easily be merged together in python, but we need to be careful if the two dictionaries have keys that are common. "
   ]
  },
  {
   "cell_type": "code",
   "execution_count": 65,
   "metadata": {},
   "outputs": [
    {
     "name": "stdout",
     "output_type": "stream",
     "text": [
      "<class 'dict'>\n",
      "{'a': 1, 'b': 2, 'c': 3}\n"
     ]
    }
   ],
   "source": [
    "dict_1 = {'a': 1, 'b':2, 'c':3}\n",
    "print(type(dict_1))\n",
    "print(dict_1)"
   ]
  },
  {
   "cell_type": "code",
   "execution_count": 66,
   "metadata": {},
   "outputs": [
    {
     "name": "stdout",
     "output_type": "stream",
     "text": [
      "<class 'dict'>\n",
      "{'aa': 11, 'bb': 22, 'c': 33}\n"
     ]
    }
   ],
   "source": [
    "dict_2 = {'aa': 11, 'bb':22, 'c':33}\n",
    "print(type(dict_2))\n",
    "print(dict_2)"
   ]
  },
  {
   "cell_type": "markdown",
   "metadata": {},
   "source": [
    "##### Update dict_1 by adding the key, value pairs in dictionary 2"
   ]
  },
  {
   "cell_type": "code",
   "execution_count": 67,
   "metadata": {},
   "outputs": [
    {
     "name": "stdout",
     "output_type": "stream",
     "text": [
      "{'a': 1, 'b': 2, 'c': 33, 'aa': 11, 'bb': 22}\n"
     ]
    }
   ],
   "source": [
    "dict_1.update(dict_2)\n",
    "print(dict_1)"
   ]
  },
  {
   "cell_type": "markdown",
   "metadata": {},
   "source": [
    "##### <font color = 'red'>What did you notice about the value of c???</font>"
   ]
  },
  {
   "cell_type": "markdown",
   "metadata": {},
   "source": [
    "#### Merging dictionaries into a new dictionary (so not update)\n",
    "Lets start over and show different ways to do this."
   ]
  },
  {
   "cell_type": "code",
   "execution_count": null,
   "metadata": {},
   "outputs": [],
   "source": [
    "dict_1 = {'a': 1, 'b':2, 'c':3}\n",
    "dict_2 = {'aa': 11, 'bb':22, 'c':33}"
   ]
  },
  {
   "cell_type": "markdown",
   "metadata": {},
   "source": [
    "** extracts the elements of a dictionary and passes them to a function. This is necessary so that dict_3 does not contain a key of dict_1 and values of dict_2.\n",
    "\n",
    "So the code below is creating a dictionary by essentially creating\n",
    "\n",
    "dict_3 = {'a': 1, 'b':2, 'c':3, 'aa': 11, 'bb':22, 'c':33}\n",
    "\n",
    "This will create one dictionary"
   ]
  },
  {
   "cell_type": "code",
   "execution_count": 75,
   "metadata": {},
   "outputs": [
    {
     "name": "stdout",
     "output_type": "stream",
     "text": [
      "{'a': 1, 'b': 2, 'c': 33, 'aa': 11, 'bb': 22}\n"
     ]
    }
   ],
   "source": [
    "dict_3 = {**dict_1, **dict_2}\n",
    "print(dict_3)"
   ]
  },
  {
   "cell_type": "markdown",
   "metadata": {},
   "source": [
    "Note: you could also copy dict_1 into a new dictionary dict_3 and then update dict_3 with dict_2"
   ]
  },
  {
   "cell_type": "markdown",
   "metadata": {},
   "source": [
    "### To clear a dictionary, use clear()"
   ]
  },
  {
   "cell_type": "code",
   "execution_count": 31,
   "metadata": {},
   "outputs": [
    {
     "data": {
      "text/plain": [
       "{}"
      ]
     },
     "execution_count": 31,
     "metadata": {},
     "output_type": "execute_result"
    }
   ],
   "source": [
    "lunch_dict.clear()\n",
    "lunch_dict"
   ]
  },
  {
   "cell_type": "markdown",
   "metadata": {},
   "source": [
    "### I. B. Dictionary Examples\n",
    "The code below loads a dictionary of products and business units from the unbilled backlog report.\n",
    "\n",
    "The keys are the pmbu (product mangement BU?) and the ebu is the enterprise business unit."
   ]
  },
  {
   "cell_type": "code",
   "execution_count": 118,
   "metadata": {},
   "outputs": [],
   "source": [
    "bu_dict = pickle.load( open( \"../data/bu_dict.p\", \"rb\" ) )"
   ]
  },
  {
   "cell_type": "code",
   "execution_count": 119,
   "metadata": {},
   "outputs": [
    {
     "data": {
      "text/plain": [
       "{'PMBU': 'EBU',\n",
       " 'Platform and Other': 'Shared Marketing Cloud',\n",
       " 'Magento': 'Commerce',\n",
       " 'Design': 'Creative',\n",
       " 'Adobe Sign': 'Document Cloud',\n",
       " 'Marketo': 'Customer Journey Management',\n",
       " 'Stock Photography': 'Creative',\n",
       " 'Adobe Campaign': 'Customer Journey Management',\n",
       " 'Forms': 'Content',\n",
       " 'Adobe Analytics': 'Data & Insights',\n",
       " 'Audience Manager': 'Data & Insights',\n",
       " 'Adobe Target': 'Data & Insights',\n",
       " 'Assets': 'Content',\n",
       " 'Sites': 'Content',\n",
       " 'Acrobat Desk': 'Document Cloud',\n",
       " 'CCE + Stock': 'Creative',\n",
       " 'DCE': 'Document Cloud',\n",
       " 'Print Scan': 'Print & Publishing',\n",
       " 'ColdFusion': 'Print & Publishing',\n",
       " 'Real Time CDP (IS)': 'Data & Insights',\n",
       " 'Journeys': 'Customer Journey Management',\n",
       " 'Adobe Exp Platform': 'Data & Insights',\n",
       " 'Customer Journey Analytics': 'Data & Insights',\n",
       " 'Adobe Video Solutions': 'Adobe  Video Solutions',\n",
       " 'AEM Other': 'AEM Other'}"
      ]
     },
     "execution_count": 119,
     "metadata": {},
     "output_type": "execute_result"
    }
   ],
   "source": [
    "bu_dict"
   ]
  },
  {
   "cell_type": "markdown",
   "metadata": {},
   "source": [
    "###### Note: In a Jupyter Notebook, the print() statement for a dictionary is less clear than just having the notebook print without the print statement."
   ]
  },
  {
   "cell_type": "markdown",
   "metadata": {},
   "source": [
    "### 1. Create a list of the unique PMBUs (the keys) from the dictionary.\n"
   ]
  },
  {
   "cell_type": "code",
   "execution_count": null,
   "metadata": {},
   "outputs": [],
   "source": []
  },
  {
   "cell_type": "markdown",
   "metadata": {},
   "source": [
    "## 2. Create a list of the unique EBUs (values) from the dictionary."
   ]
  },
  {
   "cell_type": "code",
   "execution_count": null,
   "metadata": {},
   "outputs": [],
   "source": []
  },
  {
   "cell_type": "markdown",
   "metadata": {},
   "source": [
    "## 3. Create a list of PMBUs in each EBU using a function or multiple functions."
   ]
  },
  {
   "cell_type": "code",
   "execution_count": null,
   "metadata": {},
   "outputs": [],
   "source": []
  },
  {
   "cell_type": "code",
   "execution_count": null,
   "metadata": {},
   "outputs": [],
   "source": []
  },
  {
   "cell_type": "markdown",
   "metadata": {},
   "source": [
    "## I. C. Nested Dictionaries\n",
    "\n",
    "A value within a dictionary can be a almost anything; a string, number, dataframe, image or even another dictionary. When a dictionaries values are also dictionaries, the dictionaries are considered nested.\n"
   ]
  },
  {
   "cell_type": "code",
   "execution_count": null,
   "metadata": {},
   "outputs": [],
   "source": []
  },
  {
   "cell_type": "code",
   "execution_count": null,
   "metadata": {},
   "outputs": [],
   "source": []
  },
  {
   "cell_type": "code",
   "execution_count": null,
   "metadata": {},
   "outputs": [],
   "source": []
  },
  {
   "cell_type": "code",
   "execution_count": null,
   "metadata": {},
   "outputs": [],
   "source": []
  },
  {
   "cell_type": "code",
   "execution_count": null,
   "metadata": {},
   "outputs": [],
   "source": []
  },
  {
   "cell_type": "code",
   "execution_count": null,
   "metadata": {},
   "outputs": [],
   "source": []
  },
  {
   "cell_type": "code",
   "execution_count": null,
   "metadata": {},
   "outputs": [],
   "source": []
  },
  {
   "cell_type": "markdown",
   "metadata": {},
   "source": [
    "## PICKLE Simple\n"
   ]
  },
  {
   "cell_type": "code",
   "execution_count": 112,
   "metadata": {},
   "outputs": [
    {
     "ename": "SyntaxError",
     "evalue": "invalid syntax (<ipython-input-112-d1a1f400a998>, line 1)",
     "output_type": "error",
     "traceback": [
      "\u001b[0;36m  File \u001b[0;32m\"<ipython-input-112-d1a1f400a998>\"\u001b[0;36m, line \u001b[0;32m1\u001b[0m\n\u001b[0;31m    Simple but use the damn with statement\u001b[0m\n\u001b[0m             ^\u001b[0m\n\u001b[0;31mSyntaxError\u001b[0m\u001b[0;31m:\u001b[0m invalid syntax\n"
     ]
    }
   ],
   "source": [
    "Simple but use the damn with statement\n",
    "\n"
   ]
  },
  {
   "cell_type": "code",
   "execution_count": null,
   "metadata": {},
   "outputs": [],
   "source": [
    "import pickle\n",
    "\n",
    "\n",
    "favorite_color = { \"lion\": \"yellow\", \"kitty\": \"red\" }\n",
    "pickle.dump( favorite_color, open( \"save.p\", \"wb\" ) )\n",
    "\n",
    "favorite_color = pickle.load( open( \"save.p\", \"rb\" ) )\n"
   ]
  },
  {
   "cell_type": "code",
   "execution_count": null,
   "metadata": {},
   "outputs": [],
   "source": []
  },
  {
   "cell_type": "code",
   "execution_count": null,
   "metadata": {},
   "outputs": [],
   "source": []
  },
  {
   "cell_type": "code",
   "execution_count": null,
   "metadata": {},
   "outputs": [],
   "source": []
  },
  {
   "cell_type": "code",
   "execution_count": null,
   "metadata": {},
   "outputs": [],
   "source": []
  },
  {
   "cell_type": "code",
   "execution_count": null,
   "metadata": {},
   "outputs": [],
   "source": []
  },
  {
   "cell_type": "code",
   "execution_count": null,
   "metadata": {},
   "outputs": [],
   "source": []
  },
  {
   "cell_type": "markdown",
   "metadata": {},
   "source": [
    "## TUPLES\n",
    "Briefly what they are"
   ]
  },
  {
   "cell_type": "code",
   "execution_count": null,
   "metadata": {},
   "outputs": [],
   "source": []
  },
  {
   "cell_type": "code",
   "execution_count": null,
   "metadata": {},
   "outputs": [],
   "source": []
  },
  {
   "cell_type": "code",
   "execution_count": null,
   "metadata": {},
   "outputs": [],
   "source": []
  },
  {
   "cell_type": "markdown",
   "metadata": {},
   "source": [
    "# TO DO:\n",
    "1.  have them work on an exercise with dictionaries\n",
    " - create one\n",
    " - add to it\n",
    " - check if someone is in the dictionary\n",
    " - change\n",
    " - remove\n",
    " \n",
    "2. Nested dictionaries\n",
    " - simple examples\n",
    " \n",
    "3. Exercise: Have them create a dictionary of entities\n",
    "    BU is the first key\n",
    "    product is the second key\n",
    "    currency is the third key\n",
    "    value is the final key\n",
    "\n",
    " - retrieve values from the dictionary\n",
    " - add values to the dictionary\n",
    " - pull out the time series of data from the dictionary\n",
    " /\n",
    " "
   ]
  },
  {
   "cell_type": "code",
   "execution_count": null,
   "metadata": {},
   "outputs": [],
   "source": [
    "Make them write functions with this stuff\n",
    "\n",
    "\n",
    "Tuples\n",
    "\n",
    "What the fuck\n",
    "\n",
    "Anyway\n"
   ]
  },
  {
   "cell_type": "code",
   "execution_count": null,
   "metadata": {},
   "outputs": [],
   "source": []
  },
  {
   "cell_type": "code",
   "execution_count": null,
   "metadata": {},
   "outputs": [],
   "source": []
  },
  {
   "cell_type": "code",
   "execution_count": null,
   "metadata": {},
   "outputs": [],
   "source": []
  },
  {
   "cell_type": "code",
   "execution_count": null,
   "metadata": {},
   "outputs": [],
   "source": []
  },
  {
   "cell_type": "markdown",
   "metadata": {},
   "source": [
    "## What else to do with dictionaries\n",
    "Possibly have an advanced dictionaries and functions session\n",
    "\n",
    "Take the intab files with bank account balances and create dictionaries with the different balances by entity currency and bank\n",
    "\n",
    "Maybe make them create a report that takes this information into a function and summarized exposues.\n"
   ]
  },
  {
   "cell_type": "markdown",
   "metadata": {},
   "source": [
    "intab_file possibly loaded up"
   ]
  },
  {
   "cell_type": "markdown",
   "metadata": {},
   "source": [
    "nested dictionaries\n",
    "\n"
   ]
  },
  {
   "cell_type": "markdown",
   "metadata": {},
   "source": [
    "first create them for the fx derivatives all database\n",
    "\n",
    "then work on reporting\n",
    "\n",
    "Advanced summaries\n",
    "\n",
    "open\n",
    "\n",
    "what the fuck\n",
    "\n",
    "\n",
    "numpy and then pandas.\n",
    "\n"
   ]
  },
  {
   "cell_type": "markdown",
   "metadata": {},
   "source": [
    "Card shuffle\n",
    "\n",
    "\n",
    "rank cards based on their suit and number\n",
    "\n",
    "AH, Kd, Qc, JS, 10H, 9d, 8c, \n",
    "\n",
    "These cards are laid out from ace to king in suits by in the order of hearts, spades, diamonds and clubs.\n",
    "\n",
    "When you do a standard suffule (card is split into 26 sets of 2)\n",
    "Thet are shuffled perfectly, one from one deck (top deck) one from the bottom.\n",
    "\n",
    "This happens each time.\n",
    "\n",
    "Distance is a metric of how similar one card is from the other card\n",
    "Suit_muliplier = 1.25\n",
    "numeric order = 1\n",
    "numeric order if greater than 2, is exponentially higher.\n",
    "\n",
    "Crete a function that shuffles the deck\n",
    "Create a function that creates a score for the card distance\n",
    "\n",
    "how many shuffles are optimal?\n",
    "\n"
   ]
  },
  {
   "cell_type": "code",
   "execution_count": null,
   "metadata": {},
   "outputs": [],
   "source": []
  },
  {
   "cell_type": "code",
   "execution_count": null,
   "metadata": {},
   "outputs": [],
   "source": []
  },
  {
   "cell_type": "code",
   "execution_count": null,
   "metadata": {},
   "outputs": [],
   "source": []
  },
  {
   "cell_type": "code",
   "execution_count": null,
   "metadata": {},
   "outputs": [],
   "source": []
  }
 ],
 "metadata": {
  "kernelspec": {
   "display_name": "Python 3.7.3 64-bit ('base': conda)",
   "language": "python",
   "name": "python37364bitbasecondaf40c37e8e9dd45c89e043b248b661bde"
  },
  "language_info": {
   "codemirror_mode": {
    "name": "ipython",
    "version": 3
   },
   "file_extension": ".py",
   "mimetype": "text/x-python",
   "name": "python",
   "nbconvert_exporter": "python",
   "pygments_lexer": "ipython3",
   "version": "3.7.3"
  }
 },
 "nbformat": 4,
 "nbformat_minor": 2
}
