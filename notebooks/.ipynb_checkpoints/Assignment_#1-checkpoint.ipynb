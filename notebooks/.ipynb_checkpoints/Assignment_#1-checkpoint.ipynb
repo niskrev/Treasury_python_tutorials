{
 "cells": [
  {
   "cell_type": "markdown",
   "metadata": {},
   "source": [
    "# This assignment is just to get you comfortable with string and lists.\n",
    "\n",
    "You do not have to submit these to anyone, but if you complete them on your own, it will help solidify your understanding of the fundamentals we have covered.\n",
    "\n",
    "I will try to taylor these assignments to be related to the work we do as best as possible, but I am open to suggestions as to how to do this better.\n",
    "\n",
    "___\n",
    "## In this assignment we will work with common string manipulation tasks you will need to use whenever you are working with data that people enter into a spreadsheet.\n",
    "\n",
    "The file customer_list.txt contains a list of a few of our customers. The goal here will be to create a list of the parent companies included on this small list. There will be many string manipulation tasks needed to convert these names into similar formats and determine the parent companies.\n",
    "___"
   ]
  },
  {
   "cell_type": "markdown",
   "metadata": {},
   "source": [
    "The cell below opens the file and reads in the data asa single string and prints the string.\n",
    "\n",
    "Note: We have not used the open, file.read or close commands below, but don't worry about this because we will rarely be using text files and will instead be loading in entire spreadsheet workbooks at a time."
   ]
  },
  {
   "cell_type": "code",
   "execution_count": 16,
   "metadata": {},
   "outputs": [
    {
     "name": "stdout",
     "output_type": "stream",
     "text": [
      "BANK OF OLITA HOGAN CREDIT AMER,  BANK OF OLITA HOGAN CREDIT ROWW , BANK OF OLITA HOGAN GLOBAL, BANK OF OLITA HOGAN GLOBAL,BANK OF OLITA HOGAN GLOBAL , BANK OF OLITA HOGAN JAPAN,BANK OF OLITA HOGAN JAPAN, BANK OF OLITA HOGAN PARTNER ACCOUNT,CDW CANADA CORP, CDW LIMITED, CDW LOGISTICS LLC ,CDW LOGISTICS, INC.,WIPRO LIMITED, WIPRO SOLUTIONS CANADA LIMITED, WIPRO TECHNOLOGIES , AT AND T SERVICES INC. ,   AT AND T SOLUTION LTD ,  AT&T SOLUTION LTD , AT&T , AT&T , AT&T COMUNICACIONES DIGITALES\n",
      "\n",
      "\n",
      "<class 'str'>\n"
     ]
    }
   ],
   "source": [
    "file = open(\"../data/customer_list.txt\")\n",
    "\n",
    "data = file.read()\n",
    "\n",
    "print(data)\n",
    "\n",
    "file.close()\n",
    "\n",
    "print(type(data))"
   ]
  },
  {
   "cell_type": "markdown",
   "metadata": {},
   "source": [
    "## 1. Create a list of the customers by splitting the string 'data' based on it's seperator and print it to the screen"
   ]
  },
  {
   "cell_type": "code",
   "execution_count": 17,
   "metadata": {},
   "outputs": [
    {
     "data": {
      "text/plain": [
       "['BANK OF OLITA HOGAN CREDIT AMER',\n",
       " '  BANK OF OLITA HOGAN CREDIT ROWW ',\n",
       " ' BANK OF OLITA HOGAN GLOBAL',\n",
       " ' BANK OF OLITA HOGAN GLOBAL',\n",
       " 'BANK OF OLITA HOGAN GLOBAL ',\n",
       " ' BANK OF OLITA HOGAN JAPAN',\n",
       " 'BANK OF OLITA HOGAN JAPAN',\n",
       " ' BANK OF OLITA HOGAN PARTNER ACCOUNT',\n",
       " 'CDW CANADA CORP',\n",
       " ' CDW LIMITED',\n",
       " ' CDW LOGISTICS LLC ',\n",
       " 'CDW LOGISTICS',\n",
       " ' INC.',\n",
       " 'WIPRO LIMITED',\n",
       " ' WIPRO SOLUTIONS CANADA LIMITED',\n",
       " ' WIPRO TECHNOLOGIES ',\n",
       " ' AT AND T SERVICES INC. ',\n",
       " '   AT AND T SOLUTION LTD ',\n",
       " '  AT&T SOLUTION LTD ',\n",
       " ' AT&T ',\n",
       " ' AT&T ',\n",
       " ' AT&T COMUNICACIONES DIGITALES\\n\\n']"
      ]
     },
     "execution_count": 17,
     "metadata": {},
     "output_type": "execute_result"
    }
   ],
   "source": [
    "cust_list = data.split(sep=',')\n",
    "cust_list"
   ]
  },
  {
   "cell_type": "markdown",
   "metadata": {},
   "source": [
    "## 2. What do you notice about how standardized the entries to your list are when it is printed out? How many things can you identify that need to be changed so that we can get to a list of unique parents? (List them in a markdown cell that you insert below)"
   ]
  },
  {
   "cell_type": "markdown",
   "metadata": {},
   "source": [
    "## 3. One of the issues with the company names (strings) in our list is the inconsistent use of whitespace (spaces).  Some of the strings have no leading space and some of the strings have several spaces before the letters start. Some of the firm strings also have trailling whitespace. \n",
    "\n",
    "### Use the string method strip to remove the whitespace from each element of your list\n",
    "\n",
    "##### Note: You will need to iterate through each entry in the cust_list variable. At each iteration, you will need to change the string in that cell and reassign it to the list in that space.\n",
    "\n",
    "##### Note: This is an extremely common problem we have to deal with when programming as whitespace does not impact text in spreadsheets, but will cause problems comparing text in a program."
   ]
  },
  {
   "cell_type": "code",
   "execution_count": 21,
   "metadata": {},
   "outputs": [
    {
     "name": "stdout",
     "output_type": "stream",
     "text": [
      "BANK OF OLITA HOGAN CREDIT AMER\n",
      "BANK OF OLITA HOGAN CREDIT ROWW\n",
      "BANK OF OLITA HOGAN GLOBAL\n",
      "BANK OF OLITA HOGAN GLOBAL\n",
      "BANK OF OLITA HOGAN GLOBAL\n",
      "BANK OF OLITA HOGAN JAPAN\n",
      "BANK OF OLITA HOGAN JAPAN\n",
      "BANK OF OLITA HOGAN PARTNER ACCOUNT\n",
      "CDW CANADA CORP\n",
      "CDW LIMITED\n",
      "CDW LOGISTICS LLC\n",
      "CDW LOGISTICS\n",
      "INC.\n",
      "WIPRO LIMITED\n",
      "WIPRO SOLUTIONS CANADA LIMITED\n",
      "WIPRO TECHNOLOGIES\n",
      "AT AND T SERVICES INC.\n",
      "AT AND T SOLUTION LTD\n",
      "AT&T SOLUTION LTD\n",
      "AT&T\n",
      "AT&T\n",
      "AT&T COMUNICACIONES DIGITALES\n"
     ]
    }
   ],
   "source": [
    "for item in cust_list:\n",
    "    this_string = item.strip()\n",
    "    print(this_string)"
   ]
  },
  {
   "cell_type": "markdown",
   "metadata": {},
   "source": [
    "## 4. There are two '\\n' (carriage return) commands in the string that is last in our list. Change this element of the list to remove these carriage returns. (New Line returns)\n",
    "\n",
    "This will require you to do a string replace and refer to the last element in the list"
   ]
  },
  {
   "cell_type": "code",
   "execution_count": 24,
   "metadata": {},
   "outputs": [
    {
     "name": "stdout",
     "output_type": "stream",
     "text": [
      "['BANK OF OLITA HOGAN CREDIT AMER', '  BANK OF OLITA HOGAN CREDIT ROWW ', ' BANK OF OLITA HOGAN GLOBAL', ' BANK OF OLITA HOGAN GLOBAL', 'BANK OF OLITA HOGAN GLOBAL ', ' BANK OF OLITA HOGAN JAPAN', 'BANK OF OLITA HOGAN JAPAN', ' BANK OF OLITA HOGAN PARTNER ACCOUNT', 'CDW CANADA CORP', ' CDW LIMITED', ' CDW LOGISTICS LLC ', 'CDW LOGISTICS', ' INC.', 'WIPRO LIMITED', ' WIPRO SOLUTIONS CANADA LIMITED', ' WIPRO TECHNOLOGIES ', ' AT AND T SERVICES INC. ', '   AT AND T SOLUTION LTD ', '  AT&T SOLUTION LTD ', ' AT&T ', ' AT&T ', ' AT&T COMUNICACIONES DIGITALES\\n\\n']\n"
     ]
    }
   ],
   "source": [
    "print(cust_list)"
   ]
  },
  {
   "cell_type": "code",
   "execution_count": null,
   "metadata": {},
   "outputs": [],
   "source": []
  },
  {
   "cell_type": "code",
   "execution_count": null,
   "metadata": {},
   "outputs": [],
   "source": []
  },
  {
   "cell_type": "code",
   "execution_count": null,
   "metadata": {},
   "outputs": [],
   "source": []
  },
  {
   "cell_type": "code",
   "execution_count": null,
   "metadata": {},
   "outputs": [],
   "source": []
  },
  {
   "cell_type": "code",
   "execution_count": null,
   "metadata": {},
   "outputs": [],
   "source": []
  }
 ],
 "metadata": {
  "kernelspec": {
   "display_name": "Python 3.7.3 64-bit ('base': conda)",
   "language": "python",
   "name": "python37364bitbasecondaf40c37e8e9dd45c89e043b248b661bde"
  },
  "language_info": {
   "codemirror_mode": {
    "name": "ipython",
    "version": 3
   },
   "file_extension": ".py",
   "mimetype": "text/x-python",
   "name": "python",
   "nbconvert_exporter": "python",
   "pygments_lexer": "ipython3",
   "version": "3.7.3"
  }
 },
 "nbformat": 4,
 "nbformat_minor": 2
}
