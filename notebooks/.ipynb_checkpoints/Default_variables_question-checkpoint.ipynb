{
 "cells": [
  {
   "cell_type": "markdown",
   "metadata": {},
   "source": [
    "## Tutorial #1 Questions about default variables\n",
    "\n",
    "John asked if it was possible to assign a default variable out of order. It was a good question, but I did not want to answer it until I created an example that would demonstrate how easy it could be and the examples I used in the tutorial were terrible for this purpose.\n",
    "\n",
    "For example, if you have a function that has the first line\n",
    "\n",
    "def my_function(var_1, var_2 = 1, var_3 = 12, var_4 = -1):\n",
    "\n",
    "Is it possible to call the function and assign a variable to var_3, but not to var_2?\n",
    "\n",
    "##### Answer:\n",
    "### YES, but first please read below for a better understanding of how to name variables in your function."
   ]
  },
  {
   "cell_type": "markdown",
   "metadata": {},
   "source": [
    "Suppose you created a function that would graph a spot foreign exchange rate. You already have a database of exchange rates that are in a list and you want to pass the function a specific exchange rate to be plotted.\n",
    "\n",
    "You also want the function to be flexible enough for you to change the following attributes of the graph\n",
    "\n",
    " - the time period being graphed on the x-axis\n",
    " - the time interval being plotted on the x-axis\n",
    " - the title of the chart\n",
    " - the scaling of the y-axis (so that JPY changes do not look like a flat line) so that you could pick an y-min that is not zero.\n",
    " \n",
    "To do this, you could create variables in the function header that were <b>clearly named</b> so the users of the function could easily understand how to call the function.\n",
    "\n",
    "Consider the function header below"
   ]
  },
  {
   "cell_type": "code",
   "execution_count": 2,
   "metadata": {},
   "outputs": [],
   "source": [
    "def plot_exchange_rate(var_1, var_2 = '01/01/2020', var_3 = 'daily', var_4 = 'This is my chart', var_5 = 0):\n",
    "    '''\n",
    "    plot_exchange_rate takes a historical foreign exchange rate series and returns a plot of that series.\n",
    "    \n",
    "    '''\n",
    "    pass"
   ]
  },
  {
   "cell_type": "markdown",
   "metadata": {},
   "source": [
    "#### These variable names suck! It would be very hard for a user to pass in just the chart title and the series and get it right because the variable 'var_4' is not a good description of what the variable is.\n",
    "\n",
    "Consider the alternate function definition below"
   ]
  },
  {
   "cell_type": "code",
   "execution_count": 2,
   "metadata": {},
   "outputs": [],
   "source": [
    "def plot_exchange_rate(exchange_rate_series, start_date = '01/01/2000', frequency = 'daily', \n",
    "                       chart_title = 'This is my chart', y_min_value = 0):\n",
    "    '''\n",
    "    plot_exchange_rate takes a historical foreign exchange rate series and returns a plot of that series.\n",
    "    \n",
    "    Inputs:\n",
    "        exchange_rate_series: a numpy array of exchange rates\n",
    "        \n",
    "        start_date: The first date to appear on the chart. The chart will go from the start_date through the\n",
    "                    most recent date in the data series.\n",
    "        \n",
    "        frequency: The unit of time interval to be plotted on the chart. \n",
    "                   The default value is daily, but alternatives are {'daily', 'weekly', 'monthly', 'quarterly'}\n",
    "                   \n",
    "        chart_title: The title, as a string, to be included over the centered top of the chart\n",
    "        \n",
    "        y_min_value: The minimum y value to appear at the y-axis. This can be any integer from zero through 100.\n",
    "    \n",
    "    '''\n",
    "    pass"
   ]
  },
  {
   "cell_type": "markdown",
   "metadata": {},
   "source": [
    "##### The variable names and function description (the red comments between the ''' characters) are clearer making this function will be easy to use with default variables assigned. (versus var_1, var_2=...)\n",
    "\n",
    "For example, the following function calls (when you use the function) are easier to read and understand\n",
    "\n",
    "1. plot_exchange_rate(EUR)\n",
    " \n",
    "This function call will use all default values\n",
    "    \n",
    "   \n",
    "2. plot_exchange_rate(EUR, start_date = '01/01/2020')\n",
    "\n",
    "This function call will assign Jan 1 2020 to the first date of the chart and leave all of the other variables at their default levels\n",
    "    \n",
    "3. plot_exchange_rates(JPY, y_min_value = 100)\n",
    "\n",
    "This function call will only overwrite the y_min_value variable\n",
    "\n",
    "4. plot_exchange_rates(CAD, frequency = 'weekly', chart_title = 'Take off Eh!')\n",
    "\n",
    "This function call overwrites the default frequency and chart title.\n",
    "\n"
   ]
  },
  {
   "cell_type": "markdown",
   "metadata": {},
   "source": [
    "### We can easliy assign values to any combination of default values but we need to write our function with good variable names for this to be possible."
   ]
  },
  {
   "cell_type": "code",
   "execution_count": null,
   "metadata": {},
   "outputs": [],
   "source": []
  }
 ],
 "metadata": {
  "kernelspec": {
   "display_name": "Python 3.7.3 64-bit ('base': conda)",
   "language": "python",
   "name": "python37364bitbasecondaf40c37e8e9dd45c89e043b248b661bde"
  },
  "language_info": {
   "codemirror_mode": {
    "name": "ipython",
    "version": 3
   },
   "file_extension": ".py",
   "mimetype": "text/x-python",
   "name": "python",
   "nbconvert_exporter": "python",
   "pygments_lexer": "ipython3",
   "version": "3.7.3"
  }
 },
 "nbformat": 4,
 "nbformat_minor": 2
}
