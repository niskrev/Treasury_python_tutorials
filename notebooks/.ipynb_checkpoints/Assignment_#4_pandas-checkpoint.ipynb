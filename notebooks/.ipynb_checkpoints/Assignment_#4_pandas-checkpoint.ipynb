{
 "cells": [
  {
   "cell_type": "markdown",
   "metadata": {},
   "source": [
    "# Assignment Number 4: Pandas\n",
    "\n",
    "The purpose of this assignment is to get you comfortable using pandas for normal tasks that you would have to do in excel. We will be using the FX_DERIVATIVES_ALL database and looking at the FX options data.\n"
   ]
  },
  {
   "cell_type": "code",
   "execution_count": 2,
   "metadata": {},
   "outputs": [],
   "source": [
    "import pandas as pd\n",
    "import numpy as np\n",
    "import matplotlib.pyplot as plt\n",
    "%matplotlib inline"
   ]
  },
  {
   "cell_type": "code",
   "execution_count": 3,
   "metadata": {},
   "outputs": [],
   "source": [
    "# load up the static forward data from the FX_DERIVATIVES_ALL database\n",
    "df= pd.read_excel('../data/FX_DERIVATIVES_ALL.xlsx', sheet_name='FX_options_static')"
   ]
  },
  {
   "cell_type": "markdown",
   "metadata": {},
   "source": [
    "#### I do not like the capitalization of these columns, so I am going to rename these columns without the capital letters. (Except for ID because this is a common abbreviation.)\n",
    "There are several ways to rename the columns. The first is a simple dictionary approach using the rename() method of a dataframe that you will most likely use very often.\n",
    "\n",
    "###### NOTE: If you are getting data from tableau, you will most likely be using .rename() very often. \n",
    "We should not have blank spaces in column names. (Very Strong Preference, but not a hard requirement. Much like making sure your fly is up. It does not have to be, but people will disappointed if you always have yours down.)"
   ]
  },
  {
   "cell_type": "code",
   "execution_count": 5,
   "metadata": {},
   "outputs": [],
   "source": [
    "df = df.rename(columns = {'Entity': 'entity',\n",
    "                         'Counterparty': 'counterparty',\n",
    "                         'Currency_Pair': 'currency_pair',\n",
    "                         'Buy_Currency': 'buy_currency',\n",
    "                         'Sell_Currency': 'sell_currency',\n",
    "                         'Trade_Date': 'trade_date',\n",
    "                         'Expiry_Date': 'expiry_date',\n",
    "                         'Contract_Rate': 'contract_rate',\n",
    "                         'Buy_Amount': 'buy_amount',\n",
    "                         'Sell_Amount': 'sell_amount',\n",
    "                         'Premium': 'premium',\n",
    "                         'Sold_to_Rev': 'sold_to_rev',\n",
    "                         'Sold_to_PL': 'sold_to_PL',\n",
    "                         'Sold_Date': 'sold_date'})"
   ]
  },
  {
   "cell_type": "code",
   "execution_count": 6,
   "metadata": {},
   "outputs": [
    {
     "data": {
      "text/html": [
       "<div>\n",
       "<style scoped>\n",
       "    .dataframe tbody tr th:only-of-type {\n",
       "        vertical-align: middle;\n",
       "    }\n",
       "\n",
       "    .dataframe tbody tr th {\n",
       "        vertical-align: top;\n",
       "    }\n",
       "\n",
       "    .dataframe thead th {\n",
       "        text-align: right;\n",
       "    }\n",
       "</style>\n",
       "<table border=\"1\" class=\"dataframe\">\n",
       "  <thead>\n",
       "    <tr style=\"text-align: right;\">\n",
       "      <th></th>\n",
       "      <th>ID</th>\n",
       "      <th>entity</th>\n",
       "      <th>counterparty</th>\n",
       "      <th>currency_pair</th>\n",
       "      <th>buy_currency</th>\n",
       "      <th>sell_currency</th>\n",
       "      <th>trade_date</th>\n",
       "      <th>expiry_date</th>\n",
       "      <th>contract_rate</th>\n",
       "      <th>buy_amount</th>\n",
       "      <th>sell_amount</th>\n",
       "      <th>premium</th>\n",
       "      <th>sold_to_rev</th>\n",
       "      <th>sold_to_PL</th>\n",
       "      <th>sold_date</th>\n",
       "    </tr>\n",
       "  </thead>\n",
       "  <tbody>\n",
       "    <tr>\n",
       "      <th>0</th>\n",
       "      <td>ADIR3601</td>\n",
       "      <td>ADIR</td>\n",
       "      <td>GS</td>\n",
       "      <td>EURUSD</td>\n",
       "      <td>USD</td>\n",
       "      <td>EUR</td>\n",
       "      <td>2012-05-08</td>\n",
       "      <td>2012-10-29</td>\n",
       "      <td>1.3035</td>\n",
       "      <td>13035000.0</td>\n",
       "      <td>-10000000</td>\n",
       "      <td>408600.0</td>\n",
       "      <td>66087.0</td>\n",
       "      <td>0.0</td>\n",
       "      <td>00:00:00</td>\n",
       "    </tr>\n",
       "    <tr>\n",
       "      <th>1</th>\n",
       "      <td>ADIR3636</td>\n",
       "      <td>ADIR</td>\n",
       "      <td>JPM</td>\n",
       "      <td>GBPUSD</td>\n",
       "      <td>USD</td>\n",
       "      <td>GBP</td>\n",
       "      <td>2012-05-29</td>\n",
       "      <td>2012-10-30</td>\n",
       "      <td>1.5610</td>\n",
       "      <td>7805000.0</td>\n",
       "      <td>-5000000</td>\n",
       "      <td>189500.0</td>\n",
       "      <td>0.0</td>\n",
       "      <td>0.0</td>\n",
       "      <td>00:00:00</td>\n",
       "    </tr>\n",
       "    <tr>\n",
       "      <th>2</th>\n",
       "      <td>ADIR3602</td>\n",
       "      <td>ADIR</td>\n",
       "      <td>GS</td>\n",
       "      <td>USDJPY</td>\n",
       "      <td>USD</td>\n",
       "      <td>JPY</td>\n",
       "      <td>2012-05-08</td>\n",
       "      <td>2012-11-02</td>\n",
       "      <td>79.6500</td>\n",
       "      <td>12554928.0</td>\n",
       "      <td>-1000000000</td>\n",
       "      <td>340500.0</td>\n",
       "      <td>75900.0</td>\n",
       "      <td>0.0</td>\n",
       "      <td>00:00:00</td>\n",
       "    </tr>\n",
       "    <tr>\n",
       "      <th>3</th>\n",
       "      <td>ADIR3617</td>\n",
       "      <td>ADIR</td>\n",
       "      <td>UBS</td>\n",
       "      <td>EURUSD</td>\n",
       "      <td>USD</td>\n",
       "      <td>EUR</td>\n",
       "      <td>2012-05-15</td>\n",
       "      <td>2012-11-07</td>\n",
       "      <td>1.2785</td>\n",
       "      <td>12785000.0</td>\n",
       "      <td>-10000000</td>\n",
       "      <td>443500.0</td>\n",
       "      <td>0.0</td>\n",
       "      <td>22700.0</td>\n",
       "      <td>00:00:00</td>\n",
       "    </tr>\n",
       "    <tr>\n",
       "      <th>4</th>\n",
       "      <td>ADIR3623</td>\n",
       "      <td>ADIR</td>\n",
       "      <td>UBS</td>\n",
       "      <td>EURUSD</td>\n",
       "      <td>USD</td>\n",
       "      <td>EUR</td>\n",
       "      <td>2012-05-23</td>\n",
       "      <td>2012-11-14</td>\n",
       "      <td>1.2590</td>\n",
       "      <td>12590000.0</td>\n",
       "      <td>-10000000</td>\n",
       "      <td>466000.0</td>\n",
       "      <td>0.0</td>\n",
       "      <td>7554.0</td>\n",
       "      <td>00:00:00</td>\n",
       "    </tr>\n",
       "    <tr>\n",
       "      <th>5</th>\n",
       "      <td>ADIR3637</td>\n",
       "      <td>ADIR</td>\n",
       "      <td>CITI</td>\n",
       "      <td>USDJPY</td>\n",
       "      <td>USD</td>\n",
       "      <td>JPY</td>\n",
       "      <td>2012-05-29</td>\n",
       "      <td>2012-11-14</td>\n",
       "      <td>79.3000</td>\n",
       "      <td>12610340.0</td>\n",
       "      <td>-1000000000</td>\n",
       "      <td>339000.0</td>\n",
       "      <td>82800.0</td>\n",
       "      <td>0.0</td>\n",
       "      <td>00:00:00</td>\n",
       "    </tr>\n",
       "    <tr>\n",
       "      <th>6</th>\n",
       "      <td>ADIR3638</td>\n",
       "      <td>ADIR</td>\n",
       "      <td>JPM</td>\n",
       "      <td>EURUSD</td>\n",
       "      <td>USD</td>\n",
       "      <td>EUR</td>\n",
       "      <td>2012-05-29</td>\n",
       "      <td>2012-11-21</td>\n",
       "      <td>1.2500</td>\n",
       "      <td>12500000.0</td>\n",
       "      <td>-10000000</td>\n",
       "      <td>456000.0</td>\n",
       "      <td>0.0</td>\n",
       "      <td>7000.0</td>\n",
       "      <td>00:00:00</td>\n",
       "    </tr>\n",
       "    <tr>\n",
       "      <th>7</th>\n",
       "      <td>ADIR3624</td>\n",
       "      <td>ADIR</td>\n",
       "      <td>UBS</td>\n",
       "      <td>EURUSD</td>\n",
       "      <td>USD</td>\n",
       "      <td>EUR</td>\n",
       "      <td>2012-05-23</td>\n",
       "      <td>2012-12-07</td>\n",
       "      <td>1.2600</td>\n",
       "      <td>12600000.0</td>\n",
       "      <td>-10000000</td>\n",
       "      <td>501000.0</td>\n",
       "      <td>0.0</td>\n",
       "      <td>0.0</td>\n",
       "      <td>00:00:00</td>\n",
       "    </tr>\n",
       "    <tr>\n",
       "      <th>8</th>\n",
       "      <td>ADIR3625</td>\n",
       "      <td>ADIR</td>\n",
       "      <td>CITI</td>\n",
       "      <td>USDJPY</td>\n",
       "      <td>USD</td>\n",
       "      <td>JPY</td>\n",
       "      <td>2012-05-23</td>\n",
       "      <td>2012-12-11</td>\n",
       "      <td>79.2500</td>\n",
       "      <td>12618297.0</td>\n",
       "      <td>-1000000000</td>\n",
       "      <td>391000.0</td>\n",
       "      <td>473000.0</td>\n",
       "      <td>0.0</td>\n",
       "      <td>00:00:00</td>\n",
       "    </tr>\n",
       "    <tr>\n",
       "      <th>9</th>\n",
       "      <td>ADIR3639</td>\n",
       "      <td>ADIR</td>\n",
       "      <td>UBS</td>\n",
       "      <td>GBPUSD</td>\n",
       "      <td>USD</td>\n",
       "      <td>GBP</td>\n",
       "      <td>2012-05-29</td>\n",
       "      <td>2012-12-13</td>\n",
       "      <td>1.5610</td>\n",
       "      <td>7805000.0</td>\n",
       "      <td>-5000000</td>\n",
       "      <td>220000.0</td>\n",
       "      <td>0.0</td>\n",
       "      <td>0.0</td>\n",
       "      <td>00:00:00</td>\n",
       "    </tr>\n",
       "  </tbody>\n",
       "</table>\n",
       "</div>"
      ],
      "text/plain": [
       "         ID entity counterparty currency_pair buy_currency sell_currency  \\\n",
       "0  ADIR3601   ADIR           GS        EURUSD          USD           EUR   \n",
       "1  ADIR3636   ADIR          JPM        GBPUSD          USD           GBP   \n",
       "2  ADIR3602   ADIR           GS        USDJPY          USD           JPY   \n",
       "3  ADIR3617   ADIR          UBS        EURUSD          USD           EUR   \n",
       "4  ADIR3623   ADIR          UBS        EURUSD          USD           EUR   \n",
       "5  ADIR3637   ADIR         CITI        USDJPY          USD           JPY   \n",
       "6  ADIR3638   ADIR          JPM        EURUSD          USD           EUR   \n",
       "7  ADIR3624   ADIR          UBS        EURUSD          USD           EUR   \n",
       "8  ADIR3625   ADIR         CITI        USDJPY          USD           JPY   \n",
       "9  ADIR3639   ADIR          UBS        GBPUSD          USD           GBP   \n",
       "\n",
       "  trade_date expiry_date  contract_rate  buy_amount  sell_amount   premium  \\\n",
       "0 2012-05-08  2012-10-29         1.3035  13035000.0    -10000000  408600.0   \n",
       "1 2012-05-29  2012-10-30         1.5610   7805000.0     -5000000  189500.0   \n",
       "2 2012-05-08  2012-11-02        79.6500  12554928.0  -1000000000  340500.0   \n",
       "3 2012-05-15  2012-11-07         1.2785  12785000.0    -10000000  443500.0   \n",
       "4 2012-05-23  2012-11-14         1.2590  12590000.0    -10000000  466000.0   \n",
       "5 2012-05-29  2012-11-14        79.3000  12610340.0  -1000000000  339000.0   \n",
       "6 2012-05-29  2012-11-21         1.2500  12500000.0    -10000000  456000.0   \n",
       "7 2012-05-23  2012-12-07         1.2600  12600000.0    -10000000  501000.0   \n",
       "8 2012-05-23  2012-12-11        79.2500  12618297.0  -1000000000  391000.0   \n",
       "9 2012-05-29  2012-12-13         1.5610   7805000.0     -5000000  220000.0   \n",
       "\n",
       "   sold_to_rev  sold_to_PL sold_date  \n",
       "0      66087.0         0.0  00:00:00  \n",
       "1          0.0         0.0  00:00:00  \n",
       "2      75900.0         0.0  00:00:00  \n",
       "3          0.0     22700.0  00:00:00  \n",
       "4          0.0      7554.0  00:00:00  \n",
       "5      82800.0         0.0  00:00:00  \n",
       "6          0.0      7000.0  00:00:00  \n",
       "7          0.0         0.0  00:00:00  \n",
       "8     473000.0         0.0  00:00:00  \n",
       "9          0.0         0.0  00:00:00  "
      ]
     },
     "execution_count": 6,
     "metadata": {},
     "output_type": "execute_result"
    }
   ],
   "source": [
    "df.head(10)"
   ]
  },
  {
   "cell_type": "markdown",
   "metadata": {},
   "source": [
    "The second approach is to make all of the columns (except ID) lowercase would be to iterate over the columns using the columns attribute of a dataframe. Let's reload the dataframe again (to undo the df.rename method we did above and try the other approach.)"
   ]
  },
  {
   "cell_type": "code",
   "execution_count": 7,
   "metadata": {},
   "outputs": [],
   "source": [
    "# load up the static forward data from the FX_DERIVATIVES_ALL database\n",
    "df= pd.read_excel('../data/FX_DERIVATIVES_ALL.xlsx', sheet_name='FX_options_static')"
   ]
  },
  {
   "cell_type": "code",
   "execution_count": 8,
   "metadata": {},
   "outputs": [
    {
     "data": {
      "text/plain": [
       "Index(['ID', 'Entity', 'Counterparty', 'Currency_Pair', 'Buy_Currency',\n",
       "       'Sell_Currency', 'Trade_Date', 'Expiry_Date', 'Contract_Rate',\n",
       "       'Buy_Amount', 'Sell_Amount', 'Premium', 'Sold_to_Rev', 'Sold_to_PL',\n",
       "       'Sold_Date'],\n",
       "      dtype='object')"
      ]
     },
     "execution_count": 8,
     "metadata": {},
     "output_type": "execute_result"
    }
   ],
   "source": [
    "# extracting column names\n",
    "list_cols = df.columns\n",
    "list_cols"
   ]
  },
  {
   "cell_type": "markdown",
   "metadata": {},
   "source": [
    "Notice that our variable list_cols is an Index and not a list! This is because pandas knows the columns are an index into the dataframe. We need to change this to be a list using the list() constructor."
   ]
  },
  {
   "cell_type": "code",
   "execution_count": 9,
   "metadata": {},
   "outputs": [
    {
     "data": {
      "text/plain": [
       "['ID',\n",
       " 'Entity',\n",
       " 'Counterparty',\n",
       " 'Currency_Pair',\n",
       " 'Buy_Currency',\n",
       " 'Sell_Currency',\n",
       " 'Trade_Date',\n",
       " 'Expiry_Date',\n",
       " 'Contract_Rate',\n",
       " 'Buy_Amount',\n",
       " 'Sell_Amount',\n",
       " 'Premium',\n",
       " 'Sold_to_Rev',\n",
       " 'Sold_to_PL',\n",
       " 'Sold_Date']"
      ]
     },
     "execution_count": 9,
     "metadata": {},
     "output_type": "execute_result"
    }
   ],
   "source": [
    "list_cols = list(list_cols)\n",
    "list_cols"
   ]
  },
  {
   "cell_type": "code",
   "execution_count": 10,
   "metadata": {},
   "outputs": [
    {
     "name": "stdout",
     "output_type": "stream",
     "text": [
      "0 ID\n",
      "1 Entity\n",
      "2 Counterparty\n",
      "3 Currency_Pair\n",
      "4 Buy_Currency\n",
      "5 Sell_Currency\n",
      "6 Trade_Date\n",
      "7 Expiry_Date\n",
      "8 Contract_Rate\n",
      "9 Buy_Amount\n",
      "10 Sell_Amount\n",
      "11 Premium\n",
      "12 Sold_to_Rev\n",
      "13 Sold_to_PL\n",
      "14 Sold_Date\n"
     ]
    },
    {
     "data": {
      "text/plain": [
       "['ID',\n",
       " 'entity',\n",
       " 'counterparty',\n",
       " 'currency_pair',\n",
       " 'buy_currency',\n",
       " 'sell_currency',\n",
       " 'trade_date',\n",
       " 'expiry_date',\n",
       " 'contract_rate',\n",
       " 'buy_amount',\n",
       " 'sell_amount',\n",
       " 'premium',\n",
       " 'sold_to_rev',\n",
       " 'sold_to_pl',\n",
       " 'sold_date']"
      ]
     },
     "execution_count": 10,
     "metadata": {},
     "output_type": "execute_result"
    }
   ],
   "source": [
    "# convert the column names to be lower case for all columns EXCEPT 'ID'\n",
    "for i, item in enumerate(list_cols):\n",
    "    print(i, item)\n",
    "    if item != 'ID':\n",
    "        lower_case = item.lower()\n",
    "        list_cols[i] = lower_case\n",
    "list_cols"
   ]
  },
  {
   "cell_type": "code",
   "execution_count": 11,
   "metadata": {},
   "outputs": [],
   "source": [
    "# reassigning the columns of the dataframe to be the lower case list of column names.\n",
    "df.columns = list_cols"
   ]
  },
  {
   "cell_type": "code",
   "execution_count": 12,
   "metadata": {},
   "outputs": [
    {
     "data": {
      "text/html": [
       "<div>\n",
       "<style scoped>\n",
       "    .dataframe tbody tr th:only-of-type {\n",
       "        vertical-align: middle;\n",
       "    }\n",
       "\n",
       "    .dataframe tbody tr th {\n",
       "        vertical-align: top;\n",
       "    }\n",
       "\n",
       "    .dataframe thead th {\n",
       "        text-align: right;\n",
       "    }\n",
       "</style>\n",
       "<table border=\"1\" class=\"dataframe\">\n",
       "  <thead>\n",
       "    <tr style=\"text-align: right;\">\n",
       "      <th></th>\n",
       "      <th>ID</th>\n",
       "      <th>entity</th>\n",
       "      <th>counterparty</th>\n",
       "      <th>currency_pair</th>\n",
       "      <th>buy_currency</th>\n",
       "      <th>sell_currency</th>\n",
       "      <th>trade_date</th>\n",
       "      <th>expiry_date</th>\n",
       "      <th>contract_rate</th>\n",
       "      <th>buy_amount</th>\n",
       "      <th>sell_amount</th>\n",
       "      <th>premium</th>\n",
       "      <th>sold_to_rev</th>\n",
       "      <th>sold_to_pl</th>\n",
       "      <th>sold_date</th>\n",
       "    </tr>\n",
       "  </thead>\n",
       "  <tbody>\n",
       "    <tr>\n",
       "      <th>0</th>\n",
       "      <td>ADIR3601</td>\n",
       "      <td>ADIR</td>\n",
       "      <td>GS</td>\n",
       "      <td>EURUSD</td>\n",
       "      <td>USD</td>\n",
       "      <td>EUR</td>\n",
       "      <td>2012-05-08</td>\n",
       "      <td>2012-10-29</td>\n",
       "      <td>1.3035</td>\n",
       "      <td>13035000.0</td>\n",
       "      <td>-10000000</td>\n",
       "      <td>408600.0</td>\n",
       "      <td>66087.0</td>\n",
       "      <td>0.0</td>\n",
       "      <td>00:00:00</td>\n",
       "    </tr>\n",
       "    <tr>\n",
       "      <th>1</th>\n",
       "      <td>ADIR3636</td>\n",
       "      <td>ADIR</td>\n",
       "      <td>JPM</td>\n",
       "      <td>GBPUSD</td>\n",
       "      <td>USD</td>\n",
       "      <td>GBP</td>\n",
       "      <td>2012-05-29</td>\n",
       "      <td>2012-10-30</td>\n",
       "      <td>1.5610</td>\n",
       "      <td>7805000.0</td>\n",
       "      <td>-5000000</td>\n",
       "      <td>189500.0</td>\n",
       "      <td>0.0</td>\n",
       "      <td>0.0</td>\n",
       "      <td>00:00:00</td>\n",
       "    </tr>\n",
       "    <tr>\n",
       "      <th>2</th>\n",
       "      <td>ADIR3602</td>\n",
       "      <td>ADIR</td>\n",
       "      <td>GS</td>\n",
       "      <td>USDJPY</td>\n",
       "      <td>USD</td>\n",
       "      <td>JPY</td>\n",
       "      <td>2012-05-08</td>\n",
       "      <td>2012-11-02</td>\n",
       "      <td>79.6500</td>\n",
       "      <td>12554928.0</td>\n",
       "      <td>-1000000000</td>\n",
       "      <td>340500.0</td>\n",
       "      <td>75900.0</td>\n",
       "      <td>0.0</td>\n",
       "      <td>00:00:00</td>\n",
       "    </tr>\n",
       "    <tr>\n",
       "      <th>3</th>\n",
       "      <td>ADIR3617</td>\n",
       "      <td>ADIR</td>\n",
       "      <td>UBS</td>\n",
       "      <td>EURUSD</td>\n",
       "      <td>USD</td>\n",
       "      <td>EUR</td>\n",
       "      <td>2012-05-15</td>\n",
       "      <td>2012-11-07</td>\n",
       "      <td>1.2785</td>\n",
       "      <td>12785000.0</td>\n",
       "      <td>-10000000</td>\n",
       "      <td>443500.0</td>\n",
       "      <td>0.0</td>\n",
       "      <td>22700.0</td>\n",
       "      <td>00:00:00</td>\n",
       "    </tr>\n",
       "    <tr>\n",
       "      <th>4</th>\n",
       "      <td>ADIR3623</td>\n",
       "      <td>ADIR</td>\n",
       "      <td>UBS</td>\n",
       "      <td>EURUSD</td>\n",
       "      <td>USD</td>\n",
       "      <td>EUR</td>\n",
       "      <td>2012-05-23</td>\n",
       "      <td>2012-11-14</td>\n",
       "      <td>1.2590</td>\n",
       "      <td>12590000.0</td>\n",
       "      <td>-10000000</td>\n",
       "      <td>466000.0</td>\n",
       "      <td>0.0</td>\n",
       "      <td>7554.0</td>\n",
       "      <td>00:00:00</td>\n",
       "    </tr>\n",
       "  </tbody>\n",
       "</table>\n",
       "</div>"
      ],
      "text/plain": [
       "         ID entity counterparty currency_pair buy_currency sell_currency  \\\n",
       "0  ADIR3601   ADIR           GS        EURUSD          USD           EUR   \n",
       "1  ADIR3636   ADIR          JPM        GBPUSD          USD           GBP   \n",
       "2  ADIR3602   ADIR           GS        USDJPY          USD           JPY   \n",
       "3  ADIR3617   ADIR          UBS        EURUSD          USD           EUR   \n",
       "4  ADIR3623   ADIR          UBS        EURUSD          USD           EUR   \n",
       "\n",
       "  trade_date expiry_date  contract_rate  buy_amount  sell_amount   premium  \\\n",
       "0 2012-05-08  2012-10-29         1.3035  13035000.0    -10000000  408600.0   \n",
       "1 2012-05-29  2012-10-30         1.5610   7805000.0     -5000000  189500.0   \n",
       "2 2012-05-08  2012-11-02        79.6500  12554928.0  -1000000000  340500.0   \n",
       "3 2012-05-15  2012-11-07         1.2785  12785000.0    -10000000  443500.0   \n",
       "4 2012-05-23  2012-11-14         1.2590  12590000.0    -10000000  466000.0   \n",
       "\n",
       "   sold_to_rev  sold_to_pl sold_date  \n",
       "0      66087.0         0.0  00:00:00  \n",
       "1          0.0         0.0  00:00:00  \n",
       "2      75900.0         0.0  00:00:00  \n",
       "3          0.0     22700.0  00:00:00  \n",
       "4          0.0      7554.0  00:00:00  "
      ]
     },
     "execution_count": 12,
     "metadata": {},
     "output_type": "execute_result"
    }
   ],
   "source": [
    "df.head()"
   ]
  },
  {
   "cell_type": "markdown",
   "metadata": {},
   "source": [
    "##### So either approach will work.\n",
    "\n",
    "I tend to use the pd.rename method most often, but being able to reassign column names with df.columns is also very convenient.\n",
    "\n",
    "So let's look at the data"
   ]
  },
  {
   "cell_type": "code",
   "execution_count": 13,
   "metadata": {},
   "outputs": [
    {
     "name": "stdout",
     "output_type": "stream",
     "text": [
      "<class 'pandas.core.frame.DataFrame'>\n",
      "RangeIndex: 792 entries, 0 to 791\n",
      "Data columns (total 15 columns):\n",
      " #   Column         Non-Null Count  Dtype         \n",
      "---  ------         --------------  -----         \n",
      " 0   ID             792 non-null    object        \n",
      " 1   entity         792 non-null    object        \n",
      " 2   counterparty   792 non-null    object        \n",
      " 3   currency_pair  792 non-null    object        \n",
      " 4   buy_currency   791 non-null    object        \n",
      " 5   sell_currency  792 non-null    object        \n",
      " 6   trade_date     792 non-null    datetime64[ns]\n",
      " 7   expiry_date    792 non-null    datetime64[ns]\n",
      " 8   contract_rate  792 non-null    float64       \n",
      " 9   buy_amount     792 non-null    float64       \n",
      " 10  sell_amount    792 non-null    int64         \n",
      " 11  premium        792 non-null    float64       \n",
      " 12  sold_to_rev    579 non-null    float64       \n",
      " 13  sold_to_pl     293 non-null    float64       \n",
      " 14  sold_date      740 non-null    object        \n",
      "dtypes: datetime64[ns](2), float64(5), int64(1), object(7)\n",
      "memory usage: 92.9+ KB\n"
     ]
    }
   ],
   "source": [
    "df.info()"
   ]
  },
  {
   "cell_type": "markdown",
   "metadata": {},
   "source": [
    "## Task 1: Drop the sold_to_rev, sold_to_pl and sold_date information from the dataframe."
   ]
  },
  {
   "cell_type": "code",
   "execution_count": null,
   "metadata": {},
   "outputs": [],
   "source": []
  },
  {
   "cell_type": "code",
   "execution_count": null,
   "metadata": {},
   "outputs": [],
   "source": []
  },
  {
   "cell_type": "markdown",
   "metadata": {},
   "source": [
    "## Task 2: Change the sell_amount datatype to be a float64."
   ]
  },
  {
   "cell_type": "code",
   "execution_count": null,
   "metadata": {},
   "outputs": [],
   "source": []
  },
  {
   "cell_type": "code",
   "execution_count": null,
   "metadata": {},
   "outputs": [],
   "source": []
  },
  {
   "cell_type": "markdown",
   "metadata": {},
   "source": [
    "## Task 3: There is a typo in one of the non-numeric columns. Find it and change it! \n",
    "It is best to use df.replace(). This can be done on the entire dataframe if the string you are replacing will only be in the dataframe once. If you need to replace only in one column, then call the replace function on the correct column."
   ]
  },
  {
   "cell_type": "code",
   "execution_count": null,
   "metadata": {},
   "outputs": [],
   "source": []
  },
  {
   "cell_type": "code",
   "execution_count": null,
   "metadata": {},
   "outputs": [],
   "source": []
  },
  {
   "cell_type": "code",
   "execution_count": null,
   "metadata": {},
   "outputs": [],
   "source": []
  },
  {
   "cell_type": "markdown",
   "metadata": {},
   "source": [
    "## Task 4: Recreate the following commonly used excel functions in pandas\n",
    "\n",
    "#### 4.1 Sum of the 'buy_amounts' for the entire dataframe."
   ]
  },
  {
   "cell_type": "code",
   "execution_count": null,
   "metadata": {},
   "outputs": [],
   "source": []
  },
  {
   "cell_type": "markdown",
   "metadata": {},
   "source": [
    "#### 4.2 Maximum buy_amount"
   ]
  },
  {
   "cell_type": "code",
   "execution_count": null,
   "metadata": {},
   "outputs": [],
   "source": []
  },
  {
   "cell_type": "markdown",
   "metadata": {},
   "source": [
    "#### 4.3 Minimum buy_amount"
   ]
  },
  {
   "cell_type": "code",
   "execution_count": null,
   "metadata": {},
   "outputs": [],
   "source": []
  },
  {
   "cell_type": "markdown",
   "metadata": {},
   "source": [
    "#### 4.4 Find the currency for ADIR7445 and set it equal to a variable"
   ]
  },
  {
   "cell_type": "code",
   "execution_count": null,
   "metadata": {},
   "outputs": [],
   "source": []
  },
  {
   "cell_type": "markdown",
   "metadata": {},
   "source": [
    "#### 4.5 Find the sum of the buy amount for GBP transactions"
   ]
  },
  {
   "cell_type": "code",
   "execution_count": null,
   "metadata": {},
   "outputs": [],
   "source": []
  },
  {
   "cell_type": "code",
   "execution_count": null,
   "metadata": {},
   "outputs": [],
   "source": []
  },
  {
   "cell_type": "markdown",
   "metadata": {},
   "source": [
    "#### 4.6 How many EUR options are in the dataset? How about GBP? And JPY?"
   ]
  },
  {
   "cell_type": "code",
   "execution_count": null,
   "metadata": {},
   "outputs": [],
   "source": []
  },
  {
   "cell_type": "code",
   "execution_count": null,
   "metadata": {},
   "outputs": [],
   "source": []
  },
  {
   "cell_type": "markdown",
   "metadata": {},
   "source": [
    "## Task 4: Create 3 separate dataframes using a boolean mask.\n",
    "\n",
    "- df_EUR: containing all of the EUR transactions\n",
    "- df_GBP: containing all of the GBP transactions\n",
    "- df_JPY: containing all of the JPY transactions\n"
   ]
  },
  {
   "cell_type": "code",
   "execution_count": null,
   "metadata": {},
   "outputs": [],
   "source": []
  },
  {
   "cell_type": "markdown",
   "metadata": {},
   "source": [
    "## Task 5: Determine which currency has the largest volatility of the strike rate for options in the dataset."
   ]
  },
  {
   "cell_type": "code",
   "execution_count": null,
   "metadata": {},
   "outputs": [],
   "source": []
  },
  {
   "cell_type": "markdown",
   "metadata": {},
   "source": [
    "## Task 6: Plot a histogram of each currency's strike rates using plt.subplots.\n",
    "Would prefer to see them in one row with three charts across. Make this as descriptive and clean as possible. "
   ]
  },
  {
   "cell_type": "code",
   "execution_count": null,
   "metadata": {},
   "outputs": [],
   "source": []
  },
  {
   "cell_type": "markdown",
   "metadata": {},
   "source": [
    "## Task 7: Create 2 charts using plt.subplots\n",
    "Pick a currency and plot the following on two subplots that are stacked on top of one another.\n",
    "\n",
    "Top Chart: \n",
    " - X1 = expiry dates, Y1 = strike rate on the options for that currency\n",
    " - X2 = contract_dates, Y2 = strike rates on options for that currency (in a different color)\n",
    "           \n",
    "Bottom Chart: \n",
    " - X1 = contract_dates, Y1 = premiums paid\n",
    " - X2 = expiry_dates, Y2 = notional of USD purchased\n",
    "              \n",
    "The bottom chart should be a bar chart. See how clean and descriptive you can make the charts. (i.e. label axes, chart title, etc.)"
   ]
  },
  {
   "cell_type": "code",
   "execution_count": null,
   "metadata": {},
   "outputs": [],
   "source": []
  },
  {
   "cell_type": "code",
   "execution_count": null,
   "metadata": {},
   "outputs": [],
   "source": []
  },
  {
   "cell_type": "code",
   "execution_count": null,
   "metadata": {},
   "outputs": [],
   "source": []
  }
 ],
 "metadata": {
  "kernelspec": {
   "display_name": "Python 3.7.3 64-bit ('base': conda)",
   "language": "python",
   "name": "python37364bitbasecondaf40c37e8e9dd45c89e043b248b661bde"
  },
  "language_info": {
   "codemirror_mode": {
    "name": "ipython",
    "version": 3
   },
   "file_extension": ".py",
   "mimetype": "text/x-python",
   "name": "python",
   "nbconvert_exporter": "python",
   "pygments_lexer": "ipython3",
   "version": "3.7.3"
  }
 },
 "nbformat": 4,
 "nbformat_minor": 2
}
