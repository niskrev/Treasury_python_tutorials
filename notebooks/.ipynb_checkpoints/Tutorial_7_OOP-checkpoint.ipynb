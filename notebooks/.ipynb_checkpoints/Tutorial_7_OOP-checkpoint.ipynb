{
 "cells": [
  {
   "cell_type": "markdown",
   "metadata": {},
   "source": [
    "# Object Oriented Code \n",
    "We have already been introduced to objects in python. Lists are objects, strings are objects, dataframes are objects and almost everything in python is a object. So what is an object exactly? \n",
    "\n",
    "Objects of the same type have the same methods available to them and the same list of attributes, even through the attributes themselves are different. For example, let's consider a pandas dataframe\n",
    "\n",
    "METHODS:\n",
    "    - head() will work on any dataframe because head is a method of the broader thing (a class) that is a dataframe\n",
    "    - describe() will work on any dataframe\n",
    "    - value_counts() on any column of a dataframe works because the columns are part of a broader thing, a series.\n",
    "\n",
    "ATTRIBUTES\n",
    "    - shape will return the shape of any dataframe (even if it is empty)\n",
    "    - index will return the index of any dataframe\n",
    "    - columns will return all of the columns of the dataframe\n",
    "    \n",
    "These methods and attributes are common to all dataframes because they are defined in the dataframe class. A class defines which attributes the object has and what methods you can perform on that class.\n",
    "\n",
    "In this tutorial, we will start with a basic description of a class, explain how to create attributes (properties) and methods (object specific functions) of the class and how to create (instantiate) an instance of the class.\n",
    "\n",
    "We will start with a basic, easy to understand example and then build examples more relevant to Treasury. \n",
    "\n",
    "##### Object Oriented Programming (OOP)\n",
    "Structuring similar data in classes is called 'Object-Oriented Programming' (OOP). It is just a way to group observations from your data into categories based on how similar they are and what you will need to do with them in a program. It is really not more complicated than that.\n",
    "\n",
    "You will see that OOP allows you to leverage your code so that it can be reused by you or anyone else. In fact, people can use you classes without having to know the details of how they are created or how the methods actually work. This is extremely valuable and if you think about the tutorials we have completed, we do this all the time. When we are running df.value_counts() did we dig into the code about how this methods works? No, we just used it. When we merged two dataframes together, did we cover the programming required in the df.merge() command? No, we just used it. \n",
    "\n",
    "##### Long Term Goal of OOP\n",
    "The goal here is to have us develop well defined classes, such that anyone can use our classes without having to know how the methods work. The best example of this would be a Monte Carlo simulation of 3 different exchange rates. If we have a class that has a .simulate() method, then all we need to know is how to create the object and interact with the methods. (Meaning, what are the input variables and what will this method return.) We don't need to know how the stochastic calculus works inside the method."
   ]
  },
  {
   "cell_type": "code",
   "execution_count": 53,
   "metadata": {},
   "outputs": [],
   "source": [
    "import numpy as np\n",
    "import pandas as pd\n",
    "import matplotlib.pyplot as plt\n",
    "import random\n",
    "%matplotlib inline"
   ]
  },
  {
   "cell_type": "markdown",
   "metadata": {},
   "source": [
    "## I. Parts of a class definition\n",
    "\n",
    "To explain how to definine (create) a class, it will be helpful to review the closest thing we have done to this, which is defining a function. Remember a function definition is telling python how to perform this function and is not actually calculating anything. The calculation happens when we 'call' the function.\n"
   ]
  },
  {
   "cell_type": "code",
   "execution_count": 3,
   "metadata": {},
   "outputs": [],
   "source": [
    "# Basic function definition\n",
    "def add_2_numbers(numb_a, numb_b):\n",
    "    return numb_a + numb_b"
   ]
  },
  {
   "cell_type": "code",
   "execution_count": 4,
   "metadata": {},
   "outputs": [
    {
     "name": "stdout",
     "output_type": "stream",
     "text": [
      "3\n"
     ]
    }
   ],
   "source": [
    "# calling the function\n",
    "this_sum = add_2_numbers(1, 2)\n",
    "print(this_sum)"
   ]
  },
  {
   "cell_type": "markdown",
   "metadata": {},
   "source": [
    "Defining a class is similar to defining a function, but there is one big difference. While a function contains code to do a calculation, <b>a Class definition contains a series of functions</b>.\n",
    "\n",
    "The first function is called the <b>constructor</b>. It is written just like a function, where the function name is '__init__'. This is the first function call when instantiating (creating) a specific instance of a class.\n",
    "\n",
    "NOTE: The '__' is called Dunder.\n",
    "\n",
    "The other functions are the methods of the class.\n"
   ]
  },
  {
   "cell_type": "markdown",
   "metadata": {},
   "source": [
    "___\n",
    "\n",
    "## II. Our First Class: A die (noun, not the verb)\n",
    "We will start with a simple class that is a die. The die will have two properties, the number of sides and it's color. It will eventually have several methods, like 'roll' and 'roll_n_times'.\n",
    "\n",
    "\n",
    "### II. A. Creating a class with no input variables\n",
    "To start slowly, we will create a class with no input variables."
   ]
  },
  {
   "cell_type": "markdown",
   "metadata": {},
   "source": [
    "All classes start with the word 'class' and a space and then the name of the class followed by a colon. (This is similar to a function that starts with 'def' and then has the name of the function followed by a colon.)\n",
    "\n",
    "##### NOTE: The first letter of a class is always capitalized. This is not a python requirement, but a programming standard. \n",
    "(Not capitalizing your class would be equivalent to showing up to a Humaine Society fundraiser wearing a coat made out of kitten fur that you made in your garage. You just shouldn't do it!)\n",
    "\n",
    "The first part of a class definition is the constructor, where the attributes (properties) of the class are assigned. This is done in a sub-function called '__init__' and is called a <b> constructor</b>.\n"
   ]
  },
  {
   "cell_type": "code",
   "execution_count": 9,
   "metadata": {},
   "outputs": [],
   "source": [
    "class Die:\n",
    "    ''' Below the properties of the die (or placeholder's for them) are assigned.\n",
    "    The 'self' as an input to the __init__ function means that it is passing\n",
    "    itself to the function so that we can assign the properties to itself, \n",
    "    to be referenced later\n",
    "    '''\n",
    "    # constructor\n",
    "    def __init__(self):\n",
    "        self.color = 'red' \n",
    "        self.num_sides = 6\n",
    "        "
   ]
  },
  {
   "cell_type": "markdown",
   "metadata": {},
   "source": [
    "Now let's create an instance of this class ('instantiate') the class. We will call it my_die"
   ]
  },
  {
   "cell_type": "code",
   "execution_count": 10,
   "metadata": {},
   "outputs": [
    {
     "name": "stdout",
     "output_type": "stream",
     "text": [
      "<__main__.Die object at 0x7fdce30d5940>\n"
     ]
    }
   ],
   "source": [
    "my_die = Die()\n",
    "print(my_die)"
   ]
  },
  {
   "cell_type": "markdown",
   "metadata": {},
   "source": [
    "So this is just telling us that my_die is an object. To access the properties of the die, we use the same format as we would for a dataframe or an np.array or any object in python. (variable.attribute)"
   ]
  },
  {
   "cell_type": "code",
   "execution_count": 11,
   "metadata": {},
   "outputs": [
    {
     "data": {
      "text/plain": [
       "'red'"
      ]
     },
     "execution_count": 11,
     "metadata": {},
     "output_type": "execute_result"
    }
   ],
   "source": [
    "my_die.color"
   ]
  },
  {
   "cell_type": "code",
   "execution_count": 12,
   "metadata": {},
   "outputs": [
    {
     "data": {
      "text/plain": [
       "6"
      ]
     },
     "execution_count": 12,
     "metadata": {},
     "output_type": "execute_result"
    }
   ],
   "source": [
    "my_die.num_sides"
   ]
  },
  {
   "cell_type": "markdown",
   "metadata": {},
   "source": [
    "After seeing how we access the properties of my_die, the 'self' variable might make more sense. We have a Die class and the class itself has no idea what you are going to call an instance of this class. (We called it 'my_die'.) Since python doesn't know what it will be called, it calls it 'self'. \n",
    "\n",
    "This is very similar to parents who are expecting refering to their unborn child as 'baby' before they settle on a name. It is creepy, but everyone understands who they are referring to."
   ]
  },
  {
   "cell_type": "markdown",
   "metadata": {},
   "source": [
    "### We now have a variable 'my_die' that is a die. It has a color and a number of sides as properties.\n",
    "\n",
    "##### Let's allow for the properties to be assigned rather than always the same. \n",
    "To do this, we just need to put input variables into the constructor function (__init__). Below we are redefining our class to include inputs to the constructor.\n",
    "\n",
    "NOTE: We still need to include the 'self' variable in the constructor. Even though it is never actually typed out when we create an instance of a class."
   ]
  },
  {
   "cell_type": "code",
   "execution_count": 13,
   "metadata": {},
   "outputs": [],
   "source": [
    "class Die:\n",
    "    ''' Below the properties of the die (or placeholder's for them) are assigned.\n",
    "    The 'self' as an input to the __init__ function means that it is passing\n",
    "    itself to the function so that we can assign the properties to itself, \n",
    "    to be referenced later\n",
    "    '''\n",
    "    # constructor\n",
    "    def __init__(self, color = 'red', num_sides = 6):\n",
    "        self.color = color \n",
    "        self.num_sides = num_sides\n",
    "        "
   ]
  },
  {
   "cell_type": "code",
   "execution_count": 14,
   "metadata": {},
   "outputs": [
    {
     "name": "stdout",
     "output_type": "stream",
     "text": [
      "This is the default die color:  red\n",
      "This is the default die number of sides:  6\n"
     ]
    }
   ],
   "source": [
    "# creating a die with no inputs (so all defaults)\n",
    "die_default = Die()\n",
    "print('This is the default die color: ',die_default.color)\n",
    "print('This is the default die number of sides: ', die_default.num_sides)"
   ]
  },
  {
   "cell_type": "code",
   "execution_count": 15,
   "metadata": {},
   "outputs": [
    {
     "name": "stdout",
     "output_type": "stream",
     "text": [
      "This is the die_new color:  green\n",
      "This is the number of sides:  4\n"
     ]
    }
   ],
   "source": [
    "# creating a die with specificly assigned color and numb_sides\n",
    "die_new = Die('green', 4)\n",
    "print('This is the die_new color: ', die_new.color)\n",
    "print('This is the number of sides: ', die_new.num_sides)"
   ]
  },
  {
   "cell_type": "markdown",
   "metadata": {},
   "source": [
    "### Creating Methods\n",
    "OK So we have created an object and we know how to assign it's properties. Lets build our first method: 'roll'."
   ]
  },
  {
   "cell_type": "code",
   "execution_count": 16,
   "metadata": {},
   "outputs": [],
   "source": [
    "class Die:\n",
    "    ''' Below the properties of the die (or placeholder's for them) are assigned.\n",
    "    The 'self' as an input to the __init__ function means that it is passing\n",
    "    itself to the function so that we can assign the properties to itself, \n",
    "    to be referenced later\n",
    "    '''\n",
    "    # constructor\n",
    "    def __init__(self, color = 'red', num_sides = 6):\n",
    "        self.color = color \n",
    "        self.num_sides = num_sides\n",
    "        \n",
    "    def roll(self):\n",
    "        this_roll = random.randint(1, self.num_sides)\n",
    "        print('You rolled a ', this_roll)\n",
    "        return this_roll\n",
    "        "
   ]
  },
  {
   "cell_type": "code",
   "execution_count": 38,
   "metadata": {},
   "outputs": [
    {
     "data": {
      "text/plain": [
       "'green'"
      ]
     },
     "execution_count": 38,
     "metadata": {},
     "output_type": "execute_result"
    }
   ],
   "source": [
    "die_new = Die('green', 4)\n",
    "die_new.color"
   ]
  },
  {
   "cell_type": "code",
   "execution_count": 41,
   "metadata": {},
   "outputs": [
    {
     "data": {
      "text/plain": [
       "4"
      ]
     },
     "execution_count": 41,
     "metadata": {},
     "output_type": "execute_result"
    }
   ],
   "source": [
    "die_new.num_sides"
   ]
  },
  {
   "cell_type": "code",
   "execution_count": 42,
   "metadata": {},
   "outputs": [
    {
     "name": "stdout",
     "output_type": "stream",
     "text": [
      "You rolled a  1\n"
     ]
    },
    {
     "data": {
      "text/plain": [
       "1"
      ]
     },
     "execution_count": 42,
     "metadata": {},
     "output_type": "execute_result"
    }
   ],
   "source": [
    "die_new.roll()"
   ]
  },
  {
   "cell_type": "markdown",
   "metadata": {},
   "source": [
    "Let's add a second method to this class that will roll the die 'n' times and return the sum of the values that appeared in each roll. We will call this method 'roll_n_times' and to call this method, we will need to pass in an integer."
   ]
  },
  {
   "cell_type": "code",
   "execution_count": 54,
   "metadata": {},
   "outputs": [],
   "source": [
    "class Die:\n",
    "    ''' Below the properties of the die (or placeholder's for them) are assigned.\n",
    "    The 'self' as an input to the __init__ function means that it is passing\n",
    "    itself to the function so that we can assign the properties to itself, \n",
    "    to be referenced later\n",
    "    '''\n",
    "    # constructor\n",
    "    def __init__(self, color = 'red', num_sides = 6):\n",
    "        self.color = color \n",
    "        self.num_sides = num_sides\n",
    "        \n",
    "    def roll(self):\n",
    "        this_roll = random.randint(1, self.num_sides)\n",
    "        print('You rolled a ', this_roll)\n",
    "        return this_roll\n",
    "    \n",
    "    def roll_n_times(self, n):\n",
    "        sum_of_rolls = 0\n",
    "        for i in range(n):\n",
    "            this_roll = self.roll()\n",
    "            print('On roll {0} we got a {1}'.format(i, this_roll))\n",
    "            sum_of_rolls += this_roll\n",
    "        print('The total sum after {0} rolls was {1}'.format(n, sum_of_rolls))\n",
    "        return sum_of_rolls\n",
    "    "
   ]
  },
  {
   "cell_type": "code",
   "execution_count": 55,
   "metadata": {},
   "outputs": [],
   "source": [
    "# create the die (instantiation)\n",
    "black_die = Die('black', 6)"
   ]
  },
  {
   "cell_type": "code",
   "execution_count": 56,
   "metadata": {},
   "outputs": [],
   "source": [
    "# check a die toll"
   ]
  },
  {
   "cell_type": "code",
   "execution_count": 57,
   "metadata": {},
   "outputs": [
    {
     "name": "stdout",
     "output_type": "stream",
     "text": [
      "You rolled a  3\n"
     ]
    },
    {
     "data": {
      "text/plain": [
       "3"
      ]
     },
     "execution_count": 57,
     "metadata": {},
     "output_type": "execute_result"
    }
   ],
   "source": [
    "black_die.roll()"
   ]
  },
  {
   "cell_type": "code",
   "execution_count": 58,
   "metadata": {},
   "outputs": [
    {
     "name": "stdout",
     "output_type": "stream",
     "text": [
      "You rolled a  6\n",
      "On roll 0 we got a 6\n",
      "You rolled a  3\n",
      "On roll 1 we got a 3\n",
      "You rolled a  1\n",
      "On roll 2 we got a 1\n",
      "You rolled a  2\n",
      "On roll 3 we got a 2\n",
      "You rolled a  5\n",
      "On roll 4 we got a 5\n",
      "You rolled a  3\n",
      "On roll 5 we got a 3\n",
      "You rolled a  3\n",
      "On roll 6 we got a 3\n",
      "You rolled a  2\n",
      "On roll 7 we got a 2\n",
      "You rolled a  6\n",
      "On roll 8 we got a 6\n",
      "You rolled a  3\n",
      "On roll 9 we got a 3\n",
      "The total sum after 10 rolls was 34\n"
     ]
    },
    {
     "data": {
      "text/plain": [
       "34"
      ]
     },
     "execution_count": 58,
     "metadata": {},
     "output_type": "execute_result"
    }
   ],
   "source": [
    "# roll the die 10 times\n",
    "black_die.roll_n_times(10)"
   ]
  },
  {
   "cell_type": "markdown",
   "metadata": {},
   "source": [
    "##### Let's clean up the definition to remove all of the print statements\n",
    "Does the shorter roll_n_times method make sense? (I simplified it below)."
   ]
  },
  {
   "cell_type": "code",
   "execution_count": 46,
   "metadata": {},
   "outputs": [],
   "source": [
    "class Die:\n",
    "    ''' Below the properties of the die (or placeholder's for them) are assigned.\n",
    "    The 'self' as an input to the __init__ function means that it is passing\n",
    "    itself to the function so that we can assign the properties to itself, \n",
    "    to be referenced later\n",
    "    '''\n",
    "    # constructor\n",
    "    def __init__(self, color = 'red', num_sides = 6):\n",
    "        self.color = color \n",
    "        self.num_sides = num_sides\n",
    "        \n",
    "    def roll(self):\n",
    "        this_roll = np.random.randint(1, self.num_sides+1)\n",
    "        print('You rolled a ', this_roll)\n",
    "        return this_roll\n",
    "    \n",
    "    def roll_n_times(self, n):\n",
    "        sum_of_rolls = 0\n",
    "        for i in range(n):\n",
    "            sum_of_rolls += self.roll()\n",
    "        return sum_of_rolls\n",
    "    "
   ]
  },
  {
   "cell_type": "code",
   "execution_count": null,
   "metadata": {},
   "outputs": [],
   "source": []
  }
 ],
 "metadata": {
  "kernelspec": {
   "display_name": "Python 3.7.3 64-bit ('base': conda)",
   "language": "python",
   "name": "python37364bitbasecondaf40c37e8e9dd45c89e043b248b661bde"
  },
  "language_info": {
   "codemirror_mode": {
    "name": "ipython",
    "version": 3
   },
   "file_extension": ".py",
   "mimetype": "text/x-python",
   "name": "python",
   "nbconvert_exporter": "python",
   "pygments_lexer": "ipython3",
   "version": "3.7.3"
  }
 },
 "nbformat": 4,
 "nbformat_minor": 2
}
