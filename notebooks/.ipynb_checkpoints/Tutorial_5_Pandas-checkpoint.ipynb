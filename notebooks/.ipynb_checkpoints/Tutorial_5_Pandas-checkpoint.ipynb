{
 "cells": [
  {
   "cell_type": "markdown",
   "metadata": {},
   "source": [
    "# Pandas Tutorial\n",
    "\n",
    "Pandas is named stands for 'panel data analysis'. Panel data is data that includes multiple variables about individuals over time (so a combination of cross sectional data and time series data). For example, medical studies where a myriad patient's health statistics are stored over time for thousands of patients.\n",
    "\n",
    "If you continue using python for projects at work, you will love pandas and use it more frequently than you use Excel. It is extermely powerful and easy to use (now that you have the other tutorials under your belts.)\n",
    "\n",
    "Numpy's main object is arrays and pandas brings these arrays (or series as they are called in pandas) into an an object called a dataframe. A dataframe is very similar to an excel spreadsheet, but the rows and columns are on steroids allowing for more flexibility and power than excel. (Extreme understatement!)\n",
    "\n",
    "So lets get started!\n",
    "\n",
    "### Import statement\n",
    "ALWAYS import pandas as pd"
   ]
  },
  {
   "cell_type": "code",
   "execution_count": 1,
   "metadata": {},
   "outputs": [],
   "source": [
    "import pandas as pd"
   ]
  },
  {
   "cell_type": "markdown",
   "metadata": {},
   "source": [
    "## 1. Creating dataframes\n",
    "\n",
    "As with anything in python, there are multiple ways to create a dataframe in pandas. I am only going to present two here.\n",
    "\n",
    "##### NOTE 1: Although you have the flexibility to use any variable names you want, the python standard is to use df for dataframe. If you have a program or function with only one dataframe, call it df. If you have a program that contains multiple dataframes, then call them df_billings, df_FX_rates, df_waterfall, df_derivatives, df_ex_girlfriends etc. Start the variable name with df_ to let the user know you are talking about a dataframe.\n",
    "\n",
    "##### NOTE 2: A note about my naming convention:\n",
    "In python classes are generally capitalized and all other variables <b> DO NOT </b> contain capitals. However, when there is a common abbreviation, I tend to use capital letters for the abbreviation. Some examples:\n",
    "\n",
    " - Foreign Exchange: FX\n",
    " - United Stated Dollar (equivalent): US\n",
    " - Document Currency: DC\n",
    " - Currency tickers: AUD, EUR, GBP, JPY, USD\n",
    " - Company code: ADIR, ADUS, AILP, etc.\n",
    " - Three month United States Treasury Yield: UST_3m\n",
    "\n",
    "\n",
    "##### NOTE: In practice 90% of the time we will load data into pandas from some other source and not create them directly, but you need a basic understanding of how to do this because you will need to create them from time to time."
   ]
  },
  {
   "cell_type": "markdown",
   "metadata": {},
   "source": [
    "## 1.1 Creating a dictionary from a ndarray"
   ]
  },
  {
   "cell_type": "code",
   "execution_count": 2,
   "metadata": {},
   "outputs": [],
   "source": [
    "import numpy as np"
   ]
  },
  {
   "cell_type": "code",
   "execution_count": 3,
   "metadata": {},
   "outputs": [
    {
     "data": {
      "text/plain": [
       "array([[0, 5, 7, 9, 7],\n",
       "       [3, 0, 0, 1, 8],\n",
       "       [1, 1, 5, 3, 7],\n",
       "       [6, 9, 9, 2, 0],\n",
       "       [8, 9, 3, 8, 1]])"
      ]
     },
     "execution_count": 3,
     "metadata": {},
     "output_type": "execute_result"
    }
   ],
   "source": [
    "data = np.random.randint(0, 10, size= (5,5))\n",
    "data"
   ]
  },
  {
   "cell_type": "code",
   "execution_count": 4,
   "metadata": {},
   "outputs": [
    {
     "data": {
      "text/html": [
       "<div>\n",
       "<style scoped>\n",
       "    .dataframe tbody tr th:only-of-type {\n",
       "        vertical-align: middle;\n",
       "    }\n",
       "\n",
       "    .dataframe tbody tr th {\n",
       "        vertical-align: top;\n",
       "    }\n",
       "\n",
       "    .dataframe thead th {\n",
       "        text-align: right;\n",
       "    }\n",
       "</style>\n",
       "<table border=\"1\" class=\"dataframe\">\n",
       "  <thead>\n",
       "    <tr style=\"text-align: right;\">\n",
       "      <th></th>\n",
       "      <th>A</th>\n",
       "      <th>B</th>\n",
       "      <th>C</th>\n",
       "      <th>D</th>\n",
       "      <th>E</th>\n",
       "    </tr>\n",
       "  </thead>\n",
       "  <tbody>\n",
       "    <tr>\n",
       "      <th>0</th>\n",
       "      <td>0</td>\n",
       "      <td>5</td>\n",
       "      <td>7</td>\n",
       "      <td>9</td>\n",
       "      <td>7</td>\n",
       "    </tr>\n",
       "    <tr>\n",
       "      <th>1</th>\n",
       "      <td>3</td>\n",
       "      <td>0</td>\n",
       "      <td>0</td>\n",
       "      <td>1</td>\n",
       "      <td>8</td>\n",
       "    </tr>\n",
       "    <tr>\n",
       "      <th>2</th>\n",
       "      <td>1</td>\n",
       "      <td>1</td>\n",
       "      <td>5</td>\n",
       "      <td>3</td>\n",
       "      <td>7</td>\n",
       "    </tr>\n",
       "    <tr>\n",
       "      <th>3</th>\n",
       "      <td>6</td>\n",
       "      <td>9</td>\n",
       "      <td>9</td>\n",
       "      <td>2</td>\n",
       "      <td>0</td>\n",
       "    </tr>\n",
       "    <tr>\n",
       "      <th>4</th>\n",
       "      <td>8</td>\n",
       "      <td>9</td>\n",
       "      <td>3</td>\n",
       "      <td>8</td>\n",
       "      <td>1</td>\n",
       "    </tr>\n",
       "  </tbody>\n",
       "</table>\n",
       "</div>"
      ],
      "text/plain": [
       "   A  B  C  D  E\n",
       "0  0  5  7  9  7\n",
       "1  3  0  0  1  8\n",
       "2  1  1  5  3  7\n",
       "3  6  9  9  2  0\n",
       "4  8  9  3  8  1"
      ]
     },
     "execution_count": 4,
     "metadata": {},
     "output_type": "execute_result"
    }
   ],
   "source": [
    "df = pd.DataFrame(data, columns=['A', 'B', 'C', 'D', 'E'])\n",
    "df"
   ]
  },
  {
   "cell_type": "markdown",
   "metadata": {},
   "source": [
    "The first column is called the index. It starts at zero and is similar to the row numbers in excel.\n",
    "\n",
    "The columns are labeled (in this case just like excel as letters.)"
   ]
  },
  {
   "cell_type": "markdown",
   "metadata": {},
   "source": [
    "## 1.2 Creating a dataframe from a dictionary of lists"
   ]
  },
  {
   "cell_type": "code",
   "execution_count": 5,
   "metadata": {},
   "outputs": [],
   "source": [
    "list_albums = ['Forever', 'Greatest Hits', 'Spice', 'Spiceworld']\n",
    "list_dates = ['11-01-2000', '11-07-2007 ', '11-04-1996', '11-03-1997']        \n",
    "ww_sales = [4000000, 1200000, 23000000, 13000000]\n",
    "with_Ginger = [False, True, True, True]\n",
    "US_certification = [np.nan, np.nan, '7x Platnum', '4x Platnum']"
   ]
  },
  {
   "cell_type": "code",
   "execution_count": 6,
   "metadata": {},
   "outputs": [
    {
     "data": {
      "text/plain": [
       "{'album': ['Forever', 'Greatest Hits', 'Spice', 'Spiceworld'],\n",
       " 'date': ['11-01-2000', '11-07-2007 ', '11-04-1996', '11-03-1997'],\n",
       " 'global_sales': [4000000, 1200000, 23000000, 13000000],\n",
       " 'Ginger?': [False, True, True, True],\n",
       " 'US_certification': [nan, nan, '7x Platnum', '4x Platnum']}"
      ]
     },
     "execution_count": 6,
     "metadata": {},
     "output_type": "execute_result"
    }
   ],
   "source": [
    "data_dict = {'album': list_albums,\n",
    "            'date': list_dates,\n",
    "            'global_sales': ww_sales,\n",
    "            'Ginger?': with_Ginger,\n",
    "            'US_certification': US_certification}\n",
    "data_dict"
   ]
  },
  {
   "cell_type": "code",
   "execution_count": 7,
   "metadata": {},
   "outputs": [
    {
     "data": {
      "text/html": [
       "<div>\n",
       "<style scoped>\n",
       "    .dataframe tbody tr th:only-of-type {\n",
       "        vertical-align: middle;\n",
       "    }\n",
       "\n",
       "    .dataframe tbody tr th {\n",
       "        vertical-align: top;\n",
       "    }\n",
       "\n",
       "    .dataframe thead th {\n",
       "        text-align: right;\n",
       "    }\n",
       "</style>\n",
       "<table border=\"1\" class=\"dataframe\">\n",
       "  <thead>\n",
       "    <tr style=\"text-align: right;\">\n",
       "      <th></th>\n",
       "      <th>album</th>\n",
       "      <th>date</th>\n",
       "      <th>global_sales</th>\n",
       "      <th>Ginger?</th>\n",
       "      <th>US_certification</th>\n",
       "    </tr>\n",
       "  </thead>\n",
       "  <tbody>\n",
       "    <tr>\n",
       "      <th>0</th>\n",
       "      <td>Forever</td>\n",
       "      <td>11-01-2000</td>\n",
       "      <td>4000000</td>\n",
       "      <td>False</td>\n",
       "      <td>NaN</td>\n",
       "    </tr>\n",
       "    <tr>\n",
       "      <th>1</th>\n",
       "      <td>Greatest Hits</td>\n",
       "      <td>11-07-2007</td>\n",
       "      <td>1200000</td>\n",
       "      <td>True</td>\n",
       "      <td>NaN</td>\n",
       "    </tr>\n",
       "    <tr>\n",
       "      <th>2</th>\n",
       "      <td>Spice</td>\n",
       "      <td>11-04-1996</td>\n",
       "      <td>23000000</td>\n",
       "      <td>True</td>\n",
       "      <td>7x Platnum</td>\n",
       "    </tr>\n",
       "    <tr>\n",
       "      <th>3</th>\n",
       "      <td>Spiceworld</td>\n",
       "      <td>11-03-1997</td>\n",
       "      <td>13000000</td>\n",
       "      <td>True</td>\n",
       "      <td>4x Platnum</td>\n",
       "    </tr>\n",
       "  </tbody>\n",
       "</table>\n",
       "</div>"
      ],
      "text/plain": [
       "           album         date  global_sales  Ginger? US_certification\n",
       "0        Forever   11-01-2000       4000000    False              NaN\n",
       "1  Greatest Hits  11-07-2007        1200000     True              NaN\n",
       "2          Spice   11-04-1996      23000000     True       7x Platnum\n",
       "3     Spiceworld   11-03-1997      13000000     True       4x Platnum"
      ]
     },
     "execution_count": 7,
     "metadata": {},
     "output_type": "execute_result"
    }
   ],
   "source": [
    "df_spice_girls = pd.DataFrame(data_dict)\n",
    "df_spice_girls"
   ]
  },
  {
   "cell_type": "markdown",
   "metadata": {},
   "source": [
    "## 2. Exploring your dataframe\n",
    "\n",
    "There are several methods that provide descriptive information about your dataframe that can be very helpful if you have a large dataset loaded into pandas.\n",
    "\n",
    "### 2. a. df.info()\n",
    "\n",
    "## <font color='red'> The first thing you should always do is check that the variable types are as you expect them to be using df.info() </font>\n",
    "Many times we get data from excel, web scraping or user input that is not as we expect. We need to check that the data types are as we expect. The .info() method will display data types and general information about the data."
   ]
  },
  {
   "cell_type": "code",
   "execution_count": 8,
   "metadata": {},
   "outputs": [
    {
     "name": "stdout",
     "output_type": "stream",
     "text": [
      "<class 'pandas.core.frame.DataFrame'>\n",
      "RangeIndex: 4 entries, 0 to 3\n",
      "Data columns (total 5 columns):\n",
      " #   Column            Non-Null Count  Dtype \n",
      "---  ------            --------------  ----- \n",
      " 0   album             4 non-null      object\n",
      " 1   date              4 non-null      object\n",
      " 2   global_sales      4 non-null      int64 \n",
      " 3   Ginger?           4 non-null      bool  \n",
      " 4   US_certification  2 non-null      object\n",
      "dtypes: bool(1), int64(1), object(3)\n",
      "memory usage: 260.0+ bytes\n"
     ]
    }
   ],
   "source": [
    "df_spice_girls.info()"
   ]
  },
  {
   "cell_type": "markdown",
   "metadata": {},
   "source": [
    "So what is this telling us.\n",
    "\n",
    "The df_spice_girls is a pandas dataframe (it is an object, i.e. a class)\n",
    "\n",
    "The index is a range index from 0 to 3.\n",
    "\n",
    "The # column is just the index of the column.\n",
    "\n",
    "The 'Column' displays all of the column names\n",
    "\n",
    "The third column displays the count of the variables that are not nulls. <b>This can indicate blanks in your dataset.</b> (Seeing 'non-null' is a good thing). This is very helpful if there are many rows and you are concerned that your dataset is not complete. If you see several columns with 5,000 rows and a column with 4,997, then you know you are missing some data or have blanks that you were not expecting (and need to do something with).\n",
    "\n",
    "The Dtype displays the datatype. The possible datatypes in a dataframe are:\n",
    " - float64: (a floating point number, i.e. a decimal)\n",
    " - int64: (an integer)\n",
    " - datetime64[ns]: This is a date and time format that can store dates to the nanosecond. (Nanoseconds are not really relevant for most of our work.)\n",
    " - bool: A column of true/false values.\n",
    " - object: Usually strings.\n",
    " \n",
    " \n",
    "##### Objects are strings! This is important. Pandas really only cares about numbers and treats all other things as strings. If you see a variable that should be an number listed as an object, then there is a problem with the data.\n",
    "Usually this is someone has made a number in excel that is text.\n",
    "\n",
    "We can see from our df_spice_girls that pandas does not recognize data as a datetime64 type. We need to change this so that pandas recognizes this as a date. The function we use to convert to a date is to_datetime. to_datetime is a function in the pandas module, so we have to write pd.to_datetime()\n",
    "\n"
   ]
  },
  {
   "cell_type": "code",
   "execution_count": 9,
   "metadata": {},
   "outputs": [],
   "source": [
    "df_spice_girls['date'] = pd.to_datetime(df_spice_girls['date'])"
   ]
  },
  {
   "cell_type": "code",
   "execution_count": 10,
   "metadata": {},
   "outputs": [
    {
     "name": "stdout",
     "output_type": "stream",
     "text": [
      "<class 'pandas.core.frame.DataFrame'>\n",
      "RangeIndex: 4 entries, 0 to 3\n",
      "Data columns (total 5 columns):\n",
      " #   Column            Non-Null Count  Dtype         \n",
      "---  ------            --------------  -----         \n",
      " 0   album             4 non-null      object        \n",
      " 1   date              4 non-null      datetime64[ns]\n",
      " 2   global_sales      4 non-null      int64         \n",
      " 3   Ginger?           4 non-null      bool          \n",
      " 4   US_certification  2 non-null      object        \n",
      "dtypes: bool(1), datetime64[ns](1), int64(1), object(2)\n",
      "memory usage: 260.0+ bytes\n"
     ]
    }
   ],
   "source": [
    "df_spice_girls.info()"
   ]
  },
  {
   "attachments": {
    "spice-girls.jpg": {
     "image/jpeg": "[encoded data removed]"
    }
   },
   "cell_type": "markdown",
   "metadata": {},
   "source": [
    "![spice-girls.jpg](attachment:spice-girls.jpg)\n"
   ]
  },
  {
   "cell_type": "markdown",
   "metadata": {},
   "source": [
    "## 2. b. df.describe()\n",
    "The describe method will provide summary statistics for all of the numeric variables in your dataframe"
   ]
  },
  {
   "cell_type": "code",
   "execution_count": 11,
   "metadata": {},
   "outputs": [
    {
     "data": {
      "text/html": [
       "<div>\n",
       "<style scoped>\n",
       "    .dataframe tbody tr th:only-of-type {\n",
       "        vertical-align: middle;\n",
       "    }\n",
       "\n",
       "    .dataframe tbody tr th {\n",
       "        vertical-align: top;\n",
       "    }\n",
       "\n",
       "    .dataframe thead th {\n",
       "        text-align: right;\n",
       "    }\n",
       "</style>\n",
       "<table border=\"1\" class=\"dataframe\">\n",
       "  <thead>\n",
       "    <tr style=\"text-align: right;\">\n",
       "      <th></th>\n",
       "      <th>global_sales</th>\n",
       "    </tr>\n",
       "  </thead>\n",
       "  <tbody>\n",
       "    <tr>\n",
       "      <th>count</th>\n",
       "      <td>4.000000e+00</td>\n",
       "    </tr>\n",
       "    <tr>\n",
       "      <th>mean</th>\n",
       "      <td>1.030000e+07</td>\n",
       "    </tr>\n",
       "    <tr>\n",
       "      <th>std</th>\n",
       "      <td>9.850212e+06</td>\n",
       "    </tr>\n",
       "    <tr>\n",
       "      <th>min</th>\n",
       "      <td>1.200000e+06</td>\n",
       "    </tr>\n",
       "    <tr>\n",
       "      <th>25%</th>\n",
       "      <td>3.300000e+06</td>\n",
       "    </tr>\n",
       "    <tr>\n",
       "      <th>50%</th>\n",
       "      <td>8.500000e+06</td>\n",
       "    </tr>\n",
       "    <tr>\n",
       "      <th>75%</th>\n",
       "      <td>1.550000e+07</td>\n",
       "    </tr>\n",
       "    <tr>\n",
       "      <th>max</th>\n",
       "      <td>2.300000e+07</td>\n",
       "    </tr>\n",
       "  </tbody>\n",
       "</table>\n",
       "</div>"
      ],
      "text/plain": [
       "       global_sales\n",
       "count  4.000000e+00\n",
       "mean   1.030000e+07\n",
       "std    9.850212e+06\n",
       "min    1.200000e+06\n",
       "25%    3.300000e+06\n",
       "50%    8.500000e+06\n",
       "75%    1.550000e+07\n",
       "max    2.300000e+07"
      ]
     },
     "execution_count": 11,
     "metadata": {},
     "output_type": "execute_result"
    }
   ],
   "source": [
    "df_spice_girls.describe()"
   ]
  },
  {
   "cell_type": "markdown",
   "metadata": {},
   "source": [
    "The global sales is the only numeric field (column) in our dataframe, so the descriptive statistics for this variable are presented with the describe method. If we had multiple variables that were numeric, describe would show the details for all of them."
   ]
  },
  {
   "cell_type": "markdown",
   "metadata": {},
   "source": [
    "## 2. c. df.value_counts()\n",
    "The value_counts method will count the number of times each unique categorical (i.e. text) value shows up in a particular column. "
   ]
  },
  {
   "cell_type": "code",
   "execution_count": 12,
   "metadata": {},
   "outputs": [
    {
     "data": {
      "text/plain": [
       "Greatest Hits    1\n",
       "Spiceworld       1\n",
       "Spice            1\n",
       "Forever          1\n",
       "Name: album, dtype: int64"
      ]
     },
     "execution_count": 12,
     "metadata": {},
     "output_type": "execute_result"
    }
   ],
   "source": [
    "df_spice_girls['album'].value_counts()"
   ]
  },
  {
   "cell_type": "code",
   "execution_count": 13,
   "metadata": {},
   "outputs": [
    {
     "data": {
      "text/plain": [
       "True     3\n",
       "False    1\n",
       "Name: Ginger?, dtype: int64"
      ]
     },
     "execution_count": 13,
     "metadata": {},
     "output_type": "execute_result"
    }
   ],
   "source": [
    "df_spice_girls['Ginger?'].value_counts()"
   ]
  },
  {
   "cell_type": "code",
   "execution_count": 14,
   "metadata": {},
   "outputs": [
    {
     "data": {
      "text/plain": [
       "4x Platnum    1\n",
       "7x Platnum    1\n",
       "Name: US_certification, dtype: int64"
      ]
     },
     "execution_count": 14,
     "metadata": {},
     "output_type": "execute_result"
    }
   ],
   "source": [
    "df_spice_girls['US_certification'].value_counts()"
   ]
  },
  {
   "cell_type": "markdown",
   "metadata": {},
   "source": [
    "### Notice that the Nan values (so blanks in a spreadsheet) did not show up in the value counts!!!!\n",
    "To fix this we need to add dropna=False to the value_counts method.\n",
    "\n",
    "### <font color = 'red'> This is a very common problem using data from excel or the web. It is a good idea to always include dropna=False in every value count. </font>"
   ]
  },
  {
   "cell_type": "code",
   "execution_count": 15,
   "metadata": {},
   "outputs": [
    {
     "data": {
      "text/plain": [
       "NaN           2\n",
       "4x Platnum    1\n",
       "7x Platnum    1\n",
       "Name: US_certification, dtype: int64"
      ]
     },
     "execution_count": 15,
     "metadata": {},
     "output_type": "execute_result"
    }
   ],
   "source": [
    "df_spice_girls['US_certification'].value_counts(dropna=False)"
   ]
  },
  {
   "cell_type": "markdown",
   "metadata": {},
   "source": [
    "#### To better understand how these methods are helpful, lets use a real dataset."
   ]
  },
  {
   "cell_type": "code",
   "execution_count": 16,
   "metadata": {},
   "outputs": [],
   "source": [
    "df= pd.read_excel('../data/FX_DERIVATIVES_ALL.xlsx', sheet_name='FX_forwards_static')"
   ]
  },
  {
   "cell_type": "code",
   "execution_count": 17,
   "metadata": {},
   "outputs": [
    {
     "name": "stdout",
     "output_type": "stream",
     "text": [
      "<class 'pandas.core.frame.DataFrame'>\n",
      "RangeIndex: 5314 entries, 0 to 5313\n",
      "Data columns (total 11 columns):\n",
      " #   Column         Non-Null Count  Dtype         \n",
      "---  ------         --------------  -----         \n",
      " 0   ID             5314 non-null   object        \n",
      " 1   Entity         5314 non-null   object        \n",
      " 2   Counterparty   5314 non-null   object        \n",
      " 3   Currency_Pair  5314 non-null   object        \n",
      " 4   Buy_Currency   5314 non-null   object        \n",
      " 5   Sell_Currency  5314 non-null   object        \n",
      " 6   Trade_Date     5314 non-null   datetime64[ns]\n",
      " 7   Delivery_Date  5314 non-null   datetime64[ns]\n",
      " 8   Contract_Rate  5314 non-null   float64       \n",
      " 9   Buy_Amount     5314 non-null   float64       \n",
      " 10  Sell_Amount    5314 non-null   float64       \n",
      "dtypes: datetime64[ns](2), float64(3), object(6)\n",
      "memory usage: 456.8+ KB\n"
     ]
    }
   ],
   "source": [
    "df.info()"
   ]
  },
  {
   "cell_type": "markdown",
   "metadata": {},
   "source": [
    "##### OK so what does info() tell us at this point:\n",
    " - The index is a range from 0 to 5313. This is similar to a row number in excel.\n",
    " - pandas correctly categorized all of the text (string) columns as objects\n",
    " - both dates are correctly catergorized as datetime objects\n",
    " - all of the numeric entries, {Contract_Rate, Buy_Amount, Sell_Amount} are floating point numbers\n",
    " - Every column contains 5314 entries, so we do not have missing values.\n",
    " - We can also see the column names.\n",
    " "
   ]
  },
  {
   "cell_type": "markdown",
   "metadata": {},
   "source": [
    "##### I do not like the capitalization of these columns, so I am going to rename these columns without the capital letters. (Except for ID because this is a common abbreviation.)\n",
    "\n",
    "There are several ways to rename the columns. The first is a simple dictionary approach using the rename() method of a dataframe that you will most likely use very often.\n",
    "\n",
    "###### NOTE: If you are getting data from tableau, you will most likely be using .rename() very often. We should not have blank spaces in column names. (Very Strong Preference, but not a requirement)"
   ]
  },
  {
   "cell_type": "code",
   "execution_count": null,
   "metadata": {},
   "outputs": [],
   "source": [
    "df = df.rename(columns = {'Entity': 'entity',\n",
    "                         'Counterparty': 'counterparty',\n",
    "                         'Currency_Pair': 'currency_pair',\n",
    "                         'Buy_Currency': 'buy_currency',\n",
    "                         'Sell_Currency': 'sell_currency',\n",
    "                         'Trade_Date': 'trade_date',\n",
    "                         'Delivery_Date': 'delivery_date',\n",
    "                         'Contract_Rate': 'contract_rate',\n",
    "                         'Buy_Amount': 'buy_amount',\n",
    "                         'Sell_Amount': 'sell_amount'})"
   ]
  },
  {
   "cell_type": "markdown",
   "metadata": {},
   "source": [
    "Another way to do this would be to extract the column names into a list, change the list capitalization and then rename the columns to the new list."
   ]
  },
  {
   "cell_type": "code",
   "execution_count": 18,
   "metadata": {},
   "outputs": [
    {
     "data": {
      "text/plain": [
       "Index(['ID', 'Entity', 'Counterparty', 'Currency_Pair', 'Buy_Currency',\n",
       "       'Sell_Currency', 'Trade_Date', 'Delivery_Date', 'Contract_Rate',\n",
       "       'Buy_Amount', 'Sell_Amount'],\n",
       "      dtype='object')"
      ]
     },
     "execution_count": 18,
     "metadata": {},
     "output_type": "execute_result"
    }
   ],
   "source": [
    "# extracting column names\n",
    "list_cols = df.columns\n",
    "list_cols"
   ]
  },
  {
   "cell_type": "markdown",
   "metadata": {},
   "source": [
    "Notice that our variable list_cols is an Index and not a list! This is because pandas knows the columns are an index into the dataframe. We need to change this to be a list using the list() constructor."
   ]
  },
  {
   "cell_type": "code",
   "execution_count": 19,
   "metadata": {},
   "outputs": [
    {
     "data": {
      "text/plain": [
       "['ID',\n",
       " 'Entity',\n",
       " 'Counterparty',\n",
       " 'Currency_Pair',\n",
       " 'Buy_Currency',\n",
       " 'Sell_Currency',\n",
       " 'Trade_Date',\n",
       " 'Delivery_Date',\n",
       " 'Contract_Rate',\n",
       " 'Buy_Amount',\n",
       " 'Sell_Amount']"
      ]
     },
     "execution_count": 19,
     "metadata": {},
     "output_type": "execute_result"
    }
   ],
   "source": [
    "list_cols = list(list_cols)\n",
    "list_cols"
   ]
  },
  {
   "cell_type": "code",
   "execution_count": 20,
   "metadata": {},
   "outputs": [
    {
     "name": "stdout",
     "output_type": "stream",
     "text": [
      "0 ID\n",
      "1 Entity\n",
      "2 Counterparty\n",
      "3 Currency_Pair\n",
      "4 Buy_Currency\n",
      "5 Sell_Currency\n",
      "6 Trade_Date\n",
      "7 Delivery_Date\n",
      "8 Contract_Rate\n",
      "9 Buy_Amount\n",
      "10 Sell_Amount\n"
     ]
    },
    {
     "data": {
      "text/plain": [
       "['ID',\n",
       " 'entity',\n",
       " 'counterparty',\n",
       " 'currency_pair',\n",
       " 'buy_currency',\n",
       " 'sell_currency',\n",
       " 'trade_date',\n",
       " 'delivery_date',\n",
       " 'contract_rate',\n",
       " 'buy_amount',\n",
       " 'sell_amount']"
      ]
     },
     "execution_count": 20,
     "metadata": {},
     "output_type": "execute_result"
    }
   ],
   "source": [
    "# convert the column names to be lower case for all columns EXCEPT 'ID'\n",
    "for i, item in enumerate(list_cols):\n",
    "    print(i, item)\n",
    "    if item != 'ID':\n",
    "        lower_case = item.lower()\n",
    "        list_cols[i] = lower_case\n",
    "list_cols"
   ]
  },
  {
   "cell_type": "code",
   "execution_count": 21,
   "metadata": {},
   "outputs": [],
   "source": [
    "# reassigning the columns of the dataframe to be the lower case list of column names.\n",
    "df.columns = list_cols"
   ]
  },
  {
   "cell_type": "code",
   "execution_count": 22,
   "metadata": {},
   "outputs": [
    {
     "name": "stdout",
     "output_type": "stream",
     "text": [
      "<class 'pandas.core.frame.DataFrame'>\n",
      "RangeIndex: 5314 entries, 0 to 5313\n",
      "Data columns (total 11 columns):\n",
      " #   Column         Non-Null Count  Dtype         \n",
      "---  ------         --------------  -----         \n",
      " 0   ID             5314 non-null   object        \n",
      " 1   entity         5314 non-null   object        \n",
      " 2   counterparty   5314 non-null   object        \n",
      " 3   currency_pair  5314 non-null   object        \n",
      " 4   buy_currency   5314 non-null   object        \n",
      " 5   sell_currency  5314 non-null   object        \n",
      " 6   trade_date     5314 non-null   datetime64[ns]\n",
      " 7   delivery_date  5314 non-null   datetime64[ns]\n",
      " 8   contract_rate  5314 non-null   float64       \n",
      " 9   buy_amount     5314 non-null   float64       \n",
      " 10  sell_amount    5314 non-null   float64       \n",
      "dtypes: datetime64[ns](2), float64(3), object(6)\n",
      "memory usage: 456.8+ KB\n"
     ]
    }
   ],
   "source": [
    "df.info()"
   ]
  },
  {
   "cell_type": "markdown",
   "metadata": {},
   "source": [
    "### Now lets explore the dataset using describe and value_counts"
   ]
  },
  {
   "cell_type": "code",
   "execution_count": 23,
   "metadata": {},
   "outputs": [
    {
     "data": {
      "text/html": [
       "<div>\n",
       "<style scoped>\n",
       "    .dataframe tbody tr th:only-of-type {\n",
       "        vertical-align: middle;\n",
       "    }\n",
       "\n",
       "    .dataframe tbody tr th {\n",
       "        vertical-align: top;\n",
       "    }\n",
       "\n",
       "    .dataframe thead th {\n",
       "        text-align: right;\n",
       "    }\n",
       "</style>\n",
       "<table border=\"1\" class=\"dataframe\">\n",
       "  <thead>\n",
       "    <tr style=\"text-align: right;\">\n",
       "      <th></th>\n",
       "      <th>contract_rate</th>\n",
       "      <th>buy_amount</th>\n",
       "      <th>sell_amount</th>\n",
       "    </tr>\n",
       "  </thead>\n",
       "  <tbody>\n",
       "    <tr>\n",
       "      <th>count</th>\n",
       "      <td>5314.000000</td>\n",
       "      <td>5.314000e+03</td>\n",
       "      <td>5.314000e+03</td>\n",
       "    </tr>\n",
       "    <tr>\n",
       "      <th>mean</th>\n",
       "      <td>68.344292</td>\n",
       "      <td>1.408648e+08</td>\n",
       "      <td>-1.504105e+08</td>\n",
       "    </tr>\n",
       "    <tr>\n",
       "      <th>std</th>\n",
       "      <td>226.661081</td>\n",
       "      <td>5.232732e+08</td>\n",
       "      <td>4.861169e+08</td>\n",
       "    </tr>\n",
       "    <tr>\n",
       "      <th>min</th>\n",
       "      <td>0.560555</td>\n",
       "      <td>4.100000e+01</td>\n",
       "      <td>-8.082055e+09</td>\n",
       "    </tr>\n",
       "    <tr>\n",
       "      <th>25%</th>\n",
       "      <td>1.131188</td>\n",
       "      <td>2.861728e+06</td>\n",
       "      <td>-1.600000e+07</td>\n",
       "    </tr>\n",
       "    <tr>\n",
       "      <th>50%</th>\n",
       "      <td>1.390734</td>\n",
       "      <td>5.722594e+06</td>\n",
       "      <td>-6.502750e+06</td>\n",
       "    </tr>\n",
       "    <tr>\n",
       "      <th>75%</th>\n",
       "      <td>59.077625</td>\n",
       "      <td>1.300358e+07</td>\n",
       "      <td>-2.696684e+06</td>\n",
       "    </tr>\n",
       "    <tr>\n",
       "      <th>max</th>\n",
       "      <td>1371.700000</td>\n",
       "      <td>6.500000e+09</td>\n",
       "      <td>7.537424e+06</td>\n",
       "    </tr>\n",
       "  </tbody>\n",
       "</table>\n",
       "</div>"
      ],
      "text/plain": [
       "       contract_rate    buy_amount   sell_amount\n",
       "count    5314.000000  5.314000e+03  5.314000e+03\n",
       "mean       68.344292  1.408648e+08 -1.504105e+08\n",
       "std       226.661081  5.232732e+08  4.861169e+08\n",
       "min         0.560555  4.100000e+01 -8.082055e+09\n",
       "25%         1.131188  2.861728e+06 -1.600000e+07\n",
       "50%         1.390734  5.722594e+06 -6.502750e+06\n",
       "75%        59.077625  1.300358e+07 -2.696684e+06\n",
       "max      1371.700000  6.500000e+09  7.537424e+06"
      ]
     },
     "execution_count": 23,
     "metadata": {},
     "output_type": "execute_result"
    }
   ],
   "source": [
    "df.describe()"
   ]
  },
  {
   "cell_type": "markdown",
   "metadata": {},
   "source": [
    "This does not tell us much because the rates and amounts are such a muddles group of currencies. We will use this later to look at a specific currency and it will be more helpful.\n"
   ]
  },
  {
   "cell_type": "code",
   "execution_count": 24,
   "metadata": {},
   "outputs": [
    {
     "data": {
      "text/plain": [
       "ADIR    3631\n",
       "ADUS    1455\n",
       "AILP     101\n",
       "NDIN      65\n",
       "NDBV      52\n",
       "ASCN       5\n",
       "ADCN       4\n",
       "NLGM       1\n",
       "Name: entity, dtype: int64"
      ]
     },
     "execution_count": 24,
     "metadata": {},
     "output_type": "execute_result"
    }
   ],
   "source": [
    "df['entity'].value_counts(dropna=False)"
   ]
  },
  {
   "cell_type": "code",
   "execution_count": 25,
   "metadata": {},
   "outputs": [
    {
     "data": {
      "text/plain": [
       "BOA     1497\n",
       "JPM     1354\n",
       "HSBC     758\n",
       "WFB      481\n",
       "USB      428\n",
       "CITI     321\n",
       "RBS      159\n",
       "GS       156\n",
       "UBS       97\n",
       "SG        53\n",
       "MSC        7\n",
       "SOC        3\n",
       "Name: counterparty, dtype: int64"
      ]
     },
     "execution_count": 25,
     "metadata": {},
     "output_type": "execute_result"
    }
   ],
   "source": [
    "df['counterparty'].value_counts(dropna=False)"
   ]
  },
  {
   "cell_type": "markdown",
   "metadata": {},
   "source": [
    "### It looks like SG and SOC are both tickers for Societe General. We need to change these to be one specific counterparty.\n",
    "\n",
    "To do this we will use the replace method. Inputs:\n",
    "    - to_replace: The string or value you want replaced in the dataset\n",
    "    - value: The new value in the dataframe"
   ]
  },
  {
   "cell_type": "code",
   "execution_count": 26,
   "metadata": {},
   "outputs": [],
   "source": [
    "df.replace('SG', 'SOC', inplace=True)"
   ]
  },
  {
   "cell_type": "code",
   "execution_count": 27,
   "metadata": {},
   "outputs": [
    {
     "data": {
      "text/plain": [
       "BOA     1497\n",
       "JPM     1354\n",
       "HSBC     758\n",
       "WFB      481\n",
       "USB      428\n",
       "CITI     321\n",
       "RBS      159\n",
       "GS       156\n",
       "UBS       97\n",
       "SOC       56\n",
       "MSC        7\n",
       "Name: counterparty, dtype: int64"
      ]
     },
     "execution_count": 27,
     "metadata": {},
     "output_type": "execute_result"
    }
   ],
   "source": [
    "df['counterparty'].value_counts(dropna=False)"
   ]
  },
  {
   "cell_type": "code",
   "execution_count": 28,
   "metadata": {},
   "outputs": [
    {
     "data": {
      "text/plain": [
       "EURUSD             1041\n",
       "GBPUSD              556\n",
       "USDJPY              525\n",
       "AUDUSD              455\n",
       "USDINR Offshore     349\n",
       "USDCAD              302\n",
       "USDCHF              267\n",
       "USDINR              232\n",
       "USDRON              229\n",
       "USDSEK              171\n",
       "USDKRW              164\n",
       "USDSGD              133\n",
       "USDBRL Offshore     127\n",
       "USDDKK              121\n",
       "USDSGD Offshore     102\n",
       "USDNOK               93\n",
       "USDKRW Offshore      66\n",
       "USDILS               59\n",
       "USDBRL               50\n",
       "USDCNY Offshore      40\n",
       "USDHKD               37\n",
       "USDCNY               29\n",
       "USDRUB               27\n",
       "NZDUSD               26\n",
       "USDILS Offshore      17\n",
       "USDCZK               16\n",
       "USDUAH               14\n",
       "EURGBP               10\n",
       "EURSEK                7\n",
       "EURRON                6\n",
       "EURJPY                6\n",
       "EURRUB                6\n",
       "EURPLN                6\n",
       "EURCHF                5\n",
       "USDTRY                4\n",
       "USDMXP                3\n",
       "EURNOK                3\n",
       "EURDKK                3\n",
       "EURKRW                2\n",
       "USDZAR                2\n",
       "EURBRL                2\n",
       "USDEUR                1\n",
       "Name: currency_pair, dtype: int64"
      ]
     },
     "execution_count": 28,
     "metadata": {},
     "output_type": "execute_result"
    }
   ],
   "source": [
    "df['currency_pair'].value_counts(dropna=False)"
   ]
  },
  {
   "cell_type": "markdown",
   "metadata": {},
   "source": [
    "### Now we have our first REAL data issue. The currency pairs are more than the standard 6 characters when the currency is offshore!\n",
    "\n",
    "There are several approaches to deal with this, but let's try splitting the column currency_pair into two seperate columns using str.split(\" \"). This should move the 'Offshore' text to another column and the currency_pair column will contain only the first six characters of the column.\n",
    "\n",
    "Below we are adding two columns to the dataframe. 'currency_pair' (which already exists, so we are writing over this column) and 'offshore'. We are splitting the string contained in the 'currency_pair' column based on whitespace.\n",
    "The expand=True is necessary for pandas to return a dataframe (versus a series)."
   ]
  },
  {
   "cell_type": "code",
   "execution_count": 29,
   "metadata": {},
   "outputs": [],
   "source": [
    "df[['currency_pair', 'offshore']] = df['currency_pair'].str.split(\" \", expand=True)"
   ]
  },
  {
   "cell_type": "code",
   "execution_count": 30,
   "metadata": {},
   "outputs": [
    {
     "data": {
      "text/html": [
       "<div>\n",
       "<style scoped>\n",
       "    .dataframe tbody tr th:only-of-type {\n",
       "        vertical-align: middle;\n",
       "    }\n",
       "\n",
       "    .dataframe tbody tr th {\n",
       "        vertical-align: top;\n",
       "    }\n",
       "\n",
       "    .dataframe thead th {\n",
       "        text-align: right;\n",
       "    }\n",
       "</style>\n",
       "<table border=\"1\" class=\"dataframe\">\n",
       "  <thead>\n",
       "    <tr style=\"text-align: right;\">\n",
       "      <th></th>\n",
       "      <th>ID</th>\n",
       "      <th>entity</th>\n",
       "      <th>counterparty</th>\n",
       "      <th>currency_pair</th>\n",
       "      <th>buy_currency</th>\n",
       "      <th>sell_currency</th>\n",
       "      <th>trade_date</th>\n",
       "      <th>delivery_date</th>\n",
       "      <th>contract_rate</th>\n",
       "      <th>buy_amount</th>\n",
       "      <th>sell_amount</th>\n",
       "      <th>offshore</th>\n",
       "    </tr>\n",
       "  </thead>\n",
       "  <tbody>\n",
       "    <tr>\n",
       "      <th>0</th>\n",
       "      <td>ADUS2357</td>\n",
       "      <td>ADUS</td>\n",
       "      <td>JPM</td>\n",
       "      <td>USDINR</td>\n",
       "      <td>INR</td>\n",
       "      <td>USD</td>\n",
       "      <td>2020-09-24</td>\n",
       "      <td>2020-11-05</td>\n",
       "      <td>74.071000</td>\n",
       "      <td>7.000000e+08</td>\n",
       "      <td>-9450392.19</td>\n",
       "      <td>None</td>\n",
       "    </tr>\n",
       "    <tr>\n",
       "      <th>1</th>\n",
       "      <td>ADIR8274</td>\n",
       "      <td>ADIR</td>\n",
       "      <td>JPM</td>\n",
       "      <td>GBPUSD</td>\n",
       "      <td>USD</td>\n",
       "      <td>GBP</td>\n",
       "      <td>2020-09-24</td>\n",
       "      <td>2020-09-30</td>\n",
       "      <td>1.273907</td>\n",
       "      <td>7.643443e+06</td>\n",
       "      <td>-6000000.00</td>\n",
       "      <td>None</td>\n",
       "    </tr>\n",
       "    <tr>\n",
       "      <th>2</th>\n",
       "      <td>ADIR8273</td>\n",
       "      <td>ADIR</td>\n",
       "      <td>HSBC</td>\n",
       "      <td>EURUSD</td>\n",
       "      <td>USD</td>\n",
       "      <td>EUR</td>\n",
       "      <td>2020-09-24</td>\n",
       "      <td>2020-10-07</td>\n",
       "      <td>1.166820</td>\n",
       "      <td>1.400184e+07</td>\n",
       "      <td>-12000000.00</td>\n",
       "      <td>None</td>\n",
       "    </tr>\n",
       "    <tr>\n",
       "      <th>3</th>\n",
       "      <td>ADUS2355</td>\n",
       "      <td>ADUS</td>\n",
       "      <td>WFB</td>\n",
       "      <td>USDCAD</td>\n",
       "      <td>CAD</td>\n",
       "      <td>USD</td>\n",
       "      <td>2020-09-22</td>\n",
       "      <td>2020-09-24</td>\n",
       "      <td>1.331265</td>\n",
       "      <td>1.000000e+07</td>\n",
       "      <td>-7511652.45</td>\n",
       "      <td>None</td>\n",
       "    </tr>\n",
       "    <tr>\n",
       "      <th>4</th>\n",
       "      <td>ADUS2356</td>\n",
       "      <td>ADUS</td>\n",
       "      <td>WFB</td>\n",
       "      <td>USDCAD</td>\n",
       "      <td>USD</td>\n",
       "      <td>CAD</td>\n",
       "      <td>2020-09-22</td>\n",
       "      <td>2021-02-10</td>\n",
       "      <td>1.330427</td>\n",
       "      <td>6.013108e+06</td>\n",
       "      <td>-8000000.00</td>\n",
       "      <td>None</td>\n",
       "    </tr>\n",
       "  </tbody>\n",
       "</table>\n",
       "</div>"
      ],
      "text/plain": [
       "         ID entity counterparty currency_pair buy_currency sell_currency  \\\n",
       "0  ADUS2357   ADUS          JPM        USDINR          INR           USD   \n",
       "1  ADIR8274   ADIR          JPM        GBPUSD          USD           GBP   \n",
       "2  ADIR8273   ADIR         HSBC        EURUSD          USD           EUR   \n",
       "3  ADUS2355   ADUS          WFB        USDCAD          CAD           USD   \n",
       "4  ADUS2356   ADUS          WFB        USDCAD          USD           CAD   \n",
       "\n",
       "  trade_date delivery_date  contract_rate    buy_amount  sell_amount offshore  \n",
       "0 2020-09-24    2020-11-05      74.071000  7.000000e+08  -9450392.19     None  \n",
       "1 2020-09-24    2020-09-30       1.273907  7.643443e+06  -6000000.00     None  \n",
       "2 2020-09-24    2020-10-07       1.166820  1.400184e+07 -12000000.00     None  \n",
       "3 2020-09-22    2020-09-24       1.331265  1.000000e+07  -7511652.45     None  \n",
       "4 2020-09-22    2021-02-10       1.330427  6.013108e+06  -8000000.00     None  "
      ]
     },
     "execution_count": 30,
     "metadata": {},
     "output_type": "execute_result"
    }
   ],
   "source": [
    "df.head()"
   ]
  },
  {
   "cell_type": "markdown",
   "metadata": {},
   "source": [
    "So we can see that we have a new variable 'offshore'. First let's check that the currency_pair column looks correct by using value_counts."
   ]
  },
  {
   "cell_type": "code",
   "execution_count": 31,
   "metadata": {},
   "outputs": [
    {
     "data": {
      "text/plain": [
       "EURUSD    1041\n",
       "USDINR     581\n",
       "GBPUSD     556\n",
       "USDJPY     525\n",
       "AUDUSD     455\n",
       "USDCAD     302\n",
       "USDCHF     267\n",
       "USDSGD     235\n",
       "USDKRW     230\n",
       "USDRON     229\n",
       "USDBRL     177\n",
       "USDSEK     171\n",
       "USDDKK     121\n",
       "USDNOK      93\n",
       "USDILS      76\n",
       "USDCNY      69\n",
       "USDHKD      37\n",
       "USDRUB      27\n",
       "NZDUSD      26\n",
       "USDCZK      16\n",
       "USDUAH      14\n",
       "EURGBP      10\n",
       "EURSEK       7\n",
       "EURRON       6\n",
       "EURRUB       6\n",
       "EURJPY       6\n",
       "EURPLN       6\n",
       "EURCHF       5\n",
       "USDTRY       4\n",
       "USDMXP       3\n",
       "EURNOK       3\n",
       "EURDKK       3\n",
       "EURKRW       2\n",
       "EURBRL       2\n",
       "USDZAR       2\n",
       "USDEUR       1\n",
       "Name: currency_pair, dtype: int64"
      ]
     },
     "execution_count": 31,
     "metadata": {},
     "output_type": "execute_result"
    }
   ],
   "source": [
    "df['currency_pair'].value_counts()"
   ]
  },
  {
   "cell_type": "markdown",
   "metadata": {},
   "source": [
    "OK all of these are actually currency pairs with no additional text. So we are halfway there. Now let's turn our attention to the 'offshore' column"
   ]
  },
  {
   "cell_type": "code",
   "execution_count": 32,
   "metadata": {},
   "outputs": [
    {
     "data": {
      "text/plain": [
       "NaN         4613\n",
       "Offshore     701\n",
       "Name: offshore, dtype: int64"
      ]
     },
     "execution_count": 32,
     "metadata": {},
     "output_type": "execute_result"
    }
   ],
   "source": [
    "df['offshore'].value_counts(dropna=False)"
   ]
  },
  {
   "cell_type": "markdown",
   "metadata": {},
   "source": [
    "We want to clean this by making all rows that say 'Offshore' eqaul to 1 and all Nan's equal to zero. We will do this with the replace method."
   ]
  },
  {
   "cell_type": "code",
   "execution_count": 33,
   "metadata": {},
   "outputs": [
    {
     "data": {
      "text/plain": [
       "False    4613\n",
       "True      701\n",
       "Name: offshore, dtype: int64"
      ]
     },
     "execution_count": 33,
     "metadata": {},
     "output_type": "execute_result"
    }
   ],
   "source": [
    "df['offshore'].replace('Offshore', 'True', inplace=True)\n",
    "df['offshore'].fillna('False', inplace=True)\n",
    "df['offshore'].value_counts(dropna=False)"
   ]
  },
  {
   "cell_type": "markdown",
   "metadata": {},
   "source": [
    "Now let's check that the datatypes are still correct."
   ]
  },
  {
   "cell_type": "code",
   "execution_count": 34,
   "metadata": {},
   "outputs": [
    {
     "name": "stdout",
     "output_type": "stream",
     "text": [
      "<class 'pandas.core.frame.DataFrame'>\n",
      "RangeIndex: 5314 entries, 0 to 5313\n",
      "Data columns (total 12 columns):\n",
      " #   Column         Non-Null Count  Dtype         \n",
      "---  ------         --------------  -----         \n",
      " 0   ID             5314 non-null   object        \n",
      " 1   entity         5314 non-null   object        \n",
      " 2   counterparty   5314 non-null   object        \n",
      " 3   currency_pair  5314 non-null   object        \n",
      " 4   buy_currency   5314 non-null   object        \n",
      " 5   sell_currency  5314 non-null   object        \n",
      " 6   trade_date     5314 non-null   datetime64[ns]\n",
      " 7   delivery_date  5314 non-null   datetime64[ns]\n",
      " 8   contract_rate  5314 non-null   float64       \n",
      " 9   buy_amount     5314 non-null   float64       \n",
      " 10  sell_amount    5314 non-null   float64       \n",
      " 11  offshore       5314 non-null   object        \n",
      "dtypes: datetime64[ns](2), float64(3), object(7)\n",
      "memory usage: 498.3+ KB\n"
     ]
    }
   ],
   "source": [
    "df.info()"
   ]
  },
  {
   "cell_type": "markdown",
   "metadata": {},
   "source": [
    "This is not exactly what we want because the 'offshore' varible is not reading as a boolean variable. We have to change it with the astype() method."
   ]
  },
  {
   "cell_type": "code",
   "execution_count": 36,
   "metadata": {},
   "outputs": [],
   "source": [
    "df['offshore'] = df['offshore'].astype('bool')"
   ]
  },
  {
   "cell_type": "code",
   "execution_count": 37,
   "metadata": {},
   "outputs": [
    {
     "name": "stdout",
     "output_type": "stream",
     "text": [
      "<class 'pandas.core.frame.DataFrame'>\n",
      "RangeIndex: 5314 entries, 0 to 5313\n",
      "Data columns (total 12 columns):\n",
      " #   Column         Non-Null Count  Dtype         \n",
      "---  ------         --------------  -----         \n",
      " 0   ID             5314 non-null   object        \n",
      " 1   entity         5314 non-null   object        \n",
      " 2   counterparty   5314 non-null   object        \n",
      " 3   currency_pair  5314 non-null   object        \n",
      " 4   buy_currency   5314 non-null   object        \n",
      " 5   sell_currency  5314 non-null   object        \n",
      " 6   trade_date     5314 non-null   datetime64[ns]\n",
      " 7   delivery_date  5314 non-null   datetime64[ns]\n",
      " 8   contract_rate  5314 non-null   float64       \n",
      " 9   buy_amount     5314 non-null   float64       \n",
      " 10  sell_amount    5314 non-null   float64       \n",
      " 11  offshore       5314 non-null   bool          \n",
      "dtypes: bool(1), datetime64[ns](2), float64(3), object(6)\n",
      "memory usage: 462.0+ KB\n"
     ]
    }
   ],
   "source": [
    "df.info()"
   ]
  },
  {
   "cell_type": "markdown",
   "metadata": {},
   "source": [
    "## 2. d. df.head(), df.tail and df.sample()\n",
    "When using large datasets, it is difficult to see all of the data. A good way to check the data is to check the first n rows using head, the last n rows using tail and a random sample of rows using sample.\n",
    "\n",
    "To better demonstrate this, we will be using the fx_derivatives_all database. (This may take a little while to load.)"
   ]
  },
  {
   "cell_type": "markdown",
   "metadata": {},
   "source": [
    "The head(n_rows) method shows the first n_rows of the dataframe and their column names. The default n_rows is equal to 5, so if you do not specify the number of rows, it will show you the first five."
   ]
  },
  {
   "cell_type": "code",
   "execution_count": null,
   "metadata": {},
   "outputs": [],
   "source": [
    "df.head()"
   ]
  },
  {
   "cell_type": "markdown",
   "metadata": {},
   "source": [
    "Sometimes looking at the bottom rows is important to make sure the data loaded properly. This is particularly true if you are loading a spreadsheet that someone else has created. (Totals at the bottom of the data, comments and random text may cause the data to be messy. df.tail(n_rows) will show the final n_rows"
   ]
  },
  {
   "cell_type": "code",
   "execution_count": null,
   "metadata": {},
   "outputs": [],
   "source": [
    "df.tail(5)"
   ]
  },
  {
   "cell_type": "markdown",
   "metadata": {},
   "source": [
    "df.sample(n_rows) is a method that will pull a random sample of the dataframe rows. This can be particularly helpful if you are checking for data errors."
   ]
  },
  {
   "cell_type": "code",
   "execution_count": null,
   "metadata": {},
   "outputs": [],
   "source": [
    "df.sample(5)"
   ]
  },
  {
   "cell_type": "markdown",
   "metadata": {},
   "source": [
    "This is usually more helpful if we have more than 100 rows of data, but I think you get the point."
   ]
  },
  {
   "cell_type": "code",
   "execution_count": null,
   "metadata": {},
   "outputs": [],
   "source": [
    "df['Entity'].value_counts()"
   ]
  },
  {
   "cell_type": "code",
   "execution_count": null,
   "metadata": {},
   "outputs": [],
   "source": [
    "df['Counterparty'].value_counts()"
   ]
  },
  {
   "cell_type": "code",
   "execution_count": null,
   "metadata": {},
   "outputs": [],
   "source": [
    "df.describe()"
   ]
  },
  {
   "cell_type": "code",
   "execution_count": null,
   "metadata": {},
   "outputs": [],
   "source": [
    "df.info()"
   ]
  },
  {
   "cell_type": "markdown",
   "metadata": {},
   "source": [
    "## 2. e. Other descriptive statistics"
   ]
  },
  {
   "cell_type": "code",
   "execution_count": null,
   "metadata": {},
   "outputs": [],
   "source": [
    "df.columns"
   ]
  },
  {
   "cell_type": "code",
   "execution_count": null,
   "metadata": {},
   "outputs": [],
   "source": [
    "df.shape"
   ]
  },
  {
   "cell_type": "code",
   "execution_count": null,
   "metadata": {},
   "outputs": [],
   "source": [
    "df.index"
   ]
  },
  {
   "cell_type": "markdown",
   "metadata": {},
   "source": [
    "## 3. Indexing, subsetting, slicing and selecting columns\n",
    "\n",
    "### 3. a. df.iloc\n",
    "To reference a particular row, column or group of rows and columns by their numeric index (row or column number asd an integer) use .iloc()"
   ]
  },
  {
   "cell_type": "code",
   "execution_count": null,
   "metadata": {},
   "outputs": [],
   "source": [
    "# will return the first row, every column\n",
    "df.iloc[0,:]"
   ]
  },
  {
   "cell_type": "code",
   "execution_count": null,
   "metadata": {},
   "outputs": [],
   "source": [
    "# will return the first column, every row\n",
    "df.iloc[:,0]"
   ]
  },
  {
   "cell_type": "code",
   "execution_count": null,
   "metadata": {},
   "outputs": [],
   "source": [
    "# will take a subset of columns and rows\n",
    "df.iloc[5:10, :4]"
   ]
  },
  {
   "cell_type": "markdown",
   "metadata": {},
   "source": [
    "##### note that the index (very first column on the left) is not considered one of the columns, but just a row reference"
   ]
  },
  {
   "cell_type": "code",
   "execution_count": null,
   "metadata": {},
   "outputs": [],
   "source": [
    "df.iloc[-1, :]"
   ]
  },
  {
   "cell_type": "markdown",
   "metadata": {},
   "source": [
    "## 3. b. df.loc()\n",
    "\n",
    "To reference an row, series of rows or columns by the labels in the column, use .loc()"
   ]
  },
  {
   "cell_type": "code",
   "execution_count": null,
   "metadata": {},
   "outputs": [],
   "source": [
    "df.loc[df['ID']=='ADIR3715']"
   ]
  },
  {
   "cell_type": "code",
   "execution_count": null,
   "metadata": {},
   "outputs": [],
   "source": [
    "df.loc[df['Buy_Currency']=='EUR']"
   ]
  },
  {
   "cell_type": "code",
   "execution_count": null,
   "metadata": {},
   "outputs": [],
   "source": [
    "df.loc[df['Trade_Date']>= '2020-01-01']"
   ]
  },
  {
   "cell_type": "code",
   "execution_count": null,
   "metadata": {},
   "outputs": [],
   "source": []
  },
  {
   "cell_type": "code",
   "execution_count": null,
   "metadata": {},
   "outputs": [],
   "source": []
  },
  {
   "cell_type": "code",
   "execution_count": null,
   "metadata": {},
   "outputs": [],
   "source": [
    "Selection"
   ]
  },
  {
   "cell_type": "code",
   "execution_count": null,
   "metadata": {},
   "outputs": [],
   "source": [
    "Data Cleaning"
   ]
  },
  {
   "cell_type": "code",
   "execution_count": null,
   "metadata": {},
   "outputs": [],
   "source": [
    "Filter, Sort, Groupby"
   ]
  },
  {
   "cell_type": "code",
   "execution_count": null,
   "metadata": {},
   "outputs": [],
   "source": [
    "Join/Combine"
   ]
  },
  {
   "cell_type": "markdown",
   "metadata": {},
   "source": [
    "Statistics"
   ]
  },
  {
   "cell_type": "code",
   "execution_count": null,
   "metadata": {},
   "outputs": [],
   "source": []
  },
  {
   "cell_type": "markdown",
   "metadata": {},
   "source": [
    "## Notes on what to do next\n",
    "\n",
    "- Add columns\n",
    "    - numeric\n",
    "    - with operatoins\n",
    "    - to some\n",
    "    - text\n",
    "    \n",
    "- boolean mask\n",
    "- merge\n",
    "- pivot\n",
    "- groupby\n",
    "    Possibly do a groupby to see the total spend by currency on a specific currency\n",
    "    Average EUR rates, total sold, etc\n",
    "    \n",
    "    \n",
    "    \n",
    "- pandas plotting"
   ]
  },
  {
   "cell_type": "code",
   "execution_count": null,
   "metadata": {},
   "outputs": [],
   "source": [
    " - Examples :\n",
    "        FX Derivatives ALL\n",
    "        - average spot\n",
    "        - best counterparty by currency\n",
    "        -= most often used WTF.\n",
    "        - stochastic\n",
    "        \n"
   ]
  },
  {
   "cell_type": "markdown",
   "metadata": {},
   "source": [
    "Beautiful Soup\n",
    " - getting finanial data\n",
    " - reporting\n",
    " - automation (from book)\n",
    " - seaborn\n",
    " - "
   ]
  }
 ],
 "metadata": {
  "kernelspec": {
   "display_name": "Python 3.7.3 64-bit ('base': conda)",
   "language": "python",
   "name": "python37364bitbasecondaf40c37e8e9dd45c89e043b248b661bde"
  },
  "language_info": {
   "codemirror_mode": {
    "name": "ipython",
    "version": 3
   },
   "file_extension": ".py",
   "mimetype": "text/x-python",
   "name": "python",
   "nbconvert_exporter": "python",
   "pygments_lexer": "ipython3",
   "version": "3.7.3"
  }
 },
 "nbformat": 4,
 "nbformat_minor": 2
}
