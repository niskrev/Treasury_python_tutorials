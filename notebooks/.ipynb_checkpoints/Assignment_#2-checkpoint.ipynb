{
 "cells": [
  {
   "cell_type": "markdown",
   "metadata": {},
   "source": [
    "# Python Tutorial Assignment #2\n",
    "## This assignment is just to get you comfortable with string,  lists and functions.\n",
    "\n",
    "You do not have to submit these to anyone, but if you complete them on your own, it will help solidify your understanding of the fundamentals we have covered.\n",
    "\n",
    "### Please save the file with a different name now! (such as assignment_1_DS or whatever your initials may be)\n",
    "If you do not do this, your work may be overwritten the next time we pull down a new lecture.\n",
    "\n",
    "In future assignement, I will try to make these assignments related to the work we do as best as possible, but I am open to suggestions as to how to do this better.\n",
    "\n",
    "___"
   ]
  },
  {
   "cell_type": "markdown",
   "metadata": {},
   "source": [
    "### I. B. Dictionary Examples\n",
    "The code below loads a dictionary of PMBUs and EBUs from the unbilled backlog report.\n",
    "\n",
    "The keys are the PMBUs (product mangement BU?) and the EBU is the enterprise business unit.\n",
    "\n",
    "NOTE: We are using pickle here, which we will get to later."
   ]
  },
  {
   "cell_type": "code",
   "execution_count": 2,
   "metadata": {},
   "outputs": [],
   "source": [
    "import pickle\n",
    "\n",
    "with open( \"../data/bu_dict.p\", \"rb\" ) as f:\n",
    "    bu_dict = pickle.load(f)"
   ]
  },
  {
   "cell_type": "code",
   "execution_count": 3,
   "metadata": {},
   "outputs": [
    {
     "data": {
      "text/plain": [
       "{'Platform and Other': 'Shared Marketing Cloud',\n",
       " 'Magento': 'Commerce',\n",
       " 'Design': 'Creative',\n",
       " 'Adobe Sign': 'Document Cloud',\n",
       " 'Marketo': 'Customer Journey Management',\n",
       " 'Stock Photography': 'Creative',\n",
       " 'Adobe Campaign': 'Customer Journey Management',\n",
       " 'Forms': 'Content',\n",
       " 'Adobe Analytics': 'Data & Insights',\n",
       " 'Audience Manager': 'Data & Insights',\n",
       " 'Adobe Target': 'Data & Insights',\n",
       " 'Assets': 'Content',\n",
       " 'Sites': 'Content',\n",
       " 'Acrobat Desk': 'Document Cloud',\n",
       " 'CCE + Stock': 'Creative',\n",
       " 'DCE': 'Document Cloud',\n",
       " 'Print Scan': 'Print & Publishing',\n",
       " 'ColdFusion': 'Print & Publishing',\n",
       " 'Real Time CDP (IS)': 'Data & Insights',\n",
       " 'Journeys': 'Customer Journey Management',\n",
       " 'Adobe Exp Platform': 'Data & Insights',\n",
       " 'Customer Journey Analytics': 'Data & Insights',\n",
       " 'Adobe Video Solutions': 'Adobe  Video Solutions',\n",
       " 'AEM Other': 'AEM Other'}"
      ]
     },
     "execution_count": 3,
     "metadata": {},
     "output_type": "execute_result"
    }
   ],
   "source": [
    "bu_dict"
   ]
  },
  {
   "cell_type": "markdown",
   "metadata": {},
   "source": [
    "### 1. Create a list of the unique PMBUs (the keys) from the dictionary.\n",
    "\n",
    "NOTE: Since the PMBUs are the dictionary keys, they are already unique. Remember dictionary keys have to be different or python will overwrite the key with the last value entered for the same key. (That was terribly explained, but see the example above where we merged a dictionary.)"
   ]
  },
  {
   "cell_type": "code",
   "execution_count": null,
   "metadata": {},
   "outputs": [],
   "source": []
  },
  {
   "cell_type": "markdown",
   "metadata": {},
   "source": [
    "## 2. Create a list of the unique EBUs (values) from the dictionary."
   ]
  },
  {
   "cell_type": "code",
   "execution_count": null,
   "metadata": {},
   "outputs": [],
   "source": []
  },
  {
   "cell_type": "markdown",
   "metadata": {},
   "source": [
    "## 3. Create a list of PMBUs in each EBU using a function or multiple functions.\n",
    "So we are essentially flipping the key, value pairs such that the EBU will be the key and the value will be a list of the PMBUs in each EBU."
   ]
  },
  {
   "cell_type": "code",
   "execution_count": null,
   "metadata": {},
   "outputs": [],
   "source": []
  },
  {
   "cell_type": "code",
   "execution_count": null,
   "metadata": {},
   "outputs": [],
   "source": []
  },
  {
   "cell_type": "code",
   "execution_count": null,
   "metadata": {},
   "outputs": [],
   "source": []
  },
  {
   "cell_type": "code",
   "execution_count": null,
   "metadata": {},
   "outputs": [],
   "source": []
  },
  {
   "cell_type": "code",
   "execution_count": null,
   "metadata": {},
   "outputs": [],
   "source": []
  }
 ],
 "metadata": {
  "kernelspec": {
   "display_name": "Python 3.7.3 64-bit ('base': conda)",
   "language": "python",
   "name": "python37364bitbasecondaf40c37e8e9dd45c89e043b248b661bde"
  },
  "language_info": {
   "codemirror_mode": {
    "name": "ipython",
    "version": 3
   },
   "file_extension": ".py",
   "mimetype": "text/x-python",
   "name": "python",
   "nbconvert_exporter": "python",
   "pygments_lexer": "ipython3",
   "version": "3.7.3"
  }
 },
 "nbformat": 4,
 "nbformat_minor": 2
}
