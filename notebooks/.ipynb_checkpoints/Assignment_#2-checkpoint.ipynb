{
 "cells": [
  {
   "cell_type": "markdown",
   "metadata": {},
   "source": [
    "\n",
    "\n",
    "# Python Tutorial Assignment #2\n",
    "## This assignment is just to get you comfortable with string,  lists and functions.\n",
    "\n",
    "You do not have to submit these to anyone, but if you complete them on your own, it will help solidify your understanding of the fundamentals we have covered.\n",
    "\n",
    "### Please save the file with a different name now! (such as assignment_1_DS or whatever your initials may be)\n",
    "If you do not do this, your work may be overwritten the next time we pull down a new lecture.\n",
    "\n",
    "In future assignement, I will try to make these assignments related to the work we do as best as possible, but I am open to suggestions as to how to do this better.\n",
    "\n",
    "___"
   ]
  },
  {
   "cell_type": "markdown",
   "metadata": {},
   "source": [
    "### I. B. Dictionary Example\n",
    "\n",
    "The code below loads a dictionary of PMBUs and EBUs from the unbilled backlog report.\n",
    "\n",
    "The keys are the PMBUs (product mangement BU?) and the EBU is the enterprise business unit.\n",
    "\n",
    "NOTE: We are using pickle here, which we will get to later."
   ]
  },
  {
   "cell_type": "code",
   "execution_count": 4,
   "metadata": {},
   "outputs": [],
   "source": [
    "import pickle\n",
    "\n",
    "with open( \"../data/bu_dict.p\", \"rb\" ) as f:\n",
    "    bu_dict = pickle.load(f)"
   ]
  },
  {
   "cell_type": "code",
   "execution_count": 5,
   "metadata": {},
   "outputs": [
    {
     "data": {
      "text/plain": [
       "{'Platform and Other': 'Shared Marketing Cloud',\n",
       " 'Magento': 'Commerce',\n",
       " 'Design': 'Creative',\n",
       " 'Adobe Sign': 'Document Cloud',\n",
       " 'Marketo': 'Customer Journey Management',\n",
       " 'Stock Photography': 'Creative',\n",
       " 'Adobe Campaign': 'Customer Journey Management',\n",
       " 'Forms': 'Content',\n",
       " 'Adobe Analytics': 'Data & Insights',\n",
       " 'Audience Manager': 'Data & Insights',\n",
       " 'Adobe Target': 'Data & Insights',\n",
       " 'Assets': 'Content',\n",
       " 'Sites': 'Content',\n",
       " 'Acrobat Desk': 'Document Cloud',\n",
       " 'CCE + Stock': 'Creative',\n",
       " 'DCE': 'Document Cloud',\n",
       " 'Print Scan': 'Print & Publishing',\n",
       " 'ColdFusion': 'Print & Publishing',\n",
       " 'Real Time CDP (IS)': 'Data & Insights',\n",
       " 'Journeys': 'Customer Journey Management',\n",
       " 'Adobe Exp Platform': 'Data & Insights',\n",
       " 'Customer Journey Analytics': 'Data & Insights',\n",
       " 'Adobe Video Solutions': 'Adobe  Video Solutions',\n",
       " 'AEM Other': 'AEM Other'}"
      ]
     },
     "execution_count": 5,
     "metadata": {},
     "output_type": "execute_result"
    }
   ],
   "source": [
    "bu_dict"
   ]
  },
  {
   "cell_type": "markdown",
   "metadata": {},
   "source": [
    "### 1. Create a list of the unique PMBUs (the keys) from the dictionary.\n",
    "\n",
    "NOTE: Since the PMBUs are the dictionary keys, they are already unique. Remember dictionary keys have to be different or python will overwrite the key with the last value entered for the same key. (That was terribly explained, but see the example above where we merged a dictionary.)"
   ]
  },
  {
   "cell_type": "code",
   "execution_count": null,
   "metadata": {},
   "outputs": [],
   "source": []
  },
  {
   "cell_type": "markdown",
   "metadata": {},
   "source": [
    "## 2. Create a list of the unique EBUs (values) from the dictionary."
   ]
  },
  {
   "cell_type": "code",
   "execution_count": null,
   "metadata": {},
   "outputs": [],
   "source": []
  },
  {
   "cell_type": "markdown",
   "metadata": {},
   "source": [
    "## 3. Create a list of PMBUs in each EBU using a function or multiple functions.\n",
    "So we are essentially flipping the key, value pairs such that the EBU will be the key and the value will be a list of the PMBUs in each EBU."
   ]
  },
  {
   "cell_type": "code",
   "execution_count": null,
   "metadata": {},
   "outputs": [],
   "source": []
  },
  {
   "cell_type": "code",
   "execution_count": null,
   "metadata": {},
   "outputs": [],
   "source": []
  },
  {
   "cell_type": "code",
   "execution_count": null,
   "metadata": {},
   "outputs": [],
   "source": []
  },
  {
   "cell_type": "code",
   "execution_count": null,
   "metadata": {},
   "outputs": [],
   "source": []
  },
  {
   "cell_type": "markdown",
   "metadata": {},
   "source": [
    "### California Covid Statistics\n",
    "\n",
    "The 'CA_covid_data.json' file contains historical data about the number of Covid cased in California.\n",
    "\n",
    "json data is basiscally a big dictionary or a list of dictionaries. To import this into python, execute the two lines below.\n"
   ]
  },
  {
   "cell_type": "code",
   "execution_count": 12,
   "metadata": {},
   "outputs": [],
   "source": [
    "import json\n",
    "\n",
    "with open('../data/CA_covid_data.json') as json_file:\n",
    "    covid_data = json.load(json_file)"
   ]
  },
  {
   "cell_type": "markdown",
   "metadata": {},
   "source": [
    "## 1. What datatype is covid_dict?"
   ]
  },
  {
   "cell_type": "code",
   "execution_count": null,
   "metadata": {},
   "outputs": [],
   "source": []
  },
  {
   "cell_type": "markdown",
   "metadata": {},
   "source": [
    "## 2. Create a list of the dates contained in the data and name it date_list.\n",
    "\n",
    "What is the first date? What is the last date?"
   ]
  },
  {
   "cell_type": "code",
   "execution_count": 33,
   "metadata": {
    "scrolled": false
   },
   "outputs": [
    {
     "data": {
      "text/plain": [
       "[20200806,\n",
       " 20200805,\n",
       " 20200804,\n",
       " 20200803,\n",
       " 20200802,\n",
       " 20200801,\n",
       " 20200731,\n",
       " 20200730,\n",
       " 20200729,\n",
       " 20200728,\n",
       " 20200727,\n",
       " 20200726,\n",
       " 20200725,\n",
       " 20200724,\n",
       " 20200723,\n",
       " 20200722,\n",
       " 20200721,\n",
       " 20200720,\n",
       " 20200719,\n",
       " 20200718,\n",
       " 20200717,\n",
       " 20200716,\n",
       " 20200715,\n",
       " 20200714,\n",
       " 20200713,\n",
       " 20200712,\n",
       " 20200711,\n",
       " 20200710,\n",
       " 20200709,\n",
       " 20200708,\n",
       " 20200707,\n",
       " 20200706,\n",
       " 20200705,\n",
       " 20200704,\n",
       " 20200703,\n",
       " 20200702,\n",
       " 20200701,\n",
       " 20200630,\n",
       " 20200629,\n",
       " 20200628,\n",
       " 20200627,\n",
       " 20200626,\n",
       " 20200625,\n",
       " 20200624,\n",
       " 20200623,\n",
       " 20200622,\n",
       " 20200621,\n",
       " 20200620,\n",
       " 20200619,\n",
       " 20200618,\n",
       " 20200617,\n",
       " 20200616,\n",
       " 20200615,\n",
       " 20200614,\n",
       " 20200613,\n",
       " 20200612,\n",
       " 20200611,\n",
       " 20200610,\n",
       " 20200609,\n",
       " 20200608,\n",
       " 20200607,\n",
       " 20200606,\n",
       " 20200605,\n",
       " 20200604,\n",
       " 20200603,\n",
       " 20200602,\n",
       " 20200601,\n",
       " 20200531,\n",
       " 20200530,\n",
       " 20200529,\n",
       " 20200528,\n",
       " 20200527,\n",
       " 20200526,\n",
       " 20200525,\n",
       " 20200524,\n",
       " 20200523,\n",
       " 20200522,\n",
       " 20200521,\n",
       " 20200520,\n",
       " 20200519,\n",
       " 20200518,\n",
       " 20200517,\n",
       " 20200516,\n",
       " 20200515,\n",
       " 20200514,\n",
       " 20200513,\n",
       " 20200512,\n",
       " 20200511,\n",
       " 20200510,\n",
       " 20200509,\n",
       " 20200508,\n",
       " 20200507,\n",
       " 20200506,\n",
       " 20200505,\n",
       " 20200504,\n",
       " 20200503,\n",
       " 20200502,\n",
       " 20200501,\n",
       " 20200430,\n",
       " 20200429,\n",
       " 20200428,\n",
       " 20200427,\n",
       " 20200426,\n",
       " 20200425,\n",
       " 20200424,\n",
       " 20200423,\n",
       " 20200422,\n",
       " 20200421,\n",
       " 20200420,\n",
       " 20200419,\n",
       " 20200418,\n",
       " 20200417,\n",
       " 20200416,\n",
       " 20200415,\n",
       " 20200414,\n",
       " 20200413,\n",
       " 20200412,\n",
       " 20200411,\n",
       " 20200410,\n",
       " 20200409,\n",
       " 20200408,\n",
       " 20200407,\n",
       " 20200406,\n",
       " 20200405,\n",
       " 20200404,\n",
       " 20200403,\n",
       " 20200402,\n",
       " 20200401,\n",
       " 20200331,\n",
       " 20200330,\n",
       " 20200329,\n",
       " 20200328,\n",
       " 20200327,\n",
       " 20200326,\n",
       " 20200325,\n",
       " 20200324,\n",
       " 20200323,\n",
       " 20200322,\n",
       " 20200321,\n",
       " 20200320,\n",
       " 20200319,\n",
       " 20200318,\n",
       " 20200317,\n",
       " 20200316,\n",
       " 20200315,\n",
       " 20200314,\n",
       " 20200313,\n",
       " 20200312,\n",
       " 20200311,\n",
       " 20200310,\n",
       " 20200309,\n",
       " 20200308,\n",
       " 20200307,\n",
       " 20200306,\n",
       " 20200305,\n",
       " 20200304]"
      ]
     },
     "execution_count": 33,
     "metadata": {},
     "output_type": "execute_result"
    }
   ],
   "source": []
  },
  {
   "cell_type": "code",
   "execution_count": 16,
   "metadata": {},
   "outputs": [
    {
     "name": "stdout",
     "output_type": "stream",
     "text": [
      "[20200806, 20200805, 20200804, 20200803, 20200802, 20200801, 20200731, 20200730, 20200729, 20200728, 20200727, 20200726, 20200725, 20200724, 20200723, 20200722, 20200721, 20200720, 20200719, 20200718, 20200717, 20200716, 20200715, 20200714, 20200713, 20200712, 20200711, 20200710, 20200709, 20200708, 20200707, 20200706, 20200705, 20200704, 20200703, 20200702, 20200701, 20200630, 20200629, 20200628, 20200627, 20200626, 20200625, 20200624, 20200623, 20200622, 20200621, 20200620, 20200619, 20200618, 20200617, 20200616, 20200615, 20200614, 20200613, 20200612, 20200611, 20200610, 20200609, 20200608, 20200607, 20200606, 20200605, 20200604, 20200603, 20200602, 20200601, 20200531, 20200530, 20200529, 20200528, 20200527, 20200526, 20200525, 20200524, 20200523, 20200522, 20200521, 20200520, 20200519, 20200518, 20200517, 20200516, 20200515, 20200514, 20200513, 20200512, 20200511, 20200510, 20200509, 20200508, 20200507, 20200506, 20200505, 20200504, 20200503, 20200502, 20200501, 20200430, 20200429, 20200428, 20200427, 20200426, 20200425, 20200424, 20200423, 20200422, 20200421, 20200420, 20200419, 20200418, 20200417, 20200416, 20200415, 20200414, 20200413, 20200412, 20200411, 20200410, 20200409, 20200408, 20200407, 20200406, 20200405, 20200404, 20200403, 20200402, 20200401, 20200331, 20200330, 20200329, 20200328, 20200327, 20200326, 20200325, 20200324, 20200323, 20200322, 20200321, 20200320, 20200319, 20200318, 20200317, 20200316, 20200315, 20200314, 20200313, 20200312, 20200311, 20200310, 20200309, 20200308, 20200307, 20200306, 20200305, 20200304]\n"
     ]
    }
   ],
   "source": []
  },
  {
   "cell_type": "markdown",
   "metadata": {},
   "source": [
    "# 3. Create a list of the fields available for each date in this dataset and label this list 'list_fields'. \n",
    "Assume that the fields do not change over time, so you can create this list from any date."
   ]
  },
  {
   "cell_type": "code",
   "execution_count": 31,
   "metadata": {},
   "outputs": [
    {
     "data": {
      "text/plain": [
       "['date',\n",
       " 'state',\n",
       " 'positive',\n",
       " 'negative',\n",
       " 'pending',\n",
       " 'hospitalizedCurrently',\n",
       " 'hospitalizedCumulative',\n",
       " 'inIcuCurrently',\n",
       " 'inIcuCumulative',\n",
       " 'onVentilatorCurrently',\n",
       " 'onVentilatorCumulative',\n",
       " 'recovered',\n",
       " 'dataQualityGrade',\n",
       " 'lastUpdateEt',\n",
       " 'dateModified',\n",
       " 'checkTimeEt',\n",
       " 'death',\n",
       " 'hospitalized',\n",
       " 'dateChecked',\n",
       " 'totalTestsViral',\n",
       " 'positiveTestsViral',\n",
       " 'negativeTestsViral',\n",
       " 'positiveCasesViral',\n",
       " 'deathConfirmed',\n",
       " 'deathProbable',\n",
       " 'fips',\n",
       " 'positiveIncrease',\n",
       " 'negativeIncrease',\n",
       " 'total',\n",
       " 'totalTestResults',\n",
       " 'totalTestResultsIncrease',\n",
       " 'posNeg',\n",
       " 'deathIncrease',\n",
       " 'hospitalizedIncrease',\n",
       " 'hash',\n",
       " 'commercialScore',\n",
       " 'negativeRegularScore',\n",
       " 'negativeScore',\n",
       " 'positiveScore',\n",
       " 'score',\n",
       " 'grade']"
      ]
     },
     "execution_count": 31,
     "metadata": {},
     "output_type": "execute_result"
    }
   ],
   "source": []
  },
  {
   "cell_type": "code",
   "execution_count": 25,
   "metadata": {},
   "outputs": [
    {
     "data": {
      "text/plain": [
       "{'date': 20200806,\n",
       " 'state': 'CA',\n",
       " 'positive': 529980,\n",
       " 'negative': 7970483,\n",
       " 'pending': None,\n",
       " 'hospitalizedCurrently': 7485,\n",
       " 'hospitalizedCumulative': None,\n",
       " 'inIcuCurrently': 2026,\n",
       " 'inIcuCumulative': None,\n",
       " 'onVentilatorCurrently': None,\n",
       " 'onVentilatorCumulative': None,\n",
       " 'recovered': None,\n",
       " 'dataQualityGrade': 'B',\n",
       " 'lastUpdateEt': '8/6/2020 00:00',\n",
       " 'dateModified': '2020-08-06T00:00:00Z',\n",
       " 'checkTimeEt': '08/05 20:00',\n",
       " 'death': 9869,\n",
       " 'hospitalized': None,\n",
       " 'dateChecked': '2020-08-06T00:00:00Z',\n",
       " 'totalTestsViral': 8500463,\n",
       " 'positiveTestsViral': None,\n",
       " 'negativeTestsViral': None,\n",
       " 'positiveCasesViral': 529980,\n",
       " 'deathConfirmed': None,\n",
       " 'deathProbable': None,\n",
       " 'fips': '06',\n",
       " 'positiveIncrease': 5258,\n",
       " 'negativeIncrease': 85805,\n",
       " 'total': 8500463,\n",
       " 'totalTestResults': 8500463,\n",
       " 'totalTestResultsIncrease': 91063,\n",
       " 'posNeg': 8500463,\n",
       " 'deathIncrease': 166,\n",
       " 'hospitalizedIncrease': 0,\n",
       " 'hash': '04d0f37534059d04347fd2c84c1183d80fe86371',\n",
       " 'commercialScore': 0,\n",
       " 'negativeRegularScore': 0,\n",
       " 'negativeScore': 0,\n",
       " 'positiveScore': 0,\n",
       " 'score': 0,\n",
       " 'grade': ''}"
      ]
     },
     "execution_count": 25,
     "metadata": {},
     "output_type": "execute_result"
    }
   ],
   "source": []
  },
  {
   "cell_type": "markdown",
   "metadata": {},
   "source": [
    "# 4.On August 6th, 2020, the first date in the list (index zero), find the total number of deaths  and the total new deaths.\n",
    "\n",
    "What is the percentage increase in deaths on August 6th?\n"
   ]
  },
  {
   "cell_type": "code",
   "execution_count": 28,
   "metadata": {},
   "outputs": [
    {
     "data": {
      "text/plain": [
       "9869"
      ]
     },
     "execution_count": 28,
     "metadata": {},
     "output_type": "execute_result"
    }
   ],
   "source": []
  },
  {
   "cell_type": "code",
   "execution_count": 29,
   "metadata": {},
   "outputs": [
    {
     "data": {
      "text/plain": [
       "166"
      ]
     },
     "execution_count": 29,
     "metadata": {},
     "output_type": "execute_result"
    }
   ],
   "source": []
  },
  {
   "cell_type": "code",
   "execution_count": 30,
   "metadata": {},
   "outputs": [
    {
     "data": {
      "text/plain": [
       "0.016820346539669673"
      ]
     },
     "execution_count": 30,
     "metadata": {},
     "output_type": "execute_result"
    }
   ],
   "source": []
  },
  {
   "cell_type": "code",
   "execution_count": null,
   "metadata": {},
   "outputs": [],
   "source": []
  }
 ],
 "metadata": {
  "kernelspec": {
   "display_name": "Python 3.7.3 64-bit ('base': conda)",
   "language": "python",
   "name": "python37364bitbasecondaf40c37e8e9dd45c89e043b248b661bde"
  },
  "language_info": {
   "codemirror_mode": {
    "name": "ipython",
    "version": 3
   },
   "file_extension": ".py",
   "mimetype": "text/x-python",
   "name": "python",
   "nbconvert_exporter": "python",
   "pygments_lexer": "ipython3",
   "version": "3.7.3"
  }
 },
 "nbformat": 4,
 "nbformat_minor": 2
}
