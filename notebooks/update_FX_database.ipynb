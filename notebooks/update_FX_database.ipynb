{
 "cells": [
  {
   "cell_type": "markdown",
   "metadata": {},
   "source": [
    "### Updating The FX_derivatives_all database \n",
    "Update with the TJ06 and TX06sap reports."
   ]
  },
  {
   "cell_type": "code",
   "execution_count": 2,
   "metadata": {},
   "outputs": [],
   "source": [
    "#Imports the daily TJ06 & TX06 and updates FX_Derivatives_All Database \n",
    "#which is located in the Financial_Database directory located within the Treasury drive\n",
    "\n",
    "import pandas as pd\n",
    "import csv\n",
    "import datetime\n",
    "\n",
    "\n",
    "\n",
    "tday = datetime.date.today().strftime('%m%d%Y')\n",
    "\n",
    "fxfile = []\n",
    "df = pd.read_csv(r'\\\\or1isi1vl3921nfs\\sapnfsc\\PRD003\\0256\\TX06_Extract09212020.txt',\n",
    "                 delimiter = '|', skiprows=[0,2], header =[0]) "
   ]
  },
  {
   "cell_type": "code",
   "execution_count": 6,
   "metadata": {},
   "outputs": [],
   "source": [
    "#let's rename our column headers without spaces so that we can then separate columns (currently 1 column) into many."
   ]
  },
  {
   "cell_type": "code",
   "execution_count": 1,
   "metadata": {},
   "outputs": [],
   "source": [
    "#df"
   ]
  },
  {
   "cell_type": "code",
   "execution_count": 3,
   "metadata": {},
   "outputs": [
    {
     "data": {
      "text/plain": [
       "'09232020'"
      ]
     },
     "execution_count": 3,
     "metadata": {},
     "output_type": "execute_result"
    }
   ],
   "source": [
    "tday"
   ]
  },
  {
   "cell_type": "code",
   "execution_count": null,
   "metadata": {},
   "outputs": [],
   "source": []
  }
 ],
 "metadata": {
  "kernelspec": {
   "display_name": "Python 3",
   "language": "python",
   "name": "python3"
  },
  "language_info": {
   "codemirror_mode": {
    "name": "ipython",
    "version": 3
   },
   "file_extension": ".py",
   "mimetype": "text/x-python",
   "name": "python",
   "nbconvert_exporter": "python",
   "pygments_lexer": "ipython3",
   "version": "3.7.6"
  }
 },
 "nbformat": 4,
 "nbformat_minor": 2
}
