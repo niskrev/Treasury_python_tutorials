{
 "cells": [
  {
   "cell_type": "markdown",
   "metadata": {},
   "source": [
    "### Updating The FX_derivatives_all database \n",
    "Update with the TJ06 and TX06sap reports."
   ]
  },
  {
   "cell_type": "code",
   "execution_count": 2,
   "metadata": {},
   "outputs": [],
   "source": [
    "#Imports the daily TJ06 (options) & TX06 (forwards) and updates FX_Derivatives_All Database \n",
    "#which is located in the Financial_Database directory located within the Treasury drive\n",
    "\n",
    "import pandas as pd\n",
    "import csv\n",
    "import datetime\n",
    "\n",
    "#this function module returns the delta days for file date (ie. If today is Monday, we need Friday's date\n",
    "#for the SAP file)\n",
    "def whatday():\n",
    "    wkday = datetime.datetime.today().weekday()\n",
    "    if wkday == 0:    \n",
    "        return 3\n",
    "    else:\n",
    "        return 1\n",
    "\n",
    "#Putting into a variable date to be used with the file names\n",
    "today = datetime.date.today()\n",
    "prevday = today - datetime.timedelta(days=whatday())\n",
    "prevday = prevday.strftime('%m%d%Y')\n",
    "\n",
    "#Build file paths to get the daily TJ06 (options) and TX06 (forwards) files. \n",
    "dir_path = r'\\\\or1isi1vl3921nfs\\sapnfsc\\PRD003\\0256'\n",
    "file1_name = '\\TX06_Extract' + prevday + '.txt'\n",
    "file2_name = '\\TJ06_Extract' + prevday + '.txt'\n",
    "file_path1 = dir_path + file1_name\n",
    "file_path2 = dir_path + file2_name\n",
    "\n",
    "#Formating the header for daily TJ06 (options) and TX06 (forwards) files.\n",
    "df1 = pd.read_csv(file_path1, delimiter = '|', skiprows=[0,2], header =[0])\n",
    "df2 = pd.read_csv(file_path2, delimiter = '|', header =[0])\n",
    "\n",
    "#Aligned header to match data columns for TJ06 (Option) report and removed blank spaces on header fields.\n",
    "names = list(df2.columns.values)\n",
    "newname = []\n",
    "for name in names:\n",
    "    newname.append(name.strip())\n",
    "newname.append(newname.pop(0))\n",
    "df2.columns = newname\n",
    "df2.reset_index()\n",
    "\n",
    "\n",
    "df2.insert(0,\"ID Entity\", 'ADIR')\n",
    "df2.dropna(subset = [\"Transactn\"], inplace=True)\n",
    "\n",
    "df2.reset_index(drop=True, inplace=True)\n",
    "\n",
    "df2.dropna(axis=1, how='all', inplace=True)\n",
    "\n",
    "#create dictionary of counter party names and their associated numbers\n",
    "counter_party_dicts = {'61':'JPM',\n",
    "                       '2':'BOA',\n",
    "                       '2081':'USB',\n",
    "                       '2121':'WFB',\n",
    "                       '2101':'HSBC',\n",
    "                       '12600': 'SG',\n",
    "                       '1200000141': 'BOA',\n",
    "                       '2131':'MSC',\n",
    "                       '3':'UBS',\n",
    "                       '5':'GS',\n",
    "                       '72':'CITI',\n",
    "                       '10020':'RBS'}\n",
    "\n",
    "\n",
    "    \n",
    "#df = pd.read_csv(r'\\\\or1isi1vl3921nfs\\sapnfsc\\PRD003\\0256\\TX06_Extract09212020.txt',"
   ]
  },
  {
   "cell_type": "code",
   "execution_count": null,
   "metadata": {},
   "outputs": [],
   "source": []
  },
  {
   "cell_type": "code",
   "execution_count": null,
   "metadata": {},
   "outputs": [],
   "source": [
    "#trying to convert to string values\n",
    "cps = set(df2['Counterparty'].str().values)\n",
    "#cps = np.array2string(cps, precision = 0, separator = ',')\n",
    "\n"
   ]
  },
  {
   "cell_type": "code",
   "execution_count": null,
   "metadata": {},
   "outputs": [],
   "source": []
  },
  {
   "cell_type": "code",
   "execution_count": null,
   "metadata": {},
   "outputs": [],
   "source": []
  },
  {
   "cell_type": "code",
   "execution_count": null,
   "metadata": {},
   "outputs": [],
   "source": []
  },
  {
   "cell_type": "code",
   "execution_count": null,
   "metadata": {},
   "outputs": [],
   "source": []
  }
 ],
 "metadata": {
  "kernelspec": {
   "display_name": "Python 3",
   "language": "python",
   "name": "python3"
  },
  "language_info": {
   "codemirror_mode": {
    "name": "ipython",
    "version": 3
   },
   "file_extension": ".py",
   "mimetype": "text/x-python",
   "name": "python",
   "nbconvert_exporter": "python",
   "pygments_lexer": "ipython3",
   "version": "3.7.6"
  }
 },
 "nbformat": 4,
 "nbformat_minor": 2
}
